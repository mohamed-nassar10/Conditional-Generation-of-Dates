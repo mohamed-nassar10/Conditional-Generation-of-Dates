{
 "cells": [
  {
   "cell_type": "code",
   "execution_count": 1,
   "id": "80f49038",
   "metadata": {
    "id": "80f49038"
   },
   "outputs": [],
   "source": [
    "\n",
    "import datetime\n",
    "\n",
    "import copy\n",
    "\n",
    "import random\n",
    "\n"
   ]
  },
  {
   "cell_type": "code",
   "execution_count": 2,
   "id": "09911fdb",
   "metadata": {
    "id": "09911fdb"
   },
   "outputs": [],
   "source": [
    "import numpy as np\n",
    "import pandas as pd\n",
    "\n",
    "import matplotlib.pyplot as plt\n",
    "%matplotlib inline\n",
    "# plt.style.use('seaborn')\n",
    "# plt.style.use(['dark_background', 'ggplot'])\n",
    "\n",
    "import seaborn as sns\n",
    "# sns.set()\n",
    "\n",
    "# import scipy\n",
    "# import scipy.stats as stats\n",
    "\n",
    "\n",
    "# # sympy = symbolic math in Python\n",
    "# import sympy as sym\n",
    "# import sympy.plotting.plot as symplot\n",
    "\n",
    "\n",
    "# make the equations look nicer\n",
    "\n",
    "# from IPython.display import display\n",
    "# display.set_matplotlib_formats('svg') # Deprecated since version 7.23\n",
    "\n",
    "# import matplotlib_inline\n",
    "# matplotlib_inline.backend_inline.set_matplotlib_formats('svg')"
   ]
  },
  {
   "cell_type": "code",
   "execution_count": 3,
   "id": "269532b6",
   "metadata": {
    "id": "269532b6"
   },
   "outputs": [],
   "source": [
    "\n",
    "import sklearn\n",
    "\n",
    "\n",
    "# from sklearn.feature_extraction.text import CountVectorizer\n",
    "\n",
    "# from sklearn.compose import ColumnTransformer\n",
    "# from sklearn.pipeline import Pipeline\n",
    "# from sklearn.impute import SimpleImputer\n",
    "# from sklearn.preprocessing import OneHotEncoder\n",
    "\n",
    "# # Modelling\n",
    "# from sklearn.ensemble import RandomForestRegressor\n",
    "\n",
    "from sklearn.model_selection import train_test_split\n",
    "\n",
    "# from sklearn.model_selection import GridSearchCV\n",
    "\n",
    "\n",
    "\n",
    "\n",
    "\n",
    "\n",
    "\n",
    "\n"
   ]
  },
  {
   "cell_type": "code",
   "execution_count": 4,
   "id": "ddaf2044",
   "metadata": {
    "colab": {
     "base_uri": "https://localhost:8080/",
     "height": 36
    },
    "id": "ddaf2044",
    "outputId": "dbc59e65-dc18-40e9-d041-de676352d4a7"
   },
   "outputs": [
    {
     "data": {
      "text/plain": [
       "'1.10.2'"
      ]
     },
     "execution_count": 4,
     "metadata": {},
     "output_type": "execute_result"
    }
   ],
   "source": [
    "import torch\n",
    "import torch.nn as nn\n",
    "import torch.nn.functional as F\n",
    "\n",
    "from torch.utils.data import TensorDataset, DataLoader\n",
    "\n",
    "from torch.nn.utils.rnn import pad_sequence\n",
    "\n",
    "\n",
    "\n",
    "\n",
    "torch.__version__"
   ]
  },
  {
   "cell_type": "code",
   "execution_count": 5,
   "id": "a23ab708",
   "metadata": {
    "colab": {
     "base_uri": "https://localhost:8080/",
     "height": 36
    },
    "id": "a23ab708",
    "outputId": "32dbe622-02f1-4841-b6ec-c9c4894f32c2"
   },
   "outputs": [
    {
     "data": {
      "text/plain": [
       "'0.11.3'"
      ]
     },
     "execution_count": 5,
     "metadata": {},
     "output_type": "execute_result"
    }
   ],
   "source": [
    "import torchvision\n",
    "import torchvision.transforms as T\n",
    "\n",
    "\n",
    "\n",
    "torchvision.__version__"
   ]
  },
  {
   "cell_type": "code",
   "execution_count": null,
   "id": "5168cf92",
   "metadata": {
    "id": "5168cf92"
   },
   "outputs": [],
   "source": []
  },
  {
   "cell_type": "code",
   "execution_count": 6,
   "id": "0b461326",
   "metadata": {
    "colab": {
     "base_uri": "https://localhost:8080/"
    },
    "id": "0b461326",
    "outputId": "0cb4354d-621f-4a68-9f1e-b5bdb50298f2"
   },
   "outputs": [
    {
     "data": {
      "text/plain": [
       "<torch._C.Generator at 0x165fb84d8f0>"
      ]
     },
     "execution_count": 6,
     "metadata": {},
     "output_type": "execute_result"
    }
   ],
   "source": [
    "random.seed(0)\n",
    "np.random.seed(0)\n",
    "torch.manual_seed(0)"
   ]
  },
  {
   "cell_type": "code",
   "execution_count": 7,
   "id": "6c9da09c",
   "metadata": {
    "id": "6c9da09c"
   },
   "outputs": [],
   "source": [
    "device = torch.device('cuda' if torch.cuda.is_available() else 'cpu')"
   ]
  },
  {
   "cell_type": "code",
   "execution_count": 8,
   "id": "468a63f6",
   "metadata": {
    "id": "468a63f6"
   },
   "outputs": [],
   "source": [
    "# date = np.datetime64(\"2000-01-01\")\n",
    "# date_strings = date.astype(str).split('-'). \n",
    "# # >> ['2000', '01', '01']\n",
    "\n",
    "# year_int = int(date_strings[0])"
   ]
  },
  {
   "cell_type": "code",
   "execution_count": 9,
   "id": "QCdxP4XhehqH",
   "metadata": {
    "colab": {
     "base_uri": "https://localhost:8080/"
    },
    "id": "QCdxP4XhehqH",
    "outputId": "4f9d2c42-647a-4e03-a969-5f659a270a20"
   },
   "outputs": [],
   "source": [
    "# !wget -nc https://github.com/Proteinea/dl-challenge-2/blob/main/data/data.txt\n",
    "# !wget -nc https://raw.githubusercontent.com/Proteinea/dl-challenge-2/main/data/data.txt"
   ]
  },
  {
   "cell_type": "code",
   "execution_count": 10,
   "id": "kSAq5WBueyxO",
   "metadata": {
    "colab": {
     "base_uri": "https://localhost:8080/"
    },
    "id": "kSAq5WBueyxO",
    "outputId": "6f35b00c-a95f-4c34-a70a-0881feef3b4b"
   },
   "outputs": [
    {
     "name": "stderr",
     "output_type": "stream",
     "text": [
      "'ls' is not recognized as an internal or external command,\n",
      "operable program or batch file.\n"
     ]
    }
   ],
   "source": [
    "!ls"
   ]
  },
  {
   "cell_type": "markdown",
   "id": "2f1a8f2f",
   "metadata": {
    "id": "2f1a8f2f"
   },
   "source": [
    "'text.txt'"
   ]
  },
  {
   "cell_type": "markdown",
   "id": "f00c87c3",
   "metadata": {
    "id": "f00c87c3"
   },
   "source": [
    "[ 1-1-1800 to 31-12-2200 ]"
   ]
  },
  {
   "cell_type": "markdown",
   "id": "2357ed28",
   "metadata": {
    "id": "2357ed28"
   },
   "source": [
    "[day condition] [month condition] [leap year condition] [decade condition] date"
   ]
  },
  {
   "cell_type": "markdown",
   "id": "c093f47a",
   "metadata": {
    "id": "c093f47a"
   },
   "source": [
    "[MON] [DEC] [False] [196] 3-12-1962\n",
    "[THU] [DEC] [True] [204] 3-12-2048\n",
    "[WED] [JAN] [False] [181] 10-1-1810"
   ]
  },
  {
   "cell_type": "code",
   "execution_count": 12,
   "id": "1ef976e5",
   "metadata": {
    "id": "1ef976e5"
   },
   "outputs": [],
   "source": [
    "# data = np.loadtxt(open('text.txt','r'),delimiter=' ')\n",
    "ori = pd.read_csv('./data/data.txt', sep=' ', header=None)\n",
    "\n",
    "# ori = pd.read_csv('data.txt', sep=' ', header=None)\n"
   ]
  },
  {
   "cell_type": "code",
   "execution_count": 13,
   "id": "483a39a9",
   "metadata": {
    "id": "483a39a9"
   },
   "outputs": [],
   "source": [
    "ori.columns = ['day', 'month', 'leap_year', 'decade', 'date']"
   ]
  },
  {
   "cell_type": "code",
   "execution_count": 14,
   "id": "06cea43d",
   "metadata": {
    "colab": {
     "base_uri": "https://localhost:8080/",
     "height": 423
    },
    "id": "06cea43d",
    "outputId": "0cd11cd1-19f4-4101-f432-9ef09baa82ba"
   },
   "outputs": [
    {
     "data": {
      "text/html": [
       "<div>\n",
       "<style scoped>\n",
       "    .dataframe tbody tr th:only-of-type {\n",
       "        vertical-align: middle;\n",
       "    }\n",
       "\n",
       "    .dataframe tbody tr th {\n",
       "        vertical-align: top;\n",
       "    }\n",
       "\n",
       "    .dataframe thead th {\n",
       "        text-align: right;\n",
       "    }\n",
       "</style>\n",
       "<table border=\"1\" class=\"dataframe\">\n",
       "  <thead>\n",
       "    <tr style=\"text-align: right;\">\n",
       "      <th></th>\n",
       "      <th>day</th>\n",
       "      <th>month</th>\n",
       "      <th>leap_year</th>\n",
       "      <th>decade</th>\n",
       "      <th>date</th>\n",
       "    </tr>\n",
       "  </thead>\n",
       "  <tbody>\n",
       "    <tr>\n",
       "      <th>0</th>\n",
       "      <td>[WED]</td>\n",
       "      <td>[JAN]</td>\n",
       "      <td>[False]</td>\n",
       "      <td>[180]</td>\n",
       "      <td>1-1-1800</td>\n",
       "    </tr>\n",
       "    <tr>\n",
       "      <th>1</th>\n",
       "      <td>[THU]</td>\n",
       "      <td>[JAN]</td>\n",
       "      <td>[False]</td>\n",
       "      <td>[180]</td>\n",
       "      <td>1-1-1801</td>\n",
       "    </tr>\n",
       "    <tr>\n",
       "      <th>2</th>\n",
       "      <td>[FRI]</td>\n",
       "      <td>[JAN]</td>\n",
       "      <td>[False]</td>\n",
       "      <td>[180]</td>\n",
       "      <td>1-1-1802</td>\n",
       "    </tr>\n",
       "    <tr>\n",
       "      <th>3</th>\n",
       "      <td>[SAT]</td>\n",
       "      <td>[JAN]</td>\n",
       "      <td>[False]</td>\n",
       "      <td>[180]</td>\n",
       "      <td>1-1-1803</td>\n",
       "    </tr>\n",
       "    <tr>\n",
       "      <th>4</th>\n",
       "      <td>[SUN]</td>\n",
       "      <td>[JAN]</td>\n",
       "      <td>[True]</td>\n",
       "      <td>[180]</td>\n",
       "      <td>1-1-1804</td>\n",
       "    </tr>\n",
       "    <tr>\n",
       "      <th>...</th>\n",
       "      <td>...</td>\n",
       "      <td>...</td>\n",
       "      <td>...</td>\n",
       "      <td>...</td>\n",
       "      <td>...</td>\n",
       "    </tr>\n",
       "    <tr>\n",
       "      <th>146457</th>\n",
       "      <td>[SAT]</td>\n",
       "      <td>[DEC]</td>\n",
       "      <td>[True]</td>\n",
       "      <td>[219]</td>\n",
       "      <td>31-12-2196</td>\n",
       "    </tr>\n",
       "    <tr>\n",
       "      <th>146458</th>\n",
       "      <td>[SUN]</td>\n",
       "      <td>[DEC]</td>\n",
       "      <td>[False]</td>\n",
       "      <td>[219]</td>\n",
       "      <td>31-12-2197</td>\n",
       "    </tr>\n",
       "    <tr>\n",
       "      <th>146459</th>\n",
       "      <td>[MON]</td>\n",
       "      <td>[DEC]</td>\n",
       "      <td>[False]</td>\n",
       "      <td>[219]</td>\n",
       "      <td>31-12-2198</td>\n",
       "    </tr>\n",
       "    <tr>\n",
       "      <th>146460</th>\n",
       "      <td>[TUE]</td>\n",
       "      <td>[DEC]</td>\n",
       "      <td>[False]</td>\n",
       "      <td>[219]</td>\n",
       "      <td>31-12-2199</td>\n",
       "    </tr>\n",
       "    <tr>\n",
       "      <th>146461</th>\n",
       "      <td>[WED]</td>\n",
       "      <td>[DEC]</td>\n",
       "      <td>[False]</td>\n",
       "      <td>[220]</td>\n",
       "      <td>31-12-2200</td>\n",
       "    </tr>\n",
       "  </tbody>\n",
       "</table>\n",
       "<p>146462 rows × 5 columns</p>\n",
       "</div>"
      ],
      "text/plain": [
       "          day  month leap_year decade        date\n",
       "0       [WED]  [JAN]   [False]  [180]    1-1-1800\n",
       "1       [THU]  [JAN]   [False]  [180]    1-1-1801\n",
       "2       [FRI]  [JAN]   [False]  [180]    1-1-1802\n",
       "3       [SAT]  [JAN]   [False]  [180]    1-1-1803\n",
       "4       [SUN]  [JAN]    [True]  [180]    1-1-1804\n",
       "...       ...    ...       ...    ...         ...\n",
       "146457  [SAT]  [DEC]    [True]  [219]  31-12-2196\n",
       "146458  [SUN]  [DEC]   [False]  [219]  31-12-2197\n",
       "146459  [MON]  [DEC]   [False]  [219]  31-12-2198\n",
       "146460  [TUE]  [DEC]   [False]  [219]  31-12-2199\n",
       "146461  [WED]  [DEC]   [False]  [220]  31-12-2200\n",
       "\n",
       "[146462 rows x 5 columns]"
      ]
     },
     "execution_count": 14,
     "metadata": {},
     "output_type": "execute_result"
    }
   ],
   "source": [
    "ori"
   ]
  },
  {
   "cell_type": "code",
   "execution_count": 15,
   "id": "79aa52e2",
   "metadata": {
    "id": "79aa52e2"
   },
   "outputs": [],
   "source": [
    "# data.date = pd.to_datetime(data.date, format='%d-%m-%Y', infer_datetime_format=False)\n",
    "# # pd.to_datetime(data.date, infer_datetime_format=False)"
   ]
  },
  {
   "cell_type": "code",
   "execution_count": 16,
   "id": "096340f3",
   "metadata": {
    "colab": {
     "base_uri": "https://localhost:8080/"
    },
    "id": "096340f3",
    "outputId": "420b5a1f-a0ce-4242-beb0-6e0fd1d1aa93"
   },
   "outputs": [
    {
     "data": {
      "text/plain": [
       "day          object\n",
       "month        object\n",
       "leap_year    object\n",
       "decade       object\n",
       "date         object\n",
       "dtype: object"
      ]
     },
     "execution_count": 16,
     "metadata": {},
     "output_type": "execute_result"
    }
   ],
   "source": [
    "ori.dtypes"
   ]
  },
  {
   "cell_type": "code",
   "execution_count": 17,
   "id": "69913485",
   "metadata": {
    "id": "69913485"
   },
   "outputs": [],
   "source": [
    "# data_backup = copy.deepcopy(ori)\n",
    "data = copy.deepcopy(ori)"
   ]
  },
  {
   "cell_type": "code",
   "execution_count": null,
   "id": "c9d47190",
   "metadata": {
    "id": "c9d47190"
   },
   "outputs": [],
   "source": []
  },
  {
   "cell_type": "code",
   "execution_count": 18,
   "id": "450dab8c",
   "metadata": {
    "colab": {
     "base_uri": "https://localhost:8080/",
     "height": 423
    },
    "id": "450dab8c",
    "outputId": "53b679e2-8277-4c52-d1ed-9d413c794ce2"
   },
   "outputs": [
    {
     "data": {
      "text/html": [
       "<div>\n",
       "<style scoped>\n",
       "    .dataframe tbody tr th:only-of-type {\n",
       "        vertical-align: middle;\n",
       "    }\n",
       "\n",
       "    .dataframe tbody tr th {\n",
       "        vertical-align: top;\n",
       "    }\n",
       "\n",
       "    .dataframe thead th {\n",
       "        text-align: right;\n",
       "    }\n",
       "</style>\n",
       "<table border=\"1\" class=\"dataframe\">\n",
       "  <thead>\n",
       "    <tr style=\"text-align: right;\">\n",
       "      <th></th>\n",
       "      <th>day</th>\n",
       "      <th>month</th>\n",
       "      <th>leap_year</th>\n",
       "      <th>decade</th>\n",
       "      <th>date</th>\n",
       "    </tr>\n",
       "  </thead>\n",
       "  <tbody>\n",
       "    <tr>\n",
       "      <th>0</th>\n",
       "      <td>[WED]</td>\n",
       "      <td>[JAN]</td>\n",
       "      <td>[False]</td>\n",
       "      <td>[180]</td>\n",
       "      <td>1-1-1800</td>\n",
       "    </tr>\n",
       "    <tr>\n",
       "      <th>1</th>\n",
       "      <td>[THU]</td>\n",
       "      <td>[JAN]</td>\n",
       "      <td>[False]</td>\n",
       "      <td>[180]</td>\n",
       "      <td>1-1-1801</td>\n",
       "    </tr>\n",
       "    <tr>\n",
       "      <th>2</th>\n",
       "      <td>[FRI]</td>\n",
       "      <td>[JAN]</td>\n",
       "      <td>[False]</td>\n",
       "      <td>[180]</td>\n",
       "      <td>1-1-1802</td>\n",
       "    </tr>\n",
       "    <tr>\n",
       "      <th>3</th>\n",
       "      <td>[SAT]</td>\n",
       "      <td>[JAN]</td>\n",
       "      <td>[False]</td>\n",
       "      <td>[180]</td>\n",
       "      <td>1-1-1803</td>\n",
       "    </tr>\n",
       "    <tr>\n",
       "      <th>4</th>\n",
       "      <td>[SUN]</td>\n",
       "      <td>[JAN]</td>\n",
       "      <td>[True]</td>\n",
       "      <td>[180]</td>\n",
       "      <td>1-1-1804</td>\n",
       "    </tr>\n",
       "    <tr>\n",
       "      <th>...</th>\n",
       "      <td>...</td>\n",
       "      <td>...</td>\n",
       "      <td>...</td>\n",
       "      <td>...</td>\n",
       "      <td>...</td>\n",
       "    </tr>\n",
       "    <tr>\n",
       "      <th>146457</th>\n",
       "      <td>[SAT]</td>\n",
       "      <td>[DEC]</td>\n",
       "      <td>[True]</td>\n",
       "      <td>[219]</td>\n",
       "      <td>31-12-2196</td>\n",
       "    </tr>\n",
       "    <tr>\n",
       "      <th>146458</th>\n",
       "      <td>[SUN]</td>\n",
       "      <td>[DEC]</td>\n",
       "      <td>[False]</td>\n",
       "      <td>[219]</td>\n",
       "      <td>31-12-2197</td>\n",
       "    </tr>\n",
       "    <tr>\n",
       "      <th>146459</th>\n",
       "      <td>[MON]</td>\n",
       "      <td>[DEC]</td>\n",
       "      <td>[False]</td>\n",
       "      <td>[219]</td>\n",
       "      <td>31-12-2198</td>\n",
       "    </tr>\n",
       "    <tr>\n",
       "      <th>146460</th>\n",
       "      <td>[TUE]</td>\n",
       "      <td>[DEC]</td>\n",
       "      <td>[False]</td>\n",
       "      <td>[219]</td>\n",
       "      <td>31-12-2199</td>\n",
       "    </tr>\n",
       "    <tr>\n",
       "      <th>146461</th>\n",
       "      <td>[WED]</td>\n",
       "      <td>[DEC]</td>\n",
       "      <td>[False]</td>\n",
       "      <td>[220]</td>\n",
       "      <td>31-12-2200</td>\n",
       "    </tr>\n",
       "  </tbody>\n",
       "</table>\n",
       "<p>146462 rows × 5 columns</p>\n",
       "</div>"
      ],
      "text/plain": [
       "          day  month leap_year decade        date\n",
       "0       [WED]  [JAN]   [False]  [180]    1-1-1800\n",
       "1       [THU]  [JAN]   [False]  [180]    1-1-1801\n",
       "2       [FRI]  [JAN]   [False]  [180]    1-1-1802\n",
       "3       [SAT]  [JAN]   [False]  [180]    1-1-1803\n",
       "4       [SUN]  [JAN]    [True]  [180]    1-1-1804\n",
       "...       ...    ...       ...    ...         ...\n",
       "146457  [SAT]  [DEC]    [True]  [219]  31-12-2196\n",
       "146458  [SUN]  [DEC]   [False]  [219]  31-12-2197\n",
       "146459  [MON]  [DEC]   [False]  [219]  31-12-2198\n",
       "146460  [TUE]  [DEC]   [False]  [219]  31-12-2199\n",
       "146461  [WED]  [DEC]   [False]  [220]  31-12-2200\n",
       "\n",
       "[146462 rows x 5 columns]"
      ]
     },
     "execution_count": 18,
     "metadata": {},
     "output_type": "execute_result"
    }
   ],
   "source": [
    "data"
   ]
  },
  {
   "cell_type": "code",
   "execution_count": 19,
   "id": "ac27d992",
   "metadata": {
    "colab": {
     "base_uri": "https://localhost:8080/"
    },
    "id": "ac27d992",
    "outputId": "1d361eab-3e28-4101-eb71-6281e83ac5f5"
   },
   "outputs": [
    {
     "data": {
      "text/plain": [
       "0           1-1-1800\n",
       "1           1-1-1801\n",
       "2           1-1-1802\n",
       "3           1-1-1803\n",
       "4           1-1-1804\n",
       "             ...    \n",
       "146457    31-12-2196\n",
       "146458    31-12-2197\n",
       "146459    31-12-2198\n",
       "146460    31-12-2199\n",
       "146461    31-12-2200\n",
       "Name: date, Length: 146462, dtype: object"
      ]
     },
     "execution_count": 19,
     "metadata": {},
     "output_type": "execute_result"
    }
   ],
   "source": [
    "data.date"
   ]
  },
  {
   "cell_type": "code",
   "execution_count": 20,
   "id": "e719bb2a",
   "metadata": {
    "id": "e719bb2a"
   },
   "outputs": [],
   "source": [
    "# # data['date'] = pd.date_range('3-12-2048', periods=10)\n",
    "# # data['date'] = pd.date_range('12-3-1962', periods=10)\n",
    "\n",
    "# # 1-1-1800 to 31-12-2200\n",
    "# data['date'] = pd.date_range(start='1-1-1800',end='12-31-2200')\n",
    "\n",
    "\n",
    "data.date = pd.to_datetime(data.date, format='%d-%m-%Y', infer_datetime_format=False)\n",
    "\n",
    "# # data.date = data.date.dt.strftime('%d-%m-%Y')\n",
    "# # data.date = pd.to_datetime(data.date.dt.strftime('%d-%m-%Y'), format='%d-%m-%Y', infer_datetime_format=False)\n",
    "\n"
   ]
  },
  {
   "cell_type": "code",
   "execution_count": 21,
   "id": "cf311d68",
   "metadata": {
    "colab": {
     "base_uri": "https://localhost:8080/"
    },
    "id": "cf311d68",
    "outputId": "4b5b9052-2e28-4d57-c133-2fa74cbb99c3"
   },
   "outputs": [
    {
     "data": {
      "text/plain": [
       "day                  object\n",
       "month                object\n",
       "leap_year            object\n",
       "decade               object\n",
       "date         datetime64[ns]\n",
       "dtype: object"
      ]
     },
     "execution_count": 21,
     "metadata": {},
     "output_type": "execute_result"
    }
   ],
   "source": [
    "data.dtypes"
   ]
  },
  {
   "cell_type": "code",
   "execution_count": 22,
   "id": "1975a710",
   "metadata": {
    "colab": {
     "base_uri": "https://localhost:8080/"
    },
    "id": "1975a710",
    "outputId": "cc445f5f-14a3-48f2-c9ef-b8ec41a3e18f"
   },
   "outputs": [
    {
     "data": {
      "text/plain": [
       "Timestamp('1800-01-01 00:00:00')"
      ]
     },
     "execution_count": 22,
     "metadata": {},
     "output_type": "execute_result"
    }
   ],
   "source": [
    "data.date[0]"
   ]
  },
  {
   "cell_type": "code",
   "execution_count": 23,
   "id": "8a523856",
   "metadata": {
    "colab": {
     "base_uri": "https://localhost:8080/"
    },
    "id": "8a523856",
    "outputId": "032bb3d4-b804-410f-ba34-d38a38e62d8e"
   },
   "outputs": [
    {
     "data": {
      "text/plain": [
       "2"
      ]
     },
     "execution_count": 23,
     "metadata": {},
     "output_type": "execute_result"
    }
   ],
   "source": [
    "data.date[0].day_of_week"
   ]
  },
  {
   "cell_type": "code",
   "execution_count": 24,
   "id": "4ceb88cf",
   "metadata": {
    "colab": {
     "base_uri": "https://localhost:8080/",
     "height": 36
    },
    "id": "4ceb88cf",
    "outputId": "12ec83ae-9971-44db-d2f4-71924a280c6e"
   },
   "outputs": [
    {
     "data": {
      "text/plain": [
       "'Wednesday'"
      ]
     },
     "execution_count": 24,
     "metadata": {},
     "output_type": "execute_result"
    }
   ],
   "source": [
    "data.date[0].day_name()"
   ]
  },
  {
   "cell_type": "code",
   "execution_count": 25,
   "id": "a7e39660",
   "metadata": {
    "colab": {
     "base_uri": "https://localhost:8080/",
     "height": 36
    },
    "id": "a7e39660",
    "outputId": "2996bc3a-a0d1-4a11-a2d5-33c2ba4ef77c"
   },
   "outputs": [
    {
     "data": {
      "text/plain": [
       "'January'"
      ]
     },
     "execution_count": 25,
     "metadata": {},
     "output_type": "execute_result"
    }
   ],
   "source": [
    "data.date[0].month_name()"
   ]
  },
  {
   "cell_type": "code",
   "execution_count": 26,
   "id": "a0f9bcff",
   "metadata": {
    "colab": {
     "base_uri": "https://localhost:8080/"
    },
    "id": "a0f9bcff",
    "outputId": "eb70cc4b-f5ec-4c47-84eb-13ba8f0ac461"
   },
   "outputs": [
    {
     "data": {
      "text/plain": [
       "False"
      ]
     },
     "execution_count": 26,
     "metadata": {},
     "output_type": "execute_result"
    }
   ],
   "source": [
    "data.date[0].is_leap_year"
   ]
  },
  {
   "cell_type": "code",
   "execution_count": 27,
   "id": "3c01a839",
   "metadata": {
    "colab": {
     "base_uri": "https://localhost:8080/"
    },
    "id": "3c01a839",
    "outputId": "1ab64f90-d30f-4530-9b2d-c83a6547fa95"
   },
   "outputs": [
    {
     "name": "stdout",
     "output_type": "stream",
     "text": [
      "1800\n"
     ]
    }
   ],
   "source": [
    "# print(data.date_period[0].day)\n",
    "# print(data.date_period[0].month)\n",
    "print(data.date[0].year)"
   ]
  },
  {
   "cell_type": "code",
   "execution_count": 28,
   "id": "e60a15f8",
   "metadata": {
    "colab": {
     "base_uri": "https://localhost:8080/"
    },
    "id": "e60a15f8",
    "outputId": "7562891a-0ba1-4e6f-b849-c87ae96019f6"
   },
   "outputs": [
    {
     "data": {
      "text/plain": [
       "180"
      ]
     },
     "execution_count": 28,
     "metadata": {},
     "output_type": "execute_result"
    }
   ],
   "source": [
    "data.date[0].year // 10"
   ]
  },
  {
   "cell_type": "code",
   "execution_count": 29,
   "id": "9989ea5a",
   "metadata": {
    "id": "9989ea5a"
   },
   "outputs": [],
   "source": [
    "# for i in range(len(data)):\n",
    "\n",
    "#     day_str = str(data.date.iloc[i].day_name()[:3].upper())\n",
    "#     data.day.loc[i] = str(f'[{day_str}]')\n",
    "\n",
    "#     month_str = str(data.date.iloc[i].month_name()[:3].upper())\n",
    "#     data.month.loc[i] = str(f'[{month_str}]')\n",
    "\n",
    "#     leap_str = str(data.date.iloc[i].is_leap_year)\n",
    "#     data.leap_year.loc[i] = str(f'[{leap_str}]')\n",
    "\n",
    "\n",
    "#     decade_str = str(data.date.iloc[i].year // 10)\n",
    "#     data.decade.loc[i] = str(f'[{decade_str}]')\n",
    "    \n",
    "    \n",
    "\n",
    "# data.date = data.date.dt.strftime('%d-%m-%Y')\n",
    "# data.to_csv('test.txt', sep=' ', header=None, index=False)"
   ]
  },
  {
   "cell_type": "code",
   "execution_count": 30,
   "id": "c205ddd7",
   "metadata": {
    "colab": {
     "base_uri": "https://localhost:8080/",
     "height": 423
    },
    "id": "c205ddd7",
    "outputId": "378dcb99-c57d-4570-c004-f322f5dca2f4"
   },
   "outputs": [
    {
     "data": {
      "text/html": [
       "<div>\n",
       "<style scoped>\n",
       "    .dataframe tbody tr th:only-of-type {\n",
       "        vertical-align: middle;\n",
       "    }\n",
       "\n",
       "    .dataframe tbody tr th {\n",
       "        vertical-align: top;\n",
       "    }\n",
       "\n",
       "    .dataframe thead th {\n",
       "        text-align: right;\n",
       "    }\n",
       "</style>\n",
       "<table border=\"1\" class=\"dataframe\">\n",
       "  <thead>\n",
       "    <tr style=\"text-align: right;\">\n",
       "      <th></th>\n",
       "      <th>day</th>\n",
       "      <th>month</th>\n",
       "      <th>leap_year</th>\n",
       "      <th>decade</th>\n",
       "      <th>date</th>\n",
       "    </tr>\n",
       "  </thead>\n",
       "  <tbody>\n",
       "    <tr>\n",
       "      <th>0</th>\n",
       "      <td>[WED]</td>\n",
       "      <td>[JAN]</td>\n",
       "      <td>[False]</td>\n",
       "      <td>[180]</td>\n",
       "      <td>1800-01-01</td>\n",
       "    </tr>\n",
       "    <tr>\n",
       "      <th>1</th>\n",
       "      <td>[THU]</td>\n",
       "      <td>[JAN]</td>\n",
       "      <td>[False]</td>\n",
       "      <td>[180]</td>\n",
       "      <td>1801-01-01</td>\n",
       "    </tr>\n",
       "    <tr>\n",
       "      <th>2</th>\n",
       "      <td>[FRI]</td>\n",
       "      <td>[JAN]</td>\n",
       "      <td>[False]</td>\n",
       "      <td>[180]</td>\n",
       "      <td>1802-01-01</td>\n",
       "    </tr>\n",
       "    <tr>\n",
       "      <th>3</th>\n",
       "      <td>[SAT]</td>\n",
       "      <td>[JAN]</td>\n",
       "      <td>[False]</td>\n",
       "      <td>[180]</td>\n",
       "      <td>1803-01-01</td>\n",
       "    </tr>\n",
       "    <tr>\n",
       "      <th>4</th>\n",
       "      <td>[SUN]</td>\n",
       "      <td>[JAN]</td>\n",
       "      <td>[True]</td>\n",
       "      <td>[180]</td>\n",
       "      <td>1804-01-01</td>\n",
       "    </tr>\n",
       "    <tr>\n",
       "      <th>...</th>\n",
       "      <td>...</td>\n",
       "      <td>...</td>\n",
       "      <td>...</td>\n",
       "      <td>...</td>\n",
       "      <td>...</td>\n",
       "    </tr>\n",
       "    <tr>\n",
       "      <th>146457</th>\n",
       "      <td>[SAT]</td>\n",
       "      <td>[DEC]</td>\n",
       "      <td>[True]</td>\n",
       "      <td>[219]</td>\n",
       "      <td>2196-12-31</td>\n",
       "    </tr>\n",
       "    <tr>\n",
       "      <th>146458</th>\n",
       "      <td>[SUN]</td>\n",
       "      <td>[DEC]</td>\n",
       "      <td>[False]</td>\n",
       "      <td>[219]</td>\n",
       "      <td>2197-12-31</td>\n",
       "    </tr>\n",
       "    <tr>\n",
       "      <th>146459</th>\n",
       "      <td>[MON]</td>\n",
       "      <td>[DEC]</td>\n",
       "      <td>[False]</td>\n",
       "      <td>[219]</td>\n",
       "      <td>2198-12-31</td>\n",
       "    </tr>\n",
       "    <tr>\n",
       "      <th>146460</th>\n",
       "      <td>[TUE]</td>\n",
       "      <td>[DEC]</td>\n",
       "      <td>[False]</td>\n",
       "      <td>[219]</td>\n",
       "      <td>2199-12-31</td>\n",
       "    </tr>\n",
       "    <tr>\n",
       "      <th>146461</th>\n",
       "      <td>[WED]</td>\n",
       "      <td>[DEC]</td>\n",
       "      <td>[False]</td>\n",
       "      <td>[220]</td>\n",
       "      <td>2200-12-31</td>\n",
       "    </tr>\n",
       "  </tbody>\n",
       "</table>\n",
       "<p>146462 rows × 5 columns</p>\n",
       "</div>"
      ],
      "text/plain": [
       "          day  month leap_year decade       date\n",
       "0       [WED]  [JAN]   [False]  [180] 1800-01-01\n",
       "1       [THU]  [JAN]   [False]  [180] 1801-01-01\n",
       "2       [FRI]  [JAN]   [False]  [180] 1802-01-01\n",
       "3       [SAT]  [JAN]   [False]  [180] 1803-01-01\n",
       "4       [SUN]  [JAN]    [True]  [180] 1804-01-01\n",
       "...       ...    ...       ...    ...        ...\n",
       "146457  [SAT]  [DEC]    [True]  [219] 2196-12-31\n",
       "146458  [SUN]  [DEC]   [False]  [219] 2197-12-31\n",
       "146459  [MON]  [DEC]   [False]  [219] 2198-12-31\n",
       "146460  [TUE]  [DEC]   [False]  [219] 2199-12-31\n",
       "146461  [WED]  [DEC]   [False]  [220] 2200-12-31\n",
       "\n",
       "[146462 rows x 5 columns]"
      ]
     },
     "execution_count": 30,
     "metadata": {},
     "output_type": "execute_result"
    }
   ],
   "source": [
    "data"
   ]
  },
  {
   "cell_type": "code",
   "execution_count": 31,
   "id": "f676897d",
   "metadata": {
    "id": "f676897d"
   },
   "outputs": [],
   "source": [
    "data.leap_year = data.leap_year.map({'[False]': float(0),\n",
    "                                     '[True]' : float(1)})\n",
    "\n",
    "# data.leap_year = data.leap_year.astype(np.float64)"
   ]
  },
  {
   "cell_type": "code",
   "execution_count": 32,
   "id": "cb933727",
   "metadata": {
    "colab": {
     "base_uri": "https://localhost:8080/",
     "height": 423
    },
    "id": "cb933727",
    "outputId": "0962fc5d-001d-4894-d8e2-28efad48af8d"
   },
   "outputs": [
    {
     "data": {
      "text/html": [
       "<div>\n",
       "<style scoped>\n",
       "    .dataframe tbody tr th:only-of-type {\n",
       "        vertical-align: middle;\n",
       "    }\n",
       "\n",
       "    .dataframe tbody tr th {\n",
       "        vertical-align: top;\n",
       "    }\n",
       "\n",
       "    .dataframe thead th {\n",
       "        text-align: right;\n",
       "    }\n",
       "</style>\n",
       "<table border=\"1\" class=\"dataframe\">\n",
       "  <thead>\n",
       "    <tr style=\"text-align: right;\">\n",
       "      <th></th>\n",
       "      <th>day</th>\n",
       "      <th>month</th>\n",
       "      <th>leap_year</th>\n",
       "      <th>decade</th>\n",
       "      <th>date</th>\n",
       "    </tr>\n",
       "  </thead>\n",
       "  <tbody>\n",
       "    <tr>\n",
       "      <th>0</th>\n",
       "      <td>[WED]</td>\n",
       "      <td>[JAN]</td>\n",
       "      <td>0.0</td>\n",
       "      <td>[180]</td>\n",
       "      <td>1800-01-01</td>\n",
       "    </tr>\n",
       "    <tr>\n",
       "      <th>1</th>\n",
       "      <td>[THU]</td>\n",
       "      <td>[JAN]</td>\n",
       "      <td>0.0</td>\n",
       "      <td>[180]</td>\n",
       "      <td>1801-01-01</td>\n",
       "    </tr>\n",
       "    <tr>\n",
       "      <th>2</th>\n",
       "      <td>[FRI]</td>\n",
       "      <td>[JAN]</td>\n",
       "      <td>0.0</td>\n",
       "      <td>[180]</td>\n",
       "      <td>1802-01-01</td>\n",
       "    </tr>\n",
       "    <tr>\n",
       "      <th>3</th>\n",
       "      <td>[SAT]</td>\n",
       "      <td>[JAN]</td>\n",
       "      <td>0.0</td>\n",
       "      <td>[180]</td>\n",
       "      <td>1803-01-01</td>\n",
       "    </tr>\n",
       "    <tr>\n",
       "      <th>4</th>\n",
       "      <td>[SUN]</td>\n",
       "      <td>[JAN]</td>\n",
       "      <td>1.0</td>\n",
       "      <td>[180]</td>\n",
       "      <td>1804-01-01</td>\n",
       "    </tr>\n",
       "    <tr>\n",
       "      <th>...</th>\n",
       "      <td>...</td>\n",
       "      <td>...</td>\n",
       "      <td>...</td>\n",
       "      <td>...</td>\n",
       "      <td>...</td>\n",
       "    </tr>\n",
       "    <tr>\n",
       "      <th>146457</th>\n",
       "      <td>[SAT]</td>\n",
       "      <td>[DEC]</td>\n",
       "      <td>1.0</td>\n",
       "      <td>[219]</td>\n",
       "      <td>2196-12-31</td>\n",
       "    </tr>\n",
       "    <tr>\n",
       "      <th>146458</th>\n",
       "      <td>[SUN]</td>\n",
       "      <td>[DEC]</td>\n",
       "      <td>0.0</td>\n",
       "      <td>[219]</td>\n",
       "      <td>2197-12-31</td>\n",
       "    </tr>\n",
       "    <tr>\n",
       "      <th>146459</th>\n",
       "      <td>[MON]</td>\n",
       "      <td>[DEC]</td>\n",
       "      <td>0.0</td>\n",
       "      <td>[219]</td>\n",
       "      <td>2198-12-31</td>\n",
       "    </tr>\n",
       "    <tr>\n",
       "      <th>146460</th>\n",
       "      <td>[TUE]</td>\n",
       "      <td>[DEC]</td>\n",
       "      <td>0.0</td>\n",
       "      <td>[219]</td>\n",
       "      <td>2199-12-31</td>\n",
       "    </tr>\n",
       "    <tr>\n",
       "      <th>146461</th>\n",
       "      <td>[WED]</td>\n",
       "      <td>[DEC]</td>\n",
       "      <td>0.0</td>\n",
       "      <td>[220]</td>\n",
       "      <td>2200-12-31</td>\n",
       "    </tr>\n",
       "  </tbody>\n",
       "</table>\n",
       "<p>146462 rows × 5 columns</p>\n",
       "</div>"
      ],
      "text/plain": [
       "          day  month  leap_year decade       date\n",
       "0       [WED]  [JAN]        0.0  [180] 1800-01-01\n",
       "1       [THU]  [JAN]        0.0  [180] 1801-01-01\n",
       "2       [FRI]  [JAN]        0.0  [180] 1802-01-01\n",
       "3       [SAT]  [JAN]        0.0  [180] 1803-01-01\n",
       "4       [SUN]  [JAN]        1.0  [180] 1804-01-01\n",
       "...       ...    ...        ...    ...        ...\n",
       "146457  [SAT]  [DEC]        1.0  [219] 2196-12-31\n",
       "146458  [SUN]  [DEC]        0.0  [219] 2197-12-31\n",
       "146459  [MON]  [DEC]        0.0  [219] 2198-12-31\n",
       "146460  [TUE]  [DEC]        0.0  [219] 2199-12-31\n",
       "146461  [WED]  [DEC]        0.0  [220] 2200-12-31\n",
       "\n",
       "[146462 rows x 5 columns]"
      ]
     },
     "execution_count": 32,
     "metadata": {},
     "output_type": "execute_result"
    }
   ],
   "source": [
    "data"
   ]
  },
  {
   "cell_type": "markdown",
   "id": "0d1f9039",
   "metadata": {
    "id": "0d1f9039"
   },
   "source": [
    "date -> timestamp"
   ]
  },
  {
   "cell_type": "code",
   "execution_count": 131,
   "id": "d2be262b",
   "metadata": {
    "colab": {
     "base_uri": "https://localhost:8080/"
    },
    "id": "d2be262b",
    "outputId": "aa9586e9-0ec5-41d9-a01d-0539312b0a5b"
   },
   "outputs": [
    {
     "data": {
      "text/plain": [
       "Timestamp('1800-01-01 00:00:00')"
      ]
     },
     "execution_count": 131,
     "metadata": {},
     "output_type": "execute_result"
    }
   ],
   "source": [
    "data.date.iloc[0]"
   ]
  },
  {
   "cell_type": "code",
   "execution_count": 34,
   "id": "4b980c59",
   "metadata": {
    "colab": {
     "base_uri": "https://localhost:8080/"
    },
    "id": "4b980c59",
    "outputId": "d9ca72dc-7533-41cc-a25b-fbff7584c529"
   },
   "outputs": [
    {
     "data": {
      "text/plain": [
       "-5364662400.0"
      ]
     },
     "execution_count": 34,
     "metadata": {},
     "output_type": "execute_result"
    }
   ],
   "source": [
    "data.date.iloc[0].timestamp()"
   ]
  },
  {
   "cell_type": "code",
   "execution_count": 35,
   "id": "22cd2e7b",
   "metadata": {
    "id": "22cd2e7b"
   },
   "outputs": [],
   "source": [
    "# np.log(data.date.iloc[0].timestamp())"
   ]
  },
  {
   "cell_type": "code",
   "execution_count": 36,
   "id": "615ca4ec",
   "metadata": {
    "id": "615ca4ec"
   },
   "outputs": [],
   "source": [
    "# data['date_timestamp'] = data.date.apply(lambda dt: dt.timestamp())\n",
    "data['date_timestamp'] = data.date.apply(lambda dt: dt.timestamp())"
   ]
  },
  {
   "cell_type": "code",
   "execution_count": 37,
   "id": "de235af1",
   "metadata": {
    "colab": {
     "base_uri": "https://localhost:8080/",
     "height": 423
    },
    "id": "de235af1",
    "outputId": "5845dae5-ea81-4e69-bfc5-ec4fe12a26c9"
   },
   "outputs": [
    {
     "data": {
      "text/html": [
       "<div>\n",
       "<style scoped>\n",
       "    .dataframe tbody tr th:only-of-type {\n",
       "        vertical-align: middle;\n",
       "    }\n",
       "\n",
       "    .dataframe tbody tr th {\n",
       "        vertical-align: top;\n",
       "    }\n",
       "\n",
       "    .dataframe thead th {\n",
       "        text-align: right;\n",
       "    }\n",
       "</style>\n",
       "<table border=\"1\" class=\"dataframe\">\n",
       "  <thead>\n",
       "    <tr style=\"text-align: right;\">\n",
       "      <th></th>\n",
       "      <th>day</th>\n",
       "      <th>month</th>\n",
       "      <th>leap_year</th>\n",
       "      <th>decade</th>\n",
       "      <th>date</th>\n",
       "      <th>date_timestamp</th>\n",
       "    </tr>\n",
       "  </thead>\n",
       "  <tbody>\n",
       "    <tr>\n",
       "      <th>0</th>\n",
       "      <td>[WED]</td>\n",
       "      <td>[JAN]</td>\n",
       "      <td>0.0</td>\n",
       "      <td>[180]</td>\n",
       "      <td>1800-01-01</td>\n",
       "      <td>-5.364662e+09</td>\n",
       "    </tr>\n",
       "    <tr>\n",
       "      <th>1</th>\n",
       "      <td>[THU]</td>\n",
       "      <td>[JAN]</td>\n",
       "      <td>0.0</td>\n",
       "      <td>[180]</td>\n",
       "      <td>1801-01-01</td>\n",
       "      <td>-5.333126e+09</td>\n",
       "    </tr>\n",
       "    <tr>\n",
       "      <th>2</th>\n",
       "      <td>[FRI]</td>\n",
       "      <td>[JAN]</td>\n",
       "      <td>0.0</td>\n",
       "      <td>[180]</td>\n",
       "      <td>1802-01-01</td>\n",
       "      <td>-5.301590e+09</td>\n",
       "    </tr>\n",
       "    <tr>\n",
       "      <th>3</th>\n",
       "      <td>[SAT]</td>\n",
       "      <td>[JAN]</td>\n",
       "      <td>0.0</td>\n",
       "      <td>[180]</td>\n",
       "      <td>1803-01-01</td>\n",
       "      <td>-5.270054e+09</td>\n",
       "    </tr>\n",
       "    <tr>\n",
       "      <th>4</th>\n",
       "      <td>[SUN]</td>\n",
       "      <td>[JAN]</td>\n",
       "      <td>1.0</td>\n",
       "      <td>[180]</td>\n",
       "      <td>1804-01-01</td>\n",
       "      <td>-5.238518e+09</td>\n",
       "    </tr>\n",
       "    <tr>\n",
       "      <th>...</th>\n",
       "      <td>...</td>\n",
       "      <td>...</td>\n",
       "      <td>...</td>\n",
       "      <td>...</td>\n",
       "      <td>...</td>\n",
       "      <td>...</td>\n",
       "    </tr>\n",
       "    <tr>\n",
       "      <th>146457</th>\n",
       "      <td>[SAT]</td>\n",
       "      <td>[DEC]</td>\n",
       "      <td>1.0</td>\n",
       "      <td>[219]</td>\n",
       "      <td>2196-12-31</td>\n",
       "      <td>7.163424e+09</td>\n",
       "    </tr>\n",
       "    <tr>\n",
       "      <th>146458</th>\n",
       "      <td>[SUN]</td>\n",
       "      <td>[DEC]</td>\n",
       "      <td>0.0</td>\n",
       "      <td>[219]</td>\n",
       "      <td>2197-12-31</td>\n",
       "      <td>7.194960e+09</td>\n",
       "    </tr>\n",
       "    <tr>\n",
       "      <th>146459</th>\n",
       "      <td>[MON]</td>\n",
       "      <td>[DEC]</td>\n",
       "      <td>0.0</td>\n",
       "      <td>[219]</td>\n",
       "      <td>2198-12-31</td>\n",
       "      <td>7.226496e+09</td>\n",
       "    </tr>\n",
       "    <tr>\n",
       "      <th>146460</th>\n",
       "      <td>[TUE]</td>\n",
       "      <td>[DEC]</td>\n",
       "      <td>0.0</td>\n",
       "      <td>[219]</td>\n",
       "      <td>2199-12-31</td>\n",
       "      <td>7.258032e+09</td>\n",
       "    </tr>\n",
       "    <tr>\n",
       "      <th>146461</th>\n",
       "      <td>[WED]</td>\n",
       "      <td>[DEC]</td>\n",
       "      <td>0.0</td>\n",
       "      <td>[220]</td>\n",
       "      <td>2200-12-31</td>\n",
       "      <td>7.289568e+09</td>\n",
       "    </tr>\n",
       "  </tbody>\n",
       "</table>\n",
       "<p>146462 rows × 6 columns</p>\n",
       "</div>"
      ],
      "text/plain": [
       "          day  month  leap_year decade       date  date_timestamp\n",
       "0       [WED]  [JAN]        0.0  [180] 1800-01-01   -5.364662e+09\n",
       "1       [THU]  [JAN]        0.0  [180] 1801-01-01   -5.333126e+09\n",
       "2       [FRI]  [JAN]        0.0  [180] 1802-01-01   -5.301590e+09\n",
       "3       [SAT]  [JAN]        0.0  [180] 1803-01-01   -5.270054e+09\n",
       "4       [SUN]  [JAN]        1.0  [180] 1804-01-01   -5.238518e+09\n",
       "...       ...    ...        ...    ...        ...             ...\n",
       "146457  [SAT]  [DEC]        1.0  [219] 2196-12-31    7.163424e+09\n",
       "146458  [SUN]  [DEC]        0.0  [219] 2197-12-31    7.194960e+09\n",
       "146459  [MON]  [DEC]        0.0  [219] 2198-12-31    7.226496e+09\n",
       "146460  [TUE]  [DEC]        0.0  [219] 2199-12-31    7.258032e+09\n",
       "146461  [WED]  [DEC]        0.0  [220] 2200-12-31    7.289568e+09\n",
       "\n",
       "[146462 rows x 6 columns]"
      ]
     },
     "execution_count": 37,
     "metadata": {},
     "output_type": "execute_result"
    }
   ],
   "source": [
    "data"
   ]
  },
  {
   "cell_type": "code",
   "execution_count": 38,
   "id": "c2a63c43",
   "metadata": {
    "colab": {
     "base_uri": "https://localhost:8080/",
     "height": 36
    },
    "id": "c2a63c43",
    "outputId": "00495231-852c-4457-8689-8e83a84eafb4"
   },
   "outputs": [
    {
     "data": {
      "text/plain": [
       "'[180]'"
      ]
     },
     "execution_count": 38,
     "metadata": {},
     "output_type": "execute_result"
    }
   ],
   "source": [
    "x = data.decade.iloc[0]\n",
    "x"
   ]
  },
  {
   "cell_type": "code",
   "execution_count": 39,
   "id": "24257602",
   "metadata": {
    "colab": {
     "base_uri": "https://localhost:8080/",
     "height": 36
    },
    "id": "24257602",
    "outputId": "29d09083-d4c3-4b34-d3a1-8de4d572b06b"
   },
   "outputs": [
    {
     "data": {
      "text/plain": [
       "'180'"
      ]
     },
     "execution_count": 39,
     "metadata": {},
     "output_type": "execute_result"
    }
   ],
   "source": [
    "x.strip('[]')"
   ]
  },
  {
   "cell_type": "code",
   "execution_count": 40,
   "id": "e8a46a74",
   "metadata": {
    "id": "e8a46a74"
   },
   "outputs": [],
   "source": [
    "data.decade = data.decade.apply(lambda x: x.strip('[]')).astype('int64')"
   ]
  },
  {
   "cell_type": "code",
   "execution_count": 41,
   "id": "4968ede3",
   "metadata": {
    "id": "4968ede3"
   },
   "outputs": [],
   "source": [
    "data.day = data.day.apply(lambda x: x.strip('[]'))\n",
    "data.month = data.month.apply(lambda x: x.strip('[]'))"
   ]
  },
  {
   "cell_type": "code",
   "execution_count": 42,
   "id": "6cad9207",
   "metadata": {
    "colab": {
     "base_uri": "https://localhost:8080/",
     "height": 423
    },
    "id": "6cad9207",
    "outputId": "15e60b65-a3ab-4ae2-cd63-1155e07c5e66"
   },
   "outputs": [
    {
     "data": {
      "text/html": [
       "<div>\n",
       "<style scoped>\n",
       "    .dataframe tbody tr th:only-of-type {\n",
       "        vertical-align: middle;\n",
       "    }\n",
       "\n",
       "    .dataframe tbody tr th {\n",
       "        vertical-align: top;\n",
       "    }\n",
       "\n",
       "    .dataframe thead th {\n",
       "        text-align: right;\n",
       "    }\n",
       "</style>\n",
       "<table border=\"1\" class=\"dataframe\">\n",
       "  <thead>\n",
       "    <tr style=\"text-align: right;\">\n",
       "      <th></th>\n",
       "      <th>day</th>\n",
       "      <th>month</th>\n",
       "      <th>leap_year</th>\n",
       "      <th>decade</th>\n",
       "      <th>date</th>\n",
       "      <th>date_timestamp</th>\n",
       "    </tr>\n",
       "  </thead>\n",
       "  <tbody>\n",
       "    <tr>\n",
       "      <th>0</th>\n",
       "      <td>WED</td>\n",
       "      <td>JAN</td>\n",
       "      <td>0.0</td>\n",
       "      <td>180</td>\n",
       "      <td>1800-01-01</td>\n",
       "      <td>-5.364662e+09</td>\n",
       "    </tr>\n",
       "    <tr>\n",
       "      <th>1</th>\n",
       "      <td>THU</td>\n",
       "      <td>JAN</td>\n",
       "      <td>0.0</td>\n",
       "      <td>180</td>\n",
       "      <td>1801-01-01</td>\n",
       "      <td>-5.333126e+09</td>\n",
       "    </tr>\n",
       "    <tr>\n",
       "      <th>2</th>\n",
       "      <td>FRI</td>\n",
       "      <td>JAN</td>\n",
       "      <td>0.0</td>\n",
       "      <td>180</td>\n",
       "      <td>1802-01-01</td>\n",
       "      <td>-5.301590e+09</td>\n",
       "    </tr>\n",
       "    <tr>\n",
       "      <th>3</th>\n",
       "      <td>SAT</td>\n",
       "      <td>JAN</td>\n",
       "      <td>0.0</td>\n",
       "      <td>180</td>\n",
       "      <td>1803-01-01</td>\n",
       "      <td>-5.270054e+09</td>\n",
       "    </tr>\n",
       "    <tr>\n",
       "      <th>4</th>\n",
       "      <td>SUN</td>\n",
       "      <td>JAN</td>\n",
       "      <td>1.0</td>\n",
       "      <td>180</td>\n",
       "      <td>1804-01-01</td>\n",
       "      <td>-5.238518e+09</td>\n",
       "    </tr>\n",
       "    <tr>\n",
       "      <th>...</th>\n",
       "      <td>...</td>\n",
       "      <td>...</td>\n",
       "      <td>...</td>\n",
       "      <td>...</td>\n",
       "      <td>...</td>\n",
       "      <td>...</td>\n",
       "    </tr>\n",
       "    <tr>\n",
       "      <th>146457</th>\n",
       "      <td>SAT</td>\n",
       "      <td>DEC</td>\n",
       "      <td>1.0</td>\n",
       "      <td>219</td>\n",
       "      <td>2196-12-31</td>\n",
       "      <td>7.163424e+09</td>\n",
       "    </tr>\n",
       "    <tr>\n",
       "      <th>146458</th>\n",
       "      <td>SUN</td>\n",
       "      <td>DEC</td>\n",
       "      <td>0.0</td>\n",
       "      <td>219</td>\n",
       "      <td>2197-12-31</td>\n",
       "      <td>7.194960e+09</td>\n",
       "    </tr>\n",
       "    <tr>\n",
       "      <th>146459</th>\n",
       "      <td>MON</td>\n",
       "      <td>DEC</td>\n",
       "      <td>0.0</td>\n",
       "      <td>219</td>\n",
       "      <td>2198-12-31</td>\n",
       "      <td>7.226496e+09</td>\n",
       "    </tr>\n",
       "    <tr>\n",
       "      <th>146460</th>\n",
       "      <td>TUE</td>\n",
       "      <td>DEC</td>\n",
       "      <td>0.0</td>\n",
       "      <td>219</td>\n",
       "      <td>2199-12-31</td>\n",
       "      <td>7.258032e+09</td>\n",
       "    </tr>\n",
       "    <tr>\n",
       "      <th>146461</th>\n",
       "      <td>WED</td>\n",
       "      <td>DEC</td>\n",
       "      <td>0.0</td>\n",
       "      <td>220</td>\n",
       "      <td>2200-12-31</td>\n",
       "      <td>7.289568e+09</td>\n",
       "    </tr>\n",
       "  </tbody>\n",
       "</table>\n",
       "<p>146462 rows × 6 columns</p>\n",
       "</div>"
      ],
      "text/plain": [
       "        day month  leap_year  decade       date  date_timestamp\n",
       "0       WED   JAN        0.0     180 1800-01-01   -5.364662e+09\n",
       "1       THU   JAN        0.0     180 1801-01-01   -5.333126e+09\n",
       "2       FRI   JAN        0.0     180 1802-01-01   -5.301590e+09\n",
       "3       SAT   JAN        0.0     180 1803-01-01   -5.270054e+09\n",
       "4       SUN   JAN        1.0     180 1804-01-01   -5.238518e+09\n",
       "...     ...   ...        ...     ...        ...             ...\n",
       "146457  SAT   DEC        1.0     219 2196-12-31    7.163424e+09\n",
       "146458  SUN   DEC        0.0     219 2197-12-31    7.194960e+09\n",
       "146459  MON   DEC        0.0     219 2198-12-31    7.226496e+09\n",
       "146460  TUE   DEC        0.0     219 2199-12-31    7.258032e+09\n",
       "146461  WED   DEC        0.0     220 2200-12-31    7.289568e+09\n",
       "\n",
       "[146462 rows x 6 columns]"
      ]
     },
     "execution_count": 42,
     "metadata": {},
     "output_type": "execute_result"
    }
   ],
   "source": [
    "data"
   ]
  },
  {
   "cell_type": "code",
   "execution_count": 43,
   "id": "a23a1bcc",
   "metadata": {
    "colab": {
     "base_uri": "https://localhost:8080/"
    },
    "id": "a23a1bcc",
    "outputId": "1c42b48f-48c6-477a-8adc-48e1d56bdd42"
   },
   "outputs": [
    {
     "data": {
      "text/plain": [
       "day                       object\n",
       "month                     object\n",
       "leap_year                float64\n",
       "decade                     int64\n",
       "date              datetime64[ns]\n",
       "date_timestamp           float64\n",
       "dtype: object"
      ]
     },
     "execution_count": 43,
     "metadata": {},
     "output_type": "execute_result"
    }
   ],
   "source": [
    "data.dtypes"
   ]
  },
  {
   "cell_type": "code",
   "execution_count": 44,
   "id": "965aaeb2",
   "metadata": {
    "id": "965aaeb2"
   },
   "outputs": [],
   "source": [
    "# data['day_of_week_sin'] = np.sin(data['day'] * (2 * np.pi / 7))\n",
    "# data['day_of_week_cos'] = np.cos(data['day'] * (2 * np.pi / 7))"
   ]
  },
  {
   "cell_type": "code",
   "execution_count": 45,
   "id": "1cc60a35",
   "metadata": {
    "id": "1cc60a35"
   },
   "outputs": [],
   "source": [
    "# data['month_of_year_sin'] = np.sin(data['month'] * (2 * np.pi / 12))\n",
    "# data['month_of_year_cos'] = np.cos(data['month'] * (2 * np.pi / 12))"
   ]
  },
  {
   "cell_type": "code",
   "execution_count": 46,
   "id": "683f6a47",
   "metadata": {
    "colab": {
     "base_uri": "https://localhost:8080/"
    },
    "id": "683f6a47",
    "outputId": "0e02be02-b19f-4e79-ce5b-c2a24aabbd08"
   },
   "outputs": [
    {
     "data": {
      "text/plain": [
       "0         6\n",
       "1         4\n",
       "2         0\n",
       "3         2\n",
       "4         3\n",
       "         ..\n",
       "146457    2\n",
       "146458    3\n",
       "146459    1\n",
       "146460    5\n",
       "146461    6\n",
       "Length: 146462, dtype: int8"
      ]
     },
     "execution_count": 46,
     "metadata": {},
     "output_type": "execute_result"
    }
   ],
   "source": [
    "data.day.astype(\"category\").cat.codes"
   ]
  },
  {
   "cell_type": "code",
   "execution_count": 47,
   "id": "f02a4508",
   "metadata": {
    "colab": {
     "base_uri": "https://localhost:8080/"
    },
    "id": "f02a4508",
    "outputId": "7f0100b2-6819-42ec-cfa6-1462d9ddc073"
   },
   "outputs": [
    {
     "data": {
      "text/plain": [
       "Index(['FRI', 'MON', 'SAT', 'SUN', 'THU', 'TUE', 'WED'], dtype='object')"
      ]
     },
     "execution_count": 47,
     "metadata": {},
     "output_type": "execute_result"
    }
   ],
   "source": [
    "data.day.astype(\"category\").cat.categories"
   ]
  },
  {
   "cell_type": "code",
   "execution_count": 48,
   "id": "15ddc14a",
   "metadata": {
    "colab": {
     "base_uri": "https://localhost:8080/"
    },
    "id": "15ddc14a",
    "outputId": "b83a8a09-67a7-4597-de47-2c0d56a0ebef"
   },
   "outputs": [
    {
     "data": {
      "text/plain": [
       "0         WED\n",
       "1         THU\n",
       "2         FRI\n",
       "3         SAT\n",
       "4         SUN\n",
       "         ... \n",
       "146457    SAT\n",
       "146458    SUN\n",
       "146459    MON\n",
       "146460    TUE\n",
       "146461    WED\n",
       "Name: day, Length: 146462, dtype: category\n",
       "Categories (7, object): ['FRI' < 'MON' < 'SAT' < 'SUN' < 'THU' < 'TUE' < 'WED']"
      ]
     },
     "execution_count": 48,
     "metadata": {},
     "output_type": "execute_result"
    }
   ],
   "source": [
    "data.day.astype(\"category\").cat.as_ordered()"
   ]
  },
  {
   "cell_type": "code",
   "execution_count": 49,
   "id": "5a439e88",
   "metadata": {
    "colab": {
     "base_uri": "https://localhost:8080/"
    },
    "id": "5a439e88",
    "outputId": "f8f1a34a-1455-47b8-91b3-422728065151"
   },
   "outputs": [
    {
     "data": {
      "text/plain": [
       "0         6\n",
       "1         4\n",
       "2         0\n",
       "3         2\n",
       "4         3\n",
       "         ..\n",
       "146457    2\n",
       "146458    3\n",
       "146459    1\n",
       "146460    5\n",
       "146461    6\n",
       "Length: 146462, dtype: int8"
      ]
     },
     "execution_count": 49,
     "metadata": {},
     "output_type": "execute_result"
    }
   ],
   "source": [
    "data.day.astype(\"category\").cat.codes"
   ]
  },
  {
   "cell_type": "code",
   "execution_count": 50,
   "id": "29e95286",
   "metadata": {
    "id": "29e95286"
   },
   "outputs": [],
   "source": [
    "# c = pd.Categorical(['a', 'b', 'c', 'a', 'b', 'c'], ordered=True,\n",
    "#                    categories=['c', 'b', 'a'])"
   ]
  },
  {
   "cell_type": "code",
   "execution_count": null,
   "id": "57af49d5",
   "metadata": {
    "id": "57af49d5"
   },
   "outputs": [],
   "source": []
  },
  {
   "cell_type": "code",
   "execution_count": 51,
   "id": "f213d4d6",
   "metadata": {
    "id": "f213d4d6"
   },
   "outputs": [],
   "source": [
    "day_code = pd.Categorical(data.day, ordered=True,\n",
    "                   categories=['SAT', 'SUN', 'MON', 'TUE', 'WED', 'THU', 'FRI'])"
   ]
  },
  {
   "cell_type": "code",
   "execution_count": 52,
   "id": "441760f7",
   "metadata": {
    "colab": {
     "base_uri": "https://localhost:8080/"
    },
    "id": "441760f7",
    "outputId": "e9c1535c-3b49-4540-bdf5-e69d3760a9e1"
   },
   "outputs": [
    {
     "data": {
      "text/plain": [
       "['SAT', 'SUN', 'MON', 'TUE', 'WED', 'THU', 'FRI']"
      ]
     },
     "execution_count": 52,
     "metadata": {},
     "output_type": "execute_result"
    }
   ],
   "source": [
    "['SAT', 'SUN', 'MON', 'TUE', 'WED', 'THU', 'FRI']"
   ]
  },
  {
   "cell_type": "code",
   "execution_count": 53,
   "id": "21ca50b7",
   "metadata": {
    "id": "21ca50b7"
   },
   "outputs": [],
   "source": [
    "data['day_code'] = day_code.codes"
   ]
  },
  {
   "cell_type": "code",
   "execution_count": 54,
   "id": "ef32c96d",
   "metadata": {
    "colab": {
     "base_uri": "https://localhost:8080/"
    },
    "id": "ef32c96d",
    "outputId": "3ab1bfad-9e49-4087-d015-a92517cfcab4"
   },
   "outputs": [
    {
     "name": "stdout",
     "output_type": "stream",
     "text": [
      "0 SAT\n",
      "1 SUN\n",
      "2 MON\n",
      "3 TUE\n",
      "4 WED\n",
      "5 THU\n",
      "6 FRI\n"
     ]
    }
   ],
   "source": [
    "for i,c in enumerate(day_code.categories):\n",
    "    print(i,c)"
   ]
  },
  {
   "cell_type": "code",
   "execution_count": 55,
   "id": "5f223ae3",
   "metadata": {
    "colab": {
     "base_uri": "https://localhost:8080/",
     "height": 423
    },
    "id": "5f223ae3",
    "outputId": "c81d3e94-3f07-42eb-b261-2fe8dc4b647f"
   },
   "outputs": [
    {
     "data": {
      "text/html": [
       "<div>\n",
       "<style scoped>\n",
       "    .dataframe tbody tr th:only-of-type {\n",
       "        vertical-align: middle;\n",
       "    }\n",
       "\n",
       "    .dataframe tbody tr th {\n",
       "        vertical-align: top;\n",
       "    }\n",
       "\n",
       "    .dataframe thead th {\n",
       "        text-align: right;\n",
       "    }\n",
       "</style>\n",
       "<table border=\"1\" class=\"dataframe\">\n",
       "  <thead>\n",
       "    <tr style=\"text-align: right;\">\n",
       "      <th></th>\n",
       "      <th>day</th>\n",
       "      <th>month</th>\n",
       "      <th>leap_year</th>\n",
       "      <th>decade</th>\n",
       "      <th>date</th>\n",
       "      <th>date_timestamp</th>\n",
       "      <th>day_code</th>\n",
       "    </tr>\n",
       "  </thead>\n",
       "  <tbody>\n",
       "    <tr>\n",
       "      <th>0</th>\n",
       "      <td>WED</td>\n",
       "      <td>JAN</td>\n",
       "      <td>0.0</td>\n",
       "      <td>180</td>\n",
       "      <td>1800-01-01</td>\n",
       "      <td>-5.364662e+09</td>\n",
       "      <td>4</td>\n",
       "    </tr>\n",
       "    <tr>\n",
       "      <th>1</th>\n",
       "      <td>THU</td>\n",
       "      <td>JAN</td>\n",
       "      <td>0.0</td>\n",
       "      <td>180</td>\n",
       "      <td>1801-01-01</td>\n",
       "      <td>-5.333126e+09</td>\n",
       "      <td>5</td>\n",
       "    </tr>\n",
       "    <tr>\n",
       "      <th>2</th>\n",
       "      <td>FRI</td>\n",
       "      <td>JAN</td>\n",
       "      <td>0.0</td>\n",
       "      <td>180</td>\n",
       "      <td>1802-01-01</td>\n",
       "      <td>-5.301590e+09</td>\n",
       "      <td>6</td>\n",
       "    </tr>\n",
       "    <tr>\n",
       "      <th>3</th>\n",
       "      <td>SAT</td>\n",
       "      <td>JAN</td>\n",
       "      <td>0.0</td>\n",
       "      <td>180</td>\n",
       "      <td>1803-01-01</td>\n",
       "      <td>-5.270054e+09</td>\n",
       "      <td>0</td>\n",
       "    </tr>\n",
       "    <tr>\n",
       "      <th>4</th>\n",
       "      <td>SUN</td>\n",
       "      <td>JAN</td>\n",
       "      <td>1.0</td>\n",
       "      <td>180</td>\n",
       "      <td>1804-01-01</td>\n",
       "      <td>-5.238518e+09</td>\n",
       "      <td>1</td>\n",
       "    </tr>\n",
       "    <tr>\n",
       "      <th>...</th>\n",
       "      <td>...</td>\n",
       "      <td>...</td>\n",
       "      <td>...</td>\n",
       "      <td>...</td>\n",
       "      <td>...</td>\n",
       "      <td>...</td>\n",
       "      <td>...</td>\n",
       "    </tr>\n",
       "    <tr>\n",
       "      <th>146457</th>\n",
       "      <td>SAT</td>\n",
       "      <td>DEC</td>\n",
       "      <td>1.0</td>\n",
       "      <td>219</td>\n",
       "      <td>2196-12-31</td>\n",
       "      <td>7.163424e+09</td>\n",
       "      <td>0</td>\n",
       "    </tr>\n",
       "    <tr>\n",
       "      <th>146458</th>\n",
       "      <td>SUN</td>\n",
       "      <td>DEC</td>\n",
       "      <td>0.0</td>\n",
       "      <td>219</td>\n",
       "      <td>2197-12-31</td>\n",
       "      <td>7.194960e+09</td>\n",
       "      <td>1</td>\n",
       "    </tr>\n",
       "    <tr>\n",
       "      <th>146459</th>\n",
       "      <td>MON</td>\n",
       "      <td>DEC</td>\n",
       "      <td>0.0</td>\n",
       "      <td>219</td>\n",
       "      <td>2198-12-31</td>\n",
       "      <td>7.226496e+09</td>\n",
       "      <td>2</td>\n",
       "    </tr>\n",
       "    <tr>\n",
       "      <th>146460</th>\n",
       "      <td>TUE</td>\n",
       "      <td>DEC</td>\n",
       "      <td>0.0</td>\n",
       "      <td>219</td>\n",
       "      <td>2199-12-31</td>\n",
       "      <td>7.258032e+09</td>\n",
       "      <td>3</td>\n",
       "    </tr>\n",
       "    <tr>\n",
       "      <th>146461</th>\n",
       "      <td>WED</td>\n",
       "      <td>DEC</td>\n",
       "      <td>0.0</td>\n",
       "      <td>220</td>\n",
       "      <td>2200-12-31</td>\n",
       "      <td>7.289568e+09</td>\n",
       "      <td>4</td>\n",
       "    </tr>\n",
       "  </tbody>\n",
       "</table>\n",
       "<p>146462 rows × 7 columns</p>\n",
       "</div>"
      ],
      "text/plain": [
       "        day month  leap_year  decade       date  date_timestamp  day_code\n",
       "0       WED   JAN        0.0     180 1800-01-01   -5.364662e+09         4\n",
       "1       THU   JAN        0.0     180 1801-01-01   -5.333126e+09         5\n",
       "2       FRI   JAN        0.0     180 1802-01-01   -5.301590e+09         6\n",
       "3       SAT   JAN        0.0     180 1803-01-01   -5.270054e+09         0\n",
       "4       SUN   JAN        1.0     180 1804-01-01   -5.238518e+09         1\n",
       "...     ...   ...        ...     ...        ...             ...       ...\n",
       "146457  SAT   DEC        1.0     219 2196-12-31    7.163424e+09         0\n",
       "146458  SUN   DEC        0.0     219 2197-12-31    7.194960e+09         1\n",
       "146459  MON   DEC        0.0     219 2198-12-31    7.226496e+09         2\n",
       "146460  TUE   DEC        0.0     219 2199-12-31    7.258032e+09         3\n",
       "146461  WED   DEC        0.0     220 2200-12-31    7.289568e+09         4\n",
       "\n",
       "[146462 rows x 7 columns]"
      ]
     },
     "execution_count": 55,
     "metadata": {},
     "output_type": "execute_result"
    }
   ],
   "source": [
    "data"
   ]
  },
  {
   "cell_type": "code",
   "execution_count": 56,
   "id": "1d327b2f",
   "metadata": {
    "id": "1d327b2f"
   },
   "outputs": [],
   "source": [
    "data['day_sin'] = np.sin(data['day_code'] * (2 * np.pi / 7))\n",
    "data['day_cos'] = np.cos(data['day_code'] * (2 * np.pi / 7))"
   ]
  },
  {
   "cell_type": "code",
   "execution_count": 57,
   "id": "db0d2e28",
   "metadata": {
    "colab": {
     "base_uri": "https://localhost:8080/",
     "height": 423
    },
    "id": "db0d2e28",
    "outputId": "dcfc84ba-32d3-433a-ecac-8889b02e17d2"
   },
   "outputs": [
    {
     "data": {
      "text/html": [
       "<div>\n",
       "<style scoped>\n",
       "    .dataframe tbody tr th:only-of-type {\n",
       "        vertical-align: middle;\n",
       "    }\n",
       "\n",
       "    .dataframe tbody tr th {\n",
       "        vertical-align: top;\n",
       "    }\n",
       "\n",
       "    .dataframe thead th {\n",
       "        text-align: right;\n",
       "    }\n",
       "</style>\n",
       "<table border=\"1\" class=\"dataframe\">\n",
       "  <thead>\n",
       "    <tr style=\"text-align: right;\">\n",
       "      <th></th>\n",
       "      <th>day</th>\n",
       "      <th>month</th>\n",
       "      <th>leap_year</th>\n",
       "      <th>decade</th>\n",
       "      <th>date</th>\n",
       "      <th>date_timestamp</th>\n",
       "      <th>day_code</th>\n",
       "      <th>day_sin</th>\n",
       "      <th>day_cos</th>\n",
       "    </tr>\n",
       "  </thead>\n",
       "  <tbody>\n",
       "    <tr>\n",
       "      <th>0</th>\n",
       "      <td>WED</td>\n",
       "      <td>JAN</td>\n",
       "      <td>0.0</td>\n",
       "      <td>180</td>\n",
       "      <td>1800-01-01</td>\n",
       "      <td>-5.364662e+09</td>\n",
       "      <td>4</td>\n",
       "      <td>-0.433884</td>\n",
       "      <td>-0.900969</td>\n",
       "    </tr>\n",
       "    <tr>\n",
       "      <th>1</th>\n",
       "      <td>THU</td>\n",
       "      <td>JAN</td>\n",
       "      <td>0.0</td>\n",
       "      <td>180</td>\n",
       "      <td>1801-01-01</td>\n",
       "      <td>-5.333126e+09</td>\n",
       "      <td>5</td>\n",
       "      <td>-0.974928</td>\n",
       "      <td>-0.222521</td>\n",
       "    </tr>\n",
       "    <tr>\n",
       "      <th>2</th>\n",
       "      <td>FRI</td>\n",
       "      <td>JAN</td>\n",
       "      <td>0.0</td>\n",
       "      <td>180</td>\n",
       "      <td>1802-01-01</td>\n",
       "      <td>-5.301590e+09</td>\n",
       "      <td>6</td>\n",
       "      <td>-0.781831</td>\n",
       "      <td>0.623490</td>\n",
       "    </tr>\n",
       "    <tr>\n",
       "      <th>3</th>\n",
       "      <td>SAT</td>\n",
       "      <td>JAN</td>\n",
       "      <td>0.0</td>\n",
       "      <td>180</td>\n",
       "      <td>1803-01-01</td>\n",
       "      <td>-5.270054e+09</td>\n",
       "      <td>0</td>\n",
       "      <td>0.000000</td>\n",
       "      <td>1.000000</td>\n",
       "    </tr>\n",
       "    <tr>\n",
       "      <th>4</th>\n",
       "      <td>SUN</td>\n",
       "      <td>JAN</td>\n",
       "      <td>1.0</td>\n",
       "      <td>180</td>\n",
       "      <td>1804-01-01</td>\n",
       "      <td>-5.238518e+09</td>\n",
       "      <td>1</td>\n",
       "      <td>0.781831</td>\n",
       "      <td>0.623490</td>\n",
       "    </tr>\n",
       "    <tr>\n",
       "      <th>...</th>\n",
       "      <td>...</td>\n",
       "      <td>...</td>\n",
       "      <td>...</td>\n",
       "      <td>...</td>\n",
       "      <td>...</td>\n",
       "      <td>...</td>\n",
       "      <td>...</td>\n",
       "      <td>...</td>\n",
       "      <td>...</td>\n",
       "    </tr>\n",
       "    <tr>\n",
       "      <th>146457</th>\n",
       "      <td>SAT</td>\n",
       "      <td>DEC</td>\n",
       "      <td>1.0</td>\n",
       "      <td>219</td>\n",
       "      <td>2196-12-31</td>\n",
       "      <td>7.163424e+09</td>\n",
       "      <td>0</td>\n",
       "      <td>0.000000</td>\n",
       "      <td>1.000000</td>\n",
       "    </tr>\n",
       "    <tr>\n",
       "      <th>146458</th>\n",
       "      <td>SUN</td>\n",
       "      <td>DEC</td>\n",
       "      <td>0.0</td>\n",
       "      <td>219</td>\n",
       "      <td>2197-12-31</td>\n",
       "      <td>7.194960e+09</td>\n",
       "      <td>1</td>\n",
       "      <td>0.781831</td>\n",
       "      <td>0.623490</td>\n",
       "    </tr>\n",
       "    <tr>\n",
       "      <th>146459</th>\n",
       "      <td>MON</td>\n",
       "      <td>DEC</td>\n",
       "      <td>0.0</td>\n",
       "      <td>219</td>\n",
       "      <td>2198-12-31</td>\n",
       "      <td>7.226496e+09</td>\n",
       "      <td>2</td>\n",
       "      <td>0.974928</td>\n",
       "      <td>-0.222521</td>\n",
       "    </tr>\n",
       "    <tr>\n",
       "      <th>146460</th>\n",
       "      <td>TUE</td>\n",
       "      <td>DEC</td>\n",
       "      <td>0.0</td>\n",
       "      <td>219</td>\n",
       "      <td>2199-12-31</td>\n",
       "      <td>7.258032e+09</td>\n",
       "      <td>3</td>\n",
       "      <td>0.433884</td>\n",
       "      <td>-0.900969</td>\n",
       "    </tr>\n",
       "    <tr>\n",
       "      <th>146461</th>\n",
       "      <td>WED</td>\n",
       "      <td>DEC</td>\n",
       "      <td>0.0</td>\n",
       "      <td>220</td>\n",
       "      <td>2200-12-31</td>\n",
       "      <td>7.289568e+09</td>\n",
       "      <td>4</td>\n",
       "      <td>-0.433884</td>\n",
       "      <td>-0.900969</td>\n",
       "    </tr>\n",
       "  </tbody>\n",
       "</table>\n",
       "<p>146462 rows × 9 columns</p>\n",
       "</div>"
      ],
      "text/plain": [
       "        day month  leap_year  decade       date  date_timestamp  day_code  \\\n",
       "0       WED   JAN        0.0     180 1800-01-01   -5.364662e+09         4   \n",
       "1       THU   JAN        0.0     180 1801-01-01   -5.333126e+09         5   \n",
       "2       FRI   JAN        0.0     180 1802-01-01   -5.301590e+09         6   \n",
       "3       SAT   JAN        0.0     180 1803-01-01   -5.270054e+09         0   \n",
       "4       SUN   JAN        1.0     180 1804-01-01   -5.238518e+09         1   \n",
       "...     ...   ...        ...     ...        ...             ...       ...   \n",
       "146457  SAT   DEC        1.0     219 2196-12-31    7.163424e+09         0   \n",
       "146458  SUN   DEC        0.0     219 2197-12-31    7.194960e+09         1   \n",
       "146459  MON   DEC        0.0     219 2198-12-31    7.226496e+09         2   \n",
       "146460  TUE   DEC        0.0     219 2199-12-31    7.258032e+09         3   \n",
       "146461  WED   DEC        0.0     220 2200-12-31    7.289568e+09         4   \n",
       "\n",
       "         day_sin   day_cos  \n",
       "0      -0.433884 -0.900969  \n",
       "1      -0.974928 -0.222521  \n",
       "2      -0.781831  0.623490  \n",
       "3       0.000000  1.000000  \n",
       "4       0.781831  0.623490  \n",
       "...          ...       ...  \n",
       "146457  0.000000  1.000000  \n",
       "146458  0.781831  0.623490  \n",
       "146459  0.974928 -0.222521  \n",
       "146460  0.433884 -0.900969  \n",
       "146461 -0.433884 -0.900969  \n",
       "\n",
       "[146462 rows x 9 columns]"
      ]
     },
     "execution_count": 57,
     "metadata": {},
     "output_type": "execute_result"
    }
   ],
   "source": [
    "data"
   ]
  },
  {
   "cell_type": "code",
   "execution_count": 58,
   "id": "e5a8c9de",
   "metadata": {
    "id": "e5a8c9de"
   },
   "outputs": [],
   "source": [
    "month_code = pd.Categorical(data.month, ordered=True,\n",
    "                   categories=['JAN', 'FEB', 'MAR', 'APR', 'MAY', 'JUN', 'JUL', 'AUG', 'SEP', 'OCT', 'NOV', 'DEC'])"
   ]
  },
  {
   "cell_type": "code",
   "execution_count": 59,
   "id": "c3353368",
   "metadata": {
    "colab": {
     "base_uri": "https://localhost:8080/"
    },
    "id": "c3353368",
    "outputId": "92bfaae3-4235-4dab-d3c5-a5ba9e17feb1"
   },
   "outputs": [
    {
     "data": {
      "text/plain": [
       "Index(['APR', 'AUG', 'DEC', 'FEB', 'JAN', 'JUL', 'JUN', 'MAR', 'MAY', 'NOV',\n",
       "       'OCT', 'SEP'],\n",
       "      dtype='object')"
      ]
     },
     "execution_count": 59,
     "metadata": {},
     "output_type": "execute_result"
    }
   ],
   "source": [
    "data.month.astype(\"category\").cat.categories"
   ]
  },
  {
   "cell_type": "code",
   "execution_count": 60,
   "id": "36e3cc02",
   "metadata": {
    "colab": {
     "base_uri": "https://localhost:8080/"
    },
    "id": "36e3cc02",
    "outputId": "d83b980e-42b4-441f-b403-4bf2d17a1438"
   },
   "outputs": [
    {
     "data": {
      "text/plain": [
       "['JAN',\n",
       " 'FEB',\n",
       " 'MAR',\n",
       " 'APR',\n",
       " 'MAY',\n",
       " 'JUN',\n",
       " 'JUL',\n",
       " 'AUG',\n",
       " 'SEP',\n",
       " 'OCT',\n",
       " 'NOV',\n",
       " 'DEC']"
      ]
     },
     "execution_count": 60,
     "metadata": {},
     "output_type": "execute_result"
    }
   ],
   "source": [
    "['JAN', 'FEB', 'MAR', 'APR', 'MAY', 'JUN', 'JUL', 'AUG', 'SEP', 'OCT', 'NOV', 'DEC']"
   ]
  },
  {
   "cell_type": "code",
   "execution_count": 61,
   "id": "e22ebfb2",
   "metadata": {
    "id": "e22ebfb2"
   },
   "outputs": [],
   "source": [
    "data['month_code'] = month_code.codes"
   ]
  },
  {
   "cell_type": "code",
   "execution_count": 62,
   "id": "108a4b9e",
   "metadata": {
    "colab": {
     "base_uri": "https://localhost:8080/"
    },
    "id": "108a4b9e",
    "outputId": "ad02d4b5-17d9-4bd7-d598-81c426e7e7c0"
   },
   "outputs": [
    {
     "name": "stdout",
     "output_type": "stream",
     "text": [
      "0 JAN\n",
      "1 FEB\n",
      "2 MAR\n",
      "3 APR\n",
      "4 MAY\n",
      "5 JUN\n",
      "6 JUL\n",
      "7 AUG\n",
      "8 SEP\n",
      "9 OCT\n",
      "10 NOV\n",
      "11 DEC\n"
     ]
    }
   ],
   "source": [
    "for i,m in enumerate(month_code.categories):\n",
    "    print(i,m)"
   ]
  },
  {
   "cell_type": "code",
   "execution_count": 63,
   "id": "1f999c83",
   "metadata": {
    "id": "1f999c83"
   },
   "outputs": [],
   "source": [
    "data['month_sin'] = np.sin(data['month_code'] * (2 * np.pi / 12))\n",
    "data['month_cos'] = np.cos(data['month_code'] * (2 * np.pi / 12))"
   ]
  },
  {
   "cell_type": "code",
   "execution_count": 64,
   "id": "ff29e8d9",
   "metadata": {
    "colab": {
     "base_uri": "https://localhost:8080/",
     "height": 423
    },
    "id": "ff29e8d9",
    "outputId": "316d6cd3-fa87-4cf8-87ab-59cf5bd4fbb7"
   },
   "outputs": [
    {
     "data": {
      "text/html": [
       "<div>\n",
       "<style scoped>\n",
       "    .dataframe tbody tr th:only-of-type {\n",
       "        vertical-align: middle;\n",
       "    }\n",
       "\n",
       "    .dataframe tbody tr th {\n",
       "        vertical-align: top;\n",
       "    }\n",
       "\n",
       "    .dataframe thead th {\n",
       "        text-align: right;\n",
       "    }\n",
       "</style>\n",
       "<table border=\"1\" class=\"dataframe\">\n",
       "  <thead>\n",
       "    <tr style=\"text-align: right;\">\n",
       "      <th></th>\n",
       "      <th>day</th>\n",
       "      <th>month</th>\n",
       "      <th>leap_year</th>\n",
       "      <th>decade</th>\n",
       "      <th>date</th>\n",
       "      <th>date_timestamp</th>\n",
       "      <th>day_code</th>\n",
       "      <th>day_sin</th>\n",
       "      <th>day_cos</th>\n",
       "      <th>month_code</th>\n",
       "      <th>month_sin</th>\n",
       "      <th>month_cos</th>\n",
       "    </tr>\n",
       "  </thead>\n",
       "  <tbody>\n",
       "    <tr>\n",
       "      <th>0</th>\n",
       "      <td>WED</td>\n",
       "      <td>JAN</td>\n",
       "      <td>0.0</td>\n",
       "      <td>180</td>\n",
       "      <td>1800-01-01</td>\n",
       "      <td>-5.364662e+09</td>\n",
       "      <td>4</td>\n",
       "      <td>-0.433884</td>\n",
       "      <td>-0.900969</td>\n",
       "      <td>0</td>\n",
       "      <td>0.0</td>\n",
       "      <td>1.000000</td>\n",
       "    </tr>\n",
       "    <tr>\n",
       "      <th>1</th>\n",
       "      <td>THU</td>\n",
       "      <td>JAN</td>\n",
       "      <td>0.0</td>\n",
       "      <td>180</td>\n",
       "      <td>1801-01-01</td>\n",
       "      <td>-5.333126e+09</td>\n",
       "      <td>5</td>\n",
       "      <td>-0.974928</td>\n",
       "      <td>-0.222521</td>\n",
       "      <td>0</td>\n",
       "      <td>0.0</td>\n",
       "      <td>1.000000</td>\n",
       "    </tr>\n",
       "    <tr>\n",
       "      <th>2</th>\n",
       "      <td>FRI</td>\n",
       "      <td>JAN</td>\n",
       "      <td>0.0</td>\n",
       "      <td>180</td>\n",
       "      <td>1802-01-01</td>\n",
       "      <td>-5.301590e+09</td>\n",
       "      <td>6</td>\n",
       "      <td>-0.781831</td>\n",
       "      <td>0.623490</td>\n",
       "      <td>0</td>\n",
       "      <td>0.0</td>\n",
       "      <td>1.000000</td>\n",
       "    </tr>\n",
       "    <tr>\n",
       "      <th>3</th>\n",
       "      <td>SAT</td>\n",
       "      <td>JAN</td>\n",
       "      <td>0.0</td>\n",
       "      <td>180</td>\n",
       "      <td>1803-01-01</td>\n",
       "      <td>-5.270054e+09</td>\n",
       "      <td>0</td>\n",
       "      <td>0.000000</td>\n",
       "      <td>1.000000</td>\n",
       "      <td>0</td>\n",
       "      <td>0.0</td>\n",
       "      <td>1.000000</td>\n",
       "    </tr>\n",
       "    <tr>\n",
       "      <th>4</th>\n",
       "      <td>SUN</td>\n",
       "      <td>JAN</td>\n",
       "      <td>1.0</td>\n",
       "      <td>180</td>\n",
       "      <td>1804-01-01</td>\n",
       "      <td>-5.238518e+09</td>\n",
       "      <td>1</td>\n",
       "      <td>0.781831</td>\n",
       "      <td>0.623490</td>\n",
       "      <td>0</td>\n",
       "      <td>0.0</td>\n",
       "      <td>1.000000</td>\n",
       "    </tr>\n",
       "    <tr>\n",
       "      <th>...</th>\n",
       "      <td>...</td>\n",
       "      <td>...</td>\n",
       "      <td>...</td>\n",
       "      <td>...</td>\n",
       "      <td>...</td>\n",
       "      <td>...</td>\n",
       "      <td>...</td>\n",
       "      <td>...</td>\n",
       "      <td>...</td>\n",
       "      <td>...</td>\n",
       "      <td>...</td>\n",
       "      <td>...</td>\n",
       "    </tr>\n",
       "    <tr>\n",
       "      <th>146457</th>\n",
       "      <td>SAT</td>\n",
       "      <td>DEC</td>\n",
       "      <td>1.0</td>\n",
       "      <td>219</td>\n",
       "      <td>2196-12-31</td>\n",
       "      <td>7.163424e+09</td>\n",
       "      <td>0</td>\n",
       "      <td>0.000000</td>\n",
       "      <td>1.000000</td>\n",
       "      <td>11</td>\n",
       "      <td>-0.5</td>\n",
       "      <td>0.866025</td>\n",
       "    </tr>\n",
       "    <tr>\n",
       "      <th>146458</th>\n",
       "      <td>SUN</td>\n",
       "      <td>DEC</td>\n",
       "      <td>0.0</td>\n",
       "      <td>219</td>\n",
       "      <td>2197-12-31</td>\n",
       "      <td>7.194960e+09</td>\n",
       "      <td>1</td>\n",
       "      <td>0.781831</td>\n",
       "      <td>0.623490</td>\n",
       "      <td>11</td>\n",
       "      <td>-0.5</td>\n",
       "      <td>0.866025</td>\n",
       "    </tr>\n",
       "    <tr>\n",
       "      <th>146459</th>\n",
       "      <td>MON</td>\n",
       "      <td>DEC</td>\n",
       "      <td>0.0</td>\n",
       "      <td>219</td>\n",
       "      <td>2198-12-31</td>\n",
       "      <td>7.226496e+09</td>\n",
       "      <td>2</td>\n",
       "      <td>0.974928</td>\n",
       "      <td>-0.222521</td>\n",
       "      <td>11</td>\n",
       "      <td>-0.5</td>\n",
       "      <td>0.866025</td>\n",
       "    </tr>\n",
       "    <tr>\n",
       "      <th>146460</th>\n",
       "      <td>TUE</td>\n",
       "      <td>DEC</td>\n",
       "      <td>0.0</td>\n",
       "      <td>219</td>\n",
       "      <td>2199-12-31</td>\n",
       "      <td>7.258032e+09</td>\n",
       "      <td>3</td>\n",
       "      <td>0.433884</td>\n",
       "      <td>-0.900969</td>\n",
       "      <td>11</td>\n",
       "      <td>-0.5</td>\n",
       "      <td>0.866025</td>\n",
       "    </tr>\n",
       "    <tr>\n",
       "      <th>146461</th>\n",
       "      <td>WED</td>\n",
       "      <td>DEC</td>\n",
       "      <td>0.0</td>\n",
       "      <td>220</td>\n",
       "      <td>2200-12-31</td>\n",
       "      <td>7.289568e+09</td>\n",
       "      <td>4</td>\n",
       "      <td>-0.433884</td>\n",
       "      <td>-0.900969</td>\n",
       "      <td>11</td>\n",
       "      <td>-0.5</td>\n",
       "      <td>0.866025</td>\n",
       "    </tr>\n",
       "  </tbody>\n",
       "</table>\n",
       "<p>146462 rows × 12 columns</p>\n",
       "</div>"
      ],
      "text/plain": [
       "        day month  leap_year  decade       date  date_timestamp  day_code  \\\n",
       "0       WED   JAN        0.0     180 1800-01-01   -5.364662e+09         4   \n",
       "1       THU   JAN        0.0     180 1801-01-01   -5.333126e+09         5   \n",
       "2       FRI   JAN        0.0     180 1802-01-01   -5.301590e+09         6   \n",
       "3       SAT   JAN        0.0     180 1803-01-01   -5.270054e+09         0   \n",
       "4       SUN   JAN        1.0     180 1804-01-01   -5.238518e+09         1   \n",
       "...     ...   ...        ...     ...        ...             ...       ...   \n",
       "146457  SAT   DEC        1.0     219 2196-12-31    7.163424e+09         0   \n",
       "146458  SUN   DEC        0.0     219 2197-12-31    7.194960e+09         1   \n",
       "146459  MON   DEC        0.0     219 2198-12-31    7.226496e+09         2   \n",
       "146460  TUE   DEC        0.0     219 2199-12-31    7.258032e+09         3   \n",
       "146461  WED   DEC        0.0     220 2200-12-31    7.289568e+09         4   \n",
       "\n",
       "         day_sin   day_cos  month_code  month_sin  month_cos  \n",
       "0      -0.433884 -0.900969           0        0.0   1.000000  \n",
       "1      -0.974928 -0.222521           0        0.0   1.000000  \n",
       "2      -0.781831  0.623490           0        0.0   1.000000  \n",
       "3       0.000000  1.000000           0        0.0   1.000000  \n",
       "4       0.781831  0.623490           0        0.0   1.000000  \n",
       "...          ...       ...         ...        ...        ...  \n",
       "146457  0.000000  1.000000          11       -0.5   0.866025  \n",
       "146458  0.781831  0.623490          11       -0.5   0.866025  \n",
       "146459  0.974928 -0.222521          11       -0.5   0.866025  \n",
       "146460  0.433884 -0.900969          11       -0.5   0.866025  \n",
       "146461 -0.433884 -0.900969          11       -0.5   0.866025  \n",
       "\n",
       "[146462 rows x 12 columns]"
      ]
     },
     "execution_count": 64,
     "metadata": {},
     "output_type": "execute_result"
    }
   ],
   "source": [
    "data"
   ]
  },
  {
   "cell_type": "code",
   "execution_count": 65,
   "id": "8Ct1SLG-WZJU",
   "metadata": {
    "id": "8Ct1SLG-WZJU"
   },
   "outputs": [],
   "source": [
    "# alpha = len(data.decade.unique())\n",
    "alpha = (data.decade.iloc[-1] - data.decade.iloc[0]) + 1\n",
    "\n",
    "data['decade_sin'] = np.sin(data['decade'] * (2 * np.pi / alpha))\n",
    "data['decade_cos'] = np.cos(data['decade'] * (2 * np.pi / alpha))"
   ]
  },
  {
   "cell_type": "code",
   "execution_count": 66,
   "id": "r5bhYe0HXFj0",
   "metadata": {
    "colab": {
     "base_uri": "https://localhost:8080/",
     "height": 423
    },
    "id": "r5bhYe0HXFj0",
    "outputId": "dea9a6a3-4f59-4bc1-b45d-b4661ad7a635"
   },
   "outputs": [
    {
     "data": {
      "text/html": [
       "<div>\n",
       "<style scoped>\n",
       "    .dataframe tbody tr th:only-of-type {\n",
       "        vertical-align: middle;\n",
       "    }\n",
       "\n",
       "    .dataframe tbody tr th {\n",
       "        vertical-align: top;\n",
       "    }\n",
       "\n",
       "    .dataframe thead th {\n",
       "        text-align: right;\n",
       "    }\n",
       "</style>\n",
       "<table border=\"1\" class=\"dataframe\">\n",
       "  <thead>\n",
       "    <tr style=\"text-align: right;\">\n",
       "      <th></th>\n",
       "      <th>day</th>\n",
       "      <th>month</th>\n",
       "      <th>leap_year</th>\n",
       "      <th>decade</th>\n",
       "      <th>date</th>\n",
       "      <th>date_timestamp</th>\n",
       "      <th>day_code</th>\n",
       "      <th>day_sin</th>\n",
       "      <th>day_cos</th>\n",
       "      <th>month_code</th>\n",
       "      <th>month_sin</th>\n",
       "      <th>month_cos</th>\n",
       "      <th>decade_sin</th>\n",
       "      <th>decade_cos</th>\n",
       "    </tr>\n",
       "  </thead>\n",
       "  <tbody>\n",
       "    <tr>\n",
       "      <th>0</th>\n",
       "      <td>WED</td>\n",
       "      <td>JAN</td>\n",
       "      <td>0.0</td>\n",
       "      <td>180</td>\n",
       "      <td>1800-01-01</td>\n",
       "      <td>-5.364662e+09</td>\n",
       "      <td>4</td>\n",
       "      <td>-0.433884</td>\n",
       "      <td>-0.900969</td>\n",
       "      <td>0</td>\n",
       "      <td>0.0</td>\n",
       "      <td>1.000000</td>\n",
       "      <td>0.636242</td>\n",
       "      <td>-0.771489</td>\n",
       "    </tr>\n",
       "    <tr>\n",
       "      <th>1</th>\n",
       "      <td>THU</td>\n",
       "      <td>JAN</td>\n",
       "      <td>0.0</td>\n",
       "      <td>180</td>\n",
       "      <td>1801-01-01</td>\n",
       "      <td>-5.333126e+09</td>\n",
       "      <td>5</td>\n",
       "      <td>-0.974928</td>\n",
       "      <td>-0.222521</td>\n",
       "      <td>0</td>\n",
       "      <td>0.0</td>\n",
       "      <td>1.000000</td>\n",
       "      <td>0.636242</td>\n",
       "      <td>-0.771489</td>\n",
       "    </tr>\n",
       "    <tr>\n",
       "      <th>2</th>\n",
       "      <td>FRI</td>\n",
       "      <td>JAN</td>\n",
       "      <td>0.0</td>\n",
       "      <td>180</td>\n",
       "      <td>1802-01-01</td>\n",
       "      <td>-5.301590e+09</td>\n",
       "      <td>6</td>\n",
       "      <td>-0.781831</td>\n",
       "      <td>0.623490</td>\n",
       "      <td>0</td>\n",
       "      <td>0.0</td>\n",
       "      <td>1.000000</td>\n",
       "      <td>0.636242</td>\n",
       "      <td>-0.771489</td>\n",
       "    </tr>\n",
       "    <tr>\n",
       "      <th>3</th>\n",
       "      <td>SAT</td>\n",
       "      <td>JAN</td>\n",
       "      <td>0.0</td>\n",
       "      <td>180</td>\n",
       "      <td>1803-01-01</td>\n",
       "      <td>-5.270054e+09</td>\n",
       "      <td>0</td>\n",
       "      <td>0.000000</td>\n",
       "      <td>1.000000</td>\n",
       "      <td>0</td>\n",
       "      <td>0.0</td>\n",
       "      <td>1.000000</td>\n",
       "      <td>0.636242</td>\n",
       "      <td>-0.771489</td>\n",
       "    </tr>\n",
       "    <tr>\n",
       "      <th>4</th>\n",
       "      <td>SUN</td>\n",
       "      <td>JAN</td>\n",
       "      <td>1.0</td>\n",
       "      <td>180</td>\n",
       "      <td>1804-01-01</td>\n",
       "      <td>-5.238518e+09</td>\n",
       "      <td>1</td>\n",
       "      <td>0.781831</td>\n",
       "      <td>0.623490</td>\n",
       "      <td>0</td>\n",
       "      <td>0.0</td>\n",
       "      <td>1.000000</td>\n",
       "      <td>0.636242</td>\n",
       "      <td>-0.771489</td>\n",
       "    </tr>\n",
       "    <tr>\n",
       "      <th>...</th>\n",
       "      <td>...</td>\n",
       "      <td>...</td>\n",
       "      <td>...</td>\n",
       "      <td>...</td>\n",
       "      <td>...</td>\n",
       "      <td>...</td>\n",
       "      <td>...</td>\n",
       "      <td>...</td>\n",
       "      <td>...</td>\n",
       "      <td>...</td>\n",
       "      <td>...</td>\n",
       "      <td>...</td>\n",
       "      <td>...</td>\n",
       "      <td>...</td>\n",
       "    </tr>\n",
       "    <tr>\n",
       "      <th>146457</th>\n",
       "      <td>SAT</td>\n",
       "      <td>DEC</td>\n",
       "      <td>1.0</td>\n",
       "      <td>219</td>\n",
       "      <td>2196-12-31</td>\n",
       "      <td>7.163424e+09</td>\n",
       "      <td>0</td>\n",
       "      <td>0.000000</td>\n",
       "      <td>1.000000</td>\n",
       "      <td>11</td>\n",
       "      <td>-0.5</td>\n",
       "      <td>0.866025</td>\n",
       "      <td>0.839365</td>\n",
       "      <td>-0.543568</td>\n",
       "    </tr>\n",
       "    <tr>\n",
       "      <th>146458</th>\n",
       "      <td>SUN</td>\n",
       "      <td>DEC</td>\n",
       "      <td>0.0</td>\n",
       "      <td>219</td>\n",
       "      <td>2197-12-31</td>\n",
       "      <td>7.194960e+09</td>\n",
       "      <td>1</td>\n",
       "      <td>0.781831</td>\n",
       "      <td>0.623490</td>\n",
       "      <td>11</td>\n",
       "      <td>-0.5</td>\n",
       "      <td>0.866025</td>\n",
       "      <td>0.839365</td>\n",
       "      <td>-0.543568</td>\n",
       "    </tr>\n",
       "    <tr>\n",
       "      <th>146459</th>\n",
       "      <td>MON</td>\n",
       "      <td>DEC</td>\n",
       "      <td>0.0</td>\n",
       "      <td>219</td>\n",
       "      <td>2198-12-31</td>\n",
       "      <td>7.226496e+09</td>\n",
       "      <td>2</td>\n",
       "      <td>0.974928</td>\n",
       "      <td>-0.222521</td>\n",
       "      <td>11</td>\n",
       "      <td>-0.5</td>\n",
       "      <td>0.866025</td>\n",
       "      <td>0.839365</td>\n",
       "      <td>-0.543568</td>\n",
       "    </tr>\n",
       "    <tr>\n",
       "      <th>146460</th>\n",
       "      <td>TUE</td>\n",
       "      <td>DEC</td>\n",
       "      <td>0.0</td>\n",
       "      <td>219</td>\n",
       "      <td>2199-12-31</td>\n",
       "      <td>7.258032e+09</td>\n",
       "      <td>3</td>\n",
       "      <td>0.433884</td>\n",
       "      <td>-0.900969</td>\n",
       "      <td>11</td>\n",
       "      <td>-0.5</td>\n",
       "      <td>0.866025</td>\n",
       "      <td>0.839365</td>\n",
       "      <td>-0.543568</td>\n",
       "    </tr>\n",
       "    <tr>\n",
       "      <th>146461</th>\n",
       "      <td>WED</td>\n",
       "      <td>DEC</td>\n",
       "      <td>0.0</td>\n",
       "      <td>220</td>\n",
       "      <td>2200-12-31</td>\n",
       "      <td>7.289568e+09</td>\n",
       "      <td>4</td>\n",
       "      <td>-0.433884</td>\n",
       "      <td>-0.900969</td>\n",
       "      <td>11</td>\n",
       "      <td>-0.5</td>\n",
       "      <td>0.866025</td>\n",
       "      <td>0.746553</td>\n",
       "      <td>-0.665326</td>\n",
       "    </tr>\n",
       "  </tbody>\n",
       "</table>\n",
       "<p>146462 rows × 14 columns</p>\n",
       "</div>"
      ],
      "text/plain": [
       "        day month  leap_year  decade       date  date_timestamp  day_code  \\\n",
       "0       WED   JAN        0.0     180 1800-01-01   -5.364662e+09         4   \n",
       "1       THU   JAN        0.0     180 1801-01-01   -5.333126e+09         5   \n",
       "2       FRI   JAN        0.0     180 1802-01-01   -5.301590e+09         6   \n",
       "3       SAT   JAN        0.0     180 1803-01-01   -5.270054e+09         0   \n",
       "4       SUN   JAN        1.0     180 1804-01-01   -5.238518e+09         1   \n",
       "...     ...   ...        ...     ...        ...             ...       ...   \n",
       "146457  SAT   DEC        1.0     219 2196-12-31    7.163424e+09         0   \n",
       "146458  SUN   DEC        0.0     219 2197-12-31    7.194960e+09         1   \n",
       "146459  MON   DEC        0.0     219 2198-12-31    7.226496e+09         2   \n",
       "146460  TUE   DEC        0.0     219 2199-12-31    7.258032e+09         3   \n",
       "146461  WED   DEC        0.0     220 2200-12-31    7.289568e+09         4   \n",
       "\n",
       "         day_sin   day_cos  month_code  month_sin  month_cos  decade_sin  \\\n",
       "0      -0.433884 -0.900969           0        0.0   1.000000    0.636242   \n",
       "1      -0.974928 -0.222521           0        0.0   1.000000    0.636242   \n",
       "2      -0.781831  0.623490           0        0.0   1.000000    0.636242   \n",
       "3       0.000000  1.000000           0        0.0   1.000000    0.636242   \n",
       "4       0.781831  0.623490           0        0.0   1.000000    0.636242   \n",
       "...          ...       ...         ...        ...        ...         ...   \n",
       "146457  0.000000  1.000000          11       -0.5   0.866025    0.839365   \n",
       "146458  0.781831  0.623490          11       -0.5   0.866025    0.839365   \n",
       "146459  0.974928 -0.222521          11       -0.5   0.866025    0.839365   \n",
       "146460  0.433884 -0.900969          11       -0.5   0.866025    0.839365   \n",
       "146461 -0.433884 -0.900969          11       -0.5   0.866025    0.746553   \n",
       "\n",
       "        decade_cos  \n",
       "0        -0.771489  \n",
       "1        -0.771489  \n",
       "2        -0.771489  \n",
       "3        -0.771489  \n",
       "4        -0.771489  \n",
       "...            ...  \n",
       "146457   -0.543568  \n",
       "146458   -0.543568  \n",
       "146459   -0.543568  \n",
       "146460   -0.543568  \n",
       "146461   -0.665326  \n",
       "\n",
       "[146462 rows x 14 columns]"
      ]
     },
     "execution_count": 66,
     "metadata": {},
     "output_type": "execute_result"
    }
   ],
   "source": [
    "data"
   ]
  },
  {
   "cell_type": "code",
   "execution_count": 67,
   "id": "ce4b5af2",
   "metadata": {
    "colab": {
     "base_uri": "https://localhost:8080/"
    },
    "id": "ce4b5af2",
    "outputId": "70070121-4846-4372-f509-1d533bd0fed1"
   },
   "outputs": [
    {
     "data": {
      "text/plain": [
       "day                       object\n",
       "month                     object\n",
       "leap_year                float64\n",
       "decade                     int64\n",
       "date              datetime64[ns]\n",
       "date_timestamp           float64\n",
       "day_code                    int8\n",
       "day_sin                  float64\n",
       "day_cos                  float64\n",
       "month_code                  int8\n",
       "month_sin                float64\n",
       "month_cos                float64\n",
       "decade_sin               float64\n",
       "decade_cos               float64\n",
       "dtype: object"
      ]
     },
     "execution_count": 67,
     "metadata": {},
     "output_type": "execute_result"
    }
   ],
   "source": [
    "data.dtypes"
   ]
  },
  {
   "cell_type": "code",
   "execution_count": 68,
   "id": "43e97db1",
   "metadata": {
    "colab": {
     "base_uri": "https://localhost:8080/"
    },
    "id": "43e97db1",
    "outputId": "6c7b5c83-08d8-436d-9dca-def3cb9b30b8"
   },
   "outputs": [
    {
     "data": {
      "text/plain": [
       "(-0.9749279121818236, 0.9749279121818236)"
      ]
     },
     "execution_count": 68,
     "metadata": {},
     "output_type": "execute_result"
    }
   ],
   "source": [
    "data.day_sin.min(), data.day_sin.max()"
   ]
  },
  {
   "cell_type": "code",
   "execution_count": 69,
   "id": "9b1542f4",
   "metadata": {
    "colab": {
     "base_uri": "https://localhost:8080/"
    },
    "id": "9b1542f4",
    "outputId": "f37d9c8a-05b1-4d83-d87b-06ac84b8d08c"
   },
   "outputs": [
    {
     "data": {
      "text/plain": [
       "(-0.9009688679024191, 1.0)"
      ]
     },
     "execution_count": 69,
     "metadata": {},
     "output_type": "execute_result"
    }
   ],
   "source": [
    "data.day_cos.min(), data.day_cos.max()"
   ]
  },
  {
   "cell_type": "code",
   "execution_count": null,
   "id": "38e17817",
   "metadata": {
    "id": "38e17817"
   },
   "outputs": [],
   "source": []
  },
  {
   "cell_type": "code",
   "execution_count": 70,
   "id": "0b97f147",
   "metadata": {
    "colab": {
     "base_uri": "https://localhost:8080/"
    },
    "id": "0b97f147",
    "outputId": "8f76be21-e975-4ff3-baa4-ece31e6a1811"
   },
   "outputs": [
    {
     "data": {
      "text/plain": [
       "(-1.0, 1.0)"
      ]
     },
     "execution_count": 70,
     "metadata": {},
     "output_type": "execute_result"
    }
   ],
   "source": [
    "data.month_sin.min(), data.month_sin.max()"
   ]
  },
  {
   "cell_type": "code",
   "execution_count": 71,
   "id": "b2f61859",
   "metadata": {
    "colab": {
     "base_uri": "https://localhost:8080/"
    },
    "id": "b2f61859",
    "outputId": "b27b7a48-b55a-462a-f413-7a1d950b923e"
   },
   "outputs": [
    {
     "data": {
      "text/plain": [
       "(-1.0, 1.0)"
      ]
     },
     "execution_count": 71,
     "metadata": {},
     "output_type": "execute_result"
    }
   ],
   "source": [
    "data.month_cos.min(), data.month_cos.max()"
   ]
  },
  {
   "cell_type": "code",
   "execution_count": null,
   "id": "e55cd9cc",
   "metadata": {
    "id": "e55cd9cc"
   },
   "outputs": [],
   "source": []
  },
  {
   "cell_type": "code",
   "execution_count": 72,
   "id": "30932af1",
   "metadata": {
    "colab": {
     "base_uri": "https://localhost:8080/"
    },
    "id": "30932af1",
    "outputId": "23655987-4d94-47c9-9fb9-c4648f77a13f"
   },
   "outputs": [
    {
     "data": {
      "text/plain": [
       "(0.0, 1.0)"
      ]
     },
     "execution_count": 72,
     "metadata": {},
     "output_type": "execute_result"
    }
   ],
   "source": [
    "data.leap_year.min(), data.leap_year.max()"
   ]
  },
  {
   "cell_type": "code",
   "execution_count": null,
   "id": "44a3f72f",
   "metadata": {
    "id": "44a3f72f"
   },
   "outputs": [],
   "source": []
  },
  {
   "cell_type": "code",
   "execution_count": 73,
   "id": "d93f9475",
   "metadata": {
    "colab": {
     "base_uri": "https://localhost:8080/"
    },
    "id": "d93f9475",
    "outputId": "8745498d-7691-4b18-ecab-5eaed8556a21"
   },
   "outputs": [
    {
     "data": {
      "text/plain": [
       "(-0.9992661810508099, 0.9992661810508101)"
      ]
     },
     "execution_count": 73,
     "metadata": {},
     "output_type": "execute_result"
    }
   ],
   "source": [
    "data.decade_sin.min(), data.decade_sin.max()"
   ]
  },
  {
   "cell_type": "code",
   "execution_count": 74,
   "id": "761fbc43",
   "metadata": {
    "colab": {
     "base_uri": "https://localhost:8080/"
    },
    "id": "761fbc43",
    "outputId": "efba92d5-cc8a-486a-98ea-75cf351fffec"
   },
   "outputs": [
    {
     "data": {
      "text/plain": [
       "(-0.9970658011837407, 1.0)"
      ]
     },
     "execution_count": 74,
     "metadata": {},
     "output_type": "execute_result"
    }
   ],
   "source": [
    "data.decade_cos.min(), data.decade_cos.max()"
   ]
  },
  {
   "cell_type": "code",
   "execution_count": null,
   "id": "f0c81d81",
   "metadata": {
    "id": "f0c81d81"
   },
   "outputs": [],
   "source": []
  },
  {
   "cell_type": "code",
   "execution_count": 75,
   "id": "c8d45d67",
   "metadata": {
    "colab": {
     "base_uri": "https://localhost:8080/"
    },
    "id": "c8d45d67",
    "outputId": "41ed2705-1f05-4cd9-beaf-f30030bf07d1"
   },
   "outputs": [
    {
     "data": {
      "text/plain": [
       "(-5364662400.0, 7289568000.0)"
      ]
     },
     "execution_count": 75,
     "metadata": {},
     "output_type": "execute_result"
    }
   ],
   "source": [
    "data.date_timestamp.min(), data.date_timestamp.max()"
   ]
  },
  {
   "cell_type": "code",
   "execution_count": 76,
   "id": "ddf343dd",
   "metadata": {
    "colab": {
     "base_uri": "https://localhost:8080/"
    },
    "id": "ddf343dd",
    "outputId": "ae2b8731-3ff9-42b3-87d4-3c7b17806c11"
   },
   "outputs": [
    {
     "data": {
      "text/plain": [
       "(-0.7359369444115207, 1.0)"
      ]
     },
     "execution_count": 76,
     "metadata": {},
     "output_type": "execute_result"
    }
   ],
   "source": [
    "data.date_timestamp.min() / data.date_timestamp.max(), data.date_timestamp.max() / data.date_timestamp.max()"
   ]
  },
  {
   "cell_type": "code",
   "execution_count": null,
   "id": "b93d3204",
   "metadata": {
    "id": "b93d3204"
   },
   "outputs": [],
   "source": []
  },
  {
   "cell_type": "code",
   "execution_count": null,
   "id": "31214f44",
   "metadata": {
    "id": "31214f44"
   },
   "outputs": [],
   "source": []
  },
  {
   "cell_type": "code",
   "execution_count": 308,
   "id": "fb165704",
   "metadata": {
    "id": "fb165704"
   },
   "outputs": [],
   "source": []
  },
  {
   "cell_type": "code",
   "execution_count": null,
   "id": "b262c952",
   "metadata": {
    "id": "b262c952"
   },
   "outputs": [],
   "source": []
  },
  {
   "cell_type": "code",
   "execution_count": 78,
   "id": "79cd753c",
   "metadata": {
    "colab": {
     "base_uri": "https://localhost:8080/"
    },
    "id": "79cd753c",
    "outputId": "cfe1a231-10a0-4885-8f8a-ee38a260361f"
   },
   "outputs": [
    {
     "data": {
      "text/plain": [
       "(146462,)"
      ]
     },
     "execution_count": 78,
     "metadata": {},
     "output_type": "execute_result"
    }
   ],
   "source": [
    "data.date_timestamp.shape"
   ]
  },
  {
   "cell_type": "code",
   "execution_count": 79,
   "id": "29ef6dcf",
   "metadata": {
    "id": "29ef6dcf"
   },
   "outputs": [],
   "source": [
    "date_timestamp = data.date_timestamp.values.reshape(-1, 1)\n",
    "# decade         = data.decade.values.reshape(-1, 1)"
   ]
  },
  {
   "cell_type": "code",
   "execution_count": 80,
   "id": "a626a1ad",
   "metadata": {
    "colab": {
     "base_uri": "https://localhost:8080/"
    },
    "id": "a626a1ad",
    "outputId": "899be80f-e9a9-4556-c2d9-faf7698ff977"
   },
   "outputs": [
    {
     "data": {
      "text/plain": [
       "(146462, 1)"
      ]
     },
     "execution_count": 80,
     "metadata": {},
     "output_type": "execute_result"
    }
   ],
   "source": [
    "date_timestamp.shape"
   ]
  },
  {
   "cell_type": "code",
   "execution_count": 81,
   "id": "7d4252b3",
   "metadata": {
    "colab": {
     "base_uri": "https://localhost:8080/"
    },
    "id": "7d4252b3",
    "outputId": "b5e1605e-fff1-49e5-9476-0f22267ea4c1"
   },
   "outputs": [
    {
     "data": {
      "text/plain": [
       "array([[-5.3646624e+09],\n",
       "       [-5.3331264e+09],\n",
       "       [-5.3015904e+09],\n",
       "       ...,\n",
       "       [ 7.2264960e+09],\n",
       "       [ 7.2580320e+09],\n",
       "       [ 7.2895680e+09]])"
      ]
     },
     "execution_count": 81,
     "metadata": {},
     "output_type": "execute_result"
    }
   ],
   "source": [
    "date_timestamp"
   ]
  },
  {
   "cell_type": "code",
   "execution_count": 82,
   "id": "0d8f5b90",
   "metadata": {
    "id": "0d8f5b90"
   },
   "outputs": [],
   "source": [
    "# decade"
   ]
  },
  {
   "cell_type": "code",
   "execution_count": 83,
   "id": "0dcec46c",
   "metadata": {
    "id": "0dcec46c"
   },
   "outputs": [],
   "source": [
    "# decade_scaler         = RobustScaler()\n",
    "date_timestamp_scaler = RobustScaler()\n",
    "\n",
    "\n",
    "# decade_scaled         = decade_scaler.fit_transform(decade)\n",
    "date_timestamp_scaled = date_timestamp_scaler.fit_transform(date_timestamp)\n"
   ]
  },
  {
   "cell_type": "code",
   "execution_count": null,
   "id": "2f549113",
   "metadata": {
    "id": "2f549113"
   },
   "outputs": [],
   "source": []
  },
  {
   "cell_type": "code",
   "execution_count": 84,
   "id": "c678d2c7",
   "metadata": {
    "id": "c678d2c7"
   },
   "outputs": [],
   "source": [
    "# np.apply_over_axes(np.mean,X_scaled,0), np.apply_over_axes(np.var,X_scaled,0)"
   ]
  },
  {
   "cell_type": "code",
   "execution_count": 85,
   "id": "77d24547",
   "metadata": {
    "id": "77d24547"
   },
   "outputs": [],
   "source": [
    "# np.apply_over_axes(np.median,X_scaled,0)"
   ]
  },
  {
   "cell_type": "code",
   "execution_count": 86,
   "id": "ea039086",
   "metadata": {
    "id": "ea039086"
   },
   "outputs": [],
   "source": [
    "# X.min(), X.max()"
   ]
  },
  {
   "cell_type": "code",
   "execution_count": 87,
   "id": "6e659492",
   "metadata": {
    "id": "6e659492"
   },
   "outputs": [],
   "source": [
    "# X_scaled.min(), X_scaled.max()"
   ]
  },
  {
   "cell_type": "code",
   "execution_count": null,
   "id": "c5012047",
   "metadata": {
    "id": "c5012047"
   },
   "outputs": [],
   "source": []
  },
  {
   "cell_type": "code",
   "execution_count": 88,
   "id": "3c175024",
   "metadata": {
    "id": "3c175024"
   },
   "outputs": [],
   "source": [
    "# decade.min(), decade.max()"
   ]
  },
  {
   "cell_type": "code",
   "execution_count": 89,
   "id": "2b5c6862",
   "metadata": {
    "id": "2b5c6862"
   },
   "outputs": [],
   "source": [
    "# decade_scaled.min(), decade_scaled.max()"
   ]
  },
  {
   "cell_type": "code",
   "execution_count": null,
   "id": "978a4fbd",
   "metadata": {
    "id": "978a4fbd"
   },
   "outputs": [],
   "source": []
  },
  {
   "cell_type": "code",
   "execution_count": 90,
   "id": "150ed946",
   "metadata": {
    "colab": {
     "base_uri": "https://localhost:8080/"
    },
    "id": "150ed946",
    "outputId": "4337c103-69a8-4b9d-a577-0dcec16c0722"
   },
   "outputs": [
    {
     "data": {
      "text/plain": [
       "(-5364662400.0, 7289568000.0)"
      ]
     },
     "execution_count": 90,
     "metadata": {},
     "output_type": "execute_result"
    }
   ],
   "source": [
    "date_timestamp.min(), date_timestamp.max()"
   ]
  },
  {
   "cell_type": "code",
   "execution_count": 91,
   "id": "199137c1",
   "metadata": {
    "colab": {
     "base_uri": "https://localhost:8080/"
    },
    "id": "199137c1",
    "outputId": "27ad12b5-9fb5-49a3-d542-34d5c5481bd9"
   },
   "outputs": [
    {
     "data": {
      "text/plain": [
       "(-1.0, 1.0)"
      ]
     },
     "execution_count": 91,
     "metadata": {},
     "output_type": "execute_result"
    }
   ],
   "source": [
    "date_timestamp_scaled.min(), date_timestamp_scaled.max()"
   ]
  },
  {
   "cell_type": "code",
   "execution_count": null,
   "id": "5c6d1a60",
   "metadata": {
    "id": "5c6d1a60"
   },
   "outputs": [],
   "source": []
  },
  {
   "cell_type": "code",
   "execution_count": 92,
   "id": "6ff5c4a2",
   "metadata": {
    "id": "6ff5c4a2"
   },
   "outputs": [],
   "source": [
    "# data['decade_scaled']         = decade_scaled\n",
    "data['date_timestamp_scaled'] = date_timestamp_scaled"
   ]
  },
  {
   "cell_type": "code",
   "execution_count": 93,
   "id": "80a4e468",
   "metadata": {
    "id": "80a4e468"
   },
   "outputs": [],
   "source": [
    "# test = np.array([0.95]).reshape(-1, 1)\n",
    "# test"
   ]
  },
  {
   "cell_type": "code",
   "execution_count": 94,
   "id": "fbfa40a1",
   "metadata": {
    "id": "fbfa40a1"
   },
   "outputs": [],
   "source": [
    "# scaler.inverse_transform(test)"
   ]
  },
  {
   "cell_type": "code",
   "execution_count": null,
   "id": "22b48cdb",
   "metadata": {
    "id": "22b48cdb"
   },
   "outputs": [],
   "source": []
  },
  {
   "cell_type": "code",
   "execution_count": 95,
   "id": "0738d632",
   "metadata": {
    "colab": {
     "base_uri": "https://localhost:8080/",
     "height": 467
    },
    "id": "0738d632",
    "outputId": "ad189fef-841c-4d9d-e92f-4f5f8adc7bfe"
   },
   "outputs": [
    {
     "data": {
      "text/html": [
       "<div>\n",
       "<style scoped>\n",
       "    .dataframe tbody tr th:only-of-type {\n",
       "        vertical-align: middle;\n",
       "    }\n",
       "\n",
       "    .dataframe tbody tr th {\n",
       "        vertical-align: top;\n",
       "    }\n",
       "\n",
       "    .dataframe thead th {\n",
       "        text-align: right;\n",
       "    }\n",
       "</style>\n",
       "<table border=\"1\" class=\"dataframe\">\n",
       "  <thead>\n",
       "    <tr style=\"text-align: right;\">\n",
       "      <th></th>\n",
       "      <th>day</th>\n",
       "      <th>month</th>\n",
       "      <th>leap_year</th>\n",
       "      <th>decade</th>\n",
       "      <th>date</th>\n",
       "      <th>date_timestamp</th>\n",
       "      <th>day_code</th>\n",
       "      <th>day_sin</th>\n",
       "      <th>day_cos</th>\n",
       "      <th>month_code</th>\n",
       "      <th>month_sin</th>\n",
       "      <th>month_cos</th>\n",
       "      <th>decade_sin</th>\n",
       "      <th>decade_cos</th>\n",
       "      <th>date_timestamp_scaled</th>\n",
       "    </tr>\n",
       "  </thead>\n",
       "  <tbody>\n",
       "    <tr>\n",
       "      <th>0</th>\n",
       "      <td>WED</td>\n",
       "      <td>JAN</td>\n",
       "      <td>0.0</td>\n",
       "      <td>180</td>\n",
       "      <td>1800-01-01</td>\n",
       "      <td>-5.364662e+09</td>\n",
       "      <td>4</td>\n",
       "      <td>-0.433884</td>\n",
       "      <td>-0.900969</td>\n",
       "      <td>0</td>\n",
       "      <td>0.0</td>\n",
       "      <td>1.000000</td>\n",
       "      <td>0.636242</td>\n",
       "      <td>-0.771489</td>\n",
       "      <td>-1.000000</td>\n",
       "    </tr>\n",
       "    <tr>\n",
       "      <th>1</th>\n",
       "      <td>THU</td>\n",
       "      <td>JAN</td>\n",
       "      <td>0.0</td>\n",
       "      <td>180</td>\n",
       "      <td>1801-01-01</td>\n",
       "      <td>-5.333126e+09</td>\n",
       "      <td>5</td>\n",
       "      <td>-0.974928</td>\n",
       "      <td>-0.222521</td>\n",
       "      <td>0</td>\n",
       "      <td>0.0</td>\n",
       "      <td>1.000000</td>\n",
       "      <td>0.636242</td>\n",
       "      <td>-0.771489</td>\n",
       "      <td>-0.995016</td>\n",
       "    </tr>\n",
       "    <tr>\n",
       "      <th>2</th>\n",
       "      <td>FRI</td>\n",
       "      <td>JAN</td>\n",
       "      <td>0.0</td>\n",
       "      <td>180</td>\n",
       "      <td>1802-01-01</td>\n",
       "      <td>-5.301590e+09</td>\n",
       "      <td>6</td>\n",
       "      <td>-0.781831</td>\n",
       "      <td>0.623490</td>\n",
       "      <td>0</td>\n",
       "      <td>0.0</td>\n",
       "      <td>1.000000</td>\n",
       "      <td>0.636242</td>\n",
       "      <td>-0.771489</td>\n",
       "      <td>-0.990031</td>\n",
       "    </tr>\n",
       "    <tr>\n",
       "      <th>3</th>\n",
       "      <td>SAT</td>\n",
       "      <td>JAN</td>\n",
       "      <td>0.0</td>\n",
       "      <td>180</td>\n",
       "      <td>1803-01-01</td>\n",
       "      <td>-5.270054e+09</td>\n",
       "      <td>0</td>\n",
       "      <td>0.000000</td>\n",
       "      <td>1.000000</td>\n",
       "      <td>0</td>\n",
       "      <td>0.0</td>\n",
       "      <td>1.000000</td>\n",
       "      <td>0.636242</td>\n",
       "      <td>-0.771489</td>\n",
       "      <td>-0.985047</td>\n",
       "    </tr>\n",
       "    <tr>\n",
       "      <th>4</th>\n",
       "      <td>SUN</td>\n",
       "      <td>JAN</td>\n",
       "      <td>1.0</td>\n",
       "      <td>180</td>\n",
       "      <td>1804-01-01</td>\n",
       "      <td>-5.238518e+09</td>\n",
       "      <td>1</td>\n",
       "      <td>0.781831</td>\n",
       "      <td>0.623490</td>\n",
       "      <td>0</td>\n",
       "      <td>0.0</td>\n",
       "      <td>1.000000</td>\n",
       "      <td>0.636242</td>\n",
       "      <td>-0.771489</td>\n",
       "      <td>-0.980063</td>\n",
       "    </tr>\n",
       "    <tr>\n",
       "      <th>...</th>\n",
       "      <td>...</td>\n",
       "      <td>...</td>\n",
       "      <td>...</td>\n",
       "      <td>...</td>\n",
       "      <td>...</td>\n",
       "      <td>...</td>\n",
       "      <td>...</td>\n",
       "      <td>...</td>\n",
       "      <td>...</td>\n",
       "      <td>...</td>\n",
       "      <td>...</td>\n",
       "      <td>...</td>\n",
       "      <td>...</td>\n",
       "      <td>...</td>\n",
       "      <td>...</td>\n",
       "    </tr>\n",
       "    <tr>\n",
       "      <th>146457</th>\n",
       "      <td>SAT</td>\n",
       "      <td>DEC</td>\n",
       "      <td>1.0</td>\n",
       "      <td>219</td>\n",
       "      <td>2196-12-31</td>\n",
       "      <td>7.163424e+09</td>\n",
       "      <td>0</td>\n",
       "      <td>0.000000</td>\n",
       "      <td>1.000000</td>\n",
       "      <td>11</td>\n",
       "      <td>-0.5</td>\n",
       "      <td>0.866025</td>\n",
       "      <td>0.839365</td>\n",
       "      <td>-0.543568</td>\n",
       "      <td>0.980063</td>\n",
       "    </tr>\n",
       "    <tr>\n",
       "      <th>146458</th>\n",
       "      <td>SUN</td>\n",
       "      <td>DEC</td>\n",
       "      <td>0.0</td>\n",
       "      <td>219</td>\n",
       "      <td>2197-12-31</td>\n",
       "      <td>7.194960e+09</td>\n",
       "      <td>1</td>\n",
       "      <td>0.781831</td>\n",
       "      <td>0.623490</td>\n",
       "      <td>11</td>\n",
       "      <td>-0.5</td>\n",
       "      <td>0.866025</td>\n",
       "      <td>0.839365</td>\n",
       "      <td>-0.543568</td>\n",
       "      <td>0.985047</td>\n",
       "    </tr>\n",
       "    <tr>\n",
       "      <th>146459</th>\n",
       "      <td>MON</td>\n",
       "      <td>DEC</td>\n",
       "      <td>0.0</td>\n",
       "      <td>219</td>\n",
       "      <td>2198-12-31</td>\n",
       "      <td>7.226496e+09</td>\n",
       "      <td>2</td>\n",
       "      <td>0.974928</td>\n",
       "      <td>-0.222521</td>\n",
       "      <td>11</td>\n",
       "      <td>-0.5</td>\n",
       "      <td>0.866025</td>\n",
       "      <td>0.839365</td>\n",
       "      <td>-0.543568</td>\n",
       "      <td>0.990031</td>\n",
       "    </tr>\n",
       "    <tr>\n",
       "      <th>146460</th>\n",
       "      <td>TUE</td>\n",
       "      <td>DEC</td>\n",
       "      <td>0.0</td>\n",
       "      <td>219</td>\n",
       "      <td>2199-12-31</td>\n",
       "      <td>7.258032e+09</td>\n",
       "      <td>3</td>\n",
       "      <td>0.433884</td>\n",
       "      <td>-0.900969</td>\n",
       "      <td>11</td>\n",
       "      <td>-0.5</td>\n",
       "      <td>0.866025</td>\n",
       "      <td>0.839365</td>\n",
       "      <td>-0.543568</td>\n",
       "      <td>0.995016</td>\n",
       "    </tr>\n",
       "    <tr>\n",
       "      <th>146461</th>\n",
       "      <td>WED</td>\n",
       "      <td>DEC</td>\n",
       "      <td>0.0</td>\n",
       "      <td>220</td>\n",
       "      <td>2200-12-31</td>\n",
       "      <td>7.289568e+09</td>\n",
       "      <td>4</td>\n",
       "      <td>-0.433884</td>\n",
       "      <td>-0.900969</td>\n",
       "      <td>11</td>\n",
       "      <td>-0.5</td>\n",
       "      <td>0.866025</td>\n",
       "      <td>0.746553</td>\n",
       "      <td>-0.665326</td>\n",
       "      <td>1.000000</td>\n",
       "    </tr>\n",
       "  </tbody>\n",
       "</table>\n",
       "<p>146462 rows × 15 columns</p>\n",
       "</div>"
      ],
      "text/plain": [
       "        day month  leap_year  decade       date  date_timestamp  day_code  \\\n",
       "0       WED   JAN        0.0     180 1800-01-01   -5.364662e+09         4   \n",
       "1       THU   JAN        0.0     180 1801-01-01   -5.333126e+09         5   \n",
       "2       FRI   JAN        0.0     180 1802-01-01   -5.301590e+09         6   \n",
       "3       SAT   JAN        0.0     180 1803-01-01   -5.270054e+09         0   \n",
       "4       SUN   JAN        1.0     180 1804-01-01   -5.238518e+09         1   \n",
       "...     ...   ...        ...     ...        ...             ...       ...   \n",
       "146457  SAT   DEC        1.0     219 2196-12-31    7.163424e+09         0   \n",
       "146458  SUN   DEC        0.0     219 2197-12-31    7.194960e+09         1   \n",
       "146459  MON   DEC        0.0     219 2198-12-31    7.226496e+09         2   \n",
       "146460  TUE   DEC        0.0     219 2199-12-31    7.258032e+09         3   \n",
       "146461  WED   DEC        0.0     220 2200-12-31    7.289568e+09         4   \n",
       "\n",
       "         day_sin   day_cos  month_code  month_sin  month_cos  decade_sin  \\\n",
       "0      -0.433884 -0.900969           0        0.0   1.000000    0.636242   \n",
       "1      -0.974928 -0.222521           0        0.0   1.000000    0.636242   \n",
       "2      -0.781831  0.623490           0        0.0   1.000000    0.636242   \n",
       "3       0.000000  1.000000           0        0.0   1.000000    0.636242   \n",
       "4       0.781831  0.623490           0        0.0   1.000000    0.636242   \n",
       "...          ...       ...         ...        ...        ...         ...   \n",
       "146457  0.000000  1.000000          11       -0.5   0.866025    0.839365   \n",
       "146458  0.781831  0.623490          11       -0.5   0.866025    0.839365   \n",
       "146459  0.974928 -0.222521          11       -0.5   0.866025    0.839365   \n",
       "146460  0.433884 -0.900969          11       -0.5   0.866025    0.839365   \n",
       "146461 -0.433884 -0.900969          11       -0.5   0.866025    0.746553   \n",
       "\n",
       "        decade_cos  date_timestamp_scaled  \n",
       "0        -0.771489              -1.000000  \n",
       "1        -0.771489              -0.995016  \n",
       "2        -0.771489              -0.990031  \n",
       "3        -0.771489              -0.985047  \n",
       "4        -0.771489              -0.980063  \n",
       "...            ...                    ...  \n",
       "146457   -0.543568               0.980063  \n",
       "146458   -0.543568               0.985047  \n",
       "146459   -0.543568               0.990031  \n",
       "146460   -0.543568               0.995016  \n",
       "146461   -0.665326               1.000000  \n",
       "\n",
       "[146462 rows x 15 columns]"
      ]
     },
     "execution_count": 95,
     "metadata": {},
     "output_type": "execute_result"
    }
   ],
   "source": [
    "data"
   ]
  },
  {
   "cell_type": "code",
   "execution_count": 96,
   "id": "f3899b1c",
   "metadata": {
    "colab": {
     "base_uri": "https://localhost:8080/",
     "height": 297
    },
    "id": "f3899b1c",
    "outputId": "cbe751ed-d1d0-48a7-e257-d12b3ccb42e3"
   },
   "outputs": [
    {
     "data": {
      "text/plain": [
       "<AxesSubplot:>"
      ]
     },
     "execution_count": 96,
     "metadata": {},
     "output_type": "execute_result"
    },
    {
     "data": {
      "image/png": "[encoded data removed]",
      "text/plain": [
       "<Figure size 432x288 with 1 Axes>"
      ]
     },
     "metadata": {
      "needs_background": "light"
     },
     "output_type": "display_data"
    }
   ],
   "source": [
    "data.day.value_counts().plot(kind=\"bar\")"
   ]
  },
  {
   "cell_type": "code",
   "execution_count": 97,
   "id": "2a66503b",
   "metadata": {
    "colab": {
     "base_uri": "https://localhost:8080/",
     "height": 296
    },
    "id": "2a66503b",
    "outputId": "33bb9ae8-13f8-4b2e-bd28-cb293e55406a"
   },
   "outputs": [
    {
     "data": {
      "text/plain": [
       "<AxesSubplot:>"
      ]
     },
     "execution_count": 97,
     "metadata": {},
     "output_type": "execute_result"
    },
    {
     "data": {
      "image/png": "[encoded data removed]",
      "text/plain": [
       "<Figure size 432x288 with 1 Axes>"
      ]
     },
     "metadata": {
      "needs_background": "light"
     },
     "output_type": "display_data"
    }
   ],
   "source": [
    "data.month.value_counts().plot(kind=\"bar\")"
   ]
  },
  {
   "cell_type": "code",
   "execution_count": 98,
   "id": "64309a43",
   "metadata": {
    "colab": {
     "base_uri": "https://localhost:8080/",
     "height": 289
    },
    "id": "64309a43",
    "outputId": "47a8be96-73a3-4bae-954b-a76c46d2b49c"
   },
   "outputs": [
    {
     "data": {
      "text/plain": [
       "<AxesSubplot:>"
      ]
     },
     "execution_count": 98,
     "metadata": {},
     "output_type": "execute_result"
    },
    {
     "data": {
      "image/png": "[encoded data removed]",
      "text/plain": [
       "<Figure size 432x288 with 1 Axes>"
      ]
     },
     "metadata": {
      "needs_background": "light"
     },
     "output_type": "display_data"
    }
   ],
   "source": [
    "data.leap_year.value_counts().plot(kind=\"bar\")"
   ]
  },
  {
   "cell_type": "code",
   "execution_count": 99,
   "id": "8848723f",
   "metadata": {
    "colab": {
     "base_uri": "https://localhost:8080/",
     "height": 292
    },
    "id": "8848723f",
    "outputId": "f53f1670-db5b-42b2-94f4-efd0965ac8a1"
   },
   "outputs": [
    {
     "data": {
      "text/plain": [
       "<AxesSubplot:>"
      ]
     },
     "execution_count": 99,
     "metadata": {},
     "output_type": "execute_result"
    },
    {
     "data": {
      "image/png": "[encoded data removed]",
      "text/plain": [
       "<Figure size 432x288 with 1 Axes>"
      ]
     },
     "metadata": {
      "needs_background": "light"
     },
     "output_type": "display_data"
    }
   ],
   "source": [
    "data.decade.value_counts().plot(kind=\"bar\")"
   ]
  },
  {
   "cell_type": "code",
   "execution_count": 100,
   "id": "cba3f0f0",
   "metadata": {
    "colab": {
     "base_uri": "https://localhost:8080/",
     "height": 467
    },
    "id": "cba3f0f0",
    "outputId": "40e85ec6-ee24-45cc-b004-892ecb8d4a06"
   },
   "outputs": [
    {
     "data": {
      "text/html": [
       "<div>\n",
       "<style scoped>\n",
       "    .dataframe tbody tr th:only-of-type {\n",
       "        vertical-align: middle;\n",
       "    }\n",
       "\n",
       "    .dataframe tbody tr th {\n",
       "        vertical-align: top;\n",
       "    }\n",
       "\n",
       "    .dataframe thead th {\n",
       "        text-align: right;\n",
       "    }\n",
       "</style>\n",
       "<table border=\"1\" class=\"dataframe\">\n",
       "  <thead>\n",
       "    <tr style=\"text-align: right;\">\n",
       "      <th></th>\n",
       "      <th>day</th>\n",
       "      <th>month</th>\n",
       "      <th>leap_year</th>\n",
       "      <th>decade</th>\n",
       "      <th>date</th>\n",
       "      <th>date_timestamp</th>\n",
       "      <th>day_code</th>\n",
       "      <th>day_sin</th>\n",
       "      <th>day_cos</th>\n",
       "      <th>month_code</th>\n",
       "      <th>month_sin</th>\n",
       "      <th>month_cos</th>\n",
       "      <th>decade_sin</th>\n",
       "      <th>decade_cos</th>\n",
       "      <th>date_timestamp_scaled</th>\n",
       "    </tr>\n",
       "  </thead>\n",
       "  <tbody>\n",
       "    <tr>\n",
       "      <th>0</th>\n",
       "      <td>WED</td>\n",
       "      <td>JAN</td>\n",
       "      <td>0.0</td>\n",
       "      <td>180</td>\n",
       "      <td>1800-01-01</td>\n",
       "      <td>-5.364662e+09</td>\n",
       "      <td>4</td>\n",
       "      <td>-0.433884</td>\n",
       "      <td>-0.900969</td>\n",
       "      <td>0</td>\n",
       "      <td>0.0</td>\n",
       "      <td>1.000000</td>\n",
       "      <td>0.636242</td>\n",
       "      <td>-0.771489</td>\n",
       "      <td>-1.000000</td>\n",
       "    </tr>\n",
       "    <tr>\n",
       "      <th>1</th>\n",
       "      <td>THU</td>\n",
       "      <td>JAN</td>\n",
       "      <td>0.0</td>\n",
       "      <td>180</td>\n",
       "      <td>1801-01-01</td>\n",
       "      <td>-5.333126e+09</td>\n",
       "      <td>5</td>\n",
       "      <td>-0.974928</td>\n",
       "      <td>-0.222521</td>\n",
       "      <td>0</td>\n",
       "      <td>0.0</td>\n",
       "      <td>1.000000</td>\n",
       "      <td>0.636242</td>\n",
       "      <td>-0.771489</td>\n",
       "      <td>-0.995016</td>\n",
       "    </tr>\n",
       "    <tr>\n",
       "      <th>2</th>\n",
       "      <td>FRI</td>\n",
       "      <td>JAN</td>\n",
       "      <td>0.0</td>\n",
       "      <td>180</td>\n",
       "      <td>1802-01-01</td>\n",
       "      <td>-5.301590e+09</td>\n",
       "      <td>6</td>\n",
       "      <td>-0.781831</td>\n",
       "      <td>0.623490</td>\n",
       "      <td>0</td>\n",
       "      <td>0.0</td>\n",
       "      <td>1.000000</td>\n",
       "      <td>0.636242</td>\n",
       "      <td>-0.771489</td>\n",
       "      <td>-0.990031</td>\n",
       "    </tr>\n",
       "    <tr>\n",
       "      <th>3</th>\n",
       "      <td>SAT</td>\n",
       "      <td>JAN</td>\n",
       "      <td>0.0</td>\n",
       "      <td>180</td>\n",
       "      <td>1803-01-01</td>\n",
       "      <td>-5.270054e+09</td>\n",
       "      <td>0</td>\n",
       "      <td>0.000000</td>\n",
       "      <td>1.000000</td>\n",
       "      <td>0</td>\n",
       "      <td>0.0</td>\n",
       "      <td>1.000000</td>\n",
       "      <td>0.636242</td>\n",
       "      <td>-0.771489</td>\n",
       "      <td>-0.985047</td>\n",
       "    </tr>\n",
       "    <tr>\n",
       "      <th>4</th>\n",
       "      <td>SUN</td>\n",
       "      <td>JAN</td>\n",
       "      <td>1.0</td>\n",
       "      <td>180</td>\n",
       "      <td>1804-01-01</td>\n",
       "      <td>-5.238518e+09</td>\n",
       "      <td>1</td>\n",
       "      <td>0.781831</td>\n",
       "      <td>0.623490</td>\n",
       "      <td>0</td>\n",
       "      <td>0.0</td>\n",
       "      <td>1.000000</td>\n",
       "      <td>0.636242</td>\n",
       "      <td>-0.771489</td>\n",
       "      <td>-0.980063</td>\n",
       "    </tr>\n",
       "    <tr>\n",
       "      <th>...</th>\n",
       "      <td>...</td>\n",
       "      <td>...</td>\n",
       "      <td>...</td>\n",
       "      <td>...</td>\n",
       "      <td>...</td>\n",
       "      <td>...</td>\n",
       "      <td>...</td>\n",
       "      <td>...</td>\n",
       "      <td>...</td>\n",
       "      <td>...</td>\n",
       "      <td>...</td>\n",
       "      <td>...</td>\n",
       "      <td>...</td>\n",
       "      <td>...</td>\n",
       "      <td>...</td>\n",
       "    </tr>\n",
       "    <tr>\n",
       "      <th>146457</th>\n",
       "      <td>SAT</td>\n",
       "      <td>DEC</td>\n",
       "      <td>1.0</td>\n",
       "      <td>219</td>\n",
       "      <td>2196-12-31</td>\n",
       "      <td>7.163424e+09</td>\n",
       "      <td>0</td>\n",
       "      <td>0.000000</td>\n",
       "      <td>1.000000</td>\n",
       "      <td>11</td>\n",
       "      <td>-0.5</td>\n",
       "      <td>0.866025</td>\n",
       "      <td>0.839365</td>\n",
       "      <td>-0.543568</td>\n",
       "      <td>0.980063</td>\n",
       "    </tr>\n",
       "    <tr>\n",
       "      <th>146458</th>\n",
       "      <td>SUN</td>\n",
       "      <td>DEC</td>\n",
       "      <td>0.0</td>\n",
       "      <td>219</td>\n",
       "      <td>2197-12-31</td>\n",
       "      <td>7.194960e+09</td>\n",
       "      <td>1</td>\n",
       "      <td>0.781831</td>\n",
       "      <td>0.623490</td>\n",
       "      <td>11</td>\n",
       "      <td>-0.5</td>\n",
       "      <td>0.866025</td>\n",
       "      <td>0.839365</td>\n",
       "      <td>-0.543568</td>\n",
       "      <td>0.985047</td>\n",
       "    </tr>\n",
       "    <tr>\n",
       "      <th>146459</th>\n",
       "      <td>MON</td>\n",
       "      <td>DEC</td>\n",
       "      <td>0.0</td>\n",
       "      <td>219</td>\n",
       "      <td>2198-12-31</td>\n",
       "      <td>7.226496e+09</td>\n",
       "      <td>2</td>\n",
       "      <td>0.974928</td>\n",
       "      <td>-0.222521</td>\n",
       "      <td>11</td>\n",
       "      <td>-0.5</td>\n",
       "      <td>0.866025</td>\n",
       "      <td>0.839365</td>\n",
       "      <td>-0.543568</td>\n",
       "      <td>0.990031</td>\n",
       "    </tr>\n",
       "    <tr>\n",
       "      <th>146460</th>\n",
       "      <td>TUE</td>\n",
       "      <td>DEC</td>\n",
       "      <td>0.0</td>\n",
       "      <td>219</td>\n",
       "      <td>2199-12-31</td>\n",
       "      <td>7.258032e+09</td>\n",
       "      <td>3</td>\n",
       "      <td>0.433884</td>\n",
       "      <td>-0.900969</td>\n",
       "      <td>11</td>\n",
       "      <td>-0.5</td>\n",
       "      <td>0.866025</td>\n",
       "      <td>0.839365</td>\n",
       "      <td>-0.543568</td>\n",
       "      <td>0.995016</td>\n",
       "    </tr>\n",
       "    <tr>\n",
       "      <th>146461</th>\n",
       "      <td>WED</td>\n",
       "      <td>DEC</td>\n",
       "      <td>0.0</td>\n",
       "      <td>220</td>\n",
       "      <td>2200-12-31</td>\n",
       "      <td>7.289568e+09</td>\n",
       "      <td>4</td>\n",
       "      <td>-0.433884</td>\n",
       "      <td>-0.900969</td>\n",
       "      <td>11</td>\n",
       "      <td>-0.5</td>\n",
       "      <td>0.866025</td>\n",
       "      <td>0.746553</td>\n",
       "      <td>-0.665326</td>\n",
       "      <td>1.000000</td>\n",
       "    </tr>\n",
       "  </tbody>\n",
       "</table>\n",
       "<p>146462 rows × 15 columns</p>\n",
       "</div>"
      ],
      "text/plain": [
       "        day month  leap_year  decade       date  date_timestamp  day_code  \\\n",
       "0       WED   JAN        0.0     180 1800-01-01   -5.364662e+09         4   \n",
       "1       THU   JAN        0.0     180 1801-01-01   -5.333126e+09         5   \n",
       "2       FRI   JAN        0.0     180 1802-01-01   -5.301590e+09         6   \n",
       "3       SAT   JAN        0.0     180 1803-01-01   -5.270054e+09         0   \n",
       "4       SUN   JAN        1.0     180 1804-01-01   -5.238518e+09         1   \n",
       "...     ...   ...        ...     ...        ...             ...       ...   \n",
       "146457  SAT   DEC        1.0     219 2196-12-31    7.163424e+09         0   \n",
       "146458  SUN   DEC        0.0     219 2197-12-31    7.194960e+09         1   \n",
       "146459  MON   DEC        0.0     219 2198-12-31    7.226496e+09         2   \n",
       "146460  TUE   DEC        0.0     219 2199-12-31    7.258032e+09         3   \n",
       "146461  WED   DEC        0.0     220 2200-12-31    7.289568e+09         4   \n",
       "\n",
       "         day_sin   day_cos  month_code  month_sin  month_cos  decade_sin  \\\n",
       "0      -0.433884 -0.900969           0        0.0   1.000000    0.636242   \n",
       "1      -0.974928 -0.222521           0        0.0   1.000000    0.636242   \n",
       "2      -0.781831  0.623490           0        0.0   1.000000    0.636242   \n",
       "3       0.000000  1.000000           0        0.0   1.000000    0.636242   \n",
       "4       0.781831  0.623490           0        0.0   1.000000    0.636242   \n",
       "...          ...       ...         ...        ...        ...         ...   \n",
       "146457  0.000000  1.000000          11       -0.5   0.866025    0.839365   \n",
       "146458  0.781831  0.623490          11       -0.5   0.866025    0.839365   \n",
       "146459  0.974928 -0.222521          11       -0.5   0.866025    0.839365   \n",
       "146460  0.433884 -0.900969          11       -0.5   0.866025    0.839365   \n",
       "146461 -0.433884 -0.900969          11       -0.5   0.866025    0.746553   \n",
       "\n",
       "        decade_cos  date_timestamp_scaled  \n",
       "0        -0.771489              -1.000000  \n",
       "1        -0.771489              -0.995016  \n",
       "2        -0.771489              -0.990031  \n",
       "3        -0.771489              -0.985047  \n",
       "4        -0.771489              -0.980063  \n",
       "...            ...                    ...  \n",
       "146457   -0.543568               0.980063  \n",
       "146458   -0.543568               0.985047  \n",
       "146459   -0.543568               0.990031  \n",
       "146460   -0.543568               0.995016  \n",
       "146461   -0.665326               1.000000  \n",
       "\n",
       "[146462 rows x 15 columns]"
      ]
     },
     "execution_count": 100,
     "metadata": {},
     "output_type": "execute_result"
    }
   ],
   "source": [
    "data"
   ]
  },
  {
   "cell_type": "markdown",
   "id": "6116a675",
   "metadata": {
    "id": "6116a675"
   },
   "source": [
    "['day_sin', 'day_cos', 'month_sin', 'month_cos', 'leap_year', 'decade_scaled']\n",
    "['date_timestamp_scaled']"
   ]
  },
  {
   "cell_type": "code",
   "execution_count": 101,
   "id": "56fe185b",
   "metadata": {
    "id": "56fe185b"
   },
   "outputs": [],
   "source": [
    "# fig,ax = plt.subplots(1,figsize=(17,4))\n",
    "# ax = sns.boxplot(data=data[['day_sin', 'day_cos', 'month_sin', 'month_cos', 'leap_year', 'decade_scaled']])\n",
    "# ax.set_xticklabels(ax.get_xticklabels(),rotation=45)\n",
    "# plt.show()"
   ]
  },
  {
   "cell_type": "code",
   "execution_count": 102,
   "id": "be811f53",
   "metadata": {
    "id": "be811f53"
   },
   "outputs": [],
   "source": [
    "# fig,ax = plt.subplots(1,figsize=(17,4))\n",
    "# ax = sns.boxplot(data=data[['leap_year']])\n",
    "# ax.set_xticklabels(ax.get_xticklabels(),rotation=45)\n",
    "# plt.show()"
   ]
  },
  {
   "cell_type": "code",
   "execution_count": null,
   "id": "2ce5125b",
   "metadata": {
    "id": "2ce5125b"
   },
   "outputs": [],
   "source": []
  },
  {
   "cell_type": "code",
   "execution_count": 103,
   "id": "2f3d01c8",
   "metadata": {
    "colab": {
     "base_uri": "https://localhost:8080/"
    },
    "id": "2f3d01c8",
    "outputId": "ff85ebb9-1deb-413d-e784-b4ee3b4700f4"
   },
   "outputs": [
    {
     "data": {
      "text/plain": [
       "array([[-0.43388374, -0.90096887,  0.        , ...,  0.        ,\n",
       "         0.63624244, -0.77148918],\n",
       "       [-0.97492791, -0.22252093,  0.        , ...,  0.        ,\n",
       "         0.63624244, -0.77148918],\n",
       "       [-0.78183148,  0.6234898 ,  0.        , ...,  0.        ,\n",
       "         0.63624244, -0.77148918],\n",
       "       ...,\n",
       "       [ 0.97492791, -0.22252093, -0.5       , ...,  0.        ,\n",
       "         0.83936543, -0.54356755],\n",
       "       [ 0.43388374, -0.90096887, -0.5       , ...,  0.        ,\n",
       "         0.83936543, -0.54356755],\n",
       "       [-0.43388374, -0.90096887, -0.5       , ...,  0.        ,\n",
       "         0.74655322, -0.6653257 ]])"
      ]
     },
     "execution_count": 103,
     "metadata": {},
     "output_type": "execute_result"
    }
   ],
   "source": [
    "X = data[['day_sin', 'day_cos', 'month_sin', 'month_cos', 'leap_year', 'decade_sin', 'decade_cos']].values\n",
    "X"
   ]
  },
  {
   "cell_type": "code",
   "execution_count": 104,
   "id": "e2d1bb11",
   "metadata": {
    "colab": {
     "base_uri": "https://localhost:8080/"
    },
    "id": "e2d1bb11",
    "outputId": "fccec425-123d-478a-c805-ecbe487d7ece"
   },
   "outputs": [
    {
     "data": {
      "text/plain": [
       "146462"
      ]
     },
     "execution_count": 104,
     "metadata": {},
     "output_type": "execute_result"
    }
   ],
   "source": [
    "len(X)"
   ]
  },
  {
   "cell_type": "code",
   "execution_count": 105,
   "id": "bd580168",
   "metadata": {
    "colab": {
     "base_uri": "https://localhost:8080/"
    },
    "id": "bd580168",
    "outputId": "4b2e9b41-2bc5-4dce-f355-0dcb816f122b"
   },
   "outputs": [
    {
     "data": {
      "text/plain": [
       "array([[-1.        ],\n",
       "       [-0.99501574],\n",
       "       [-0.99003148],\n",
       "       ...,\n",
       "       [ 0.99003148],\n",
       "       [ 0.99501574],\n",
       "       [ 1.        ]])"
      ]
     },
     "execution_count": 105,
     "metadata": {},
     "output_type": "execute_result"
    }
   ],
   "source": [
    "Y = data['date_timestamp_scaled'].values.reshape(-1, 1)\n",
    "Y"
   ]
  },
  {
   "cell_type": "code",
   "execution_count": 106,
   "id": "4a7cadbb",
   "metadata": {
    "colab": {
     "base_uri": "https://localhost:8080/"
    },
    "id": "4a7cadbb",
    "outputId": "5bd3f647-d15d-4cd5-ec9c-00539b7cec18"
   },
   "outputs": [
    {
     "data": {
      "text/plain": [
       "146462"
      ]
     },
     "execution_count": 106,
     "metadata": {},
     "output_type": "execute_result"
    }
   ],
   "source": [
    "len(Y)"
   ]
  },
  {
   "cell_type": "code",
   "execution_count": null,
   "id": "4597de6f",
   "metadata": {
    "id": "4597de6f"
   },
   "outputs": [],
   "source": []
  },
  {
   "cell_type": "code",
   "execution_count": 107,
   "id": "ff9e6f8d",
   "metadata": {
    "id": "ff9e6f8d"
   },
   "outputs": [],
   "source": [
    "# # leap = np.where(~X['leap_year'] == 1)[0]\n",
    "# leap = np.where(X['leap_year'] == 1)[0]\n",
    "\n",
    "# leap"
   ]
  },
  {
   "cell_type": "code",
   "execution_count": 108,
   "id": "f266b904",
   "metadata": {
    "id": "f266b904"
   },
   "outputs": [],
   "source": [
    "train_data, test_data, train_labels, test_labels = train_test_split(X, Y, test_size=0.3, shuffle=True,\n",
    "                                                                    random_state=0)"
   ]
  },
  {
   "cell_type": "code",
   "execution_count": 109,
   "id": "e865e948",
   "metadata": {
    "id": "e865e948"
   },
   "outputs": [],
   "source": [
    "train_dataT = TensorDataset(torch.Tensor(train_data), torch.Tensor(train_labels))\n",
    "\n",
    "test_dataT  = TensorDataset(torch.Tensor(test_data), torch.Tensor(test_labels))\n",
    "\n",
    "\n",
    "\n",
    "batchsize = 32\n",
    "\n",
    "train_loader = DataLoader(train_dataT, batch_size=batchsize, drop_last=True)\n",
    "\n",
    "test_loader  = DataLoader(test_dataT)\n"
   ]
  },
  {
   "cell_type": "code",
   "execution_count": 110,
   "id": "68ee8756",
   "metadata": {
    "colab": {
     "base_uri": "https://localhost:8080/"
    },
    "id": "68ee8756",
    "outputId": "3b7fdd58-1bc6-42ef-bbda-aaa2dda9da7e"
   },
   "outputs": [
    {
     "name": "stdout",
     "output_type": "stream",
     "text": [
      "X: (146462, 7)\n",
      "\n",
      "Y: (146462, 1)\n",
      "\n",
      "Train data:   (102523, 7)\n",
      "\n",
      "Train labels: (102523, 1)\n",
      "\n",
      "Test data:    (43939, 7)\n",
      "\n",
      "Test labels:  (43939, 1)\n"
     ]
    }
   ],
   "source": [
    "print(f'X: {X.shape}\\n')\n",
    "print(f'Y: {Y.shape}\\n')\n",
    "\n",
    "print(f'Train data:   {train_data.shape}\\n')\n",
    "print(f'Train labels: {train_labels.shape}\\n')\n",
    "print(f'Test data:    {test_data.shape}\\n')\n",
    "print(f'Test labels:  {test_labels.shape}')"
   ]
  },
  {
   "cell_type": "code",
   "execution_count": 111,
   "id": "c36a36a2",
   "metadata": {
    "id": "c36a36a2"
   },
   "outputs": [],
   "source": [
    "class Model(nn.Module):\n",
    "    \n",
    "    def __init__(self):\n",
    "        super().__init__()\n",
    "\n",
    "        self.input = nn.Linear(7, 32)\n",
    "\n",
    "        self.fc1 = nn.Linear(32, 128)\n",
    "        self.bnorm1 = nn.BatchNorm1d(128)\n",
    "\n",
    "        self.fc2 = nn.Linear(128, 512)\n",
    "        self.bnorm2 = nn.BatchNorm1d(512)\n",
    "\n",
    "        self.fc3 = nn.Linear(512, 64)\n",
    "        self.bnorm3 = nn.BatchNorm1d(64)\n",
    "\n",
    "        self.fc4 = nn.Linear(64, 10)\n",
    "        self.bnorm4 = nn.BatchNorm1d(10)\n",
    "\n",
    "\n",
    "        self.output = nn.Linear(10, 1)\n",
    "\n",
    "\n",
    "\n",
    "    def forward(self, x):\n",
    "\n",
    "        x = F.leaky_relu( self.input(x) )\n",
    "\n",
    "        x = F.leaky_relu(self.bnorm1(self.fc1(x)))\n",
    "        x = F.dropout(x, p=0.5, training=self.training)\n",
    "\n",
    "        x = F.leaky_relu(self.bnorm2(self.fc2(x)))\n",
    "        x = F.dropout(x, p=0.5, training=self.training)\n",
    "\n",
    "        x = F.leaky_relu(self.bnorm3(self.fc3(x)))\n",
    "        x = F.dropout(x, p=0.5, training=self.training)\n",
    "\n",
    "\n",
    "        x = F.leaky_relu(self.bnorm4(self.fc4(x)))\n",
    "        x = F.dropout(x, p=0.5, training=self.training)\n",
    "\n",
    "\n",
    "        x = torch.tanh(self.output(x))\n",
    "\n",
    "        return x\n",
    "        \n"
   ]
  },
  {
   "cell_type": "code",
   "execution_count": 112,
   "id": "d5ddf45a",
   "metadata": {
    "colab": {
     "base_uri": "https://localhost:8080/"
    },
    "id": "d5ddf45a",
    "outputId": "df61dfc9-b03f-44c2-fb54-5f03c6318ffc"
   },
   "outputs": [
    {
     "name": "stdout",
     "output_type": "stream",
     "text": [
      "X: (146462, 7)\n",
      "\n",
      "Y: (146462, 1)\n",
      "\n"
     ]
    }
   ],
   "source": [
    "test_x, test_y = next(iter(train_loader))\n",
    "\n",
    "print(f'X: {X.shape}\\n')\n",
    "print(f'Y: {Y.shape}\\n')\n",
    "\n"
   ]
  },
  {
   "cell_type": "code",
   "execution_count": 113,
   "id": "d5e3b9cd",
   "metadata": {
    "colab": {
     "base_uri": "https://localhost:8080/"
    },
    "id": "d5e3b9cd",
    "outputId": "007c6844-16de-416f-d31b-919458037a36"
   },
   "outputs": [
    {
     "name": "stdout",
     "output_type": "stream",
     "text": [
      "torch.Size([32, 1])\n"
     ]
    }
   ],
   "source": [
    "model = Model().to(device)\n",
    "\n",
    "# test_hat = model(torch.randn(32,6))\n",
    "test_hat = model(test_x)\n",
    "\n",
    "print(test_hat.shape)"
   ]
  },
  {
   "cell_type": "code",
   "execution_count": 114,
   "id": "4bb306c4",
   "metadata": {
    "id": "4bb306c4"
   },
   "outputs": [],
   "source": [
    "# for p in list(model.named_parameters()):\n",
    "#     if 'weight' in p[0] and 'bnorm' not in p[0]:\n",
    "#         nn.init.xavier_normal_(p[1].data)\n",
    "#         print(p[0])\n",
    "#         print(p[1].data.shape)"
   ]
  },
  {
   "cell_type": "code",
   "execution_count": 115,
   "id": "35bb52bd",
   "metadata": {
    "id": "35bb52bd"
   },
   "outputs": [],
   "source": [
    "lossfun = nn.MSELoss()\n",
    "\n",
    "# optimizer = torch.optim.Adam(model.parameters(), lr=0.0002, betas=(0.5, 0.999), weight_decay=1e-5)\n",
    "# optimizer = torch.optim.Adam(model.parameters(), lr=0.001, betas=(0.5, 0.999), weight_decay=1e-1)\n",
    "# optimizer = torch.optim.Adam(model.parameters(), lr=0.0001, weight_decay=1e-5)\n",
    "\n",
    "# optimizer = torch.optim.Adam(model.parameters(), lr=0.0001, betas=(0.9, 0.999), weight_decay=1e-9)\n",
    "optimizer = torch.optim.Adam(model.parameters(), lr=0.0001, betas=(0.9, 0.999), weight_decay=0.1)\n",
    "\n",
    "\n"
   ]
  },
  {
   "cell_type": "code",
   "execution_count": 116,
   "id": "ee799b87",
   "metadata": {
    "colab": {
     "base_uri": "https://localhost:8080/"
    },
    "id": "ee799b87",
    "outputId": "329c3534-e149-466c-b4a5-13d9029cceb2"
   },
   "outputs": [
    {
     "name": "stdout",
     "output_type": "stream",
     "text": [
      "Epoch 1/1, Train Loss: 0.0372, Test Loss: 0.0372\n"
     ]
    },
    {
     "data": {
      "text/plain": [
       "(tensor([0.1542]), tensor([0.0372]), tensor([0.]), tensor([0.]))"
      ]
     },
     "execution_count": 116,
     "metadata": {},
     "output_type": "execute_result"
    }
   ],
   "source": [
    "numepochs = 1\n",
    "\n",
    "trainLoss = torch.zeros(numepochs)\n",
    "testLoss   = torch.zeros(numepochs)\n",
    "trainAcc  = torch.zeros(numepochs)\n",
    "testAcc    = torch.zeros(numepochs)\n",
    "\n",
    "\n",
    "for epochi in range(numepochs):\n",
    "    \n",
    "    model.train() # switch to train mode\n",
    "\n",
    "    batchLoss = []\n",
    "    batchAcc  = []\n",
    "\n",
    "    for X,y in train_loader:\n",
    "\n",
    "        X = X.to(device)\n",
    "        y = y.to(device)\n",
    "\n",
    "        yHat = model(X)\n",
    "        loss = lossfun(yHat, y)\n",
    "\n",
    "        optimizer.zero_grad()\n",
    "        loss.backward()\n",
    "        optimizer.step()\n",
    "\n",
    "        batchLoss.append(loss.item())\n",
    "        batchAcc.append( torch.mean(( yHat == y).float() ).item() )\n",
    "        \n",
    "        \n",
    "    \n",
    "    trainLoss[epochi] = np.mean(batchLoss)\n",
    "    trainAcc[epochi]  = 100*np.mean(batchAcc)\n",
    "\n",
    "\n",
    "    \n",
    "    model.eval() # switch to test mode\n",
    "    \n",
    "    XX,yy = next(iter(test_loader))\n",
    "\n",
    "    XX = XX.to(device)\n",
    "    yy = yy.to(device)\n",
    "\n",
    "    # forward pass and loss\n",
    "    with torch.no_grad():\n",
    "        yHat_test = model(XX)\n",
    "        loss = lossfun(yHat_test, yy)\n",
    "\n",
    "\n",
    "    testLoss[epochi] = loss.item()\n",
    "    testAcc[epochi]  = 100*torch.mean( (yHat_test == yy).float() ).item()\n",
    "\n",
    "    # if (epochi + 1) % 5 == 0:\n",
    "    print(f'Epoch {epochi+1}/{numepochs}, Train Loss: {loss.item():.4f}, Test Loss: {loss.item():0.4f}')\n",
    "\n",
    "\n",
    "\n",
    "trainLoss, testLoss, trainAcc, testAcc"
   ]
  },
  {
   "cell_type": "code",
   "execution_count": null,
   "id": "cb8fb3a7",
   "metadata": {
    "id": "cb8fb3a7"
   },
   "outputs": [],
   "source": []
  },
  {
   "cell_type": "code",
   "execution_count": 117,
   "id": "57a75ab3",
   "metadata": {
    "id": "57a75ab3"
   },
   "outputs": [
    {
     "data": {
      "text/plain": [
       "(torch.Size([32, 1]), torch.Size([32, 1]))"
      ]
     },
     "execution_count": 117,
     "metadata": {},
     "output_type": "execute_result"
    }
   ],
   "source": [
    "yHat.shape, y.shape"
   ]
  },
  {
   "cell_type": "code",
   "execution_count": 118,
   "id": "08cbcefa",
   "metadata": {
    "id": "08cbcefa"
   },
   "outputs": [
    {
     "data": {
      "text/plain": [
       "(torch.Size([1, 1]), torch.Size([1, 1]))"
      ]
     },
     "execution_count": 118,
     "metadata": {},
     "output_type": "execute_result"
    }
   ],
   "source": [
    "yHat_test.shape, yy.shape"
   ]
  },
  {
   "cell_type": "code",
   "execution_count": null,
   "id": "7c1fa24d",
   "metadata": {
    "id": "7c1fa24d"
   },
   "outputs": [],
   "source": []
  },
  {
   "cell_type": "code",
   "execution_count": 119,
   "id": "3504cb4c",
   "metadata": {
    "id": "3504cb4c"
   },
   "outputs": [
    {
     "data": {
      "text/plain": [
       "(tensor([ 0.3727,  0.4567,  0.3598,  0.3118, -0.7258, -0.0781, -0.9164,  0.3110,\n",
       "         -0.0837, -0.4102,  0.3932,  0.1563,  0.4579,  0.8579, -0.0911, -0.8486,\n",
       "         -0.1543,  0.6788,  0.9023,  0.5033, -0.0835, -0.3757, -0.0861, -0.8968,\n",
       "         -0.0860, -0.0854,  0.5224, -0.1944, -0.0860, -0.0753, -0.0877,  0.2731],\n",
       "        grad_fn=<ReshapeAliasBackward0>),\n",
       " tensor([ 0.9213,  0.4422,  0.2880,  0.7082,  0.9481, -0.2169, -0.9890,  0.4658,\n",
       "         -0.1774, -0.4788,  0.8186,  0.9359,  0.4277,  0.4367, -0.4935, -0.9666,\n",
       "         -0.3445,  0.7509,  0.7994,  0.4863, -0.1029, -0.4038, -0.9918, -0.9944,\n",
       "         -0.5291, -0.5503,  0.6238, -0.2900,  0.0055,  0.6300, -0.7275,  0.1990]))"
      ]
     },
     "execution_count": 119,
     "metadata": {},
     "output_type": "execute_result"
    }
   ],
   "source": [
    "yHat.flatten(), y.flatten()"
   ]
  },
  {
   "cell_type": "code",
   "execution_count": 120,
   "id": "adc5f62a",
   "metadata": {
    "id": "adc5f62a"
   },
   "outputs": [
    {
     "data": {
      "text/plain": [
       "(tensor([-0.7253]), tensor([-0.9181]))"
      ]
     },
     "execution_count": 120,
     "metadata": {},
     "output_type": "execute_result"
    }
   ],
   "source": [
    "yHat_test.flatten(), yy.flatten()"
   ]
  },
  {
   "cell_type": "code",
   "execution_count": null,
   "id": "fd17c22e",
   "metadata": {},
   "outputs": [],
   "source": []
  },
  {
   "cell_type": "code",
   "execution_count": 278,
   "id": "6f5d80f6",
   "metadata": {},
   "outputs": [
    {
     "data": {
      "text/html": [
       "<div>\n",
       "<style scoped>\n",
       "    .dataframe tbody tr th:only-of-type {\n",
       "        vertical-align: middle;\n",
       "    }\n",
       "\n",
       "    .dataframe tbody tr th {\n",
       "        vertical-align: top;\n",
       "    }\n",
       "\n",
       "    .dataframe thead th {\n",
       "        text-align: right;\n",
       "    }\n",
       "</style>\n",
       "<table border=\"1\" class=\"dataframe\">\n",
       "  <thead>\n",
       "    <tr style=\"text-align: right;\">\n",
       "      <th></th>\n",
       "      <th>day</th>\n",
       "      <th>month</th>\n",
       "      <th>leap_year</th>\n",
       "      <th>decade</th>\n",
       "      <th>date</th>\n",
       "      <th>date_timestamp</th>\n",
       "      <th>day_code</th>\n",
       "      <th>day_sin</th>\n",
       "      <th>day_cos</th>\n",
       "      <th>month_code</th>\n",
       "      <th>month_sin</th>\n",
       "      <th>month_cos</th>\n",
       "      <th>decade_sin</th>\n",
       "      <th>decade_cos</th>\n",
       "      <th>date_timestamp_scaled</th>\n",
       "    </tr>\n",
       "  </thead>\n",
       "  <tbody>\n",
       "    <tr>\n",
       "      <th>0</th>\n",
       "      <td>WED</td>\n",
       "      <td>JAN</td>\n",
       "      <td>0.0</td>\n",
       "      <td>180</td>\n",
       "      <td>1800-01-01</td>\n",
       "      <td>-5.364662e+09</td>\n",
       "      <td>4</td>\n",
       "      <td>-0.433884</td>\n",
       "      <td>-0.900969</td>\n",
       "      <td>0</td>\n",
       "      <td>0.0</td>\n",
       "      <td>1.000000</td>\n",
       "      <td>0.636242</td>\n",
       "      <td>-0.771489</td>\n",
       "      <td>-1.000000</td>\n",
       "    </tr>\n",
       "    <tr>\n",
       "      <th>1</th>\n",
       "      <td>THU</td>\n",
       "      <td>JAN</td>\n",
       "      <td>0.0</td>\n",
       "      <td>180</td>\n",
       "      <td>1801-01-01</td>\n",
       "      <td>-5.333126e+09</td>\n",
       "      <td>5</td>\n",
       "      <td>-0.974928</td>\n",
       "      <td>-0.222521</td>\n",
       "      <td>0</td>\n",
       "      <td>0.0</td>\n",
       "      <td>1.000000</td>\n",
       "      <td>0.636242</td>\n",
       "      <td>-0.771489</td>\n",
       "      <td>-0.995016</td>\n",
       "    </tr>\n",
       "    <tr>\n",
       "      <th>2</th>\n",
       "      <td>FRI</td>\n",
       "      <td>JAN</td>\n",
       "      <td>0.0</td>\n",
       "      <td>180</td>\n",
       "      <td>1802-01-01</td>\n",
       "      <td>-5.301590e+09</td>\n",
       "      <td>6</td>\n",
       "      <td>-0.781831</td>\n",
       "      <td>0.623490</td>\n",
       "      <td>0</td>\n",
       "      <td>0.0</td>\n",
       "      <td>1.000000</td>\n",
       "      <td>0.636242</td>\n",
       "      <td>-0.771489</td>\n",
       "      <td>-0.990031</td>\n",
       "    </tr>\n",
       "    <tr>\n",
       "      <th>3</th>\n",
       "      <td>SAT</td>\n",
       "      <td>JAN</td>\n",
       "      <td>0.0</td>\n",
       "      <td>180</td>\n",
       "      <td>1803-01-01</td>\n",
       "      <td>-5.270054e+09</td>\n",
       "      <td>0</td>\n",
       "      <td>0.000000</td>\n",
       "      <td>1.000000</td>\n",
       "      <td>0</td>\n",
       "      <td>0.0</td>\n",
       "      <td>1.000000</td>\n",
       "      <td>0.636242</td>\n",
       "      <td>-0.771489</td>\n",
       "      <td>-0.985047</td>\n",
       "    </tr>\n",
       "    <tr>\n",
       "      <th>4</th>\n",
       "      <td>SUN</td>\n",
       "      <td>JAN</td>\n",
       "      <td>1.0</td>\n",
       "      <td>180</td>\n",
       "      <td>1804-01-01</td>\n",
       "      <td>-5.238518e+09</td>\n",
       "      <td>1</td>\n",
       "      <td>0.781831</td>\n",
       "      <td>0.623490</td>\n",
       "      <td>0</td>\n",
       "      <td>0.0</td>\n",
       "      <td>1.000000</td>\n",
       "      <td>0.636242</td>\n",
       "      <td>-0.771489</td>\n",
       "      <td>-0.980063</td>\n",
       "    </tr>\n",
       "    <tr>\n",
       "      <th>...</th>\n",
       "      <td>...</td>\n",
       "      <td>...</td>\n",
       "      <td>...</td>\n",
       "      <td>...</td>\n",
       "      <td>...</td>\n",
       "      <td>...</td>\n",
       "      <td>...</td>\n",
       "      <td>...</td>\n",
       "      <td>...</td>\n",
       "      <td>...</td>\n",
       "      <td>...</td>\n",
       "      <td>...</td>\n",
       "      <td>...</td>\n",
       "      <td>...</td>\n",
       "      <td>...</td>\n",
       "    </tr>\n",
       "    <tr>\n",
       "      <th>146457</th>\n",
       "      <td>SAT</td>\n",
       "      <td>DEC</td>\n",
       "      <td>1.0</td>\n",
       "      <td>219</td>\n",
       "      <td>2196-12-31</td>\n",
       "      <td>7.163424e+09</td>\n",
       "      <td>0</td>\n",
       "      <td>0.000000</td>\n",
       "      <td>1.000000</td>\n",
       "      <td>11</td>\n",
       "      <td>-0.5</td>\n",
       "      <td>0.866025</td>\n",
       "      <td>0.839365</td>\n",
       "      <td>-0.543568</td>\n",
       "      <td>0.980063</td>\n",
       "    </tr>\n",
       "    <tr>\n",
       "      <th>146458</th>\n",
       "      <td>SUN</td>\n",
       "      <td>DEC</td>\n",
       "      <td>0.0</td>\n",
       "      <td>219</td>\n",
       "      <td>2197-12-31</td>\n",
       "      <td>7.194960e+09</td>\n",
       "      <td>1</td>\n",
       "      <td>0.781831</td>\n",
       "      <td>0.623490</td>\n",
       "      <td>11</td>\n",
       "      <td>-0.5</td>\n",
       "      <td>0.866025</td>\n",
       "      <td>0.839365</td>\n",
       "      <td>-0.543568</td>\n",
       "      <td>0.985047</td>\n",
       "    </tr>\n",
       "    <tr>\n",
       "      <th>146459</th>\n",
       "      <td>MON</td>\n",
       "      <td>DEC</td>\n",
       "      <td>0.0</td>\n",
       "      <td>219</td>\n",
       "      <td>2198-12-31</td>\n",
       "      <td>7.226496e+09</td>\n",
       "      <td>2</td>\n",
       "      <td>0.974928</td>\n",
       "      <td>-0.222521</td>\n",
       "      <td>11</td>\n",
       "      <td>-0.5</td>\n",
       "      <td>0.866025</td>\n",
       "      <td>0.839365</td>\n",
       "      <td>-0.543568</td>\n",
       "      <td>0.990031</td>\n",
       "    </tr>\n",
       "    <tr>\n",
       "      <th>146460</th>\n",
       "      <td>TUE</td>\n",
       "      <td>DEC</td>\n",
       "      <td>0.0</td>\n",
       "      <td>219</td>\n",
       "      <td>2199-12-31</td>\n",
       "      <td>7.258032e+09</td>\n",
       "      <td>3</td>\n",
       "      <td>0.433884</td>\n",
       "      <td>-0.900969</td>\n",
       "      <td>11</td>\n",
       "      <td>-0.5</td>\n",
       "      <td>0.866025</td>\n",
       "      <td>0.839365</td>\n",
       "      <td>-0.543568</td>\n",
       "      <td>0.995016</td>\n",
       "    </tr>\n",
       "    <tr>\n",
       "      <th>146461</th>\n",
       "      <td>WED</td>\n",
       "      <td>DEC</td>\n",
       "      <td>0.0</td>\n",
       "      <td>220</td>\n",
       "      <td>2200-12-31</td>\n",
       "      <td>7.289568e+09</td>\n",
       "      <td>4</td>\n",
       "      <td>-0.433884</td>\n",
       "      <td>-0.900969</td>\n",
       "      <td>11</td>\n",
       "      <td>-0.5</td>\n",
       "      <td>0.866025</td>\n",
       "      <td>0.746553</td>\n",
       "      <td>-0.665326</td>\n",
       "      <td>1.000000</td>\n",
       "    </tr>\n",
       "  </tbody>\n",
       "</table>\n",
       "<p>146462 rows × 15 columns</p>\n",
       "</div>"
      ],
      "text/plain": [
       "        day month  leap_year  decade       date  date_timestamp  day_code  \\\n",
       "0       WED   JAN        0.0     180 1800-01-01   -5.364662e+09         4   \n",
       "1       THU   JAN        0.0     180 1801-01-01   -5.333126e+09         5   \n",
       "2       FRI   JAN        0.0     180 1802-01-01   -5.301590e+09         6   \n",
       "3       SAT   JAN        0.0     180 1803-01-01   -5.270054e+09         0   \n",
       "4       SUN   JAN        1.0     180 1804-01-01   -5.238518e+09         1   \n",
       "...     ...   ...        ...     ...        ...             ...       ...   \n",
       "146457  SAT   DEC        1.0     219 2196-12-31    7.163424e+09         0   \n",
       "146458  SUN   DEC        0.0     219 2197-12-31    7.194960e+09         1   \n",
       "146459  MON   DEC        0.0     219 2198-12-31    7.226496e+09         2   \n",
       "146460  TUE   DEC        0.0     219 2199-12-31    7.258032e+09         3   \n",
       "146461  WED   DEC        0.0     220 2200-12-31    7.289568e+09         4   \n",
       "\n",
       "         day_sin   day_cos  month_code  month_sin  month_cos  decade_sin  \\\n",
       "0      -0.433884 -0.900969           0        0.0   1.000000    0.636242   \n",
       "1      -0.974928 -0.222521           0        0.0   1.000000    0.636242   \n",
       "2      -0.781831  0.623490           0        0.0   1.000000    0.636242   \n",
       "3       0.000000  1.000000           0        0.0   1.000000    0.636242   \n",
       "4       0.781831  0.623490           0        0.0   1.000000    0.636242   \n",
       "...          ...       ...         ...        ...        ...         ...   \n",
       "146457  0.000000  1.000000          11       -0.5   0.866025    0.839365   \n",
       "146458  0.781831  0.623490          11       -0.5   0.866025    0.839365   \n",
       "146459  0.974928 -0.222521          11       -0.5   0.866025    0.839365   \n",
       "146460  0.433884 -0.900969          11       -0.5   0.866025    0.839365   \n",
       "146461 -0.433884 -0.900969          11       -0.5   0.866025    0.746553   \n",
       "\n",
       "        decade_cos  date_timestamp_scaled  \n",
       "0        -0.771489              -1.000000  \n",
       "1        -0.771489              -0.995016  \n",
       "2        -0.771489              -0.990031  \n",
       "3        -0.771489              -0.985047  \n",
       "4        -0.771489              -0.980063  \n",
       "...            ...                    ...  \n",
       "146457   -0.543568               0.980063  \n",
       "146458   -0.543568               0.985047  \n",
       "146459   -0.543568               0.990031  \n",
       "146460   -0.543568               0.995016  \n",
       "146461   -0.665326               1.000000  \n",
       "\n",
       "[146462 rows x 15 columns]"
      ]
     },
     "execution_count": 278,
     "metadata": {},
     "output_type": "execute_result"
    }
   ],
   "source": [
    "data"
   ]
  },
  {
   "cell_type": "code",
   "execution_count": 274,
   "id": "63764526",
   "metadata": {},
   "outputs": [
    {
     "data": {
      "text/plain": [
       "0        1800-01-01\n",
       "1        1801-01-01\n",
       "2        1802-01-01\n",
       "3        1803-01-01\n",
       "4        1804-01-01\n",
       "            ...    \n",
       "146457   2196-12-31\n",
       "146458   2197-12-31\n",
       "146459   2198-12-31\n",
       "146460   2199-12-31\n",
       "146461   2200-12-31\n",
       "Name: date, Length: 146462, dtype: datetime64[ns]"
      ]
     },
     "execution_count": 274,
     "metadata": {},
     "output_type": "execute_result"
    }
   ],
   "source": [
    "c = pd.to_datetime(data.date)\n",
    "c"
   ]
  },
  {
   "cell_type": "code",
   "execution_count": 275,
   "id": "71e492d3",
   "metadata": {
    "id": "71e492d3"
   },
   "outputs": [
    {
     "data": {
      "text/plain": [
       "0         1\n",
       "1         1\n",
       "2         1\n",
       "3         1\n",
       "4         1\n",
       "         ..\n",
       "146457    4\n",
       "146458    4\n",
       "146459    4\n",
       "146460    4\n",
       "146461    4\n",
       "Name: date, Length: 146462, dtype: int64"
      ]
     },
     "execution_count": 275,
     "metadata": {},
     "output_type": "execute_result"
    }
   ],
   "source": [
    "c.dt.quarter"
   ]
  },
  {
   "cell_type": "code",
   "execution_count": 276,
   "id": "8f1c07e2",
   "metadata": {
    "id": "8f1c07e2"
   },
   "outputs": [
    {
     "data": {
      "text/plain": [
       "4"
      ]
     },
     "execution_count": 276,
     "metadata": {},
     "output_type": "execute_result"
    }
   ],
   "source": [
    "len(c.dt.quarter.unique())"
   ]
  },
  {
   "cell_type": "code",
   "execution_count": 293,
   "id": "ce8cfd34",
   "metadata": {
    "id": "ce8cfd34"
   },
   "outputs": [
    {
     "data": {
      "text/plain": [
       "0           1\n",
       "1           1\n",
       "2           1\n",
       "3           1\n",
       "4           1\n",
       "         ... \n",
       "146457    366\n",
       "146458    365\n",
       "146459    365\n",
       "146460    365\n",
       "146461    365\n",
       "Name: date, Length: 146462, dtype: int64"
      ]
     },
     "execution_count": 293,
     "metadata": {},
     "output_type": "execute_result"
    }
   ],
   "source": [
    "c.dt.dayofyear"
   ]
  },
  {
   "cell_type": "code",
   "execution_count": 280,
   "id": "aef540ea",
   "metadata": {},
   "outputs": [
    {
     "data": {
      "text/plain": [
       "366"
      ]
     },
     "execution_count": 280,
     "metadata": {},
     "output_type": "execute_result"
    }
   ],
   "source": [
    "len(c.dt.dayofyear.unique())"
   ]
  },
  {
   "cell_type": "code",
   "execution_count": 294,
   "id": "6628492b",
   "metadata": {},
   "outputs": [
    {
     "data": {
      "text/plain": [
       "0          1\n",
       "1          1\n",
       "2         53\n",
       "3         52\n",
       "4         52\n",
       "          ..\n",
       "146457    52\n",
       "146458    52\n",
       "146459     1\n",
       "146460     1\n",
       "146461     1\n",
       "Name: week, Length: 146462, dtype: UInt32"
      ]
     },
     "execution_count": 294,
     "metadata": {},
     "output_type": "execute_result"
    }
   ],
   "source": [
    "# c.dt.week.head()\n",
    "c.dt.isocalendar().week"
   ]
  },
  {
   "cell_type": "code",
   "execution_count": 284,
   "id": "9e80fb7c",
   "metadata": {},
   "outputs": [
    {
     "data": {
      "text/plain": [
       "0    1800\n",
       "1    1801\n",
       "2    1802\n",
       "3    1803\n",
       "4    1804\n",
       "Name: date, dtype: int64"
      ]
     },
     "execution_count": 284,
     "metadata": {},
     "output_type": "execute_result"
    }
   ],
   "source": [
    "c.dt.year.head()"
   ]
  },
  {
   "cell_type": "code",
   "execution_count": 285,
   "id": "8d0bc067",
   "metadata": {},
   "outputs": [
    {
     "data": {
      "text/plain": [
       "401"
      ]
     },
     "execution_count": 285,
     "metadata": {},
     "output_type": "execute_result"
    }
   ],
   "source": [
    "len(c.dt.year.unique())"
   ]
  },
  {
   "cell_type": "code",
   "execution_count": 176,
   "id": "aa86283c",
   "metadata": {},
   "outputs": [
    {
     "data": {
      "text/html": [
       "<div>\n",
       "<style scoped>\n",
       "    .dataframe tbody tr th:only-of-type {\n",
       "        vertical-align: middle;\n",
       "    }\n",
       "\n",
       "    .dataframe tbody tr th {\n",
       "        vertical-align: top;\n",
       "    }\n",
       "\n",
       "    .dataframe thead th {\n",
       "        text-align: right;\n",
       "    }\n",
       "</style>\n",
       "<table border=\"1\" class=\"dataframe\">\n",
       "  <thead>\n",
       "    <tr style=\"text-align: right;\">\n",
       "      <th></th>\n",
       "      <th>year</th>\n",
       "      <th>week</th>\n",
       "      <th>day</th>\n",
       "    </tr>\n",
       "  </thead>\n",
       "  <tbody>\n",
       "    <tr>\n",
       "      <th>0</th>\n",
       "      <td>1800</td>\n",
       "      <td>1</td>\n",
       "      <td>3</td>\n",
       "    </tr>\n",
       "    <tr>\n",
       "      <th>1</th>\n",
       "      <td>1801</td>\n",
       "      <td>1</td>\n",
       "      <td>4</td>\n",
       "    </tr>\n",
       "    <tr>\n",
       "      <th>2</th>\n",
       "      <td>1801</td>\n",
       "      <td>53</td>\n",
       "      <td>5</td>\n",
       "    </tr>\n",
       "    <tr>\n",
       "      <th>3</th>\n",
       "      <td>1802</td>\n",
       "      <td>52</td>\n",
       "      <td>6</td>\n",
       "    </tr>\n",
       "    <tr>\n",
       "      <th>4</th>\n",
       "      <td>1803</td>\n",
       "      <td>52</td>\n",
       "      <td>7</td>\n",
       "    </tr>\n",
       "    <tr>\n",
       "      <th>...</th>\n",
       "      <td>...</td>\n",
       "      <td>...</td>\n",
       "      <td>...</td>\n",
       "    </tr>\n",
       "    <tr>\n",
       "      <th>146457</th>\n",
       "      <td>2196</td>\n",
       "      <td>52</td>\n",
       "      <td>6</td>\n",
       "    </tr>\n",
       "    <tr>\n",
       "      <th>146458</th>\n",
       "      <td>2197</td>\n",
       "      <td>52</td>\n",
       "      <td>7</td>\n",
       "    </tr>\n",
       "    <tr>\n",
       "      <th>146459</th>\n",
       "      <td>2199</td>\n",
       "      <td>1</td>\n",
       "      <td>1</td>\n",
       "    </tr>\n",
       "    <tr>\n",
       "      <th>146460</th>\n",
       "      <td>2200</td>\n",
       "      <td>1</td>\n",
       "      <td>2</td>\n",
       "    </tr>\n",
       "    <tr>\n",
       "      <th>146461</th>\n",
       "      <td>2201</td>\n",
       "      <td>1</td>\n",
       "      <td>3</td>\n",
       "    </tr>\n",
       "  </tbody>\n",
       "</table>\n",
       "<p>146462 rows × 3 columns</p>\n",
       "</div>"
      ],
      "text/plain": [
       "        year  week  day\n",
       "0       1800     1    3\n",
       "1       1801     1    4\n",
       "2       1801    53    5\n",
       "3       1802    52    6\n",
       "4       1803    52    7\n",
       "...      ...   ...  ...\n",
       "146457  2196    52    6\n",
       "146458  2197    52    7\n",
       "146459  2199     1    1\n",
       "146460  2200     1    2\n",
       "146461  2201     1    3\n",
       "\n",
       "[146462 rows x 3 columns]"
      ]
     },
     "execution_count": 176,
     "metadata": {},
     "output_type": "execute_result"
    }
   ],
   "source": [
    "c.dt.isocalendar()"
   ]
  },
  {
   "cell_type": "code",
   "execution_count": 177,
   "id": "23c2d4a2",
   "metadata": {},
   "outputs": [
    {
     "data": {
      "text/plain": [
       "Timestamp('1800-01-01 00:00:00')"
      ]
     },
     "execution_count": 177,
     "metadata": {},
     "output_type": "execute_result"
    }
   ],
   "source": [
    "c.iloc[0]"
   ]
  },
  {
   "cell_type": "code",
   "execution_count": 186,
   "id": "922cded5",
   "metadata": {},
   "outputs": [
    {
     "data": {
      "text/plain": [
       "146462"
      ]
     },
     "execution_count": 186,
     "metadata": {},
     "output_type": "execute_result"
    }
   ],
   "source": [
    "len(c.unique())"
   ]
  },
  {
   "cell_type": "code",
   "execution_count": 295,
   "id": "ad6771d7",
   "metadata": {},
   "outputs": [
    {
     "data": {
      "text/plain": [
       "array([datetime.date(1800, 1, 1), datetime.date(1801, 1, 1),\n",
       "       datetime.date(1802, 1, 1), ..., datetime.date(2198, 12, 31),\n",
       "       datetime.date(2199, 12, 31), datetime.date(2200, 12, 31)],\n",
       "      dtype=object)"
      ]
     },
     "execution_count": 295,
     "metadata": {},
     "output_type": "execute_result"
    }
   ],
   "source": [
    "c.dt.date.unique()"
   ]
  },
  {
   "cell_type": "code",
   "execution_count": 300,
   "id": "96f763e2",
   "metadata": {},
   "outputs": [
    {
     "data": {
      "text/plain": [
       "0          True\n",
       "1          True\n",
       "2          True\n",
       "3          True\n",
       "4          True\n",
       "          ...  \n",
       "146457    False\n",
       "146458    False\n",
       "146459    False\n",
       "146460    False\n",
       "146461    False\n",
       "Name: date, Length: 146462, dtype: bool"
      ]
     },
     "execution_count": 300,
     "metadata": {},
     "output_type": "execute_result"
    }
   ],
   "source": [
    "c.dt.is_year_start"
   ]
  },
  {
   "cell_type": "code",
   "execution_count": 303,
   "id": "54fa07b6",
   "metadata": {},
   "outputs": [
    {
     "data": {
      "text/plain": [
       "0          True\n",
       "1          True\n",
       "2          True\n",
       "3          True\n",
       "4          True\n",
       "          ...  \n",
       "146457    False\n",
       "146458    False\n",
       "146459    False\n",
       "146460    False\n",
       "146461    False\n",
       "Name: date, Length: 146462, dtype: bool"
      ]
     },
     "execution_count": 303,
     "metadata": {},
     "output_type": "execute_result"
    }
   ],
   "source": [
    "c.dt.is_month_start"
   ]
  },
  {
   "cell_type": "code",
   "execution_count": 304,
   "id": "6425532e",
   "metadata": {},
   "outputs": [
    {
     "data": {
      "text/plain": [
       "0          True\n",
       "1          True\n",
       "2          True\n",
       "3          True\n",
       "4          True\n",
       "          ...  \n",
       "146457    False\n",
       "146458    False\n",
       "146459    False\n",
       "146460    False\n",
       "146461    False\n",
       "Name: date, Length: 146462, dtype: bool"
      ]
     },
     "execution_count": 304,
     "metadata": {},
     "output_type": "execute_result"
    }
   ],
   "source": [
    "c.dt.is_quarter_start"
   ]
  },
  {
   "cell_type": "code",
   "execution_count": 189,
   "id": "11116462",
   "metadata": {},
   "outputs": [
    {
     "data": {
      "text/plain": [
       "0        1800-01-01\n",
       "1        1801-01-01\n",
       "2        1802-01-01\n",
       "3        1803-01-01\n",
       "4        1804-01-01\n",
       "            ...    \n",
       "146457   2196-12-31\n",
       "146458   2197-12-31\n",
       "146459   2198-12-31\n",
       "146460   2199-12-31\n",
       "146461   2200-12-31\n",
       "Name: date, Length: 146462, dtype: datetime64[ns]"
      ]
     },
     "execution_count": 189,
     "metadata": {},
     "output_type": "execute_result"
    }
   ],
   "source": [
    "c"
   ]
  },
  {
   "cell_type": "code",
   "execution_count": null,
   "id": "cdf9ac63",
   "metadata": {},
   "outputs": [],
   "source": []
  },
  {
   "cell_type": "code",
   "execution_count": null,
   "id": "a1612615",
   "metadata": {},
   "outputs": [],
   "source": []
  },
  {
   "cell_type": "code",
   "execution_count": 342,
   "id": "81c40f0a",
   "metadata": {},
   "outputs": [
    {
     "data": {
      "text/plain": [
       "array([[18000101],\n",
       "       [18010101],\n",
       "       [18020101],\n",
       "       ...,\n",
       "       [21981231],\n",
       "       [21991231],\n",
       "       [22001231]], dtype=int64)"
      ]
     },
     "execution_count": 342,
     "metadata": {},
     "output_type": "execute_result"
    }
   ],
   "source": [
    "x = c.dt.strftime(\"%Y%m%d\")\n",
    "x = x.astype(np.int64).values.reshape(-1, 1)\n",
    "\n",
    "x"
   ]
  },
  {
   "cell_type": "code",
   "execution_count": 271,
   "id": "d71bde73",
   "metadata": {},
   "outputs": [
    {
     "data": {
      "text/plain": [
       "datetime.datetime(1800, 1, 1, 0, 0)"
      ]
     },
     "execution_count": 271,
     "metadata": {},
     "output_type": "execute_result"
    }
   ],
   "source": [
    "datetime.datetime.strptime('18000101', \"%Y%m%d\")"
   ]
  },
  {
   "cell_type": "code",
   "execution_count": null,
   "id": "53805f09",
   "metadata": {},
   "outputs": [],
   "source": []
  },
  {
   "cell_type": "code",
   "execution_count": null,
   "id": "11a4e3f7",
   "metadata": {},
   "outputs": [],
   "source": []
  },
  {
   "cell_type": "code",
   "execution_count": 324,
   "id": "102fbd8e",
   "metadata": {},
   "outputs": [],
   "source": [
    "ss = RobustScaler()"
   ]
  },
  {
   "cell_type": "code",
   "execution_count": 325,
   "id": "7aae0e4f",
   "metadata": {},
   "outputs": [],
   "source": [
    "out = ss.fit_transform(x)"
   ]
  },
  {
   "cell_type": "code",
   "execution_count": 326,
   "id": "99d4f39d",
   "metadata": {},
   "outputs": [
    {
     "data": {
      "text/plain": [
       "array([[-1.00000975],\n",
       "       [-0.9950112 ],\n",
       "       [-0.99001265],\n",
       "       ...,\n",
       "       [ 0.98997716],\n",
       "       [ 0.99497571],\n",
       "       [ 0.99997426]])"
      ]
     },
     "execution_count": 326,
     "metadata": {},
     "output_type": "execute_result"
    }
   ],
   "source": [
    "out"
   ]
  },
  {
   "cell_type": "code",
   "execution_count": 327,
   "id": "c085aa63",
   "metadata": {},
   "outputs": [
    {
     "data": {
      "text/plain": [
       "array([[18020101.]])"
      ]
     },
     "execution_count": 327,
     "metadata": {},
     "output_type": "execute_result"
    }
   ],
   "source": [
    "prev = ss.inverse_transform([[-0.99001265]]).round()\n",
    "prev"
   ]
  },
  {
   "cell_type": "code",
   "execution_count": 328,
   "id": "b4b43a5d",
   "metadata": {},
   "outputs": [
    {
     "data": {
      "text/plain": [
       "array([[18020101.]])"
      ]
     },
     "execution_count": 328,
     "metadata": {},
     "output_type": "execute_result"
    }
   ],
   "source": [
    "prev"
   ]
  },
  {
   "cell_type": "code",
   "execution_count": null,
   "id": "e688343f",
   "metadata": {},
   "outputs": [],
   "source": []
  },
  {
   "cell_type": "code",
   "execution_count": null,
   "id": "741b9908",
   "metadata": {},
   "outputs": [],
   "source": []
  },
  {
   "cell_type": "code",
   "execution_count": 343,
   "id": "87a90121",
   "metadata": {},
   "outputs": [],
   "source": [
    "ss = StandardScaler()"
   ]
  },
  {
   "cell_type": "code",
   "execution_count": 344,
   "id": "da89867b",
   "metadata": {},
   "outputs": [],
   "source": [
    "out = ss.fit_transform(x)"
   ]
  },
  {
   "cell_type": "code",
   "execution_count": null,
   "id": "adbd792a",
   "metadata": {},
   "outputs": [],
   "source": []
  },
  {
   "cell_type": "code",
   "execution_count": 345,
   "id": "d2c6cb9c",
   "metadata": {},
   "outputs": [
    {
     "data": {
      "text/plain": [
       "array([[-1.72823815],\n",
       "       [-1.71959941],\n",
       "       [-1.71096067],\n",
       "       ...,\n",
       "       [ 1.71095716],\n",
       "       [ 1.7195959 ],\n",
       "       [ 1.72823464]])"
      ]
     },
     "execution_count": 345,
     "metadata": {},
     "output_type": "execute_result"
    }
   ],
   "source": [
    "out"
   ]
  },
  {
   "cell_type": "code",
   "execution_count": 346,
   "id": "82e28f8b",
   "metadata": {},
   "outputs": [
    {
     "data": {
      "text/plain": [
       "array([[18020101.]])"
      ]
     },
     "execution_count": 346,
     "metadata": {},
     "output_type": "execute_result"
    }
   ],
   "source": [
    "prev = ss.inverse_transform([[-1.71096067]]).round()\n",
    "prev"
   ]
  },
  {
   "cell_type": "code",
   "execution_count": 347,
   "id": "5697ef5f",
   "metadata": {},
   "outputs": [
    {
     "data": {
      "text/plain": [
       "array([[18020101.]])"
      ]
     },
     "execution_count": 347,
     "metadata": {},
     "output_type": "execute_result"
    }
   ],
   "source": [
    "prev"
   ]
  },
  {
   "cell_type": "code",
   "execution_count": null,
   "id": "dba533be",
   "metadata": {},
   "outputs": [],
   "source": []
  },
  {
   "cell_type": "code",
   "execution_count": 334,
   "id": "7277fb48",
   "metadata": {},
   "outputs": [],
   "source": [
    "ss = MinMaxScaler()"
   ]
  },
  {
   "cell_type": "code",
   "execution_count": 335,
   "id": "0bfde55a",
   "metadata": {},
   "outputs": [],
   "source": [
    "out = ss.fit_transform(x)"
   ]
  },
  {
   "cell_type": "code",
   "execution_count": 336,
   "id": "7c0abaad",
   "metadata": {},
   "outputs": [
    {
     "data": {
      "text/plain": [
       "array([[0.        ],\n",
       "       [0.00249929],\n",
       "       [0.00499859],\n",
       "       ...,\n",
       "       [0.99500141],\n",
       "       [0.99750071],\n",
       "       [1.        ]])"
      ]
     },
     "execution_count": 336,
     "metadata": {},
     "output_type": "execute_result"
    }
   ],
   "source": [
    "out"
   ]
  },
  {
   "cell_type": "code",
   "execution_count": 337,
   "id": "abc98b2a",
   "metadata": {},
   "outputs": [
    {
     "data": {
      "text/plain": [
       "array([[18020101.]])"
      ]
     },
     "execution_count": 337,
     "metadata": {},
     "output_type": "execute_result"
    }
   ],
   "source": [
    "prev = ss.inverse_transform([[0.00499859]]).round()\n",
    "prev"
   ]
  },
  {
   "cell_type": "code",
   "execution_count": 338,
   "id": "bec9fb76",
   "metadata": {},
   "outputs": [
    {
     "data": {
      "text/plain": [
       "array([[18020101.]])"
      ]
     },
     "execution_count": 338,
     "metadata": {},
     "output_type": "execute_result"
    }
   ],
   "source": [
    "prev"
   ]
  },
  {
   "cell_type": "code",
   "execution_count": 390,
   "id": "881735b6",
   "metadata": {},
   "outputs": [
    {
     "data": {
      "text/plain": [
       "0        1800-01-01\n",
       "1        1801-01-01\n",
       "2        1802-01-01\n",
       "3        1803-01-01\n",
       "4        1804-01-01\n",
       "            ...    \n",
       "146457   2196-12-31\n",
       "146458   2197-12-31\n",
       "146459   2198-12-31\n",
       "146460   2199-12-31\n",
       "146461   2200-12-31\n",
       "Name: date, Length: 146462, dtype: datetime64[ns]"
      ]
     },
     "execution_count": 390,
     "metadata": {},
     "output_type": "execute_result"
    }
   ],
   "source": []
  },
  {
   "cell_type": "code",
   "execution_count": 349,
   "id": "0722a5a3",
   "metadata": {},
   "outputs": [
    {
     "data": {
      "text/plain": [
       "array([[18000101],\n",
       "       [18010101],\n",
       "       [18020101],\n",
       "       ...,\n",
       "       [21981231],\n",
       "       [21991231],\n",
       "       [22001231]], dtype=int64)"
      ]
     },
     "execution_count": 349,
     "metadata": {},
     "output_type": "execute_result"
    }
   ],
   "source": [
    "x"
   ]
  },
  {
   "cell_type": "code",
   "execution_count": 351,
   "id": "d95ece7c",
   "metadata": {},
   "outputs": [
    {
     "data": {
      "text/plain": [
       "(18000101, 22001231)"
      ]
     },
     "execution_count": 351,
     "metadata": {},
     "output_type": "execute_result"
    }
   ],
   "source": [
    "x.min(), x.max()"
   ]
  },
  {
   "cell_type": "code",
   "execution_count": 392,
   "id": "c94da481",
   "metadata": {},
   "outputs": [
    {
     "data": {
      "text/plain": [
       "(0.8181406304038169, 1.0)"
      ]
     },
     "execution_count": 392,
     "metadata": {},
     "output_type": "execute_result"
    }
   ],
   "source": [
    "(x.min() / x.max()), (x.max() / x.max())"
   ]
  },
  {
   "cell_type": "code",
   "execution_count": 378,
   "id": "3dda4a77",
   "metadata": {},
   "outputs": [
    {
     "data": {
      "text/plain": [
       "0.8181406304038169"
      ]
     },
     "execution_count": 378,
     "metadata": {},
     "output_type": "execute_result"
    }
   ],
   "source": [
    "18000101 / x.max()"
   ]
  },
  {
   "cell_type": "code",
   "execution_count": 379,
   "id": "65d95d1e",
   "metadata": {},
   "outputs": [
    {
     "data": {
      "text/plain": [
       "0.8185951504259011"
      ]
     },
     "execution_count": 379,
     "metadata": {},
     "output_type": "execute_result"
    }
   ],
   "source": [
    "18010101 / x.max()"
   ]
  },
  {
   "cell_type": "code",
   "execution_count": 381,
   "id": "28918427",
   "metadata": {},
   "outputs": [
    {
     "data": {
      "text/plain": [
       "0.8190496704479854"
      ]
     },
     "execution_count": 381,
     "metadata": {},
     "output_type": "execute_result"
    }
   ],
   "source": [
    "18020101 / x.max()"
   ]
  },
  {
   "cell_type": "code",
   "execution_count": null,
   "id": "9ada7532",
   "metadata": {},
   "outputs": [],
   "source": []
  },
  {
   "cell_type": "code",
   "execution_count": 383,
   "id": "c6054c6d",
   "metadata": {},
   "outputs": [
    {
     "data": {
      "text/plain": [
       "18000101.0"
      ]
     },
     "execution_count": 383,
     "metadata": {},
     "output_type": "execute_result"
    }
   ],
   "source": [
    "0.8181406304038169 * x.max()"
   ]
  },
  {
   "cell_type": "code",
   "execution_count": 388,
   "id": "4d78b57f",
   "metadata": {},
   "outputs": [
    {
     "data": {
      "text/plain": [
       "18019008.0"
      ]
     },
     "execution_count": 388,
     "metadata": {},
     "output_type": "execute_result"
    }
   ],
   "source": [
    "(0.8190 * x.max()).round()"
   ]
  },
  {
   "cell_type": "code",
   "execution_count": null,
   "id": "4a6a2f98",
   "metadata": {},
   "outputs": [],
   "source": []
  },
  {
   "cell_type": "code",
   "execution_count": null,
   "id": "9a1bb961",
   "metadata": {},
   "outputs": [],
   "source": []
  },
  {
   "cell_type": "code",
   "execution_count": 391,
   "id": "2d122768",
   "metadata": {},
   "outputs": [
    {
     "data": {
      "text/plain": [
       "array([[18000101],\n",
       "       [18010101],\n",
       "       [18020101],\n",
       "       ...,\n",
       "       [21981231],\n",
       "       [21991231],\n",
       "       [22001231]], dtype=int64)"
      ]
     },
     "execution_count": 391,
     "metadata": {},
     "output_type": "execute_result"
    }
   ],
   "source": [
    "k = c.dt.strftime(\"%Y%m%d\")\n",
    "k = x.astype(np.int64)\n",
    "\n",
    "k"
   ]
  },
  {
   "cell_type": "code",
   "execution_count": 368,
   "id": "3c9879f4",
   "metadata": {},
   "outputs": [],
   "source": [
    "xx = np.array([18000101])\n",
    "# xx = np.array([21971231])"
   ]
  },
  {
   "cell_type": "code",
   "execution_count": 369,
   "id": "4d9de767",
   "metadata": {},
   "outputs": [
    {
     "data": {
      "text/plain": [
       "array([16.70588793])"
      ]
     },
     "execution_count": 369,
     "metadata": {},
     "output_type": "execute_result"
    }
   ],
   "source": [
    "l = np.log(xx)\n",
    "# l = np.array([16.7059])\n",
    "\n",
    "l"
   ]
  },
  {
   "cell_type": "code",
   "execution_count": 370,
   "id": "b736e17b",
   "metadata": {},
   "outputs": [
    {
     "data": {
      "text/plain": [
       "array([18000101.])"
      ]
     },
     "execution_count": 370,
     "metadata": {},
     "output_type": "execute_result"
    }
   ],
   "source": [
    "np.exp(l).round()"
   ]
  },
  {
   "cell_type": "code",
   "execution_count": 371,
   "id": "079c9ff1",
   "metadata": {},
   "outputs": [
    {
     "data": {
      "text/plain": [
       "array([ True])"
      ]
     },
     "execution_count": 371,
     "metadata": {},
     "output_type": "execute_result"
    }
   ],
   "source": [
    "np.exp(l).round() == xx"
   ]
  },
  {
   "cell_type": "code",
   "execution_count": 372,
   "id": "3fbc3cf4",
   "metadata": {},
   "outputs": [
    {
     "data": {
      "text/plain": [
       "array([7.25527494])"
      ]
     },
     "execution_count": 372,
     "metadata": {},
     "output_type": "execute_result"
    }
   ],
   "source": [
    "np.log10(xx)"
   ]
  },
  {
   "cell_type": "code",
   "execution_count": 373,
   "id": "d51015b1",
   "metadata": {},
   "outputs": [
    {
     "data": {
      "text/plain": [
       "array([7.25551615])"
      ]
     },
     "execution_count": 373,
     "metadata": {},
     "output_type": "execute_result"
    }
   ],
   "source": [
    "np.log10([18010101])"
   ]
  },
  {
   "cell_type": "code",
   "execution_count": null,
   "id": "f1fcc0cb",
   "metadata": {},
   "outputs": [],
   "source": []
  },
  {
   "cell_type": "code",
   "execution_count": 256,
   "id": "72143ebe",
   "metadata": {},
   "outputs": [
    {
     "data": {
      "text/plain": [
       "0"
      ]
     },
     "execution_count": 256,
     "metadata": {},
     "output_type": "execute_result"
    }
   ],
   "source": [
    "pd.to_datetime('1970-01-01').value"
   ]
  },
  {
   "cell_type": "code",
   "execution_count": null,
   "id": "33f10269",
   "metadata": {},
   "outputs": [],
   "source": []
  },
  {
   "cell_type": "code",
   "execution_count": null,
   "id": "78cda30b",
   "metadata": {},
   "outputs": [],
   "source": []
  },
  {
   "cell_type": "code",
   "execution_count": null,
   "id": "4e96cfa2",
   "metadata": {},
   "outputs": [],
   "source": []
  },
  {
   "cell_type": "code",
   "execution_count": null,
   "id": "a7fbb5ef",
   "metadata": {},
   "outputs": [],
   "source": []
  },
  {
   "cell_type": "code",
   "execution_count": null,
   "id": "2eba376a",
   "metadata": {},
   "outputs": [],
   "source": []
  },
  {
   "cell_type": "code",
   "execution_count": null,
   "id": "3fa452cc",
   "metadata": {},
   "outputs": [],
   "source": []
  },
  {
   "cell_type": "code",
   "execution_count": null,
   "id": "e5822181",
   "metadata": {},
   "outputs": [],
   "source": []
  },
  {
   "cell_type": "code",
   "execution_count": null,
   "id": "f7da2cad",
   "metadata": {},
   "outputs": [],
   "source": []
  },
  {
   "cell_type": "code",
   "execution_count": null,
   "id": "95203bb2",
   "metadata": {},
   "outputs": [],
   "source": []
  },
  {
   "cell_type": "code",
   "execution_count": null,
   "id": "d391d888",
   "metadata": {},
   "outputs": [],
   "source": []
  },
  {
   "cell_type": "code",
   "execution_count": null,
   "id": "83b69073",
   "metadata": {},
   "outputs": [],
   "source": []
  },
  {
   "cell_type": "code",
   "execution_count": 393,
   "id": "5f19eabf",
   "metadata": {},
   "outputs": [],
   "source": [
    "import pathlib\n"
   ]
  },
  {
   "cell_type": "code",
   "execution_count": 394,
   "id": "c4cc550f",
   "metadata": {},
   "outputs": [],
   "source": [
    "output_path = './data/example_input.txt'"
   ]
  },
  {
   "cell_type": "code",
   "execution_count": 395,
   "id": "be93f186",
   "metadata": {},
   "outputs": [
    {
     "data": {
      "text/plain": [
       "WindowsPath('data/example_input.txt')"
      ]
     },
     "execution_count": 395,
     "metadata": {},
     "output_type": "execute_result"
    }
   ],
   "source": [
    "p = pathlib.Path(output_path)\n",
    "p"
   ]
  },
  {
   "cell_type": "code",
   "execution_count": 396,
   "id": "677bef42",
   "metadata": {},
   "outputs": [
    {
     "data": {
      "text/plain": [
       "'example_input_smote'"
      ]
     },
     "execution_count": 396,
     "metadata": {},
     "output_type": "execute_result"
    }
   ],
   "source": [
    "p.stem + '_smote'"
   ]
  },
  {
   "cell_type": "code",
   "execution_count": 404,
   "id": "9394d630",
   "metadata": {},
   "outputs": [
    {
     "data": {
      "text/plain": [
       "'data\\\\example_input.txt'"
      ]
     },
     "execution_count": 404,
     "metadata": {},
     "output_type": "execute_result"
    }
   ],
   "source": [
    "s = str(p)\n",
    "s"
   ]
  },
  {
   "cell_type": "code",
   "execution_count": 405,
   "id": "5e370094",
   "metadata": {},
   "outputs": [
    {
     "data": {
      "text/plain": [
       "'data\\\\example_input_smote.txt'"
      ]
     },
     "execution_count": 405,
     "metadata": {},
     "output_type": "execute_result"
    }
   ],
   "source": [
    "s.replace(p.stem, p.stem + '_smote')"
   ]
  },
  {
   "cell_type": "code",
   "execution_count": 406,
   "id": "4d21ae50",
   "metadata": {},
   "outputs": [],
   "source": [
    "output_path = '../data/example_input.txt'\n",
    "\n",
    "\n",
    "p = pathlib.Path(output_path)\n",
    "\n",
    "output_path_smote = output_path.replace(p.stem, p.stem + '_smote')"
   ]
  },
  {
   "cell_type": "code",
   "execution_count": 407,
   "id": "d0abb48e",
   "metadata": {},
   "outputs": [
    {
     "data": {
      "text/plain": [
       "('../data/example_input.txt', '../data/example_input_smote.txt')"
      ]
     },
     "execution_count": 407,
     "metadata": {},
     "output_type": "execute_result"
    }
   ],
   "source": [
    "output_path, output_path_smote"
   ]
  },
  {
   "cell_type": "code",
   "execution_count": null,
   "id": "54d8803f",
   "metadata": {},
   "outputs": [],
   "source": []
  },
  {
   "cell_type": "code",
   "execution_count": null,
   "id": "cc23c4e7",
   "metadata": {},
   "outputs": [],
   "source": []
  },
  {
   "cell_type": "code",
   "execution_count": null,
   "id": "05ed55cb",
   "metadata": {},
   "outputs": [],
   "source": []
  },
  {
   "cell_type": "code",
   "execution_count": null,
   "id": "0ec0f864",
   "metadata": {},
   "outputs": [],
   "source": []
  },
  {
   "cell_type": "code",
   "execution_count": null,
   "id": "3979ed1e",
   "metadata": {},
   "outputs": [],
   "source": [
    "# pd.read_csv(p.absolute(), sep=' ', header=None)\n",
    "# pd.read_csv(p.absolute())"
   ]
  },
  {
   "cell_type": "code",
   "execution_count": null,
   "id": "a89df633",
   "metadata": {},
   "outputs": [],
   "source": []
  },
  {
   "cell_type": "code",
   "execution_count": null,
   "id": "6e81a320",
   "metadata": {},
   "outputs": [],
   "source": []
  },
  {
   "cell_type": "code",
   "execution_count": null,
   "id": "eea376ab",
   "metadata": {},
   "outputs": [],
   "source": []
  },
  {
   "cell_type": "code",
   "execution_count": null,
   "id": "83389df0",
   "metadata": {},
   "outputs": [],
   "source": []
  },
  {
   "cell_type": "code",
   "execution_count": null,
   "id": "47339ca2",
   "metadata": {},
   "outputs": [],
   "source": []
  }
 ],
 "metadata": {
  "colab": {
   "name": "Project notebook.ipynb",
   "provenance": []
  },
  "kernelspec": {
   "display_name": "Python 3 (ipykernel)",
   "language": "python",
   "name": "python3"
  },
  "language_info": {
   "codemirror_mode": {
    "name": "ipython",
    "version": 3
   },
   "file_extension": ".py",
   "mimetype": "text/x-python",
   "name": "python",
   "nbconvert_exporter": "python",
   "pygments_lexer": "ipython3",
   "version": "3.8.8"
  }
 },
 "nbformat": 4,
 "nbformat_minor": 5
}
