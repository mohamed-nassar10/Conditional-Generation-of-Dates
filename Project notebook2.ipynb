{
  "cells": [
    {
      "cell_type": "code",
      "execution_count": 1,
      "id": "80f49038",
      "metadata": {
        "id": "80f49038"
      },
      "outputs": [],
      "source": [
        "\n",
        "import datetime\n",
        "\n",
        "import copy\n",
        "\n",
        "import random\n",
        "\n"
      ]
    },
    {
      "cell_type": "code",
      "execution_count": 2,
      "id": "09911fdb",
      "metadata": {
        "id": "09911fdb"
      },
      "outputs": [],
      "source": [
        "import numpy as np\n",
        "import pandas as pd\n",
        "\n",
        "import matplotlib.pyplot as plt\n",
        "%matplotlib inline\n",
        "# plt.style.use('seaborn')\n",
        "# plt.style.use(['dark_background', 'ggplot'])\n",
        "\n",
        "import seaborn as sns\n",
        "# sns.set()\n",
        "\n",
        "# import scipy\n",
        "# import scipy.stats as stats\n",
        "\n",
        "\n",
        "# # sympy = symbolic math in Python\n",
        "# import sympy as sym\n",
        "# import sympy.plotting.plot as symplot\n",
        "\n",
        "\n",
        "# make the equations look nicer\n",
        "\n",
        "# from IPython.display import display\n",
        "# display.set_matplotlib_formats('svg') # Deprecated since version 7.23\n",
        "\n",
        "# import matplotlib_inline\n",
        "# matplotlib_inline.backend_inline.set_matplotlib_formats('svg')"
      ]
    },
    {
      "cell_type": "code",
      "execution_count": 3,
      "id": "269532b6",
      "metadata": {
        "id": "269532b6"
      },
      "outputs": [],
      "source": [
        "\n",
        "import sklearn\n",
        "\n",
        "\n",
        "# from sklearn.feature_extraction.text import CountVectorizer\n",
        "\n",
        "# from sklearn.compose import ColumnTransformer\n",
        "# from sklearn.pipeline import Pipeline\n",
        "# from sklearn.impute import SimpleImputer\n",
        "# from sklearn.preprocessing import OneHotEncoder\n",
        "\n",
        "# # Modelling\n",
        "# from sklearn.ensemble import RandomForestRegressor\n",
        "\n",
        "from sklearn.model_selection import train_test_split\n",
        "\n",
        "# from sklearn.model_selection import GridSearchCV\n",
        "\n",
        "\n",
        "\n",
        "\n",
        "\n",
        "\n",
        "\n",
        "\n"
      ]
    },
    {
      "cell_type": "code",
      "execution_count": 4,
      "id": "ddaf2044",
      "metadata": {
        "colab": {
          "base_uri": "https://localhost:8080/",
          "height": 36
        },
        "id": "ddaf2044",
        "outputId": "242a4b4d-8b53-4a7e-b639-091c84d2b07e"
      },
      "outputs": [
        {
          "output_type": "execute_result",
          "data": {
            "text/plain": [
              "'1.12.0+cu113'"
            ],
            "application/vnd.google.colaboratory.intrinsic+json": {
              "type": "string"
            }
          },
          "metadata": {},
          "execution_count": 4
        }
      ],
      "source": [
        "import torch\n",
        "import torch.nn as nn\n",
        "import torch.nn.functional as F\n",
        "\n",
        "from torch.utils.data import TensorDataset, DataLoader\n",
        "\n",
        "\n",
        "\n",
        "\n",
        "\n",
        "torch.__version__"
      ]
    },
    {
      "cell_type": "code",
      "execution_count": 4,
      "id": "5168cf92",
      "metadata": {
        "id": "5168cf92"
      },
      "outputs": [],
      "source": [
        ""
      ]
    },
    {
      "cell_type": "code",
      "execution_count": 5,
      "id": "0b461326",
      "metadata": {
        "colab": {
          "base_uri": "https://localhost:8080/"
        },
        "id": "0b461326",
        "outputId": "1cc9d736-e9d1-4cb2-fe9c-206ee1b1360c"
      },
      "outputs": [
        {
          "output_type": "execute_result",
          "data": {
            "text/plain": [
              "<torch._C.Generator at 0x7f6fb73bf670>"
            ]
          },
          "metadata": {},
          "execution_count": 5
        }
      ],
      "source": [
        "random.seed(0)\n",
        "np.random.seed(0)\n",
        "torch.manual_seed(0)"
      ]
    },
    {
      "cell_type": "code",
      "execution_count": 6,
      "id": "6c9da09c",
      "metadata": {
        "id": "6c9da09c"
      },
      "outputs": [],
      "source": [
        "device = torch.device('cuda' if torch.cuda.is_available() else 'cpu')"
      ]
    },
    {
      "cell_type": "code",
      "source": [
        ""
      ],
      "metadata": {
        "id": "ON3HRsKv-i73"
      },
      "id": "ON3HRsKv-i73",
      "execution_count": 6,
      "outputs": []
    },
    {
      "cell_type": "code",
      "execution_count": 7,
      "id": "468a63f6",
      "metadata": {
        "id": "468a63f6"
      },
      "outputs": [],
      "source": [
        "# date = np.datetime64(\"2000-01-01\")\n",
        "# date_strings = date.astype(str).split('-'). \n",
        "# # >> ['2000', '01', '01']\n",
        "\n",
        "# year_int = int(date_strings[0])"
      ]
    },
    {
      "cell_type": "code",
      "execution_count": 8,
      "id": "QCdxP4XhehqH",
      "metadata": {
        "colab": {
          "base_uri": "https://localhost:8080/"
        },
        "id": "QCdxP4XhehqH",
        "outputId": "9a384544-9055-4fce-858c-c544316c25ca"
      },
      "outputs": [
        {
          "output_type": "stream",
          "name": "stdout",
          "text": [
            "--2022-08-02 08:20:58--  https://raw.githubusercontent.com/Proteinea/dl-challenge-2/main/data/data.txt\n",
            "Resolving raw.githubusercontent.com (raw.githubusercontent.com)... 185.199.109.133, 185.199.108.133, 185.199.111.133, ...\n",
            "Connecting to raw.githubusercontent.com (raw.githubusercontent.com)|185.199.109.133|:443... connected.\n",
            "HTTP request sent, awaiting response... 200 OK\n",
            "Length: 5230713 (5.0M) [text/plain]\n",
            "Saving to: ‘data.txt’\n",
            "\n",
            "data.txt            100%[===================>]   4.99M  --.-KB/s    in 0.08s   \n",
            "\n",
            "2022-08-02 08:20:59 (62.2 MB/s) - ‘data.txt’ saved [5230713/5230713]\n",
            "\n"
          ]
        }
      ],
      "source": [
        "!wget -nc https://raw.githubusercontent.com/Proteinea/dl-challenge-2/main/data/data.txt"
      ]
    },
    {
      "cell_type": "code",
      "execution_count": 9,
      "id": "kSAq5WBueyxO",
      "metadata": {
        "colab": {
          "base_uri": "https://localhost:8080/"
        },
        "id": "kSAq5WBueyxO",
        "outputId": "d30e00df-c158-45c0-feb1-5cd91e10d294"
      },
      "outputs": [
        {
          "output_type": "stream",
          "name": "stdout",
          "text": [
            "data.txt  sample_data\n"
          ]
        }
      ],
      "source": [
        "!ls"
      ]
    },
    {
      "cell_type": "markdown",
      "id": "2f1a8f2f",
      "metadata": {
        "id": "2f1a8f2f"
      },
      "source": [
        "'text.txt'"
      ]
    },
    {
      "cell_type": "markdown",
      "id": "f00c87c3",
      "metadata": {
        "id": "f00c87c3"
      },
      "source": [
        "[ 1-1-1800 to 31-12-2200 ]"
      ]
    },
    {
      "cell_type": "markdown",
      "id": "2357ed28",
      "metadata": {
        "id": "2357ed28"
      },
      "source": [
        "[day condition] [month condition] [leap year condition] [decade condition] date"
      ]
    },
    {
      "cell_type": "markdown",
      "id": "c093f47a",
      "metadata": {
        "id": "c093f47a"
      },
      "source": [
        "[MON] [DEC] [False] [196] 3-12-1962\n",
        "[THU] [DEC] [True] [204] 3-12-2048\n",
        "[WED] [JAN] [False] [181] 10-1-1810"
      ]
    },
    {
      "cell_type": "code",
      "execution_count": 10,
      "id": "1ef976e5",
      "metadata": {
        "id": "1ef976e5"
      },
      "outputs": [],
      "source": [
        "# data = np.loadtxt(open('text.txt','r'),delimiter=' ')\n",
        "# ori = pd.read_csv('./data/data.txt', sep=' ', header=None)\n",
        "\n",
        "ori = pd.read_csv('data.txt', sep=' ', header=None)\n"
      ]
    },
    {
      "cell_type": "code",
      "execution_count": 11,
      "id": "483a39a9",
      "metadata": {
        "id": "483a39a9"
      },
      "outputs": [],
      "source": [
        "ori.columns = ['day', 'month', 'leap_year', 'decade', 'date']"
      ]
    },
    {
      "cell_type": "code",
      "execution_count": 12,
      "id": "06cea43d",
      "metadata": {
        "colab": {
          "base_uri": "https://localhost:8080/",
          "height": 423
        },
        "id": "06cea43d",
        "outputId": "0e811b80-ffed-49ba-9d35-443935cdbcaa"
      },
      "outputs": [
        {
          "output_type": "execute_result",
          "data": {
            "text/plain": [
              "          day  month leap_year decade        date\n",
              "0       [WED]  [JAN]   [False]  [180]    1-1-1800\n",
              "1       [THU]  [JAN]   [False]  [180]    1-1-1801\n",
              "2       [FRI]  [JAN]   [False]  [180]    1-1-1802\n",
              "3       [SAT]  [JAN]   [False]  [180]    1-1-1803\n",
              "4       [SUN]  [JAN]    [True]  [180]    1-1-1804\n",
              "...       ...    ...       ...    ...         ...\n",
              "146457  [SAT]  [DEC]    [True]  [219]  31-12-2196\n",
              "146458  [SUN]  [DEC]   [False]  [219]  31-12-2197\n",
              "146459  [MON]  [DEC]   [False]  [219]  31-12-2198\n",
              "146460  [TUE]  [DEC]   [False]  [219]  31-12-2199\n",
              "146461  [WED]  [DEC]   [False]  [220]  31-12-2200\n",
              "\n",
              "[146462 rows x 5 columns]"
            ],
            "text/html": [
              "\n",
              "  <div id=\"df-49210244-9af2-4f04-971a-d42d65a386d0\">\n",
              "    <div class=\"colab-df-container\">\n",
              "      <div>\n",
              "<style scoped>\n",
              "    .dataframe tbody tr th:only-of-type {\n",
              "        vertical-align: middle;\n",
              "    }\n",
              "\n",
              "    .dataframe tbody tr th {\n",
              "        vertical-align: top;\n",
              "    }\n",
              "\n",
              "    .dataframe thead th {\n",
              "        text-align: right;\n",
              "    }\n",
              "</style>\n",
              "<table border=\"1\" class=\"dataframe\">\n",
              "  <thead>\n",
              "    <tr style=\"text-align: right;\">\n",
              "      <th></th>\n",
              "      <th>day</th>\n",
              "      <th>month</th>\n",
              "      <th>leap_year</th>\n",
              "      <th>decade</th>\n",
              "      <th>date</th>\n",
              "    </tr>\n",
              "  </thead>\n",
              "  <tbody>\n",
              "    <tr>\n",
              "      <th>0</th>\n",
              "      <td>[WED]</td>\n",
              "      <td>[JAN]</td>\n",
              "      <td>[False]</td>\n",
              "      <td>[180]</td>\n",
              "      <td>1-1-1800</td>\n",
              "    </tr>\n",
              "    <tr>\n",
              "      <th>1</th>\n",
              "      <td>[THU]</td>\n",
              "      <td>[JAN]</td>\n",
              "      <td>[False]</td>\n",
              "      <td>[180]</td>\n",
              "      <td>1-1-1801</td>\n",
              "    </tr>\n",
              "    <tr>\n",
              "      <th>2</th>\n",
              "      <td>[FRI]</td>\n",
              "      <td>[JAN]</td>\n",
              "      <td>[False]</td>\n",
              "      <td>[180]</td>\n",
              "      <td>1-1-1802</td>\n",
              "    </tr>\n",
              "    <tr>\n",
              "      <th>3</th>\n",
              "      <td>[SAT]</td>\n",
              "      <td>[JAN]</td>\n",
              "      <td>[False]</td>\n",
              "      <td>[180]</td>\n",
              "      <td>1-1-1803</td>\n",
              "    </tr>\n",
              "    <tr>\n",
              "      <th>4</th>\n",
              "      <td>[SUN]</td>\n",
              "      <td>[JAN]</td>\n",
              "      <td>[True]</td>\n",
              "      <td>[180]</td>\n",
              "      <td>1-1-1804</td>\n",
              "    </tr>\n",
              "    <tr>\n",
              "      <th>...</th>\n",
              "      <td>...</td>\n",
              "      <td>...</td>\n",
              "      <td>...</td>\n",
              "      <td>...</td>\n",
              "      <td>...</td>\n",
              "    </tr>\n",
              "    <tr>\n",
              "      <th>146457</th>\n",
              "      <td>[SAT]</td>\n",
              "      <td>[DEC]</td>\n",
              "      <td>[True]</td>\n",
              "      <td>[219]</td>\n",
              "      <td>31-12-2196</td>\n",
              "    </tr>\n",
              "    <tr>\n",
              "      <th>146458</th>\n",
              "      <td>[SUN]</td>\n",
              "      <td>[DEC]</td>\n",
              "      <td>[False]</td>\n",
              "      <td>[219]</td>\n",
              "      <td>31-12-2197</td>\n",
              "    </tr>\n",
              "    <tr>\n",
              "      <th>146459</th>\n",
              "      <td>[MON]</td>\n",
              "      <td>[DEC]</td>\n",
              "      <td>[False]</td>\n",
              "      <td>[219]</td>\n",
              "      <td>31-12-2198</td>\n",
              "    </tr>\n",
              "    <tr>\n",
              "      <th>146460</th>\n",
              "      <td>[TUE]</td>\n",
              "      <td>[DEC]</td>\n",
              "      <td>[False]</td>\n",
              "      <td>[219]</td>\n",
              "      <td>31-12-2199</td>\n",
              "    </tr>\n",
              "    <tr>\n",
              "      <th>146461</th>\n",
              "      <td>[WED]</td>\n",
              "      <td>[DEC]</td>\n",
              "      <td>[False]</td>\n",
              "      <td>[220]</td>\n",
              "      <td>31-12-2200</td>\n",
              "    </tr>\n",
              "  </tbody>\n",
              "</table>\n",
              "<p>146462 rows × 5 columns</p>\n",
              "</div>\n",
              "      <button class=\"colab-df-convert\" onclick=\"convertToInteractive('df-49210244-9af2-4f04-971a-d42d65a386d0')\"\n",
              "              title=\"Convert this dataframe to an interactive table.\"\n",
              "              style=\"display:none;\">\n",
              "        \n",
              "  <svg xmlns=\"http://www.w3.org/2000/svg\" height=\"24px\"viewBox=\"0 0 24 24\"\n",
              "       width=\"24px\">\n",
              "    <path d=\"M0 0h24v24H0V0z\" fill=\"none\"/>\n",
              "    <path d=\"M18.56 5.44l.94 2.06.94-2.06 2.06-.94-2.06-.94-.94-2.06-.94 2.06-2.06.94zm-11 1L8.5 8.5l.94-2.06 2.06-.94-2.06-.94L8.5 2.5l-.94 2.06-2.06.94zm10 10l.94 2.06.94-2.06 2.06-.94-2.06-.94-.94-2.06-.94 2.06-2.06.94z\"/><path d=\"M17.41 7.96l-1.37-1.37c-.4-.4-.92-.59-1.43-.59-.52 0-1.04.2-1.43.59L10.3 9.45l-7.72 7.72c-.78.78-.78 2.05 0 2.83L4 21.41c.39.39.9.59 1.41.59.51 0 1.02-.2 1.41-.59l7.78-7.78 2.81-2.81c.8-.78.8-2.07 0-2.86zM5.41 20L4 18.59l7.72-7.72 1.47 1.35L5.41 20z\"/>\n",
              "  </svg>\n",
              "      </button>\n",
              "      \n",
              "  <style>\n",
              "    .colab-df-container {\n",
              "      display:flex;\n",
              "      flex-wrap:wrap;\n",
              "      gap: 12px;\n",
              "    }\n",
              "\n",
              "    .colab-df-convert {\n",
              "      background-color: #E8F0FE;\n",
              "      border: none;\n",
              "      border-radius: 50%;\n",
              "      cursor: pointer;\n",
              "      display: none;\n",
              "      fill: #1967D2;\n",
              "      height: 32px;\n",
              "      padding: 0 0 0 0;\n",
              "      width: 32px;\n",
              "    }\n",
              "\n",
              "    .colab-df-convert:hover {\n",
              "      background-color: #E2EBFA;\n",
              "      box-shadow: 0px 1px 2px rgba(60, 64, 67, 0.3), 0px 1px 3px 1px rgba(60, 64, 67, 0.15);\n",
              "      fill: #174EA6;\n",
              "    }\n",
              "\n",
              "    [theme=dark] .colab-df-convert {\n",
              "      background-color: #3B4455;\n",
              "      fill: #D2E3FC;\n",
              "    }\n",
              "\n",
              "    [theme=dark] .colab-df-convert:hover {\n",
              "      background-color: #434B5C;\n",
              "      box-shadow: 0px 1px 3px 1px rgba(0, 0, 0, 0.15);\n",
              "      filter: drop-shadow(0px 1px 2px rgba(0, 0, 0, 0.3));\n",
              "      fill: #FFFFFF;\n",
              "    }\n",
              "  </style>\n",
              "\n",
              "      <script>\n",
              "        const buttonEl =\n",
              "          document.querySelector('#df-49210244-9af2-4f04-971a-d42d65a386d0 button.colab-df-convert');\n",
              "        buttonEl.style.display =\n",
              "          google.colab.kernel.accessAllowed ? 'block' : 'none';\n",
              "\n",
              "        async function convertToInteractive(key) {\n",
              "          const element = document.querySelector('#df-49210244-9af2-4f04-971a-d42d65a386d0');\n",
              "          const dataTable =\n",
              "            await google.colab.kernel.invokeFunction('convertToInteractive',\n",
              "                                                     [key], {});\n",
              "          if (!dataTable) return;\n",
              "\n",
              "          const docLinkHtml = 'Like what you see? Visit the ' +\n",
              "            '<a target=\"_blank\" href=https://colab.research.google.com/notebooks/data_table.ipynb>data table notebook</a>'\n",
              "            + ' to learn more about interactive tables.';\n",
              "          element.innerHTML = '';\n",
              "          dataTable['output_type'] = 'display_data';\n",
              "          await google.colab.output.renderOutput(dataTable, element);\n",
              "          const docLink = document.createElement('div');\n",
              "          docLink.innerHTML = docLinkHtml;\n",
              "          element.appendChild(docLink);\n",
              "        }\n",
              "      </script>\n",
              "    </div>\n",
              "  </div>\n",
              "  "
            ]
          },
          "metadata": {},
          "execution_count": 12
        }
      ],
      "source": [
        "ori"
      ]
    },
    {
      "cell_type": "code",
      "execution_count": 13,
      "id": "79aa52e2",
      "metadata": {
        "id": "79aa52e2"
      },
      "outputs": [],
      "source": [
        "# data.date = pd.to_datetime(data.date, format='%d-%m-%Y', infer_datetime_format=False)\n",
        "# # pd.to_datetime(data.date, infer_datetime_format=False)"
      ]
    },
    {
      "cell_type": "code",
      "execution_count": 14,
      "id": "096340f3",
      "metadata": {
        "colab": {
          "base_uri": "https://localhost:8080/"
        },
        "id": "096340f3",
        "outputId": "716228e9-8a80-4715-f902-a67c8e03b049"
      },
      "outputs": [
        {
          "output_type": "execute_result",
          "data": {
            "text/plain": [
              "day          object\n",
              "month        object\n",
              "leap_year    object\n",
              "decade       object\n",
              "date         object\n",
              "dtype: object"
            ]
          },
          "metadata": {},
          "execution_count": 14
        }
      ],
      "source": [
        "ori.dtypes"
      ]
    },
    {
      "cell_type": "code",
      "execution_count": 15,
      "id": "69913485",
      "metadata": {
        "id": "69913485"
      },
      "outputs": [],
      "source": [
        "# data_backup = copy.deepcopy(ori)\n",
        "data = copy.deepcopy(ori)"
      ]
    },
    {
      "cell_type": "code",
      "execution_count": 15,
      "id": "c9d47190",
      "metadata": {
        "id": "c9d47190"
      },
      "outputs": [],
      "source": [
        ""
      ]
    },
    {
      "cell_type": "code",
      "execution_count": 16,
      "id": "450dab8c",
      "metadata": {
        "colab": {
          "base_uri": "https://localhost:8080/",
          "height": 423
        },
        "id": "450dab8c",
        "outputId": "9f6f62ed-dfdf-4ab8-952d-1ef23e6f36fb"
      },
      "outputs": [
        {
          "output_type": "execute_result",
          "data": {
            "text/plain": [
              "          day  month leap_year decade        date\n",
              "0       [WED]  [JAN]   [False]  [180]    1-1-1800\n",
              "1       [THU]  [JAN]   [False]  [180]    1-1-1801\n",
              "2       [FRI]  [JAN]   [False]  [180]    1-1-1802\n",
              "3       [SAT]  [JAN]   [False]  [180]    1-1-1803\n",
              "4       [SUN]  [JAN]    [True]  [180]    1-1-1804\n",
              "...       ...    ...       ...    ...         ...\n",
              "146457  [SAT]  [DEC]    [True]  [219]  31-12-2196\n",
              "146458  [SUN]  [DEC]   [False]  [219]  31-12-2197\n",
              "146459  [MON]  [DEC]   [False]  [219]  31-12-2198\n",
              "146460  [TUE]  [DEC]   [False]  [219]  31-12-2199\n",
              "146461  [WED]  [DEC]   [False]  [220]  31-12-2200\n",
              "\n",
              "[146462 rows x 5 columns]"
            ],
            "text/html": [
              "\n",
              "  <div id=\"df-b89cd593-a661-4b74-90c1-36c8f5827f6d\">\n",
              "    <div class=\"colab-df-container\">\n",
              "      <div>\n",
              "<style scoped>\n",
              "    .dataframe tbody tr th:only-of-type {\n",
              "        vertical-align: middle;\n",
              "    }\n",
              "\n",
              "    .dataframe tbody tr th {\n",
              "        vertical-align: top;\n",
              "    }\n",
              "\n",
              "    .dataframe thead th {\n",
              "        text-align: right;\n",
              "    }\n",
              "</style>\n",
              "<table border=\"1\" class=\"dataframe\">\n",
              "  <thead>\n",
              "    <tr style=\"text-align: right;\">\n",
              "      <th></th>\n",
              "      <th>day</th>\n",
              "      <th>month</th>\n",
              "      <th>leap_year</th>\n",
              "      <th>decade</th>\n",
              "      <th>date</th>\n",
              "    </tr>\n",
              "  </thead>\n",
              "  <tbody>\n",
              "    <tr>\n",
              "      <th>0</th>\n",
              "      <td>[WED]</td>\n",
              "      <td>[JAN]</td>\n",
              "      <td>[False]</td>\n",
              "      <td>[180]</td>\n",
              "      <td>1-1-1800</td>\n",
              "    </tr>\n",
              "    <tr>\n",
              "      <th>1</th>\n",
              "      <td>[THU]</td>\n",
              "      <td>[JAN]</td>\n",
              "      <td>[False]</td>\n",
              "      <td>[180]</td>\n",
              "      <td>1-1-1801</td>\n",
              "    </tr>\n",
              "    <tr>\n",
              "      <th>2</th>\n",
              "      <td>[FRI]</td>\n",
              "      <td>[JAN]</td>\n",
              "      <td>[False]</td>\n",
              "      <td>[180]</td>\n",
              "      <td>1-1-1802</td>\n",
              "    </tr>\n",
              "    <tr>\n",
              "      <th>3</th>\n",
              "      <td>[SAT]</td>\n",
              "      <td>[JAN]</td>\n",
              "      <td>[False]</td>\n",
              "      <td>[180]</td>\n",
              "      <td>1-1-1803</td>\n",
              "    </tr>\n",
              "    <tr>\n",
              "      <th>4</th>\n",
              "      <td>[SUN]</td>\n",
              "      <td>[JAN]</td>\n",
              "      <td>[True]</td>\n",
              "      <td>[180]</td>\n",
              "      <td>1-1-1804</td>\n",
              "    </tr>\n",
              "    <tr>\n",
              "      <th>...</th>\n",
              "      <td>...</td>\n",
              "      <td>...</td>\n",
              "      <td>...</td>\n",
              "      <td>...</td>\n",
              "      <td>...</td>\n",
              "    </tr>\n",
              "    <tr>\n",
              "      <th>146457</th>\n",
              "      <td>[SAT]</td>\n",
              "      <td>[DEC]</td>\n",
              "      <td>[True]</td>\n",
              "      <td>[219]</td>\n",
              "      <td>31-12-2196</td>\n",
              "    </tr>\n",
              "    <tr>\n",
              "      <th>146458</th>\n",
              "      <td>[SUN]</td>\n",
              "      <td>[DEC]</td>\n",
              "      <td>[False]</td>\n",
              "      <td>[219]</td>\n",
              "      <td>31-12-2197</td>\n",
              "    </tr>\n",
              "    <tr>\n",
              "      <th>146459</th>\n",
              "      <td>[MON]</td>\n",
              "      <td>[DEC]</td>\n",
              "      <td>[False]</td>\n",
              "      <td>[219]</td>\n",
              "      <td>31-12-2198</td>\n",
              "    </tr>\n",
              "    <tr>\n",
              "      <th>146460</th>\n",
              "      <td>[TUE]</td>\n",
              "      <td>[DEC]</td>\n",
              "      <td>[False]</td>\n",
              "      <td>[219]</td>\n",
              "      <td>31-12-2199</td>\n",
              "    </tr>\n",
              "    <tr>\n",
              "      <th>146461</th>\n",
              "      <td>[WED]</td>\n",
              "      <td>[DEC]</td>\n",
              "      <td>[False]</td>\n",
              "      <td>[220]</td>\n",
              "      <td>31-12-2200</td>\n",
              "    </tr>\n",
              "  </tbody>\n",
              "</table>\n",
              "<p>146462 rows × 5 columns</p>\n",
              "</div>\n",
              "      <button class=\"colab-df-convert\" onclick=\"convertToInteractive('df-b89cd593-a661-4b74-90c1-36c8f5827f6d')\"\n",
              "              title=\"Convert this dataframe to an interactive table.\"\n",
              "              style=\"display:none;\">\n",
              "        \n",
              "  <svg xmlns=\"http://www.w3.org/2000/svg\" height=\"24px\"viewBox=\"0 0 24 24\"\n",
              "       width=\"24px\">\n",
              "    <path d=\"M0 0h24v24H0V0z\" fill=\"none\"/>\n",
              "    <path d=\"M18.56 5.44l.94 2.06.94-2.06 2.06-.94-2.06-.94-.94-2.06-.94 2.06-2.06.94zm-11 1L8.5 8.5l.94-2.06 2.06-.94-2.06-.94L8.5 2.5l-.94 2.06-2.06.94zm10 10l.94 2.06.94-2.06 2.06-.94-2.06-.94-.94-2.06-.94 2.06-2.06.94z\"/><path d=\"M17.41 7.96l-1.37-1.37c-.4-.4-.92-.59-1.43-.59-.52 0-1.04.2-1.43.59L10.3 9.45l-7.72 7.72c-.78.78-.78 2.05 0 2.83L4 21.41c.39.39.9.59 1.41.59.51 0 1.02-.2 1.41-.59l7.78-7.78 2.81-2.81c.8-.78.8-2.07 0-2.86zM5.41 20L4 18.59l7.72-7.72 1.47 1.35L5.41 20z\"/>\n",
              "  </svg>\n",
              "      </button>\n",
              "      \n",
              "  <style>\n",
              "    .colab-df-container {\n",
              "      display:flex;\n",
              "      flex-wrap:wrap;\n",
              "      gap: 12px;\n",
              "    }\n",
              "\n",
              "    .colab-df-convert {\n",
              "      background-color: #E8F0FE;\n",
              "      border: none;\n",
              "      border-radius: 50%;\n",
              "      cursor: pointer;\n",
              "      display: none;\n",
              "      fill: #1967D2;\n",
              "      height: 32px;\n",
              "      padding: 0 0 0 0;\n",
              "      width: 32px;\n",
              "    }\n",
              "\n",
              "    .colab-df-convert:hover {\n",
              "      background-color: #E2EBFA;\n",
              "      box-shadow: 0px 1px 2px rgba(60, 64, 67, 0.3), 0px 1px 3px 1px rgba(60, 64, 67, 0.15);\n",
              "      fill: #174EA6;\n",
              "    }\n",
              "\n",
              "    [theme=dark] .colab-df-convert {\n",
              "      background-color: #3B4455;\n",
              "      fill: #D2E3FC;\n",
              "    }\n",
              "\n",
              "    [theme=dark] .colab-df-convert:hover {\n",
              "      background-color: #434B5C;\n",
              "      box-shadow: 0px 1px 3px 1px rgba(0, 0, 0, 0.15);\n",
              "      filter: drop-shadow(0px 1px 2px rgba(0, 0, 0, 0.3));\n",
              "      fill: #FFFFFF;\n",
              "    }\n",
              "  </style>\n",
              "\n",
              "      <script>\n",
              "        const buttonEl =\n",
              "          document.querySelector('#df-b89cd593-a661-4b74-90c1-36c8f5827f6d button.colab-df-convert');\n",
              "        buttonEl.style.display =\n",
              "          google.colab.kernel.accessAllowed ? 'block' : 'none';\n",
              "\n",
              "        async function convertToInteractive(key) {\n",
              "          const element = document.querySelector('#df-b89cd593-a661-4b74-90c1-36c8f5827f6d');\n",
              "          const dataTable =\n",
              "            await google.colab.kernel.invokeFunction('convertToInteractive',\n",
              "                                                     [key], {});\n",
              "          if (!dataTable) return;\n",
              "\n",
              "          const docLinkHtml = 'Like what you see? Visit the ' +\n",
              "            '<a target=\"_blank\" href=https://colab.research.google.com/notebooks/data_table.ipynb>data table notebook</a>'\n",
              "            + ' to learn more about interactive tables.';\n",
              "          element.innerHTML = '';\n",
              "          dataTable['output_type'] = 'display_data';\n",
              "          await google.colab.output.renderOutput(dataTable, element);\n",
              "          const docLink = document.createElement('div');\n",
              "          docLink.innerHTML = docLinkHtml;\n",
              "          element.appendChild(docLink);\n",
              "        }\n",
              "      </script>\n",
              "    </div>\n",
              "  </div>\n",
              "  "
            ]
          },
          "metadata": {},
          "execution_count": 16
        }
      ],
      "source": [
        "data"
      ]
    },
    {
      "cell_type": "code",
      "execution_count": 17,
      "id": "ac27d992",
      "metadata": {
        "colab": {
          "base_uri": "https://localhost:8080/"
        },
        "id": "ac27d992",
        "outputId": "ac603edf-4d56-4f47-d6db-0fa0cd10927c"
      },
      "outputs": [
        {
          "output_type": "execute_result",
          "data": {
            "text/plain": [
              "0           1-1-1800\n",
              "1           1-1-1801\n",
              "2           1-1-1802\n",
              "3           1-1-1803\n",
              "4           1-1-1804\n",
              "             ...    \n",
              "146457    31-12-2196\n",
              "146458    31-12-2197\n",
              "146459    31-12-2198\n",
              "146460    31-12-2199\n",
              "146461    31-12-2200\n",
              "Name: date, Length: 146462, dtype: object"
            ]
          },
          "metadata": {},
          "execution_count": 17
        }
      ],
      "source": [
        "data.date"
      ]
    },
    {
      "cell_type": "code",
      "execution_count": 18,
      "id": "e719bb2a",
      "metadata": {
        "id": "e719bb2a"
      },
      "outputs": [],
      "source": [
        "# # data['date'] = pd.date_range('3-12-2048', periods=10)\n",
        "# # data['date'] = pd.date_range('12-3-1962', periods=10)\n",
        "\n",
        "# # 1-1-1800 to 31-12-2200\n",
        "# data['date'] = pd.date_range(start='1-1-1800',end='12-31-2200')\n",
        "\n",
        "\n",
        "data.date = pd.to_datetime(data.date, format='%d-%m-%Y', infer_datetime_format=False)\n",
        "\n",
        "# # data.date = data.date.dt.strftime('%d-%m-%Y')\n",
        "# # data.date = pd.to_datetime(data.date.dt.strftime('%d-%m-%Y'), format='%d-%m-%Y', infer_datetime_format=False)\n",
        "\n"
      ]
    },
    {
      "cell_type": "code",
      "execution_count": 19,
      "id": "cf311d68",
      "metadata": {
        "colab": {
          "base_uri": "https://localhost:8080/"
        },
        "id": "cf311d68",
        "outputId": "b27c3dd5-b595-4c3d-d4e4-51a6caf2c922"
      },
      "outputs": [
        {
          "output_type": "execute_result",
          "data": {
            "text/plain": [
              "day                  object\n",
              "month                object\n",
              "leap_year            object\n",
              "decade               object\n",
              "date         datetime64[ns]\n",
              "dtype: object"
            ]
          },
          "metadata": {},
          "execution_count": 19
        }
      ],
      "source": [
        "data.dtypes"
      ]
    },
    {
      "cell_type": "code",
      "execution_count": 20,
      "id": "1975a710",
      "metadata": {
        "colab": {
          "base_uri": "https://localhost:8080/"
        },
        "id": "1975a710",
        "outputId": "c1e1d865-f142-41de-8236-8a328c7232ba"
      },
      "outputs": [
        {
          "output_type": "execute_result",
          "data": {
            "text/plain": [
              "Timestamp('1800-01-01 00:00:00')"
            ]
          },
          "metadata": {},
          "execution_count": 20
        }
      ],
      "source": [
        "data.date[0]"
      ]
    },
    {
      "cell_type": "code",
      "execution_count": 21,
      "id": "8a523856",
      "metadata": {
        "colab": {
          "base_uri": "https://localhost:8080/"
        },
        "id": "8a523856",
        "outputId": "f9dbf3b4-4149-4eb8-8364-4262b00721cb"
      },
      "outputs": [
        {
          "output_type": "execute_result",
          "data": {
            "text/plain": [
              "2"
            ]
          },
          "metadata": {},
          "execution_count": 21
        }
      ],
      "source": [
        "data.date[0].day_of_week"
      ]
    },
    {
      "cell_type": "code",
      "execution_count": 22,
      "id": "4ceb88cf",
      "metadata": {
        "colab": {
          "base_uri": "https://localhost:8080/",
          "height": 36
        },
        "id": "4ceb88cf",
        "outputId": "17720bfe-efcc-4d46-b1ad-9a8798ee4ddd"
      },
      "outputs": [
        {
          "output_type": "execute_result",
          "data": {
            "text/plain": [
              "'Wednesday'"
            ],
            "application/vnd.google.colaboratory.intrinsic+json": {
              "type": "string"
            }
          },
          "metadata": {},
          "execution_count": 22
        }
      ],
      "source": [
        "data.date[0].day_name()"
      ]
    },
    {
      "cell_type": "code",
      "execution_count": 23,
      "id": "a7e39660",
      "metadata": {
        "colab": {
          "base_uri": "https://localhost:8080/",
          "height": 36
        },
        "id": "a7e39660",
        "outputId": "80d9b06d-ac2b-4b88-9adc-aa6fdcab7340"
      },
      "outputs": [
        {
          "output_type": "execute_result",
          "data": {
            "text/plain": [
              "'January'"
            ],
            "application/vnd.google.colaboratory.intrinsic+json": {
              "type": "string"
            }
          },
          "metadata": {},
          "execution_count": 23
        }
      ],
      "source": [
        "data.date[0].month_name()"
      ]
    },
    {
      "cell_type": "code",
      "execution_count": 24,
      "id": "a0f9bcff",
      "metadata": {
        "colab": {
          "base_uri": "https://localhost:8080/"
        },
        "id": "a0f9bcff",
        "outputId": "9f00293a-bd71-49cb-a478-a30fd8882881"
      },
      "outputs": [
        {
          "output_type": "execute_result",
          "data": {
            "text/plain": [
              "False"
            ]
          },
          "metadata": {},
          "execution_count": 24
        }
      ],
      "source": [
        "data.date[0].is_leap_year"
      ]
    },
    {
      "cell_type": "code",
      "execution_count": 25,
      "id": "3c01a839",
      "metadata": {
        "colab": {
          "base_uri": "https://localhost:8080/"
        },
        "id": "3c01a839",
        "outputId": "81078e43-28f3-4596-c641-d17f823cb4e1"
      },
      "outputs": [
        {
          "output_type": "stream",
          "name": "stdout",
          "text": [
            "1800\n"
          ]
        }
      ],
      "source": [
        "# print(data.date_period[0].day)\n",
        "# print(data.date_period[0].month)\n",
        "print(data.date[0].year)"
      ]
    },
    {
      "cell_type": "code",
      "execution_count": 26,
      "id": "e60a15f8",
      "metadata": {
        "colab": {
          "base_uri": "https://localhost:8080/"
        },
        "id": "e60a15f8",
        "outputId": "a0edafd9-f68e-4dad-c297-98aa0e71ccd9"
      },
      "outputs": [
        {
          "output_type": "execute_result",
          "data": {
            "text/plain": [
              "180"
            ]
          },
          "metadata": {},
          "execution_count": 26
        }
      ],
      "source": [
        "data.date[0].year // 10"
      ]
    },
    {
      "cell_type": "code",
      "execution_count": 27,
      "id": "9989ea5a",
      "metadata": {
        "id": "9989ea5a"
      },
      "outputs": [],
      "source": [
        "# for i in range(len(data)):\n",
        "\n",
        "#     day_str = str(data.date.iloc[i].day_name()[:3].upper())\n",
        "#     data.day.loc[i] = str(f'[{day_str}]')\n",
        "    \n",
        "#     month_str = str(data.date.iloc[i].month_name()[:3].upper())\n",
        "#     data.month.loc[i] = str(f'[{month_str}]')\n",
        "\n",
        "#     leap_str = str(data.date.iloc[i].is_leap_year)\n",
        "#     data.leap_year.loc[i] = str(f'[{leap_str}]')\n",
        "    \n",
        "    \n",
        "#     decade_str = str(data.date.iloc[i].year // 10)\n",
        "#     data.decade.loc[i] = str(f'[{decade_str}]')\n",
        "    \n",
        "    \n",
        "\n",
        "# data.date = data.date.dt.strftime('%d-%m-%Y')\n",
        "# data.to_csv('test.txt', sep=' ', header=None, index=False)"
      ]
    },
    {
      "cell_type": "code",
      "execution_count": 28,
      "id": "c205ddd7",
      "metadata": {
        "colab": {
          "base_uri": "https://localhost:8080/",
          "height": 423
        },
        "id": "c205ddd7",
        "outputId": "06bdf8b8-75c1-474d-c858-3242a3821fd5"
      },
      "outputs": [
        {
          "output_type": "execute_result",
          "data": {
            "text/plain": [
              "          day  month leap_year decade       date\n",
              "0       [WED]  [JAN]   [False]  [180] 1800-01-01\n",
              "1       [THU]  [JAN]   [False]  [180] 1801-01-01\n",
              "2       [FRI]  [JAN]   [False]  [180] 1802-01-01\n",
              "3       [SAT]  [JAN]   [False]  [180] 1803-01-01\n",
              "4       [SUN]  [JAN]    [True]  [180] 1804-01-01\n",
              "...       ...    ...       ...    ...        ...\n",
              "146457  [SAT]  [DEC]    [True]  [219] 2196-12-31\n",
              "146458  [SUN]  [DEC]   [False]  [219] 2197-12-31\n",
              "146459  [MON]  [DEC]   [False]  [219] 2198-12-31\n",
              "146460  [TUE]  [DEC]   [False]  [219] 2199-12-31\n",
              "146461  [WED]  [DEC]   [False]  [220] 2200-12-31\n",
              "\n",
              "[146462 rows x 5 columns]"
            ],
            "text/html": [
              "\n",
              "  <div id=\"df-43433d64-54fc-4829-b27d-adf35ed04bde\">\n",
              "    <div class=\"colab-df-container\">\n",
              "      <div>\n",
              "<style scoped>\n",
              "    .dataframe tbody tr th:only-of-type {\n",
              "        vertical-align: middle;\n",
              "    }\n",
              "\n",
              "    .dataframe tbody tr th {\n",
              "        vertical-align: top;\n",
              "    }\n",
              "\n",
              "    .dataframe thead th {\n",
              "        text-align: right;\n",
              "    }\n",
              "</style>\n",
              "<table border=\"1\" class=\"dataframe\">\n",
              "  <thead>\n",
              "    <tr style=\"text-align: right;\">\n",
              "      <th></th>\n",
              "      <th>day</th>\n",
              "      <th>month</th>\n",
              "      <th>leap_year</th>\n",
              "      <th>decade</th>\n",
              "      <th>date</th>\n",
              "    </tr>\n",
              "  </thead>\n",
              "  <tbody>\n",
              "    <tr>\n",
              "      <th>0</th>\n",
              "      <td>[WED]</td>\n",
              "      <td>[JAN]</td>\n",
              "      <td>[False]</td>\n",
              "      <td>[180]</td>\n",
              "      <td>1800-01-01</td>\n",
              "    </tr>\n",
              "    <tr>\n",
              "      <th>1</th>\n",
              "      <td>[THU]</td>\n",
              "      <td>[JAN]</td>\n",
              "      <td>[False]</td>\n",
              "      <td>[180]</td>\n",
              "      <td>1801-01-01</td>\n",
              "    </tr>\n",
              "    <tr>\n",
              "      <th>2</th>\n",
              "      <td>[FRI]</td>\n",
              "      <td>[JAN]</td>\n",
              "      <td>[False]</td>\n",
              "      <td>[180]</td>\n",
              "      <td>1802-01-01</td>\n",
              "    </tr>\n",
              "    <tr>\n",
              "      <th>3</th>\n",
              "      <td>[SAT]</td>\n",
              "      <td>[JAN]</td>\n",
              "      <td>[False]</td>\n",
              "      <td>[180]</td>\n",
              "      <td>1803-01-01</td>\n",
              "    </tr>\n",
              "    <tr>\n",
              "      <th>4</th>\n",
              "      <td>[SUN]</td>\n",
              "      <td>[JAN]</td>\n",
              "      <td>[True]</td>\n",
              "      <td>[180]</td>\n",
              "      <td>1804-01-01</td>\n",
              "    </tr>\n",
              "    <tr>\n",
              "      <th>...</th>\n",
              "      <td>...</td>\n",
              "      <td>...</td>\n",
              "      <td>...</td>\n",
              "      <td>...</td>\n",
              "      <td>...</td>\n",
              "    </tr>\n",
              "    <tr>\n",
              "      <th>146457</th>\n",
              "      <td>[SAT]</td>\n",
              "      <td>[DEC]</td>\n",
              "      <td>[True]</td>\n",
              "      <td>[219]</td>\n",
              "      <td>2196-12-31</td>\n",
              "    </tr>\n",
              "    <tr>\n",
              "      <th>146458</th>\n",
              "      <td>[SUN]</td>\n",
              "      <td>[DEC]</td>\n",
              "      <td>[False]</td>\n",
              "      <td>[219]</td>\n",
              "      <td>2197-12-31</td>\n",
              "    </tr>\n",
              "    <tr>\n",
              "      <th>146459</th>\n",
              "      <td>[MON]</td>\n",
              "      <td>[DEC]</td>\n",
              "      <td>[False]</td>\n",
              "      <td>[219]</td>\n",
              "      <td>2198-12-31</td>\n",
              "    </tr>\n",
              "    <tr>\n",
              "      <th>146460</th>\n",
              "      <td>[TUE]</td>\n",
              "      <td>[DEC]</td>\n",
              "      <td>[False]</td>\n",
              "      <td>[219]</td>\n",
              "      <td>2199-12-31</td>\n",
              "    </tr>\n",
              "    <tr>\n",
              "      <th>146461</th>\n",
              "      <td>[WED]</td>\n",
              "      <td>[DEC]</td>\n",
              "      <td>[False]</td>\n",
              "      <td>[220]</td>\n",
              "      <td>2200-12-31</td>\n",
              "    </tr>\n",
              "  </tbody>\n",
              "</table>\n",
              "<p>146462 rows × 5 columns</p>\n",
              "</div>\n",
              "      <button class=\"colab-df-convert\" onclick=\"convertToInteractive('df-43433d64-54fc-4829-b27d-adf35ed04bde')\"\n",
              "              title=\"Convert this dataframe to an interactive table.\"\n",
              "              style=\"display:none;\">\n",
              "        \n",
              "  <svg xmlns=\"http://www.w3.org/2000/svg\" height=\"24px\"viewBox=\"0 0 24 24\"\n",
              "       width=\"24px\">\n",
              "    <path d=\"M0 0h24v24H0V0z\" fill=\"none\"/>\n",
              "    <path d=\"M18.56 5.44l.94 2.06.94-2.06 2.06-.94-2.06-.94-.94-2.06-.94 2.06-2.06.94zm-11 1L8.5 8.5l.94-2.06 2.06-.94-2.06-.94L8.5 2.5l-.94 2.06-2.06.94zm10 10l.94 2.06.94-2.06 2.06-.94-2.06-.94-.94-2.06-.94 2.06-2.06.94z\"/><path d=\"M17.41 7.96l-1.37-1.37c-.4-.4-.92-.59-1.43-.59-.52 0-1.04.2-1.43.59L10.3 9.45l-7.72 7.72c-.78.78-.78 2.05 0 2.83L4 21.41c.39.39.9.59 1.41.59.51 0 1.02-.2 1.41-.59l7.78-7.78 2.81-2.81c.8-.78.8-2.07 0-2.86zM5.41 20L4 18.59l7.72-7.72 1.47 1.35L5.41 20z\"/>\n",
              "  </svg>\n",
              "      </button>\n",
              "      \n",
              "  <style>\n",
              "    .colab-df-container {\n",
              "      display:flex;\n",
              "      flex-wrap:wrap;\n",
              "      gap: 12px;\n",
              "    }\n",
              "\n",
              "    .colab-df-convert {\n",
              "      background-color: #E8F0FE;\n",
              "      border: none;\n",
              "      border-radius: 50%;\n",
              "      cursor: pointer;\n",
              "      display: none;\n",
              "      fill: #1967D2;\n",
              "      height: 32px;\n",
              "      padding: 0 0 0 0;\n",
              "      width: 32px;\n",
              "    }\n",
              "\n",
              "    .colab-df-convert:hover {\n",
              "      background-color: #E2EBFA;\n",
              "      box-shadow: 0px 1px 2px rgba(60, 64, 67, 0.3), 0px 1px 3px 1px rgba(60, 64, 67, 0.15);\n",
              "      fill: #174EA6;\n",
              "    }\n",
              "\n",
              "    [theme=dark] .colab-df-convert {\n",
              "      background-color: #3B4455;\n",
              "      fill: #D2E3FC;\n",
              "    }\n",
              "\n",
              "    [theme=dark] .colab-df-convert:hover {\n",
              "      background-color: #434B5C;\n",
              "      box-shadow: 0px 1px 3px 1px rgba(0, 0, 0, 0.15);\n",
              "      filter: drop-shadow(0px 1px 2px rgba(0, 0, 0, 0.3));\n",
              "      fill: #FFFFFF;\n",
              "    }\n",
              "  </style>\n",
              "\n",
              "      <script>\n",
              "        const buttonEl =\n",
              "          document.querySelector('#df-43433d64-54fc-4829-b27d-adf35ed04bde button.colab-df-convert');\n",
              "        buttonEl.style.display =\n",
              "          google.colab.kernel.accessAllowed ? 'block' : 'none';\n",
              "\n",
              "        async function convertToInteractive(key) {\n",
              "          const element = document.querySelector('#df-43433d64-54fc-4829-b27d-adf35ed04bde');\n",
              "          const dataTable =\n",
              "            await google.colab.kernel.invokeFunction('convertToInteractive',\n",
              "                                                     [key], {});\n",
              "          if (!dataTable) return;\n",
              "\n",
              "          const docLinkHtml = 'Like what you see? Visit the ' +\n",
              "            '<a target=\"_blank\" href=https://colab.research.google.com/notebooks/data_table.ipynb>data table notebook</a>'\n",
              "            + ' to learn more about interactive tables.';\n",
              "          element.innerHTML = '';\n",
              "          dataTable['output_type'] = 'display_data';\n",
              "          await google.colab.output.renderOutput(dataTable, element);\n",
              "          const docLink = document.createElement('div');\n",
              "          docLink.innerHTML = docLinkHtml;\n",
              "          element.appendChild(docLink);\n",
              "        }\n",
              "      </script>\n",
              "    </div>\n",
              "  </div>\n",
              "  "
            ]
          },
          "metadata": {},
          "execution_count": 28
        }
      ],
      "source": [
        "data"
      ]
    },
    {
      "cell_type": "code",
      "execution_count": 29,
      "id": "f676897d",
      "metadata": {
        "id": "f676897d"
      },
      "outputs": [],
      "source": [
        "data.leap_year = data.leap_year.map({'[False]': float(0),\n",
        "                                     '[True]' : float(1)})\n",
        "\n",
        "# data.leap_year = data.leap_year.astype(np.float64)"
      ]
    },
    {
      "cell_type": "code",
      "execution_count": 30,
      "id": "cb933727",
      "metadata": {
        "colab": {
          "base_uri": "https://localhost:8080/",
          "height": 423
        },
        "id": "cb933727",
        "outputId": "3e04f28a-82fa-43be-9156-be5baaaeee20"
      },
      "outputs": [
        {
          "output_type": "execute_result",
          "data": {
            "text/plain": [
              "          day  month  leap_year decade       date\n",
              "0       [WED]  [JAN]        0.0  [180] 1800-01-01\n",
              "1       [THU]  [JAN]        0.0  [180] 1801-01-01\n",
              "2       [FRI]  [JAN]        0.0  [180] 1802-01-01\n",
              "3       [SAT]  [JAN]        0.0  [180] 1803-01-01\n",
              "4       [SUN]  [JAN]        1.0  [180] 1804-01-01\n",
              "...       ...    ...        ...    ...        ...\n",
              "146457  [SAT]  [DEC]        1.0  [219] 2196-12-31\n",
              "146458  [SUN]  [DEC]        0.0  [219] 2197-12-31\n",
              "146459  [MON]  [DEC]        0.0  [219] 2198-12-31\n",
              "146460  [TUE]  [DEC]        0.0  [219] 2199-12-31\n",
              "146461  [WED]  [DEC]        0.0  [220] 2200-12-31\n",
              "\n",
              "[146462 rows x 5 columns]"
            ],
            "text/html": [
              "\n",
              "  <div id=\"df-d5ac49ab-d482-4608-8292-cb124ed98c9a\">\n",
              "    <div class=\"colab-df-container\">\n",
              "      <div>\n",
              "<style scoped>\n",
              "    .dataframe tbody tr th:only-of-type {\n",
              "        vertical-align: middle;\n",
              "    }\n",
              "\n",
              "    .dataframe tbody tr th {\n",
              "        vertical-align: top;\n",
              "    }\n",
              "\n",
              "    .dataframe thead th {\n",
              "        text-align: right;\n",
              "    }\n",
              "</style>\n",
              "<table border=\"1\" class=\"dataframe\">\n",
              "  <thead>\n",
              "    <tr style=\"text-align: right;\">\n",
              "      <th></th>\n",
              "      <th>day</th>\n",
              "      <th>month</th>\n",
              "      <th>leap_year</th>\n",
              "      <th>decade</th>\n",
              "      <th>date</th>\n",
              "    </tr>\n",
              "  </thead>\n",
              "  <tbody>\n",
              "    <tr>\n",
              "      <th>0</th>\n",
              "      <td>[WED]</td>\n",
              "      <td>[JAN]</td>\n",
              "      <td>0.0</td>\n",
              "      <td>[180]</td>\n",
              "      <td>1800-01-01</td>\n",
              "    </tr>\n",
              "    <tr>\n",
              "      <th>1</th>\n",
              "      <td>[THU]</td>\n",
              "      <td>[JAN]</td>\n",
              "      <td>0.0</td>\n",
              "      <td>[180]</td>\n",
              "      <td>1801-01-01</td>\n",
              "    </tr>\n",
              "    <tr>\n",
              "      <th>2</th>\n",
              "      <td>[FRI]</td>\n",
              "      <td>[JAN]</td>\n",
              "      <td>0.0</td>\n",
              "      <td>[180]</td>\n",
              "      <td>1802-01-01</td>\n",
              "    </tr>\n",
              "    <tr>\n",
              "      <th>3</th>\n",
              "      <td>[SAT]</td>\n",
              "      <td>[JAN]</td>\n",
              "      <td>0.0</td>\n",
              "      <td>[180]</td>\n",
              "      <td>1803-01-01</td>\n",
              "    </tr>\n",
              "    <tr>\n",
              "      <th>4</th>\n",
              "      <td>[SUN]</td>\n",
              "      <td>[JAN]</td>\n",
              "      <td>1.0</td>\n",
              "      <td>[180]</td>\n",
              "      <td>1804-01-01</td>\n",
              "    </tr>\n",
              "    <tr>\n",
              "      <th>...</th>\n",
              "      <td>...</td>\n",
              "      <td>...</td>\n",
              "      <td>...</td>\n",
              "      <td>...</td>\n",
              "      <td>...</td>\n",
              "    </tr>\n",
              "    <tr>\n",
              "      <th>146457</th>\n",
              "      <td>[SAT]</td>\n",
              "      <td>[DEC]</td>\n",
              "      <td>1.0</td>\n",
              "      <td>[219]</td>\n",
              "      <td>2196-12-31</td>\n",
              "    </tr>\n",
              "    <tr>\n",
              "      <th>146458</th>\n",
              "      <td>[SUN]</td>\n",
              "      <td>[DEC]</td>\n",
              "      <td>0.0</td>\n",
              "      <td>[219]</td>\n",
              "      <td>2197-12-31</td>\n",
              "    </tr>\n",
              "    <tr>\n",
              "      <th>146459</th>\n",
              "      <td>[MON]</td>\n",
              "      <td>[DEC]</td>\n",
              "      <td>0.0</td>\n",
              "      <td>[219]</td>\n",
              "      <td>2198-12-31</td>\n",
              "    </tr>\n",
              "    <tr>\n",
              "      <th>146460</th>\n",
              "      <td>[TUE]</td>\n",
              "      <td>[DEC]</td>\n",
              "      <td>0.0</td>\n",
              "      <td>[219]</td>\n",
              "      <td>2199-12-31</td>\n",
              "    </tr>\n",
              "    <tr>\n",
              "      <th>146461</th>\n",
              "      <td>[WED]</td>\n",
              "      <td>[DEC]</td>\n",
              "      <td>0.0</td>\n",
              "      <td>[220]</td>\n",
              "      <td>2200-12-31</td>\n",
              "    </tr>\n",
              "  </tbody>\n",
              "</table>\n",
              "<p>146462 rows × 5 columns</p>\n",
              "</div>\n",
              "      <button class=\"colab-df-convert\" onclick=\"convertToInteractive('df-d5ac49ab-d482-4608-8292-cb124ed98c9a')\"\n",
              "              title=\"Convert this dataframe to an interactive table.\"\n",
              "              style=\"display:none;\">\n",
              "        \n",
              "  <svg xmlns=\"http://www.w3.org/2000/svg\" height=\"24px\"viewBox=\"0 0 24 24\"\n",
              "       width=\"24px\">\n",
              "    <path d=\"M0 0h24v24H0V0z\" fill=\"none\"/>\n",
              "    <path d=\"M18.56 5.44l.94 2.06.94-2.06 2.06-.94-2.06-.94-.94-2.06-.94 2.06-2.06.94zm-11 1L8.5 8.5l.94-2.06 2.06-.94-2.06-.94L8.5 2.5l-.94 2.06-2.06.94zm10 10l.94 2.06.94-2.06 2.06-.94-2.06-.94-.94-2.06-.94 2.06-2.06.94z\"/><path d=\"M17.41 7.96l-1.37-1.37c-.4-.4-.92-.59-1.43-.59-.52 0-1.04.2-1.43.59L10.3 9.45l-7.72 7.72c-.78.78-.78 2.05 0 2.83L4 21.41c.39.39.9.59 1.41.59.51 0 1.02-.2 1.41-.59l7.78-7.78 2.81-2.81c.8-.78.8-2.07 0-2.86zM5.41 20L4 18.59l7.72-7.72 1.47 1.35L5.41 20z\"/>\n",
              "  </svg>\n",
              "      </button>\n",
              "      \n",
              "  <style>\n",
              "    .colab-df-container {\n",
              "      display:flex;\n",
              "      flex-wrap:wrap;\n",
              "      gap: 12px;\n",
              "    }\n",
              "\n",
              "    .colab-df-convert {\n",
              "      background-color: #E8F0FE;\n",
              "      border: none;\n",
              "      border-radius: 50%;\n",
              "      cursor: pointer;\n",
              "      display: none;\n",
              "      fill: #1967D2;\n",
              "      height: 32px;\n",
              "      padding: 0 0 0 0;\n",
              "      width: 32px;\n",
              "    }\n",
              "\n",
              "    .colab-df-convert:hover {\n",
              "      background-color: #E2EBFA;\n",
              "      box-shadow: 0px 1px 2px rgba(60, 64, 67, 0.3), 0px 1px 3px 1px rgba(60, 64, 67, 0.15);\n",
              "      fill: #174EA6;\n",
              "    }\n",
              "\n",
              "    [theme=dark] .colab-df-convert {\n",
              "      background-color: #3B4455;\n",
              "      fill: #D2E3FC;\n",
              "    }\n",
              "\n",
              "    [theme=dark] .colab-df-convert:hover {\n",
              "      background-color: #434B5C;\n",
              "      box-shadow: 0px 1px 3px 1px rgba(0, 0, 0, 0.15);\n",
              "      filter: drop-shadow(0px 1px 2px rgba(0, 0, 0, 0.3));\n",
              "      fill: #FFFFFF;\n",
              "    }\n",
              "  </style>\n",
              "\n",
              "      <script>\n",
              "        const buttonEl =\n",
              "          document.querySelector('#df-d5ac49ab-d482-4608-8292-cb124ed98c9a button.colab-df-convert');\n",
              "        buttonEl.style.display =\n",
              "          google.colab.kernel.accessAllowed ? 'block' : 'none';\n",
              "\n",
              "        async function convertToInteractive(key) {\n",
              "          const element = document.querySelector('#df-d5ac49ab-d482-4608-8292-cb124ed98c9a');\n",
              "          const dataTable =\n",
              "            await google.colab.kernel.invokeFunction('convertToInteractive',\n",
              "                                                     [key], {});\n",
              "          if (!dataTable) return;\n",
              "\n",
              "          const docLinkHtml = 'Like what you see? Visit the ' +\n",
              "            '<a target=\"_blank\" href=https://colab.research.google.com/notebooks/data_table.ipynb>data table notebook</a>'\n",
              "            + ' to learn more about interactive tables.';\n",
              "          element.innerHTML = '';\n",
              "          dataTable['output_type'] = 'display_data';\n",
              "          await google.colab.output.renderOutput(dataTable, element);\n",
              "          const docLink = document.createElement('div');\n",
              "          docLink.innerHTML = docLinkHtml;\n",
              "          element.appendChild(docLink);\n",
              "        }\n",
              "      </script>\n",
              "    </div>\n",
              "  </div>\n",
              "  "
            ]
          },
          "metadata": {},
          "execution_count": 30
        }
      ],
      "source": [
        "data"
      ]
    },
    {
      "cell_type": "markdown",
      "id": "0d1f9039",
      "metadata": {
        "id": "0d1f9039"
      },
      "source": [
        "date -> timestamp"
      ]
    },
    {
      "cell_type": "code",
      "execution_count": 31,
      "id": "d2be262b",
      "metadata": {
        "colab": {
          "base_uri": "https://localhost:8080/"
        },
        "id": "d2be262b",
        "outputId": "b8e9ab45-63dd-41f8-dcb8-e0800298ba5f"
      },
      "outputs": [
        {
          "output_type": "execute_result",
          "data": {
            "text/plain": [
              "Timestamp('1800-01-01 00:00:00')"
            ]
          },
          "metadata": {},
          "execution_count": 31
        }
      ],
      "source": [
        "data.date.iloc[0]"
      ]
    },
    {
      "cell_type": "code",
      "execution_count": 32,
      "id": "4b980c59",
      "metadata": {
        "id": "4b980c59"
      },
      "outputs": [],
      "source": [
        "# data.date.iloc[0].timestamp()"
      ]
    },
    {
      "cell_type": "code",
      "execution_count": 33,
      "id": "22cd2e7b",
      "metadata": {
        "id": "22cd2e7b"
      },
      "outputs": [],
      "source": [
        "# np.log(data.date.iloc[0].timestamp())"
      ]
    },
    {
      "cell_type": "code",
      "execution_count": 34,
      "id": "615ca4ec",
      "metadata": {
        "id": "615ca4ec"
      },
      "outputs": [],
      "source": [
        "# data['date_timestamp'] = data.date.apply(lambda dt: dt.timestamp())\n",
        "# data['date_timestamp'] = data.date.apply(lambda dt: dt.timestamp())"
      ]
    },
    {
      "cell_type": "code",
      "execution_count": 35,
      "id": "8d0e4be9",
      "metadata": {
        "id": "8d0e4be9"
      },
      "outputs": [],
      "source": [
        "# # c = pd.to_datetime(data.date)\n",
        "# c = data.date\n",
        "\n",
        "# c"
      ]
    },
    {
      "cell_type": "code",
      "execution_count": 36,
      "id": "9cc61844",
      "metadata": {
        "id": "9cc61844"
      },
      "outputs": [],
      "source": [
        "# x = c.dt.strftime(\"%Y%m%d\")\n",
        "# x = x.astype(np.int64).values.reshape(-1, 1)\n",
        "\n",
        "# x"
      ]
    },
    {
      "cell_type": "code",
      "execution_count": 37,
      "id": "bbe5ebcb",
      "metadata": {
        "id": "bbe5ebcb"
      },
      "outputs": [],
      "source": [
        "data['date_int'] = data['date'].dt.strftime(\"%Y%m%d\").astype(np.int64)"
      ]
    },
    {
      "cell_type": "code",
      "execution_count": 38,
      "id": "de235af1",
      "metadata": {
        "colab": {
          "base_uri": "https://localhost:8080/",
          "height": 423
        },
        "id": "de235af1",
        "outputId": "1338de56-ff14-4915-c964-b159e36e31e2"
      },
      "outputs": [
        {
          "output_type": "execute_result",
          "data": {
            "text/plain": [
              "          day  month  leap_year decade       date  date_int\n",
              "0       [WED]  [JAN]        0.0  [180] 1800-01-01  18000101\n",
              "1       [THU]  [JAN]        0.0  [180] 1801-01-01  18010101\n",
              "2       [FRI]  [JAN]        0.0  [180] 1802-01-01  18020101\n",
              "3       [SAT]  [JAN]        0.0  [180] 1803-01-01  18030101\n",
              "4       [SUN]  [JAN]        1.0  [180] 1804-01-01  18040101\n",
              "...       ...    ...        ...    ...        ...       ...\n",
              "146457  [SAT]  [DEC]        1.0  [219] 2196-12-31  21961231\n",
              "146458  [SUN]  [DEC]        0.0  [219] 2197-12-31  21971231\n",
              "146459  [MON]  [DEC]        0.0  [219] 2198-12-31  21981231\n",
              "146460  [TUE]  [DEC]        0.0  [219] 2199-12-31  21991231\n",
              "146461  [WED]  [DEC]        0.0  [220] 2200-12-31  22001231\n",
              "\n",
              "[146462 rows x 6 columns]"
            ],
            "text/html": [
              "\n",
              "  <div id=\"df-599c833d-d16f-4b91-b77d-33b173de022e\">\n",
              "    <div class=\"colab-df-container\">\n",
              "      <div>\n",
              "<style scoped>\n",
              "    .dataframe tbody tr th:only-of-type {\n",
              "        vertical-align: middle;\n",
              "    }\n",
              "\n",
              "    .dataframe tbody tr th {\n",
              "        vertical-align: top;\n",
              "    }\n",
              "\n",
              "    .dataframe thead th {\n",
              "        text-align: right;\n",
              "    }\n",
              "</style>\n",
              "<table border=\"1\" class=\"dataframe\">\n",
              "  <thead>\n",
              "    <tr style=\"text-align: right;\">\n",
              "      <th></th>\n",
              "      <th>day</th>\n",
              "      <th>month</th>\n",
              "      <th>leap_year</th>\n",
              "      <th>decade</th>\n",
              "      <th>date</th>\n",
              "      <th>date_int</th>\n",
              "    </tr>\n",
              "  </thead>\n",
              "  <tbody>\n",
              "    <tr>\n",
              "      <th>0</th>\n",
              "      <td>[WED]</td>\n",
              "      <td>[JAN]</td>\n",
              "      <td>0.0</td>\n",
              "      <td>[180]</td>\n",
              "      <td>1800-01-01</td>\n",
              "      <td>18000101</td>\n",
              "    </tr>\n",
              "    <tr>\n",
              "      <th>1</th>\n",
              "      <td>[THU]</td>\n",
              "      <td>[JAN]</td>\n",
              "      <td>0.0</td>\n",
              "      <td>[180]</td>\n",
              "      <td>1801-01-01</td>\n",
              "      <td>18010101</td>\n",
              "    </tr>\n",
              "    <tr>\n",
              "      <th>2</th>\n",
              "      <td>[FRI]</td>\n",
              "      <td>[JAN]</td>\n",
              "      <td>0.0</td>\n",
              "      <td>[180]</td>\n",
              "      <td>1802-01-01</td>\n",
              "      <td>18020101</td>\n",
              "    </tr>\n",
              "    <tr>\n",
              "      <th>3</th>\n",
              "      <td>[SAT]</td>\n",
              "      <td>[JAN]</td>\n",
              "      <td>0.0</td>\n",
              "      <td>[180]</td>\n",
              "      <td>1803-01-01</td>\n",
              "      <td>18030101</td>\n",
              "    </tr>\n",
              "    <tr>\n",
              "      <th>4</th>\n",
              "      <td>[SUN]</td>\n",
              "      <td>[JAN]</td>\n",
              "      <td>1.0</td>\n",
              "      <td>[180]</td>\n",
              "      <td>1804-01-01</td>\n",
              "      <td>18040101</td>\n",
              "    </tr>\n",
              "    <tr>\n",
              "      <th>...</th>\n",
              "      <td>...</td>\n",
              "      <td>...</td>\n",
              "      <td>...</td>\n",
              "      <td>...</td>\n",
              "      <td>...</td>\n",
              "      <td>...</td>\n",
              "    </tr>\n",
              "    <tr>\n",
              "      <th>146457</th>\n",
              "      <td>[SAT]</td>\n",
              "      <td>[DEC]</td>\n",
              "      <td>1.0</td>\n",
              "      <td>[219]</td>\n",
              "      <td>2196-12-31</td>\n",
              "      <td>21961231</td>\n",
              "    </tr>\n",
              "    <tr>\n",
              "      <th>146458</th>\n",
              "      <td>[SUN]</td>\n",
              "      <td>[DEC]</td>\n",
              "      <td>0.0</td>\n",
              "      <td>[219]</td>\n",
              "      <td>2197-12-31</td>\n",
              "      <td>21971231</td>\n",
              "    </tr>\n",
              "    <tr>\n",
              "      <th>146459</th>\n",
              "      <td>[MON]</td>\n",
              "      <td>[DEC]</td>\n",
              "      <td>0.0</td>\n",
              "      <td>[219]</td>\n",
              "      <td>2198-12-31</td>\n",
              "      <td>21981231</td>\n",
              "    </tr>\n",
              "    <tr>\n",
              "      <th>146460</th>\n",
              "      <td>[TUE]</td>\n",
              "      <td>[DEC]</td>\n",
              "      <td>0.0</td>\n",
              "      <td>[219]</td>\n",
              "      <td>2199-12-31</td>\n",
              "      <td>21991231</td>\n",
              "    </tr>\n",
              "    <tr>\n",
              "      <th>146461</th>\n",
              "      <td>[WED]</td>\n",
              "      <td>[DEC]</td>\n",
              "      <td>0.0</td>\n",
              "      <td>[220]</td>\n",
              "      <td>2200-12-31</td>\n",
              "      <td>22001231</td>\n",
              "    </tr>\n",
              "  </tbody>\n",
              "</table>\n",
              "<p>146462 rows × 6 columns</p>\n",
              "</div>\n",
              "      <button class=\"colab-df-convert\" onclick=\"convertToInteractive('df-599c833d-d16f-4b91-b77d-33b173de022e')\"\n",
              "              title=\"Convert this dataframe to an interactive table.\"\n",
              "              style=\"display:none;\">\n",
              "        \n",
              "  <svg xmlns=\"http://www.w3.org/2000/svg\" height=\"24px\"viewBox=\"0 0 24 24\"\n",
              "       width=\"24px\">\n",
              "    <path d=\"M0 0h24v24H0V0z\" fill=\"none\"/>\n",
              "    <path d=\"M18.56 5.44l.94 2.06.94-2.06 2.06-.94-2.06-.94-.94-2.06-.94 2.06-2.06.94zm-11 1L8.5 8.5l.94-2.06 2.06-.94-2.06-.94L8.5 2.5l-.94 2.06-2.06.94zm10 10l.94 2.06.94-2.06 2.06-.94-2.06-.94-.94-2.06-.94 2.06-2.06.94z\"/><path d=\"M17.41 7.96l-1.37-1.37c-.4-.4-.92-.59-1.43-.59-.52 0-1.04.2-1.43.59L10.3 9.45l-7.72 7.72c-.78.78-.78 2.05 0 2.83L4 21.41c.39.39.9.59 1.41.59.51 0 1.02-.2 1.41-.59l7.78-7.78 2.81-2.81c.8-.78.8-2.07 0-2.86zM5.41 20L4 18.59l7.72-7.72 1.47 1.35L5.41 20z\"/>\n",
              "  </svg>\n",
              "      </button>\n",
              "      \n",
              "  <style>\n",
              "    .colab-df-container {\n",
              "      display:flex;\n",
              "      flex-wrap:wrap;\n",
              "      gap: 12px;\n",
              "    }\n",
              "\n",
              "    .colab-df-convert {\n",
              "      background-color: #E8F0FE;\n",
              "      border: none;\n",
              "      border-radius: 50%;\n",
              "      cursor: pointer;\n",
              "      display: none;\n",
              "      fill: #1967D2;\n",
              "      height: 32px;\n",
              "      padding: 0 0 0 0;\n",
              "      width: 32px;\n",
              "    }\n",
              "\n",
              "    .colab-df-convert:hover {\n",
              "      background-color: #E2EBFA;\n",
              "      box-shadow: 0px 1px 2px rgba(60, 64, 67, 0.3), 0px 1px 3px 1px rgba(60, 64, 67, 0.15);\n",
              "      fill: #174EA6;\n",
              "    }\n",
              "\n",
              "    [theme=dark] .colab-df-convert {\n",
              "      background-color: #3B4455;\n",
              "      fill: #D2E3FC;\n",
              "    }\n",
              "\n",
              "    [theme=dark] .colab-df-convert:hover {\n",
              "      background-color: #434B5C;\n",
              "      box-shadow: 0px 1px 3px 1px rgba(0, 0, 0, 0.15);\n",
              "      filter: drop-shadow(0px 1px 2px rgba(0, 0, 0, 0.3));\n",
              "      fill: #FFFFFF;\n",
              "    }\n",
              "  </style>\n",
              "\n",
              "      <script>\n",
              "        const buttonEl =\n",
              "          document.querySelector('#df-599c833d-d16f-4b91-b77d-33b173de022e button.colab-df-convert');\n",
              "        buttonEl.style.display =\n",
              "          google.colab.kernel.accessAllowed ? 'block' : 'none';\n",
              "\n",
              "        async function convertToInteractive(key) {\n",
              "          const element = document.querySelector('#df-599c833d-d16f-4b91-b77d-33b173de022e');\n",
              "          const dataTable =\n",
              "            await google.colab.kernel.invokeFunction('convertToInteractive',\n",
              "                                                     [key], {});\n",
              "          if (!dataTable) return;\n",
              "\n",
              "          const docLinkHtml = 'Like what you see? Visit the ' +\n",
              "            '<a target=\"_blank\" href=https://colab.research.google.com/notebooks/data_table.ipynb>data table notebook</a>'\n",
              "            + ' to learn more about interactive tables.';\n",
              "          element.innerHTML = '';\n",
              "          dataTable['output_type'] = 'display_data';\n",
              "          await google.colab.output.renderOutput(dataTable, element);\n",
              "          const docLink = document.createElement('div');\n",
              "          docLink.innerHTML = docLinkHtml;\n",
              "          element.appendChild(docLink);\n",
              "        }\n",
              "      </script>\n",
              "    </div>\n",
              "  </div>\n",
              "  "
            ]
          },
          "metadata": {},
          "execution_count": 38
        }
      ],
      "source": [
        "data"
      ]
    },
    {
      "cell_type": "code",
      "execution_count": 39,
      "id": "c2a63c43",
      "metadata": {
        "colab": {
          "base_uri": "https://localhost:8080/",
          "height": 36
        },
        "id": "c2a63c43",
        "outputId": "f5c2d0a9-2cee-4ff7-9197-41c82892785e"
      },
      "outputs": [
        {
          "output_type": "execute_result",
          "data": {
            "text/plain": [
              "'[180]'"
            ],
            "application/vnd.google.colaboratory.intrinsic+json": {
              "type": "string"
            }
          },
          "metadata": {},
          "execution_count": 39
        }
      ],
      "source": [
        "x = data.decade.iloc[0]\n",
        "x"
      ]
    },
    {
      "cell_type": "code",
      "execution_count": 40,
      "id": "24257602",
      "metadata": {
        "colab": {
          "base_uri": "https://localhost:8080/",
          "height": 36
        },
        "id": "24257602",
        "outputId": "0869d440-6a0b-41e6-ef2a-f23feeeab533"
      },
      "outputs": [
        {
          "output_type": "execute_result",
          "data": {
            "text/plain": [
              "'180'"
            ],
            "application/vnd.google.colaboratory.intrinsic+json": {
              "type": "string"
            }
          },
          "metadata": {},
          "execution_count": 40
        }
      ],
      "source": [
        "x.strip('[]')"
      ]
    },
    {
      "cell_type": "code",
      "execution_count": 41,
      "id": "e8a46a74",
      "metadata": {
        "id": "e8a46a74"
      },
      "outputs": [],
      "source": [
        "data.decade = data.decade.apply(lambda x: x.strip('[]')).astype('int64')"
      ]
    },
    {
      "cell_type": "code",
      "execution_count": 42,
      "id": "4968ede3",
      "metadata": {
        "id": "4968ede3"
      },
      "outputs": [],
      "source": [
        "data.day = data.day.apply(lambda x: x.strip('[]'))\n",
        "data.month = data.month.apply(lambda x: x.strip('[]'))"
      ]
    },
    {
      "cell_type": "code",
      "execution_count": 43,
      "id": "6cad9207",
      "metadata": {
        "colab": {
          "base_uri": "https://localhost:8080/",
          "height": 423
        },
        "id": "6cad9207",
        "outputId": "3263e87d-c452-4d0a-ab58-f964e9df3db7"
      },
      "outputs": [
        {
          "output_type": "execute_result",
          "data": {
            "text/plain": [
              "        day month  leap_year  decade       date  date_int\n",
              "0       WED   JAN        0.0     180 1800-01-01  18000101\n",
              "1       THU   JAN        0.0     180 1801-01-01  18010101\n",
              "2       FRI   JAN        0.0     180 1802-01-01  18020101\n",
              "3       SAT   JAN        0.0     180 1803-01-01  18030101\n",
              "4       SUN   JAN        1.0     180 1804-01-01  18040101\n",
              "...     ...   ...        ...     ...        ...       ...\n",
              "146457  SAT   DEC        1.0     219 2196-12-31  21961231\n",
              "146458  SUN   DEC        0.0     219 2197-12-31  21971231\n",
              "146459  MON   DEC        0.0     219 2198-12-31  21981231\n",
              "146460  TUE   DEC        0.0     219 2199-12-31  21991231\n",
              "146461  WED   DEC        0.0     220 2200-12-31  22001231\n",
              "\n",
              "[146462 rows x 6 columns]"
            ],
            "text/html": [
              "\n",
              "  <div id=\"df-b0e58f19-fd41-4d15-a9c7-1ef1f5c13a04\">\n",
              "    <div class=\"colab-df-container\">\n",
              "      <div>\n",
              "<style scoped>\n",
              "    .dataframe tbody tr th:only-of-type {\n",
              "        vertical-align: middle;\n",
              "    }\n",
              "\n",
              "    .dataframe tbody tr th {\n",
              "        vertical-align: top;\n",
              "    }\n",
              "\n",
              "    .dataframe thead th {\n",
              "        text-align: right;\n",
              "    }\n",
              "</style>\n",
              "<table border=\"1\" class=\"dataframe\">\n",
              "  <thead>\n",
              "    <tr style=\"text-align: right;\">\n",
              "      <th></th>\n",
              "      <th>day</th>\n",
              "      <th>month</th>\n",
              "      <th>leap_year</th>\n",
              "      <th>decade</th>\n",
              "      <th>date</th>\n",
              "      <th>date_int</th>\n",
              "    </tr>\n",
              "  </thead>\n",
              "  <tbody>\n",
              "    <tr>\n",
              "      <th>0</th>\n",
              "      <td>WED</td>\n",
              "      <td>JAN</td>\n",
              "      <td>0.0</td>\n",
              "      <td>180</td>\n",
              "      <td>1800-01-01</td>\n",
              "      <td>18000101</td>\n",
              "    </tr>\n",
              "    <tr>\n",
              "      <th>1</th>\n",
              "      <td>THU</td>\n",
              "      <td>JAN</td>\n",
              "      <td>0.0</td>\n",
              "      <td>180</td>\n",
              "      <td>1801-01-01</td>\n",
              "      <td>18010101</td>\n",
              "    </tr>\n",
              "    <tr>\n",
              "      <th>2</th>\n",
              "      <td>FRI</td>\n",
              "      <td>JAN</td>\n",
              "      <td>0.0</td>\n",
              "      <td>180</td>\n",
              "      <td>1802-01-01</td>\n",
              "      <td>18020101</td>\n",
              "    </tr>\n",
              "    <tr>\n",
              "      <th>3</th>\n",
              "      <td>SAT</td>\n",
              "      <td>JAN</td>\n",
              "      <td>0.0</td>\n",
              "      <td>180</td>\n",
              "      <td>1803-01-01</td>\n",
              "      <td>18030101</td>\n",
              "    </tr>\n",
              "    <tr>\n",
              "      <th>4</th>\n",
              "      <td>SUN</td>\n",
              "      <td>JAN</td>\n",
              "      <td>1.0</td>\n",
              "      <td>180</td>\n",
              "      <td>1804-01-01</td>\n",
              "      <td>18040101</td>\n",
              "    </tr>\n",
              "    <tr>\n",
              "      <th>...</th>\n",
              "      <td>...</td>\n",
              "      <td>...</td>\n",
              "      <td>...</td>\n",
              "      <td>...</td>\n",
              "      <td>...</td>\n",
              "      <td>...</td>\n",
              "    </tr>\n",
              "    <tr>\n",
              "      <th>146457</th>\n",
              "      <td>SAT</td>\n",
              "      <td>DEC</td>\n",
              "      <td>1.0</td>\n",
              "      <td>219</td>\n",
              "      <td>2196-12-31</td>\n",
              "      <td>21961231</td>\n",
              "    </tr>\n",
              "    <tr>\n",
              "      <th>146458</th>\n",
              "      <td>SUN</td>\n",
              "      <td>DEC</td>\n",
              "      <td>0.0</td>\n",
              "      <td>219</td>\n",
              "      <td>2197-12-31</td>\n",
              "      <td>21971231</td>\n",
              "    </tr>\n",
              "    <tr>\n",
              "      <th>146459</th>\n",
              "      <td>MON</td>\n",
              "      <td>DEC</td>\n",
              "      <td>0.0</td>\n",
              "      <td>219</td>\n",
              "      <td>2198-12-31</td>\n",
              "      <td>21981231</td>\n",
              "    </tr>\n",
              "    <tr>\n",
              "      <th>146460</th>\n",
              "      <td>TUE</td>\n",
              "      <td>DEC</td>\n",
              "      <td>0.0</td>\n",
              "      <td>219</td>\n",
              "      <td>2199-12-31</td>\n",
              "      <td>21991231</td>\n",
              "    </tr>\n",
              "    <tr>\n",
              "      <th>146461</th>\n",
              "      <td>WED</td>\n",
              "      <td>DEC</td>\n",
              "      <td>0.0</td>\n",
              "      <td>220</td>\n",
              "      <td>2200-12-31</td>\n",
              "      <td>22001231</td>\n",
              "    </tr>\n",
              "  </tbody>\n",
              "</table>\n",
              "<p>146462 rows × 6 columns</p>\n",
              "</div>\n",
              "      <button class=\"colab-df-convert\" onclick=\"convertToInteractive('df-b0e58f19-fd41-4d15-a9c7-1ef1f5c13a04')\"\n",
              "              title=\"Convert this dataframe to an interactive table.\"\n",
              "              style=\"display:none;\">\n",
              "        \n",
              "  <svg xmlns=\"http://www.w3.org/2000/svg\" height=\"24px\"viewBox=\"0 0 24 24\"\n",
              "       width=\"24px\">\n",
              "    <path d=\"M0 0h24v24H0V0z\" fill=\"none\"/>\n",
              "    <path d=\"M18.56 5.44l.94 2.06.94-2.06 2.06-.94-2.06-.94-.94-2.06-.94 2.06-2.06.94zm-11 1L8.5 8.5l.94-2.06 2.06-.94-2.06-.94L8.5 2.5l-.94 2.06-2.06.94zm10 10l.94 2.06.94-2.06 2.06-.94-2.06-.94-.94-2.06-.94 2.06-2.06.94z\"/><path d=\"M17.41 7.96l-1.37-1.37c-.4-.4-.92-.59-1.43-.59-.52 0-1.04.2-1.43.59L10.3 9.45l-7.72 7.72c-.78.78-.78 2.05 0 2.83L4 21.41c.39.39.9.59 1.41.59.51 0 1.02-.2 1.41-.59l7.78-7.78 2.81-2.81c.8-.78.8-2.07 0-2.86zM5.41 20L4 18.59l7.72-7.72 1.47 1.35L5.41 20z\"/>\n",
              "  </svg>\n",
              "      </button>\n",
              "      \n",
              "  <style>\n",
              "    .colab-df-container {\n",
              "      display:flex;\n",
              "      flex-wrap:wrap;\n",
              "      gap: 12px;\n",
              "    }\n",
              "\n",
              "    .colab-df-convert {\n",
              "      background-color: #E8F0FE;\n",
              "      border: none;\n",
              "      border-radius: 50%;\n",
              "      cursor: pointer;\n",
              "      display: none;\n",
              "      fill: #1967D2;\n",
              "      height: 32px;\n",
              "      padding: 0 0 0 0;\n",
              "      width: 32px;\n",
              "    }\n",
              "\n",
              "    .colab-df-convert:hover {\n",
              "      background-color: #E2EBFA;\n",
              "      box-shadow: 0px 1px 2px rgba(60, 64, 67, 0.3), 0px 1px 3px 1px rgba(60, 64, 67, 0.15);\n",
              "      fill: #174EA6;\n",
              "    }\n",
              "\n",
              "    [theme=dark] .colab-df-convert {\n",
              "      background-color: #3B4455;\n",
              "      fill: #D2E3FC;\n",
              "    }\n",
              "\n",
              "    [theme=dark] .colab-df-convert:hover {\n",
              "      background-color: #434B5C;\n",
              "      box-shadow: 0px 1px 3px 1px rgba(0, 0, 0, 0.15);\n",
              "      filter: drop-shadow(0px 1px 2px rgba(0, 0, 0, 0.3));\n",
              "      fill: #FFFFFF;\n",
              "    }\n",
              "  </style>\n",
              "\n",
              "      <script>\n",
              "        const buttonEl =\n",
              "          document.querySelector('#df-b0e58f19-fd41-4d15-a9c7-1ef1f5c13a04 button.colab-df-convert');\n",
              "        buttonEl.style.display =\n",
              "          google.colab.kernel.accessAllowed ? 'block' : 'none';\n",
              "\n",
              "        async function convertToInteractive(key) {\n",
              "          const element = document.querySelector('#df-b0e58f19-fd41-4d15-a9c7-1ef1f5c13a04');\n",
              "          const dataTable =\n",
              "            await google.colab.kernel.invokeFunction('convertToInteractive',\n",
              "                                                     [key], {});\n",
              "          if (!dataTable) return;\n",
              "\n",
              "          const docLinkHtml = 'Like what you see? Visit the ' +\n",
              "            '<a target=\"_blank\" href=https://colab.research.google.com/notebooks/data_table.ipynb>data table notebook</a>'\n",
              "            + ' to learn more about interactive tables.';\n",
              "          element.innerHTML = '';\n",
              "          dataTable['output_type'] = 'display_data';\n",
              "          await google.colab.output.renderOutput(dataTable, element);\n",
              "          const docLink = document.createElement('div');\n",
              "          docLink.innerHTML = docLinkHtml;\n",
              "          element.appendChild(docLink);\n",
              "        }\n",
              "      </script>\n",
              "    </div>\n",
              "  </div>\n",
              "  "
            ]
          },
          "metadata": {},
          "execution_count": 43
        }
      ],
      "source": [
        "data"
      ]
    },
    {
      "cell_type": "code",
      "execution_count": 44,
      "id": "a23a1bcc",
      "metadata": {
        "colab": {
          "base_uri": "https://localhost:8080/"
        },
        "id": "a23a1bcc",
        "outputId": "f331b65a-1f5b-40b2-f736-cf12014d6a2e"
      },
      "outputs": [
        {
          "output_type": "execute_result",
          "data": {
            "text/plain": [
              "day                  object\n",
              "month                object\n",
              "leap_year           float64\n",
              "decade                int64\n",
              "date         datetime64[ns]\n",
              "date_int              int64\n",
              "dtype: object"
            ]
          },
          "metadata": {},
          "execution_count": 44
        }
      ],
      "source": [
        "data.dtypes"
      ]
    },
    {
      "cell_type": "code",
      "execution_count": 45,
      "id": "965aaeb2",
      "metadata": {
        "id": "965aaeb2"
      },
      "outputs": [],
      "source": [
        "# data['day_of_week_sin'] = np.sin(data['day'] * (2 * np.pi / 7))\n",
        "# data['day_of_week_cos'] = np.cos(data['day'] * (2 * np.pi / 7))"
      ]
    },
    {
      "cell_type": "code",
      "execution_count": 46,
      "id": "1cc60a35",
      "metadata": {
        "id": "1cc60a35"
      },
      "outputs": [],
      "source": [
        "# data['month_of_year_sin'] = np.sin(data['month'] * (2 * np.pi / 12))\n",
        "# data['month_of_year_cos'] = np.cos(data['month'] * (2 * np.pi / 12))"
      ]
    },
    {
      "cell_type": "code",
      "execution_count": 47,
      "id": "683f6a47",
      "metadata": {
        "colab": {
          "base_uri": "https://localhost:8080/"
        },
        "id": "683f6a47",
        "outputId": "c81fe426-ab79-4694-8aeb-fb5a990b5d27"
      },
      "outputs": [
        {
          "output_type": "execute_result",
          "data": {
            "text/plain": [
              "0         6\n",
              "1         4\n",
              "2         0\n",
              "3         2\n",
              "4         3\n",
              "         ..\n",
              "146457    2\n",
              "146458    3\n",
              "146459    1\n",
              "146460    5\n",
              "146461    6\n",
              "Length: 146462, dtype: int8"
            ]
          },
          "metadata": {},
          "execution_count": 47
        }
      ],
      "source": [
        "data.day.astype(\"category\").cat.codes"
      ]
    },
    {
      "cell_type": "code",
      "execution_count": 48,
      "id": "f02a4508",
      "metadata": {
        "colab": {
          "base_uri": "https://localhost:8080/"
        },
        "id": "f02a4508",
        "outputId": "01c4c0be-ae5b-4ea2-99bc-67345416a944"
      },
      "outputs": [
        {
          "output_type": "execute_result",
          "data": {
            "text/plain": [
              "Index(['FRI', 'MON', 'SAT', 'SUN', 'THU', 'TUE', 'WED'], dtype='object')"
            ]
          },
          "metadata": {},
          "execution_count": 48
        }
      ],
      "source": [
        "data.day.astype(\"category\").cat.categories"
      ]
    },
    {
      "cell_type": "code",
      "execution_count": 49,
      "id": "15ddc14a",
      "metadata": {
        "colab": {
          "base_uri": "https://localhost:8080/"
        },
        "id": "15ddc14a",
        "outputId": "57d09654-5c75-489a-f3b2-6a35f9dab484"
      },
      "outputs": [
        {
          "output_type": "execute_result",
          "data": {
            "text/plain": [
              "0         WED\n",
              "1         THU\n",
              "2         FRI\n",
              "3         SAT\n",
              "4         SUN\n",
              "         ... \n",
              "146457    SAT\n",
              "146458    SUN\n",
              "146459    MON\n",
              "146460    TUE\n",
              "146461    WED\n",
              "Name: day, Length: 146462, dtype: category\n",
              "Categories (7, object): ['FRI' < 'MON' < 'SAT' < 'SUN' < 'THU' < 'TUE' < 'WED']"
            ]
          },
          "metadata": {},
          "execution_count": 49
        }
      ],
      "source": [
        "data.day.astype(\"category\").cat.as_ordered()"
      ]
    },
    {
      "cell_type": "code",
      "execution_count": 50,
      "id": "5a439e88",
      "metadata": {
        "colab": {
          "base_uri": "https://localhost:8080/"
        },
        "id": "5a439e88",
        "outputId": "f48ab907-d89d-443d-abc0-c9662cb75b0a"
      },
      "outputs": [
        {
          "output_type": "execute_result",
          "data": {
            "text/plain": [
              "0         6\n",
              "1         4\n",
              "2         0\n",
              "3         2\n",
              "4         3\n",
              "         ..\n",
              "146457    2\n",
              "146458    3\n",
              "146459    1\n",
              "146460    5\n",
              "146461    6\n",
              "Length: 146462, dtype: int8"
            ]
          },
          "metadata": {},
          "execution_count": 50
        }
      ],
      "source": [
        "data.day.astype(\"category\").cat.codes"
      ]
    },
    {
      "cell_type": "code",
      "execution_count": 51,
      "id": "29e95286",
      "metadata": {
        "id": "29e95286"
      },
      "outputs": [],
      "source": [
        "# c = pd.Categorical(['a', 'b', 'c', 'a', 'b', 'c'], ordered=True,\n",
        "#                    categories=['c', 'b', 'a'])"
      ]
    },
    {
      "cell_type": "code",
      "execution_count": 51,
      "id": "57af49d5",
      "metadata": {
        "id": "57af49d5"
      },
      "outputs": [],
      "source": [
        ""
      ]
    },
    {
      "cell_type": "code",
      "execution_count": 52,
      "id": "f213d4d6",
      "metadata": {
        "id": "f213d4d6"
      },
      "outputs": [],
      "source": [
        "day_code = pd.Categorical(data.day, ordered=True,\n",
        "                   categories=['SAT', 'SUN', 'MON', 'TUE', 'WED', 'THU', 'FRI'])"
      ]
    },
    {
      "cell_type": "code",
      "execution_count": 53,
      "id": "441760f7",
      "metadata": {
        "colab": {
          "base_uri": "https://localhost:8080/"
        },
        "id": "441760f7",
        "outputId": "0c0416a0-1d49-49b9-ae5c-ba57f98cdd23"
      },
      "outputs": [
        {
          "output_type": "execute_result",
          "data": {
            "text/plain": [
              "['SAT', 'SUN', 'MON', 'TUE', 'WED', 'THU', 'FRI']"
            ]
          },
          "metadata": {},
          "execution_count": 53
        }
      ],
      "source": [
        "['SAT', 'SUN', 'MON', 'TUE', 'WED', 'THU', 'FRI']"
      ]
    },
    {
      "cell_type": "code",
      "execution_count": 54,
      "id": "21ca50b7",
      "metadata": {
        "id": "21ca50b7"
      },
      "outputs": [],
      "source": [
        "data['day_code'] = day_code.codes"
      ]
    },
    {
      "cell_type": "code",
      "execution_count": 55,
      "id": "ef32c96d",
      "metadata": {
        "colab": {
          "base_uri": "https://localhost:8080/"
        },
        "id": "ef32c96d",
        "outputId": "973402b0-e7ab-4208-bada-e226fca5f14d"
      },
      "outputs": [
        {
          "output_type": "stream",
          "name": "stdout",
          "text": [
            "0 SAT\n",
            "1 SUN\n",
            "2 MON\n",
            "3 TUE\n",
            "4 WED\n",
            "5 THU\n",
            "6 FRI\n"
          ]
        }
      ],
      "source": [
        "for i,c in enumerate(day_code.categories):\n",
        "    print(i,c)"
      ]
    },
    {
      "cell_type": "code",
      "execution_count": 56,
      "id": "5f223ae3",
      "metadata": {
        "colab": {
          "base_uri": "https://localhost:8080/",
          "height": 423
        },
        "id": "5f223ae3",
        "outputId": "b8574fc1-9345-4320-b55f-8b8a1271a9e4"
      },
      "outputs": [
        {
          "output_type": "execute_result",
          "data": {
            "text/plain": [
              "        day month  leap_year  decade       date  date_int  day_code\n",
              "0       WED   JAN        0.0     180 1800-01-01  18000101         4\n",
              "1       THU   JAN        0.0     180 1801-01-01  18010101         5\n",
              "2       FRI   JAN        0.0     180 1802-01-01  18020101         6\n",
              "3       SAT   JAN        0.0     180 1803-01-01  18030101         0\n",
              "4       SUN   JAN        1.0     180 1804-01-01  18040101         1\n",
              "...     ...   ...        ...     ...        ...       ...       ...\n",
              "146457  SAT   DEC        1.0     219 2196-12-31  21961231         0\n",
              "146458  SUN   DEC        0.0     219 2197-12-31  21971231         1\n",
              "146459  MON   DEC        0.0     219 2198-12-31  21981231         2\n",
              "146460  TUE   DEC        0.0     219 2199-12-31  21991231         3\n",
              "146461  WED   DEC        0.0     220 2200-12-31  22001231         4\n",
              "\n",
              "[146462 rows x 7 columns]"
            ],
            "text/html": [
              "\n",
              "  <div id=\"df-9e4ed7d3-5d2d-4916-a54e-a083766371c6\">\n",
              "    <div class=\"colab-df-container\">\n",
              "      <div>\n",
              "<style scoped>\n",
              "    .dataframe tbody tr th:only-of-type {\n",
              "        vertical-align: middle;\n",
              "    }\n",
              "\n",
              "    .dataframe tbody tr th {\n",
              "        vertical-align: top;\n",
              "    }\n",
              "\n",
              "    .dataframe thead th {\n",
              "        text-align: right;\n",
              "    }\n",
              "</style>\n",
              "<table border=\"1\" class=\"dataframe\">\n",
              "  <thead>\n",
              "    <tr style=\"text-align: right;\">\n",
              "      <th></th>\n",
              "      <th>day</th>\n",
              "      <th>month</th>\n",
              "      <th>leap_year</th>\n",
              "      <th>decade</th>\n",
              "      <th>date</th>\n",
              "      <th>date_int</th>\n",
              "      <th>day_code</th>\n",
              "    </tr>\n",
              "  </thead>\n",
              "  <tbody>\n",
              "    <tr>\n",
              "      <th>0</th>\n",
              "      <td>WED</td>\n",
              "      <td>JAN</td>\n",
              "      <td>0.0</td>\n",
              "      <td>180</td>\n",
              "      <td>1800-01-01</td>\n",
              "      <td>18000101</td>\n",
              "      <td>4</td>\n",
              "    </tr>\n",
              "    <tr>\n",
              "      <th>1</th>\n",
              "      <td>THU</td>\n",
              "      <td>JAN</td>\n",
              "      <td>0.0</td>\n",
              "      <td>180</td>\n",
              "      <td>1801-01-01</td>\n",
              "      <td>18010101</td>\n",
              "      <td>5</td>\n",
              "    </tr>\n",
              "    <tr>\n",
              "      <th>2</th>\n",
              "      <td>FRI</td>\n",
              "      <td>JAN</td>\n",
              "      <td>0.0</td>\n",
              "      <td>180</td>\n",
              "      <td>1802-01-01</td>\n",
              "      <td>18020101</td>\n",
              "      <td>6</td>\n",
              "    </tr>\n",
              "    <tr>\n",
              "      <th>3</th>\n",
              "      <td>SAT</td>\n",
              "      <td>JAN</td>\n",
              "      <td>0.0</td>\n",
              "      <td>180</td>\n",
              "      <td>1803-01-01</td>\n",
              "      <td>18030101</td>\n",
              "      <td>0</td>\n",
              "    </tr>\n",
              "    <tr>\n",
              "      <th>4</th>\n",
              "      <td>SUN</td>\n",
              "      <td>JAN</td>\n",
              "      <td>1.0</td>\n",
              "      <td>180</td>\n",
              "      <td>1804-01-01</td>\n",
              "      <td>18040101</td>\n",
              "      <td>1</td>\n",
              "    </tr>\n",
              "    <tr>\n",
              "      <th>...</th>\n",
              "      <td>...</td>\n",
              "      <td>...</td>\n",
              "      <td>...</td>\n",
              "      <td>...</td>\n",
              "      <td>...</td>\n",
              "      <td>...</td>\n",
              "      <td>...</td>\n",
              "    </tr>\n",
              "    <tr>\n",
              "      <th>146457</th>\n",
              "      <td>SAT</td>\n",
              "      <td>DEC</td>\n",
              "      <td>1.0</td>\n",
              "      <td>219</td>\n",
              "      <td>2196-12-31</td>\n",
              "      <td>21961231</td>\n",
              "      <td>0</td>\n",
              "    </tr>\n",
              "    <tr>\n",
              "      <th>146458</th>\n",
              "      <td>SUN</td>\n",
              "      <td>DEC</td>\n",
              "      <td>0.0</td>\n",
              "      <td>219</td>\n",
              "      <td>2197-12-31</td>\n",
              "      <td>21971231</td>\n",
              "      <td>1</td>\n",
              "    </tr>\n",
              "    <tr>\n",
              "      <th>146459</th>\n",
              "      <td>MON</td>\n",
              "      <td>DEC</td>\n",
              "      <td>0.0</td>\n",
              "      <td>219</td>\n",
              "      <td>2198-12-31</td>\n",
              "      <td>21981231</td>\n",
              "      <td>2</td>\n",
              "    </tr>\n",
              "    <tr>\n",
              "      <th>146460</th>\n",
              "      <td>TUE</td>\n",
              "      <td>DEC</td>\n",
              "      <td>0.0</td>\n",
              "      <td>219</td>\n",
              "      <td>2199-12-31</td>\n",
              "      <td>21991231</td>\n",
              "      <td>3</td>\n",
              "    </tr>\n",
              "    <tr>\n",
              "      <th>146461</th>\n",
              "      <td>WED</td>\n",
              "      <td>DEC</td>\n",
              "      <td>0.0</td>\n",
              "      <td>220</td>\n",
              "      <td>2200-12-31</td>\n",
              "      <td>22001231</td>\n",
              "      <td>4</td>\n",
              "    </tr>\n",
              "  </tbody>\n",
              "</table>\n",
              "<p>146462 rows × 7 columns</p>\n",
              "</div>\n",
              "      <button class=\"colab-df-convert\" onclick=\"convertToInteractive('df-9e4ed7d3-5d2d-4916-a54e-a083766371c6')\"\n",
              "              title=\"Convert this dataframe to an interactive table.\"\n",
              "              style=\"display:none;\">\n",
              "        \n",
              "  <svg xmlns=\"http://www.w3.org/2000/svg\" height=\"24px\"viewBox=\"0 0 24 24\"\n",
              "       width=\"24px\">\n",
              "    <path d=\"M0 0h24v24H0V0z\" fill=\"none\"/>\n",
              "    <path d=\"M18.56 5.44l.94 2.06.94-2.06 2.06-.94-2.06-.94-.94-2.06-.94 2.06-2.06.94zm-11 1L8.5 8.5l.94-2.06 2.06-.94-2.06-.94L8.5 2.5l-.94 2.06-2.06.94zm10 10l.94 2.06.94-2.06 2.06-.94-2.06-.94-.94-2.06-.94 2.06-2.06.94z\"/><path d=\"M17.41 7.96l-1.37-1.37c-.4-.4-.92-.59-1.43-.59-.52 0-1.04.2-1.43.59L10.3 9.45l-7.72 7.72c-.78.78-.78 2.05 0 2.83L4 21.41c.39.39.9.59 1.41.59.51 0 1.02-.2 1.41-.59l7.78-7.78 2.81-2.81c.8-.78.8-2.07 0-2.86zM5.41 20L4 18.59l7.72-7.72 1.47 1.35L5.41 20z\"/>\n",
              "  </svg>\n",
              "      </button>\n",
              "      \n",
              "  <style>\n",
              "    .colab-df-container {\n",
              "      display:flex;\n",
              "      flex-wrap:wrap;\n",
              "      gap: 12px;\n",
              "    }\n",
              "\n",
              "    .colab-df-convert {\n",
              "      background-color: #E8F0FE;\n",
              "      border: none;\n",
              "      border-radius: 50%;\n",
              "      cursor: pointer;\n",
              "      display: none;\n",
              "      fill: #1967D2;\n",
              "      height: 32px;\n",
              "      padding: 0 0 0 0;\n",
              "      width: 32px;\n",
              "    }\n",
              "\n",
              "    .colab-df-convert:hover {\n",
              "      background-color: #E2EBFA;\n",
              "      box-shadow: 0px 1px 2px rgba(60, 64, 67, 0.3), 0px 1px 3px 1px rgba(60, 64, 67, 0.15);\n",
              "      fill: #174EA6;\n",
              "    }\n",
              "\n",
              "    [theme=dark] .colab-df-convert {\n",
              "      background-color: #3B4455;\n",
              "      fill: #D2E3FC;\n",
              "    }\n",
              "\n",
              "    [theme=dark] .colab-df-convert:hover {\n",
              "      background-color: #434B5C;\n",
              "      box-shadow: 0px 1px 3px 1px rgba(0, 0, 0, 0.15);\n",
              "      filter: drop-shadow(0px 1px 2px rgba(0, 0, 0, 0.3));\n",
              "      fill: #FFFFFF;\n",
              "    }\n",
              "  </style>\n",
              "\n",
              "      <script>\n",
              "        const buttonEl =\n",
              "          document.querySelector('#df-9e4ed7d3-5d2d-4916-a54e-a083766371c6 button.colab-df-convert');\n",
              "        buttonEl.style.display =\n",
              "          google.colab.kernel.accessAllowed ? 'block' : 'none';\n",
              "\n",
              "        async function convertToInteractive(key) {\n",
              "          const element = document.querySelector('#df-9e4ed7d3-5d2d-4916-a54e-a083766371c6');\n",
              "          const dataTable =\n",
              "            await google.colab.kernel.invokeFunction('convertToInteractive',\n",
              "                                                     [key], {});\n",
              "          if (!dataTable) return;\n",
              "\n",
              "          const docLinkHtml = 'Like what you see? Visit the ' +\n",
              "            '<a target=\"_blank\" href=https://colab.research.google.com/notebooks/data_table.ipynb>data table notebook</a>'\n",
              "            + ' to learn more about interactive tables.';\n",
              "          element.innerHTML = '';\n",
              "          dataTable['output_type'] = 'display_data';\n",
              "          await google.colab.output.renderOutput(dataTable, element);\n",
              "          const docLink = document.createElement('div');\n",
              "          docLink.innerHTML = docLinkHtml;\n",
              "          element.appendChild(docLink);\n",
              "        }\n",
              "      </script>\n",
              "    </div>\n",
              "  </div>\n",
              "  "
            ]
          },
          "metadata": {},
          "execution_count": 56
        }
      ],
      "source": [
        "data"
      ]
    },
    {
      "cell_type": "code",
      "execution_count": 57,
      "id": "1d327b2f",
      "metadata": {
        "id": "1d327b2f"
      },
      "outputs": [],
      "source": [
        "data['day_sin'] = np.sin(data['day_code'] * (2 * np.pi / 7))\n",
        "data['day_cos'] = np.cos(data['day_code'] * (2 * np.pi / 7))"
      ]
    },
    {
      "cell_type": "code",
      "execution_count": 58,
      "id": "db0d2e28",
      "metadata": {
        "colab": {
          "base_uri": "https://localhost:8080/",
          "height": 423
        },
        "id": "db0d2e28",
        "outputId": "bf0ef15f-4c5e-48c9-838f-39b33aae5231"
      },
      "outputs": [
        {
          "output_type": "execute_result",
          "data": {
            "text/plain": [
              "        day month  leap_year  decade       date  date_int  day_code   day_sin  \\\n",
              "0       WED   JAN        0.0     180 1800-01-01  18000101         4 -0.433884   \n",
              "1       THU   JAN        0.0     180 1801-01-01  18010101         5 -0.974928   \n",
              "2       FRI   JAN        0.0     180 1802-01-01  18020101         6 -0.781831   \n",
              "3       SAT   JAN        0.0     180 1803-01-01  18030101         0  0.000000   \n",
              "4       SUN   JAN        1.0     180 1804-01-01  18040101         1  0.781831   \n",
              "...     ...   ...        ...     ...        ...       ...       ...       ...   \n",
              "146457  SAT   DEC        1.0     219 2196-12-31  21961231         0  0.000000   \n",
              "146458  SUN   DEC        0.0     219 2197-12-31  21971231         1  0.781831   \n",
              "146459  MON   DEC        0.0     219 2198-12-31  21981231         2  0.974928   \n",
              "146460  TUE   DEC        0.0     219 2199-12-31  21991231         3  0.433884   \n",
              "146461  WED   DEC        0.0     220 2200-12-31  22001231         4 -0.433884   \n",
              "\n",
              "         day_cos  \n",
              "0      -0.900969  \n",
              "1      -0.222521  \n",
              "2       0.623490  \n",
              "3       1.000000  \n",
              "4       0.623490  \n",
              "...          ...  \n",
              "146457  1.000000  \n",
              "146458  0.623490  \n",
              "146459 -0.222521  \n",
              "146460 -0.900969  \n",
              "146461 -0.900969  \n",
              "\n",
              "[146462 rows x 9 columns]"
            ],
            "text/html": [
              "\n",
              "  <div id=\"df-4ff31f13-35d9-442b-9419-8ec0b88a4ff1\">\n",
              "    <div class=\"colab-df-container\">\n",
              "      <div>\n",
              "<style scoped>\n",
              "    .dataframe tbody tr th:only-of-type {\n",
              "        vertical-align: middle;\n",
              "    }\n",
              "\n",
              "    .dataframe tbody tr th {\n",
              "        vertical-align: top;\n",
              "    }\n",
              "\n",
              "    .dataframe thead th {\n",
              "        text-align: right;\n",
              "    }\n",
              "</style>\n",
              "<table border=\"1\" class=\"dataframe\">\n",
              "  <thead>\n",
              "    <tr style=\"text-align: right;\">\n",
              "      <th></th>\n",
              "      <th>day</th>\n",
              "      <th>month</th>\n",
              "      <th>leap_year</th>\n",
              "      <th>decade</th>\n",
              "      <th>date</th>\n",
              "      <th>date_int</th>\n",
              "      <th>day_code</th>\n",
              "      <th>day_sin</th>\n",
              "      <th>day_cos</th>\n",
              "    </tr>\n",
              "  </thead>\n",
              "  <tbody>\n",
              "    <tr>\n",
              "      <th>0</th>\n",
              "      <td>WED</td>\n",
              "      <td>JAN</td>\n",
              "      <td>0.0</td>\n",
              "      <td>180</td>\n",
              "      <td>1800-01-01</td>\n",
              "      <td>18000101</td>\n",
              "      <td>4</td>\n",
              "      <td>-0.433884</td>\n",
              "      <td>-0.900969</td>\n",
              "    </tr>\n",
              "    <tr>\n",
              "      <th>1</th>\n",
              "      <td>THU</td>\n",
              "      <td>JAN</td>\n",
              "      <td>0.0</td>\n",
              "      <td>180</td>\n",
              "      <td>1801-01-01</td>\n",
              "      <td>18010101</td>\n",
              "      <td>5</td>\n",
              "      <td>-0.974928</td>\n",
              "      <td>-0.222521</td>\n",
              "    </tr>\n",
              "    <tr>\n",
              "      <th>2</th>\n",
              "      <td>FRI</td>\n",
              "      <td>JAN</td>\n",
              "      <td>0.0</td>\n",
              "      <td>180</td>\n",
              "      <td>1802-01-01</td>\n",
              "      <td>18020101</td>\n",
              "      <td>6</td>\n",
              "      <td>-0.781831</td>\n",
              "      <td>0.623490</td>\n",
              "    </tr>\n",
              "    <tr>\n",
              "      <th>3</th>\n",
              "      <td>SAT</td>\n",
              "      <td>JAN</td>\n",
              "      <td>0.0</td>\n",
              "      <td>180</td>\n",
              "      <td>1803-01-01</td>\n",
              "      <td>18030101</td>\n",
              "      <td>0</td>\n",
              "      <td>0.000000</td>\n",
              "      <td>1.000000</td>\n",
              "    </tr>\n",
              "    <tr>\n",
              "      <th>4</th>\n",
              "      <td>SUN</td>\n",
              "      <td>JAN</td>\n",
              "      <td>1.0</td>\n",
              "      <td>180</td>\n",
              "      <td>1804-01-01</td>\n",
              "      <td>18040101</td>\n",
              "      <td>1</td>\n",
              "      <td>0.781831</td>\n",
              "      <td>0.623490</td>\n",
              "    </tr>\n",
              "    <tr>\n",
              "      <th>...</th>\n",
              "      <td>...</td>\n",
              "      <td>...</td>\n",
              "      <td>...</td>\n",
              "      <td>...</td>\n",
              "      <td>...</td>\n",
              "      <td>...</td>\n",
              "      <td>...</td>\n",
              "      <td>...</td>\n",
              "      <td>...</td>\n",
              "    </tr>\n",
              "    <tr>\n",
              "      <th>146457</th>\n",
              "      <td>SAT</td>\n",
              "      <td>DEC</td>\n",
              "      <td>1.0</td>\n",
              "      <td>219</td>\n",
              "      <td>2196-12-31</td>\n",
              "      <td>21961231</td>\n",
              "      <td>0</td>\n",
              "      <td>0.000000</td>\n",
              "      <td>1.000000</td>\n",
              "    </tr>\n",
              "    <tr>\n",
              "      <th>146458</th>\n",
              "      <td>SUN</td>\n",
              "      <td>DEC</td>\n",
              "      <td>0.0</td>\n",
              "      <td>219</td>\n",
              "      <td>2197-12-31</td>\n",
              "      <td>21971231</td>\n",
              "      <td>1</td>\n",
              "      <td>0.781831</td>\n",
              "      <td>0.623490</td>\n",
              "    </tr>\n",
              "    <tr>\n",
              "      <th>146459</th>\n",
              "      <td>MON</td>\n",
              "      <td>DEC</td>\n",
              "      <td>0.0</td>\n",
              "      <td>219</td>\n",
              "      <td>2198-12-31</td>\n",
              "      <td>21981231</td>\n",
              "      <td>2</td>\n",
              "      <td>0.974928</td>\n",
              "      <td>-0.222521</td>\n",
              "    </tr>\n",
              "    <tr>\n",
              "      <th>146460</th>\n",
              "      <td>TUE</td>\n",
              "      <td>DEC</td>\n",
              "      <td>0.0</td>\n",
              "      <td>219</td>\n",
              "      <td>2199-12-31</td>\n",
              "      <td>21991231</td>\n",
              "      <td>3</td>\n",
              "      <td>0.433884</td>\n",
              "      <td>-0.900969</td>\n",
              "    </tr>\n",
              "    <tr>\n",
              "      <th>146461</th>\n",
              "      <td>WED</td>\n",
              "      <td>DEC</td>\n",
              "      <td>0.0</td>\n",
              "      <td>220</td>\n",
              "      <td>2200-12-31</td>\n",
              "      <td>22001231</td>\n",
              "      <td>4</td>\n",
              "      <td>-0.433884</td>\n",
              "      <td>-0.900969</td>\n",
              "    </tr>\n",
              "  </tbody>\n",
              "</table>\n",
              "<p>146462 rows × 9 columns</p>\n",
              "</div>\n",
              "      <button class=\"colab-df-convert\" onclick=\"convertToInteractive('df-4ff31f13-35d9-442b-9419-8ec0b88a4ff1')\"\n",
              "              title=\"Convert this dataframe to an interactive table.\"\n",
              "              style=\"display:none;\">\n",
              "        \n",
              "  <svg xmlns=\"http://www.w3.org/2000/svg\" height=\"24px\"viewBox=\"0 0 24 24\"\n",
              "       width=\"24px\">\n",
              "    <path d=\"M0 0h24v24H0V0z\" fill=\"none\"/>\n",
              "    <path d=\"M18.56 5.44l.94 2.06.94-2.06 2.06-.94-2.06-.94-.94-2.06-.94 2.06-2.06.94zm-11 1L8.5 8.5l.94-2.06 2.06-.94-2.06-.94L8.5 2.5l-.94 2.06-2.06.94zm10 10l.94 2.06.94-2.06 2.06-.94-2.06-.94-.94-2.06-.94 2.06-2.06.94z\"/><path d=\"M17.41 7.96l-1.37-1.37c-.4-.4-.92-.59-1.43-.59-.52 0-1.04.2-1.43.59L10.3 9.45l-7.72 7.72c-.78.78-.78 2.05 0 2.83L4 21.41c.39.39.9.59 1.41.59.51 0 1.02-.2 1.41-.59l7.78-7.78 2.81-2.81c.8-.78.8-2.07 0-2.86zM5.41 20L4 18.59l7.72-7.72 1.47 1.35L5.41 20z\"/>\n",
              "  </svg>\n",
              "      </button>\n",
              "      \n",
              "  <style>\n",
              "    .colab-df-container {\n",
              "      display:flex;\n",
              "      flex-wrap:wrap;\n",
              "      gap: 12px;\n",
              "    }\n",
              "\n",
              "    .colab-df-convert {\n",
              "      background-color: #E8F0FE;\n",
              "      border: none;\n",
              "      border-radius: 50%;\n",
              "      cursor: pointer;\n",
              "      display: none;\n",
              "      fill: #1967D2;\n",
              "      height: 32px;\n",
              "      padding: 0 0 0 0;\n",
              "      width: 32px;\n",
              "    }\n",
              "\n",
              "    .colab-df-convert:hover {\n",
              "      background-color: #E2EBFA;\n",
              "      box-shadow: 0px 1px 2px rgba(60, 64, 67, 0.3), 0px 1px 3px 1px rgba(60, 64, 67, 0.15);\n",
              "      fill: #174EA6;\n",
              "    }\n",
              "\n",
              "    [theme=dark] .colab-df-convert {\n",
              "      background-color: #3B4455;\n",
              "      fill: #D2E3FC;\n",
              "    }\n",
              "\n",
              "    [theme=dark] .colab-df-convert:hover {\n",
              "      background-color: #434B5C;\n",
              "      box-shadow: 0px 1px 3px 1px rgba(0, 0, 0, 0.15);\n",
              "      filter: drop-shadow(0px 1px 2px rgba(0, 0, 0, 0.3));\n",
              "      fill: #FFFFFF;\n",
              "    }\n",
              "  </style>\n",
              "\n",
              "      <script>\n",
              "        const buttonEl =\n",
              "          document.querySelector('#df-4ff31f13-35d9-442b-9419-8ec0b88a4ff1 button.colab-df-convert');\n",
              "        buttonEl.style.display =\n",
              "          google.colab.kernel.accessAllowed ? 'block' : 'none';\n",
              "\n",
              "        async function convertToInteractive(key) {\n",
              "          const element = document.querySelector('#df-4ff31f13-35d9-442b-9419-8ec0b88a4ff1');\n",
              "          const dataTable =\n",
              "            await google.colab.kernel.invokeFunction('convertToInteractive',\n",
              "                                                     [key], {});\n",
              "          if (!dataTable) return;\n",
              "\n",
              "          const docLinkHtml = 'Like what you see? Visit the ' +\n",
              "            '<a target=\"_blank\" href=https://colab.research.google.com/notebooks/data_table.ipynb>data table notebook</a>'\n",
              "            + ' to learn more about interactive tables.';\n",
              "          element.innerHTML = '';\n",
              "          dataTable['output_type'] = 'display_data';\n",
              "          await google.colab.output.renderOutput(dataTable, element);\n",
              "          const docLink = document.createElement('div');\n",
              "          docLink.innerHTML = docLinkHtml;\n",
              "          element.appendChild(docLink);\n",
              "        }\n",
              "      </script>\n",
              "    </div>\n",
              "  </div>\n",
              "  "
            ]
          },
          "metadata": {},
          "execution_count": 58
        }
      ],
      "source": [
        "data"
      ]
    },
    {
      "cell_type": "code",
      "execution_count": 59,
      "id": "e5a8c9de",
      "metadata": {
        "id": "e5a8c9de"
      },
      "outputs": [],
      "source": [
        "month_code = pd.Categorical(data.month, ordered=True,\n",
        "                   categories=['JAN', 'FEB', 'MAR', 'APR', 'MAY', 'JUN', 'JUL', 'AUG', 'SEP', 'OCT', 'NOV', 'DEC'])"
      ]
    },
    {
      "cell_type": "code",
      "execution_count": 60,
      "id": "c3353368",
      "metadata": {
        "colab": {
          "base_uri": "https://localhost:8080/"
        },
        "id": "c3353368",
        "outputId": "25f36822-c42e-4fed-fbfd-54c50451ebbf"
      },
      "outputs": [
        {
          "output_type": "execute_result",
          "data": {
            "text/plain": [
              "Index(['APR', 'AUG', 'DEC', 'FEB', 'JAN', 'JUL', 'JUN', 'MAR', 'MAY', 'NOV',\n",
              "       'OCT', 'SEP'],\n",
              "      dtype='object')"
            ]
          },
          "metadata": {},
          "execution_count": 60
        }
      ],
      "source": [
        "data.month.astype(\"category\").cat.categories"
      ]
    },
    {
      "cell_type": "code",
      "execution_count": 61,
      "id": "36e3cc02",
      "metadata": {
        "colab": {
          "base_uri": "https://localhost:8080/"
        },
        "id": "36e3cc02",
        "outputId": "5fe9e312-e526-42d2-9a9d-8176382a8aba"
      },
      "outputs": [
        {
          "output_type": "execute_result",
          "data": {
            "text/plain": [
              "['JAN',\n",
              " 'FEB',\n",
              " 'MAR',\n",
              " 'APR',\n",
              " 'MAY',\n",
              " 'JUN',\n",
              " 'JUL',\n",
              " 'AUG',\n",
              " 'SEP',\n",
              " 'OCT',\n",
              " 'NOV',\n",
              " 'DEC']"
            ]
          },
          "metadata": {},
          "execution_count": 61
        }
      ],
      "source": [
        "['JAN', 'FEB', 'MAR', 'APR', 'MAY', 'JUN', 'JUL', 'AUG', 'SEP', 'OCT', 'NOV', 'DEC']"
      ]
    },
    {
      "cell_type": "code",
      "execution_count": 62,
      "id": "e22ebfb2",
      "metadata": {
        "id": "e22ebfb2"
      },
      "outputs": [],
      "source": [
        "data['month_code'] = month_code.codes"
      ]
    },
    {
      "cell_type": "code",
      "execution_count": 63,
      "id": "108a4b9e",
      "metadata": {
        "colab": {
          "base_uri": "https://localhost:8080/"
        },
        "id": "108a4b9e",
        "outputId": "08f87481-f554-483f-b9d4-349c88fb636d"
      },
      "outputs": [
        {
          "output_type": "stream",
          "name": "stdout",
          "text": [
            "0 JAN\n",
            "1 FEB\n",
            "2 MAR\n",
            "3 APR\n",
            "4 MAY\n",
            "5 JUN\n",
            "6 JUL\n",
            "7 AUG\n",
            "8 SEP\n",
            "9 OCT\n",
            "10 NOV\n",
            "11 DEC\n"
          ]
        }
      ],
      "source": [
        "for i,m in enumerate(month_code.categories):\n",
        "    print(i,m)"
      ]
    },
    {
      "cell_type": "code",
      "execution_count": 64,
      "id": "1f999c83",
      "metadata": {
        "id": "1f999c83"
      },
      "outputs": [],
      "source": [
        "data['month_sin'] = np.sin(data['month_code'] * (2 * np.pi / 12))\n",
        "data['month_cos'] = np.cos(data['month_code'] * (2 * np.pi / 12))"
      ]
    },
    {
      "cell_type": "code",
      "execution_count": 65,
      "id": "ff29e8d9",
      "metadata": {
        "colab": {
          "base_uri": "https://localhost:8080/",
          "height": 423
        },
        "id": "ff29e8d9",
        "outputId": "2c29747b-fc64-42f0-dbd4-8f8c10958807"
      },
      "outputs": [
        {
          "output_type": "execute_result",
          "data": {
            "text/plain": [
              "        day month  leap_year  decade       date  date_int  day_code   day_sin  \\\n",
              "0       WED   JAN        0.0     180 1800-01-01  18000101         4 -0.433884   \n",
              "1       THU   JAN        0.0     180 1801-01-01  18010101         5 -0.974928   \n",
              "2       FRI   JAN        0.0     180 1802-01-01  18020101         6 -0.781831   \n",
              "3       SAT   JAN        0.0     180 1803-01-01  18030101         0  0.000000   \n",
              "4       SUN   JAN        1.0     180 1804-01-01  18040101         1  0.781831   \n",
              "...     ...   ...        ...     ...        ...       ...       ...       ...   \n",
              "146457  SAT   DEC        1.0     219 2196-12-31  21961231         0  0.000000   \n",
              "146458  SUN   DEC        0.0     219 2197-12-31  21971231         1  0.781831   \n",
              "146459  MON   DEC        0.0     219 2198-12-31  21981231         2  0.974928   \n",
              "146460  TUE   DEC        0.0     219 2199-12-31  21991231         3  0.433884   \n",
              "146461  WED   DEC        0.0     220 2200-12-31  22001231         4 -0.433884   \n",
              "\n",
              "         day_cos  month_code  month_sin  month_cos  \n",
              "0      -0.900969           0        0.0   1.000000  \n",
              "1      -0.222521           0        0.0   1.000000  \n",
              "2       0.623490           0        0.0   1.000000  \n",
              "3       1.000000           0        0.0   1.000000  \n",
              "4       0.623490           0        0.0   1.000000  \n",
              "...          ...         ...        ...        ...  \n",
              "146457  1.000000          11       -0.5   0.866025  \n",
              "146458  0.623490          11       -0.5   0.866025  \n",
              "146459 -0.222521          11       -0.5   0.866025  \n",
              "146460 -0.900969          11       -0.5   0.866025  \n",
              "146461 -0.900969          11       -0.5   0.866025  \n",
              "\n",
              "[146462 rows x 12 columns]"
            ],
            "text/html": [
              "\n",
              "  <div id=\"df-491a1bf2-7ef1-4618-8202-cec9a507ab9f\">\n",
              "    <div class=\"colab-df-container\">\n",
              "      <div>\n",
              "<style scoped>\n",
              "    .dataframe tbody tr th:only-of-type {\n",
              "        vertical-align: middle;\n",
              "    }\n",
              "\n",
              "    .dataframe tbody tr th {\n",
              "        vertical-align: top;\n",
              "    }\n",
              "\n",
              "    .dataframe thead th {\n",
              "        text-align: right;\n",
              "    }\n",
              "</style>\n",
              "<table border=\"1\" class=\"dataframe\">\n",
              "  <thead>\n",
              "    <tr style=\"text-align: right;\">\n",
              "      <th></th>\n",
              "      <th>day</th>\n",
              "      <th>month</th>\n",
              "      <th>leap_year</th>\n",
              "      <th>decade</th>\n",
              "      <th>date</th>\n",
              "      <th>date_int</th>\n",
              "      <th>day_code</th>\n",
              "      <th>day_sin</th>\n",
              "      <th>day_cos</th>\n",
              "      <th>month_code</th>\n",
              "      <th>month_sin</th>\n",
              "      <th>month_cos</th>\n",
              "    </tr>\n",
              "  </thead>\n",
              "  <tbody>\n",
              "    <tr>\n",
              "      <th>0</th>\n",
              "      <td>WED</td>\n",
              "      <td>JAN</td>\n",
              "      <td>0.0</td>\n",
              "      <td>180</td>\n",
              "      <td>1800-01-01</td>\n",
              "      <td>18000101</td>\n",
              "      <td>4</td>\n",
              "      <td>-0.433884</td>\n",
              "      <td>-0.900969</td>\n",
              "      <td>0</td>\n",
              "      <td>0.0</td>\n",
              "      <td>1.000000</td>\n",
              "    </tr>\n",
              "    <tr>\n",
              "      <th>1</th>\n",
              "      <td>THU</td>\n",
              "      <td>JAN</td>\n",
              "      <td>0.0</td>\n",
              "      <td>180</td>\n",
              "      <td>1801-01-01</td>\n",
              "      <td>18010101</td>\n",
              "      <td>5</td>\n",
              "      <td>-0.974928</td>\n",
              "      <td>-0.222521</td>\n",
              "      <td>0</td>\n",
              "      <td>0.0</td>\n",
              "      <td>1.000000</td>\n",
              "    </tr>\n",
              "    <tr>\n",
              "      <th>2</th>\n",
              "      <td>FRI</td>\n",
              "      <td>JAN</td>\n",
              "      <td>0.0</td>\n",
              "      <td>180</td>\n",
              "      <td>1802-01-01</td>\n",
              "      <td>18020101</td>\n",
              "      <td>6</td>\n",
              "      <td>-0.781831</td>\n",
              "      <td>0.623490</td>\n",
              "      <td>0</td>\n",
              "      <td>0.0</td>\n",
              "      <td>1.000000</td>\n",
              "    </tr>\n",
              "    <tr>\n",
              "      <th>3</th>\n",
              "      <td>SAT</td>\n",
              "      <td>JAN</td>\n",
              "      <td>0.0</td>\n",
              "      <td>180</td>\n",
              "      <td>1803-01-01</td>\n",
              "      <td>18030101</td>\n",
              "      <td>0</td>\n",
              "      <td>0.000000</td>\n",
              "      <td>1.000000</td>\n",
              "      <td>0</td>\n",
              "      <td>0.0</td>\n",
              "      <td>1.000000</td>\n",
              "    </tr>\n",
              "    <tr>\n",
              "      <th>4</th>\n",
              "      <td>SUN</td>\n",
              "      <td>JAN</td>\n",
              "      <td>1.0</td>\n",
              "      <td>180</td>\n",
              "      <td>1804-01-01</td>\n",
              "      <td>18040101</td>\n",
              "      <td>1</td>\n",
              "      <td>0.781831</td>\n",
              "      <td>0.623490</td>\n",
              "      <td>0</td>\n",
              "      <td>0.0</td>\n",
              "      <td>1.000000</td>\n",
              "    </tr>\n",
              "    <tr>\n",
              "      <th>...</th>\n",
              "      <td>...</td>\n",
              "      <td>...</td>\n",
              "      <td>...</td>\n",
              "      <td>...</td>\n",
              "      <td>...</td>\n",
              "      <td>...</td>\n",
              "      <td>...</td>\n",
              "      <td>...</td>\n",
              "      <td>...</td>\n",
              "      <td>...</td>\n",
              "      <td>...</td>\n",
              "      <td>...</td>\n",
              "    </tr>\n",
              "    <tr>\n",
              "      <th>146457</th>\n",
              "      <td>SAT</td>\n",
              "      <td>DEC</td>\n",
              "      <td>1.0</td>\n",
              "      <td>219</td>\n",
              "      <td>2196-12-31</td>\n",
              "      <td>21961231</td>\n",
              "      <td>0</td>\n",
              "      <td>0.000000</td>\n",
              "      <td>1.000000</td>\n",
              "      <td>11</td>\n",
              "      <td>-0.5</td>\n",
              "      <td>0.866025</td>\n",
              "    </tr>\n",
              "    <tr>\n",
              "      <th>146458</th>\n",
              "      <td>SUN</td>\n",
              "      <td>DEC</td>\n",
              "      <td>0.0</td>\n",
              "      <td>219</td>\n",
              "      <td>2197-12-31</td>\n",
              "      <td>21971231</td>\n",
              "      <td>1</td>\n",
              "      <td>0.781831</td>\n",
              "      <td>0.623490</td>\n",
              "      <td>11</td>\n",
              "      <td>-0.5</td>\n",
              "      <td>0.866025</td>\n",
              "    </tr>\n",
              "    <tr>\n",
              "      <th>146459</th>\n",
              "      <td>MON</td>\n",
              "      <td>DEC</td>\n",
              "      <td>0.0</td>\n",
              "      <td>219</td>\n",
              "      <td>2198-12-31</td>\n",
              "      <td>21981231</td>\n",
              "      <td>2</td>\n",
              "      <td>0.974928</td>\n",
              "      <td>-0.222521</td>\n",
              "      <td>11</td>\n",
              "      <td>-0.5</td>\n",
              "      <td>0.866025</td>\n",
              "    </tr>\n",
              "    <tr>\n",
              "      <th>146460</th>\n",
              "      <td>TUE</td>\n",
              "      <td>DEC</td>\n",
              "      <td>0.0</td>\n",
              "      <td>219</td>\n",
              "      <td>2199-12-31</td>\n",
              "      <td>21991231</td>\n",
              "      <td>3</td>\n",
              "      <td>0.433884</td>\n",
              "      <td>-0.900969</td>\n",
              "      <td>11</td>\n",
              "      <td>-0.5</td>\n",
              "      <td>0.866025</td>\n",
              "    </tr>\n",
              "    <tr>\n",
              "      <th>146461</th>\n",
              "      <td>WED</td>\n",
              "      <td>DEC</td>\n",
              "      <td>0.0</td>\n",
              "      <td>220</td>\n",
              "      <td>2200-12-31</td>\n",
              "      <td>22001231</td>\n",
              "      <td>4</td>\n",
              "      <td>-0.433884</td>\n",
              "      <td>-0.900969</td>\n",
              "      <td>11</td>\n",
              "      <td>-0.5</td>\n",
              "      <td>0.866025</td>\n",
              "    </tr>\n",
              "  </tbody>\n",
              "</table>\n",
              "<p>146462 rows × 12 columns</p>\n",
              "</div>\n",
              "      <button class=\"colab-df-convert\" onclick=\"convertToInteractive('df-491a1bf2-7ef1-4618-8202-cec9a507ab9f')\"\n",
              "              title=\"Convert this dataframe to an interactive table.\"\n",
              "              style=\"display:none;\">\n",
              "        \n",
              "  <svg xmlns=\"http://www.w3.org/2000/svg\" height=\"24px\"viewBox=\"0 0 24 24\"\n",
              "       width=\"24px\">\n",
              "    <path d=\"M0 0h24v24H0V0z\" fill=\"none\"/>\n",
              "    <path d=\"M18.56 5.44l.94 2.06.94-2.06 2.06-.94-2.06-.94-.94-2.06-.94 2.06-2.06.94zm-11 1L8.5 8.5l.94-2.06 2.06-.94-2.06-.94L8.5 2.5l-.94 2.06-2.06.94zm10 10l.94 2.06.94-2.06 2.06-.94-2.06-.94-.94-2.06-.94 2.06-2.06.94z\"/><path d=\"M17.41 7.96l-1.37-1.37c-.4-.4-.92-.59-1.43-.59-.52 0-1.04.2-1.43.59L10.3 9.45l-7.72 7.72c-.78.78-.78 2.05 0 2.83L4 21.41c.39.39.9.59 1.41.59.51 0 1.02-.2 1.41-.59l7.78-7.78 2.81-2.81c.8-.78.8-2.07 0-2.86zM5.41 20L4 18.59l7.72-7.72 1.47 1.35L5.41 20z\"/>\n",
              "  </svg>\n",
              "      </button>\n",
              "      \n",
              "  <style>\n",
              "    .colab-df-container {\n",
              "      display:flex;\n",
              "      flex-wrap:wrap;\n",
              "      gap: 12px;\n",
              "    }\n",
              "\n",
              "    .colab-df-convert {\n",
              "      background-color: #E8F0FE;\n",
              "      border: none;\n",
              "      border-radius: 50%;\n",
              "      cursor: pointer;\n",
              "      display: none;\n",
              "      fill: #1967D2;\n",
              "      height: 32px;\n",
              "      padding: 0 0 0 0;\n",
              "      width: 32px;\n",
              "    }\n",
              "\n",
              "    .colab-df-convert:hover {\n",
              "      background-color: #E2EBFA;\n",
              "      box-shadow: 0px 1px 2px rgba(60, 64, 67, 0.3), 0px 1px 3px 1px rgba(60, 64, 67, 0.15);\n",
              "      fill: #174EA6;\n",
              "    }\n",
              "\n",
              "    [theme=dark] .colab-df-convert {\n",
              "      background-color: #3B4455;\n",
              "      fill: #D2E3FC;\n",
              "    }\n",
              "\n",
              "    [theme=dark] .colab-df-convert:hover {\n",
              "      background-color: #434B5C;\n",
              "      box-shadow: 0px 1px 3px 1px rgba(0, 0, 0, 0.15);\n",
              "      filter: drop-shadow(0px 1px 2px rgba(0, 0, 0, 0.3));\n",
              "      fill: #FFFFFF;\n",
              "    }\n",
              "  </style>\n",
              "\n",
              "      <script>\n",
              "        const buttonEl =\n",
              "          document.querySelector('#df-491a1bf2-7ef1-4618-8202-cec9a507ab9f button.colab-df-convert');\n",
              "        buttonEl.style.display =\n",
              "          google.colab.kernel.accessAllowed ? 'block' : 'none';\n",
              "\n",
              "        async function convertToInteractive(key) {\n",
              "          const element = document.querySelector('#df-491a1bf2-7ef1-4618-8202-cec9a507ab9f');\n",
              "          const dataTable =\n",
              "            await google.colab.kernel.invokeFunction('convertToInteractive',\n",
              "                                                     [key], {});\n",
              "          if (!dataTable) return;\n",
              "\n",
              "          const docLinkHtml = 'Like what you see? Visit the ' +\n",
              "            '<a target=\"_blank\" href=https://colab.research.google.com/notebooks/data_table.ipynb>data table notebook</a>'\n",
              "            + ' to learn more about interactive tables.';\n",
              "          element.innerHTML = '';\n",
              "          dataTable['output_type'] = 'display_data';\n",
              "          await google.colab.output.renderOutput(dataTable, element);\n",
              "          const docLink = document.createElement('div');\n",
              "          docLink.innerHTML = docLinkHtml;\n",
              "          element.appendChild(docLink);\n",
              "        }\n",
              "      </script>\n",
              "    </div>\n",
              "  </div>\n",
              "  "
            ]
          },
          "metadata": {},
          "execution_count": 65
        }
      ],
      "source": [
        "data"
      ]
    },
    {
      "cell_type": "code",
      "execution_count": 66,
      "id": "8Ct1SLG-WZJU",
      "metadata": {
        "id": "8Ct1SLG-WZJU"
      },
      "outputs": [],
      "source": [
        "# alpha = len(data.decade.unique())\n",
        "alpha = (data.decade.iloc[-1] - data.decade.iloc[0]) + 1\n",
        "\n",
        "data['decade_sin'] = np.sin(data['decade'] * (2 * np.pi / alpha))\n",
        "data['decade_cos'] = np.cos(data['decade'] * (2 * np.pi / alpha))"
      ]
    },
    {
      "cell_type": "code",
      "execution_count": 66,
      "id": "b106dd6c",
      "metadata": {
        "id": "b106dd6c"
      },
      "outputs": [],
      "source": [
        ""
      ]
    },
    {
      "cell_type": "code",
      "execution_count": 67,
      "id": "r5bhYe0HXFj0",
      "metadata": {
        "colab": {
          "base_uri": "https://localhost:8080/",
          "height": 423
        },
        "id": "r5bhYe0HXFj0",
        "outputId": "0c4268ee-c14b-44c7-f398-c0d06f0cf5a6"
      },
      "outputs": [
        {
          "output_type": "execute_result",
          "data": {
            "text/plain": [
              "        day month  leap_year  decade       date  date_int  day_code   day_sin  \\\n",
              "0       WED   JAN        0.0     180 1800-01-01  18000101         4 -0.433884   \n",
              "1       THU   JAN        0.0     180 1801-01-01  18010101         5 -0.974928   \n",
              "2       FRI   JAN        0.0     180 1802-01-01  18020101         6 -0.781831   \n",
              "3       SAT   JAN        0.0     180 1803-01-01  18030101         0  0.000000   \n",
              "4       SUN   JAN        1.0     180 1804-01-01  18040101         1  0.781831   \n",
              "...     ...   ...        ...     ...        ...       ...       ...       ...   \n",
              "146457  SAT   DEC        1.0     219 2196-12-31  21961231         0  0.000000   \n",
              "146458  SUN   DEC        0.0     219 2197-12-31  21971231         1  0.781831   \n",
              "146459  MON   DEC        0.0     219 2198-12-31  21981231         2  0.974928   \n",
              "146460  TUE   DEC        0.0     219 2199-12-31  21991231         3  0.433884   \n",
              "146461  WED   DEC        0.0     220 2200-12-31  22001231         4 -0.433884   \n",
              "\n",
              "         day_cos  month_code  month_sin  month_cos  decade_sin  decade_cos  \n",
              "0      -0.900969           0        0.0   1.000000    0.636242   -0.771489  \n",
              "1      -0.222521           0        0.0   1.000000    0.636242   -0.771489  \n",
              "2       0.623490           0        0.0   1.000000    0.636242   -0.771489  \n",
              "3       1.000000           0        0.0   1.000000    0.636242   -0.771489  \n",
              "4       0.623490           0        0.0   1.000000    0.636242   -0.771489  \n",
              "...          ...         ...        ...        ...         ...         ...  \n",
              "146457  1.000000          11       -0.5   0.866025    0.839365   -0.543568  \n",
              "146458  0.623490          11       -0.5   0.866025    0.839365   -0.543568  \n",
              "146459 -0.222521          11       -0.5   0.866025    0.839365   -0.543568  \n",
              "146460 -0.900969          11       -0.5   0.866025    0.839365   -0.543568  \n",
              "146461 -0.900969          11       -0.5   0.866025    0.746553   -0.665326  \n",
              "\n",
              "[146462 rows x 14 columns]"
            ],
            "text/html": [
              "\n",
              "  <div id=\"df-bc98213b-0603-483e-956a-5a996f73c220\">\n",
              "    <div class=\"colab-df-container\">\n",
              "      <div>\n",
              "<style scoped>\n",
              "    .dataframe tbody tr th:only-of-type {\n",
              "        vertical-align: middle;\n",
              "    }\n",
              "\n",
              "    .dataframe tbody tr th {\n",
              "        vertical-align: top;\n",
              "    }\n",
              "\n",
              "    .dataframe thead th {\n",
              "        text-align: right;\n",
              "    }\n",
              "</style>\n",
              "<table border=\"1\" class=\"dataframe\">\n",
              "  <thead>\n",
              "    <tr style=\"text-align: right;\">\n",
              "      <th></th>\n",
              "      <th>day</th>\n",
              "      <th>month</th>\n",
              "      <th>leap_year</th>\n",
              "      <th>decade</th>\n",
              "      <th>date</th>\n",
              "      <th>date_int</th>\n",
              "      <th>day_code</th>\n",
              "      <th>day_sin</th>\n",
              "      <th>day_cos</th>\n",
              "      <th>month_code</th>\n",
              "      <th>month_sin</th>\n",
              "      <th>month_cos</th>\n",
              "      <th>decade_sin</th>\n",
              "      <th>decade_cos</th>\n",
              "    </tr>\n",
              "  </thead>\n",
              "  <tbody>\n",
              "    <tr>\n",
              "      <th>0</th>\n",
              "      <td>WED</td>\n",
              "      <td>JAN</td>\n",
              "      <td>0.0</td>\n",
              "      <td>180</td>\n",
              "      <td>1800-01-01</td>\n",
              "      <td>18000101</td>\n",
              "      <td>4</td>\n",
              "      <td>-0.433884</td>\n",
              "      <td>-0.900969</td>\n",
              "      <td>0</td>\n",
              "      <td>0.0</td>\n",
              "      <td>1.000000</td>\n",
              "      <td>0.636242</td>\n",
              "      <td>-0.771489</td>\n",
              "    </tr>\n",
              "    <tr>\n",
              "      <th>1</th>\n",
              "      <td>THU</td>\n",
              "      <td>JAN</td>\n",
              "      <td>0.0</td>\n",
              "      <td>180</td>\n",
              "      <td>1801-01-01</td>\n",
              "      <td>18010101</td>\n",
              "      <td>5</td>\n",
              "      <td>-0.974928</td>\n",
              "      <td>-0.222521</td>\n",
              "      <td>0</td>\n",
              "      <td>0.0</td>\n",
              "      <td>1.000000</td>\n",
              "      <td>0.636242</td>\n",
              "      <td>-0.771489</td>\n",
              "    </tr>\n",
              "    <tr>\n",
              "      <th>2</th>\n",
              "      <td>FRI</td>\n",
              "      <td>JAN</td>\n",
              "      <td>0.0</td>\n",
              "      <td>180</td>\n",
              "      <td>1802-01-01</td>\n",
              "      <td>18020101</td>\n",
              "      <td>6</td>\n",
              "      <td>-0.781831</td>\n",
              "      <td>0.623490</td>\n",
              "      <td>0</td>\n",
              "      <td>0.0</td>\n",
              "      <td>1.000000</td>\n",
              "      <td>0.636242</td>\n",
              "      <td>-0.771489</td>\n",
              "    </tr>\n",
              "    <tr>\n",
              "      <th>3</th>\n",
              "      <td>SAT</td>\n",
              "      <td>JAN</td>\n",
              "      <td>0.0</td>\n",
              "      <td>180</td>\n",
              "      <td>1803-01-01</td>\n",
              "      <td>18030101</td>\n",
              "      <td>0</td>\n",
              "      <td>0.000000</td>\n",
              "      <td>1.000000</td>\n",
              "      <td>0</td>\n",
              "      <td>0.0</td>\n",
              "      <td>1.000000</td>\n",
              "      <td>0.636242</td>\n",
              "      <td>-0.771489</td>\n",
              "    </tr>\n",
              "    <tr>\n",
              "      <th>4</th>\n",
              "      <td>SUN</td>\n",
              "      <td>JAN</td>\n",
              "      <td>1.0</td>\n",
              "      <td>180</td>\n",
              "      <td>1804-01-01</td>\n",
              "      <td>18040101</td>\n",
              "      <td>1</td>\n",
              "      <td>0.781831</td>\n",
              "      <td>0.623490</td>\n",
              "      <td>0</td>\n",
              "      <td>0.0</td>\n",
              "      <td>1.000000</td>\n",
              "      <td>0.636242</td>\n",
              "      <td>-0.771489</td>\n",
              "    </tr>\n",
              "    <tr>\n",
              "      <th>...</th>\n",
              "      <td>...</td>\n",
              "      <td>...</td>\n",
              "      <td>...</td>\n",
              "      <td>...</td>\n",
              "      <td>...</td>\n",
              "      <td>...</td>\n",
              "      <td>...</td>\n",
              "      <td>...</td>\n",
              "      <td>...</td>\n",
              "      <td>...</td>\n",
              "      <td>...</td>\n",
              "      <td>...</td>\n",
              "      <td>...</td>\n",
              "      <td>...</td>\n",
              "    </tr>\n",
              "    <tr>\n",
              "      <th>146457</th>\n",
              "      <td>SAT</td>\n",
              "      <td>DEC</td>\n",
              "      <td>1.0</td>\n",
              "      <td>219</td>\n",
              "      <td>2196-12-31</td>\n",
              "      <td>21961231</td>\n",
              "      <td>0</td>\n",
              "      <td>0.000000</td>\n",
              "      <td>1.000000</td>\n",
              "      <td>11</td>\n",
              "      <td>-0.5</td>\n",
              "      <td>0.866025</td>\n",
              "      <td>0.839365</td>\n",
              "      <td>-0.543568</td>\n",
              "    </tr>\n",
              "    <tr>\n",
              "      <th>146458</th>\n",
              "      <td>SUN</td>\n",
              "      <td>DEC</td>\n",
              "      <td>0.0</td>\n",
              "      <td>219</td>\n",
              "      <td>2197-12-31</td>\n",
              "      <td>21971231</td>\n",
              "      <td>1</td>\n",
              "      <td>0.781831</td>\n",
              "      <td>0.623490</td>\n",
              "      <td>11</td>\n",
              "      <td>-0.5</td>\n",
              "      <td>0.866025</td>\n",
              "      <td>0.839365</td>\n",
              "      <td>-0.543568</td>\n",
              "    </tr>\n",
              "    <tr>\n",
              "      <th>146459</th>\n",
              "      <td>MON</td>\n",
              "      <td>DEC</td>\n",
              "      <td>0.0</td>\n",
              "      <td>219</td>\n",
              "      <td>2198-12-31</td>\n",
              "      <td>21981231</td>\n",
              "      <td>2</td>\n",
              "      <td>0.974928</td>\n",
              "      <td>-0.222521</td>\n",
              "      <td>11</td>\n",
              "      <td>-0.5</td>\n",
              "      <td>0.866025</td>\n",
              "      <td>0.839365</td>\n",
              "      <td>-0.543568</td>\n",
              "    </tr>\n",
              "    <tr>\n",
              "      <th>146460</th>\n",
              "      <td>TUE</td>\n",
              "      <td>DEC</td>\n",
              "      <td>0.0</td>\n",
              "      <td>219</td>\n",
              "      <td>2199-12-31</td>\n",
              "      <td>21991231</td>\n",
              "      <td>3</td>\n",
              "      <td>0.433884</td>\n",
              "      <td>-0.900969</td>\n",
              "      <td>11</td>\n",
              "      <td>-0.5</td>\n",
              "      <td>0.866025</td>\n",
              "      <td>0.839365</td>\n",
              "      <td>-0.543568</td>\n",
              "    </tr>\n",
              "    <tr>\n",
              "      <th>146461</th>\n",
              "      <td>WED</td>\n",
              "      <td>DEC</td>\n",
              "      <td>0.0</td>\n",
              "      <td>220</td>\n",
              "      <td>2200-12-31</td>\n",
              "      <td>22001231</td>\n",
              "      <td>4</td>\n",
              "      <td>-0.433884</td>\n",
              "      <td>-0.900969</td>\n",
              "      <td>11</td>\n",
              "      <td>-0.5</td>\n",
              "      <td>0.866025</td>\n",
              "      <td>0.746553</td>\n",
              "      <td>-0.665326</td>\n",
              "    </tr>\n",
              "  </tbody>\n",
              "</table>\n",
              "<p>146462 rows × 14 columns</p>\n",
              "</div>\n",
              "      <button class=\"colab-df-convert\" onclick=\"convertToInteractive('df-bc98213b-0603-483e-956a-5a996f73c220')\"\n",
              "              title=\"Convert this dataframe to an interactive table.\"\n",
              "              style=\"display:none;\">\n",
              "        \n",
              "  <svg xmlns=\"http://www.w3.org/2000/svg\" height=\"24px\"viewBox=\"0 0 24 24\"\n",
              "       width=\"24px\">\n",
              "    <path d=\"M0 0h24v24H0V0z\" fill=\"none\"/>\n",
              "    <path d=\"M18.56 5.44l.94 2.06.94-2.06 2.06-.94-2.06-.94-.94-2.06-.94 2.06-2.06.94zm-11 1L8.5 8.5l.94-2.06 2.06-.94-2.06-.94L8.5 2.5l-.94 2.06-2.06.94zm10 10l.94 2.06.94-2.06 2.06-.94-2.06-.94-.94-2.06-.94 2.06-2.06.94z\"/><path d=\"M17.41 7.96l-1.37-1.37c-.4-.4-.92-.59-1.43-.59-.52 0-1.04.2-1.43.59L10.3 9.45l-7.72 7.72c-.78.78-.78 2.05 0 2.83L4 21.41c.39.39.9.59 1.41.59.51 0 1.02-.2 1.41-.59l7.78-7.78 2.81-2.81c.8-.78.8-2.07 0-2.86zM5.41 20L4 18.59l7.72-7.72 1.47 1.35L5.41 20z\"/>\n",
              "  </svg>\n",
              "      </button>\n",
              "      \n",
              "  <style>\n",
              "    .colab-df-container {\n",
              "      display:flex;\n",
              "      flex-wrap:wrap;\n",
              "      gap: 12px;\n",
              "    }\n",
              "\n",
              "    .colab-df-convert {\n",
              "      background-color: #E8F0FE;\n",
              "      border: none;\n",
              "      border-radius: 50%;\n",
              "      cursor: pointer;\n",
              "      display: none;\n",
              "      fill: #1967D2;\n",
              "      height: 32px;\n",
              "      padding: 0 0 0 0;\n",
              "      width: 32px;\n",
              "    }\n",
              "\n",
              "    .colab-df-convert:hover {\n",
              "      background-color: #E2EBFA;\n",
              "      box-shadow: 0px 1px 2px rgba(60, 64, 67, 0.3), 0px 1px 3px 1px rgba(60, 64, 67, 0.15);\n",
              "      fill: #174EA6;\n",
              "    }\n",
              "\n",
              "    [theme=dark] .colab-df-convert {\n",
              "      background-color: #3B4455;\n",
              "      fill: #D2E3FC;\n",
              "    }\n",
              "\n",
              "    [theme=dark] .colab-df-convert:hover {\n",
              "      background-color: #434B5C;\n",
              "      box-shadow: 0px 1px 3px 1px rgba(0, 0, 0, 0.15);\n",
              "      filter: drop-shadow(0px 1px 2px rgba(0, 0, 0, 0.3));\n",
              "      fill: #FFFFFF;\n",
              "    }\n",
              "  </style>\n",
              "\n",
              "      <script>\n",
              "        const buttonEl =\n",
              "          document.querySelector('#df-bc98213b-0603-483e-956a-5a996f73c220 button.colab-df-convert');\n",
              "        buttonEl.style.display =\n",
              "          google.colab.kernel.accessAllowed ? 'block' : 'none';\n",
              "\n",
              "        async function convertToInteractive(key) {\n",
              "          const element = document.querySelector('#df-bc98213b-0603-483e-956a-5a996f73c220');\n",
              "          const dataTable =\n",
              "            await google.colab.kernel.invokeFunction('convertToInteractive',\n",
              "                                                     [key], {});\n",
              "          if (!dataTable) return;\n",
              "\n",
              "          const docLinkHtml = 'Like what you see? Visit the ' +\n",
              "            '<a target=\"_blank\" href=https://colab.research.google.com/notebooks/data_table.ipynb>data table notebook</a>'\n",
              "            + ' to learn more about interactive tables.';\n",
              "          element.innerHTML = '';\n",
              "          dataTable['output_type'] = 'display_data';\n",
              "          await google.colab.output.renderOutput(dataTable, element);\n",
              "          const docLink = document.createElement('div');\n",
              "          docLink.innerHTML = docLinkHtml;\n",
              "          element.appendChild(docLink);\n",
              "        }\n",
              "      </script>\n",
              "    </div>\n",
              "  </div>\n",
              "  "
            ]
          },
          "metadata": {},
          "execution_count": 67
        }
      ],
      "source": [
        "data"
      ]
    },
    {
      "cell_type": "code",
      "execution_count": 68,
      "id": "ce4b5af2",
      "metadata": {
        "colab": {
          "base_uri": "https://localhost:8080/"
        },
        "id": "ce4b5af2",
        "outputId": "93985680-1eb8-4a95-f3b5-1f33bd4d258f"
      },
      "outputs": [
        {
          "output_type": "execute_result",
          "data": {
            "text/plain": [
              "day                   object\n",
              "month                 object\n",
              "leap_year            float64\n",
              "decade                 int64\n",
              "date          datetime64[ns]\n",
              "date_int               int64\n",
              "day_code                int8\n",
              "day_sin              float64\n",
              "day_cos              float64\n",
              "month_code              int8\n",
              "month_sin            float64\n",
              "month_cos            float64\n",
              "decade_sin           float64\n",
              "decade_cos           float64\n",
              "dtype: object"
            ]
          },
          "metadata": {},
          "execution_count": 68
        }
      ],
      "source": [
        "data.dtypes"
      ]
    },
    {
      "cell_type": "code",
      "execution_count": 69,
      "id": "43e97db1",
      "metadata": {
        "colab": {
          "base_uri": "https://localhost:8080/"
        },
        "id": "43e97db1",
        "outputId": "fbb54f18-6b3f-4c8a-b8f0-ce89f905bd8d"
      },
      "outputs": [
        {
          "output_type": "execute_result",
          "data": {
            "text/plain": [
              "(-0.9749279121818236, 0.9749279121818236)"
            ]
          },
          "metadata": {},
          "execution_count": 69
        }
      ],
      "source": [
        "data.day_sin.min(), data.day_sin.max()"
      ]
    },
    {
      "cell_type": "code",
      "execution_count": 70,
      "id": "9b1542f4",
      "metadata": {
        "colab": {
          "base_uri": "https://localhost:8080/"
        },
        "id": "9b1542f4",
        "outputId": "e493210a-ca52-418e-8c1e-67b613fa8a58"
      },
      "outputs": [
        {
          "output_type": "execute_result",
          "data": {
            "text/plain": [
              "(-0.9009688679024191, 1.0)"
            ]
          },
          "metadata": {},
          "execution_count": 70
        }
      ],
      "source": [
        "data.day_cos.min(), data.day_cos.max()"
      ]
    },
    {
      "cell_type": "code",
      "execution_count": 70,
      "id": "38e17817",
      "metadata": {
        "id": "38e17817"
      },
      "outputs": [],
      "source": [
        ""
      ]
    },
    {
      "cell_type": "code",
      "execution_count": 71,
      "id": "0b97f147",
      "metadata": {
        "colab": {
          "base_uri": "https://localhost:8080/"
        },
        "id": "0b97f147",
        "outputId": "a671a743-5115-468a-e332-fe68fb007b6a"
      },
      "outputs": [
        {
          "output_type": "execute_result",
          "data": {
            "text/plain": [
              "(-1.0, 1.0)"
            ]
          },
          "metadata": {},
          "execution_count": 71
        }
      ],
      "source": [
        "data.month_sin.min(), data.month_sin.max()"
      ]
    },
    {
      "cell_type": "code",
      "execution_count": 72,
      "id": "b2f61859",
      "metadata": {
        "colab": {
          "base_uri": "https://localhost:8080/"
        },
        "id": "b2f61859",
        "outputId": "2faf9d33-82c4-4331-c46c-a60bb50e2ab5"
      },
      "outputs": [
        {
          "output_type": "execute_result",
          "data": {
            "text/plain": [
              "(-1.0, 1.0)"
            ]
          },
          "metadata": {},
          "execution_count": 72
        }
      ],
      "source": [
        "data.month_cos.min(), data.month_cos.max()"
      ]
    },
    {
      "cell_type": "code",
      "execution_count": 72,
      "id": "e55cd9cc",
      "metadata": {
        "id": "e55cd9cc"
      },
      "outputs": [],
      "source": [
        ""
      ]
    },
    {
      "cell_type": "code",
      "execution_count": 73,
      "id": "30932af1",
      "metadata": {
        "colab": {
          "base_uri": "https://localhost:8080/"
        },
        "id": "30932af1",
        "outputId": "11a6846a-4451-4956-df29-592ec19272be"
      },
      "outputs": [
        {
          "output_type": "execute_result",
          "data": {
            "text/plain": [
              "(0.0, 1.0)"
            ]
          },
          "metadata": {},
          "execution_count": 73
        }
      ],
      "source": [
        "data.leap_year.min(), data.leap_year.max()"
      ]
    },
    {
      "cell_type": "code",
      "execution_count": 73,
      "id": "44a3f72f",
      "metadata": {
        "id": "44a3f72f"
      },
      "outputs": [],
      "source": [
        ""
      ]
    },
    {
      "cell_type": "code",
      "execution_count": 74,
      "id": "d93f9475",
      "metadata": {
        "colab": {
          "base_uri": "https://localhost:8080/"
        },
        "id": "d93f9475",
        "outputId": "8c49eea2-57e6-4bbd-c15f-800a2a25da24"
      },
      "outputs": [
        {
          "output_type": "execute_result",
          "data": {
            "text/plain": [
              "(-0.9992661810508099, 0.9992661810508101)"
            ]
          },
          "metadata": {},
          "execution_count": 74
        }
      ],
      "source": [
        "data.decade_sin.min(), data.decade_sin.max()"
      ]
    },
    {
      "cell_type": "code",
      "execution_count": 75,
      "id": "761fbc43",
      "metadata": {
        "colab": {
          "base_uri": "https://localhost:8080/"
        },
        "id": "761fbc43",
        "outputId": "149208c6-3c2d-45a0-9e4b-a239ccff8aa9"
      },
      "outputs": [
        {
          "output_type": "execute_result",
          "data": {
            "text/plain": [
              "(-0.9970658011837407, 1.0)"
            ]
          },
          "metadata": {},
          "execution_count": 75
        }
      ],
      "source": [
        "data.decade_cos.min(), data.decade_cos.max()"
      ]
    },
    {
      "cell_type": "code",
      "execution_count": 75,
      "id": "31214f44",
      "metadata": {
        "id": "31214f44"
      },
      "outputs": [],
      "source": [
        ""
      ]
    },
    {
      "cell_type": "code",
      "execution_count": 76,
      "id": "0738d632",
      "metadata": {
        "colab": {
          "base_uri": "https://localhost:8080/",
          "height": 423
        },
        "id": "0738d632",
        "outputId": "2cc4eaf0-28c4-44eb-d36a-be42470612bb"
      },
      "outputs": [
        {
          "output_type": "execute_result",
          "data": {
            "text/plain": [
              "        day month  leap_year  decade       date  date_int  day_code   day_sin  \\\n",
              "0       WED   JAN        0.0     180 1800-01-01  18000101         4 -0.433884   \n",
              "1       THU   JAN        0.0     180 1801-01-01  18010101         5 -0.974928   \n",
              "2       FRI   JAN        0.0     180 1802-01-01  18020101         6 -0.781831   \n",
              "3       SAT   JAN        0.0     180 1803-01-01  18030101         0  0.000000   \n",
              "4       SUN   JAN        1.0     180 1804-01-01  18040101         1  0.781831   \n",
              "...     ...   ...        ...     ...        ...       ...       ...       ...   \n",
              "146457  SAT   DEC        1.0     219 2196-12-31  21961231         0  0.000000   \n",
              "146458  SUN   DEC        0.0     219 2197-12-31  21971231         1  0.781831   \n",
              "146459  MON   DEC        0.0     219 2198-12-31  21981231         2  0.974928   \n",
              "146460  TUE   DEC        0.0     219 2199-12-31  21991231         3  0.433884   \n",
              "146461  WED   DEC        0.0     220 2200-12-31  22001231         4 -0.433884   \n",
              "\n",
              "         day_cos  month_code  month_sin  month_cos  decade_sin  decade_cos  \n",
              "0      -0.900969           0        0.0   1.000000    0.636242   -0.771489  \n",
              "1      -0.222521           0        0.0   1.000000    0.636242   -0.771489  \n",
              "2       0.623490           0        0.0   1.000000    0.636242   -0.771489  \n",
              "3       1.000000           0        0.0   1.000000    0.636242   -0.771489  \n",
              "4       0.623490           0        0.0   1.000000    0.636242   -0.771489  \n",
              "...          ...         ...        ...        ...         ...         ...  \n",
              "146457  1.000000          11       -0.5   0.866025    0.839365   -0.543568  \n",
              "146458  0.623490          11       -0.5   0.866025    0.839365   -0.543568  \n",
              "146459 -0.222521          11       -0.5   0.866025    0.839365   -0.543568  \n",
              "146460 -0.900969          11       -0.5   0.866025    0.839365   -0.543568  \n",
              "146461 -0.900969          11       -0.5   0.866025    0.746553   -0.665326  \n",
              "\n",
              "[146462 rows x 14 columns]"
            ],
            "text/html": [
              "\n",
              "  <div id=\"df-12172b46-c0d2-4b04-a32e-88fd10568bb8\">\n",
              "    <div class=\"colab-df-container\">\n",
              "      <div>\n",
              "<style scoped>\n",
              "    .dataframe tbody tr th:only-of-type {\n",
              "        vertical-align: middle;\n",
              "    }\n",
              "\n",
              "    .dataframe tbody tr th {\n",
              "        vertical-align: top;\n",
              "    }\n",
              "\n",
              "    .dataframe thead th {\n",
              "        text-align: right;\n",
              "    }\n",
              "</style>\n",
              "<table border=\"1\" class=\"dataframe\">\n",
              "  <thead>\n",
              "    <tr style=\"text-align: right;\">\n",
              "      <th></th>\n",
              "      <th>day</th>\n",
              "      <th>month</th>\n",
              "      <th>leap_year</th>\n",
              "      <th>decade</th>\n",
              "      <th>date</th>\n",
              "      <th>date_int</th>\n",
              "      <th>day_code</th>\n",
              "      <th>day_sin</th>\n",
              "      <th>day_cos</th>\n",
              "      <th>month_code</th>\n",
              "      <th>month_sin</th>\n",
              "      <th>month_cos</th>\n",
              "      <th>decade_sin</th>\n",
              "      <th>decade_cos</th>\n",
              "    </tr>\n",
              "  </thead>\n",
              "  <tbody>\n",
              "    <tr>\n",
              "      <th>0</th>\n",
              "      <td>WED</td>\n",
              "      <td>JAN</td>\n",
              "      <td>0.0</td>\n",
              "      <td>180</td>\n",
              "      <td>1800-01-01</td>\n",
              "      <td>18000101</td>\n",
              "      <td>4</td>\n",
              "      <td>-0.433884</td>\n",
              "      <td>-0.900969</td>\n",
              "      <td>0</td>\n",
              "      <td>0.0</td>\n",
              "      <td>1.000000</td>\n",
              "      <td>0.636242</td>\n",
              "      <td>-0.771489</td>\n",
              "    </tr>\n",
              "    <tr>\n",
              "      <th>1</th>\n",
              "      <td>THU</td>\n",
              "      <td>JAN</td>\n",
              "      <td>0.0</td>\n",
              "      <td>180</td>\n",
              "      <td>1801-01-01</td>\n",
              "      <td>18010101</td>\n",
              "      <td>5</td>\n",
              "      <td>-0.974928</td>\n",
              "      <td>-0.222521</td>\n",
              "      <td>0</td>\n",
              "      <td>0.0</td>\n",
              "      <td>1.000000</td>\n",
              "      <td>0.636242</td>\n",
              "      <td>-0.771489</td>\n",
              "    </tr>\n",
              "    <tr>\n",
              "      <th>2</th>\n",
              "      <td>FRI</td>\n",
              "      <td>JAN</td>\n",
              "      <td>0.0</td>\n",
              "      <td>180</td>\n",
              "      <td>1802-01-01</td>\n",
              "      <td>18020101</td>\n",
              "      <td>6</td>\n",
              "      <td>-0.781831</td>\n",
              "      <td>0.623490</td>\n",
              "      <td>0</td>\n",
              "      <td>0.0</td>\n",
              "      <td>1.000000</td>\n",
              "      <td>0.636242</td>\n",
              "      <td>-0.771489</td>\n",
              "    </tr>\n",
              "    <tr>\n",
              "      <th>3</th>\n",
              "      <td>SAT</td>\n",
              "      <td>JAN</td>\n",
              "      <td>0.0</td>\n",
              "      <td>180</td>\n",
              "      <td>1803-01-01</td>\n",
              "      <td>18030101</td>\n",
              "      <td>0</td>\n",
              "      <td>0.000000</td>\n",
              "      <td>1.000000</td>\n",
              "      <td>0</td>\n",
              "      <td>0.0</td>\n",
              "      <td>1.000000</td>\n",
              "      <td>0.636242</td>\n",
              "      <td>-0.771489</td>\n",
              "    </tr>\n",
              "    <tr>\n",
              "      <th>4</th>\n",
              "      <td>SUN</td>\n",
              "      <td>JAN</td>\n",
              "      <td>1.0</td>\n",
              "      <td>180</td>\n",
              "      <td>1804-01-01</td>\n",
              "      <td>18040101</td>\n",
              "      <td>1</td>\n",
              "      <td>0.781831</td>\n",
              "      <td>0.623490</td>\n",
              "      <td>0</td>\n",
              "      <td>0.0</td>\n",
              "      <td>1.000000</td>\n",
              "      <td>0.636242</td>\n",
              "      <td>-0.771489</td>\n",
              "    </tr>\n",
              "    <tr>\n",
              "      <th>...</th>\n",
              "      <td>...</td>\n",
              "      <td>...</td>\n",
              "      <td>...</td>\n",
              "      <td>...</td>\n",
              "      <td>...</td>\n",
              "      <td>...</td>\n",
              "      <td>...</td>\n",
              "      <td>...</td>\n",
              "      <td>...</td>\n",
              "      <td>...</td>\n",
              "      <td>...</td>\n",
              "      <td>...</td>\n",
              "      <td>...</td>\n",
              "      <td>...</td>\n",
              "    </tr>\n",
              "    <tr>\n",
              "      <th>146457</th>\n",
              "      <td>SAT</td>\n",
              "      <td>DEC</td>\n",
              "      <td>1.0</td>\n",
              "      <td>219</td>\n",
              "      <td>2196-12-31</td>\n",
              "      <td>21961231</td>\n",
              "      <td>0</td>\n",
              "      <td>0.000000</td>\n",
              "      <td>1.000000</td>\n",
              "      <td>11</td>\n",
              "      <td>-0.5</td>\n",
              "      <td>0.866025</td>\n",
              "      <td>0.839365</td>\n",
              "      <td>-0.543568</td>\n",
              "    </tr>\n",
              "    <tr>\n",
              "      <th>146458</th>\n",
              "      <td>SUN</td>\n",
              "      <td>DEC</td>\n",
              "      <td>0.0</td>\n",
              "      <td>219</td>\n",
              "      <td>2197-12-31</td>\n",
              "      <td>21971231</td>\n",
              "      <td>1</td>\n",
              "      <td>0.781831</td>\n",
              "      <td>0.623490</td>\n",
              "      <td>11</td>\n",
              "      <td>-0.5</td>\n",
              "      <td>0.866025</td>\n",
              "      <td>0.839365</td>\n",
              "      <td>-0.543568</td>\n",
              "    </tr>\n",
              "    <tr>\n",
              "      <th>146459</th>\n",
              "      <td>MON</td>\n",
              "      <td>DEC</td>\n",
              "      <td>0.0</td>\n",
              "      <td>219</td>\n",
              "      <td>2198-12-31</td>\n",
              "      <td>21981231</td>\n",
              "      <td>2</td>\n",
              "      <td>0.974928</td>\n",
              "      <td>-0.222521</td>\n",
              "      <td>11</td>\n",
              "      <td>-0.5</td>\n",
              "      <td>0.866025</td>\n",
              "      <td>0.839365</td>\n",
              "      <td>-0.543568</td>\n",
              "    </tr>\n",
              "    <tr>\n",
              "      <th>146460</th>\n",
              "      <td>TUE</td>\n",
              "      <td>DEC</td>\n",
              "      <td>0.0</td>\n",
              "      <td>219</td>\n",
              "      <td>2199-12-31</td>\n",
              "      <td>21991231</td>\n",
              "      <td>3</td>\n",
              "      <td>0.433884</td>\n",
              "      <td>-0.900969</td>\n",
              "      <td>11</td>\n",
              "      <td>-0.5</td>\n",
              "      <td>0.866025</td>\n",
              "      <td>0.839365</td>\n",
              "      <td>-0.543568</td>\n",
              "    </tr>\n",
              "    <tr>\n",
              "      <th>146461</th>\n",
              "      <td>WED</td>\n",
              "      <td>DEC</td>\n",
              "      <td>0.0</td>\n",
              "      <td>220</td>\n",
              "      <td>2200-12-31</td>\n",
              "      <td>22001231</td>\n",
              "      <td>4</td>\n",
              "      <td>-0.433884</td>\n",
              "      <td>-0.900969</td>\n",
              "      <td>11</td>\n",
              "      <td>-0.5</td>\n",
              "      <td>0.866025</td>\n",
              "      <td>0.746553</td>\n",
              "      <td>-0.665326</td>\n",
              "    </tr>\n",
              "  </tbody>\n",
              "</table>\n",
              "<p>146462 rows × 14 columns</p>\n",
              "</div>\n",
              "      <button class=\"colab-df-convert\" onclick=\"convertToInteractive('df-12172b46-c0d2-4b04-a32e-88fd10568bb8')\"\n",
              "              title=\"Convert this dataframe to an interactive table.\"\n",
              "              style=\"display:none;\">\n",
              "        \n",
              "  <svg xmlns=\"http://www.w3.org/2000/svg\" height=\"24px\"viewBox=\"0 0 24 24\"\n",
              "       width=\"24px\">\n",
              "    <path d=\"M0 0h24v24H0V0z\" fill=\"none\"/>\n",
              "    <path d=\"M18.56 5.44l.94 2.06.94-2.06 2.06-.94-2.06-.94-.94-2.06-.94 2.06-2.06.94zm-11 1L8.5 8.5l.94-2.06 2.06-.94-2.06-.94L8.5 2.5l-.94 2.06-2.06.94zm10 10l.94 2.06.94-2.06 2.06-.94-2.06-.94-.94-2.06-.94 2.06-2.06.94z\"/><path d=\"M17.41 7.96l-1.37-1.37c-.4-.4-.92-.59-1.43-.59-.52 0-1.04.2-1.43.59L10.3 9.45l-7.72 7.72c-.78.78-.78 2.05 0 2.83L4 21.41c.39.39.9.59 1.41.59.51 0 1.02-.2 1.41-.59l7.78-7.78 2.81-2.81c.8-.78.8-2.07 0-2.86zM5.41 20L4 18.59l7.72-7.72 1.47 1.35L5.41 20z\"/>\n",
              "  </svg>\n",
              "      </button>\n",
              "      \n",
              "  <style>\n",
              "    .colab-df-container {\n",
              "      display:flex;\n",
              "      flex-wrap:wrap;\n",
              "      gap: 12px;\n",
              "    }\n",
              "\n",
              "    .colab-df-convert {\n",
              "      background-color: #E8F0FE;\n",
              "      border: none;\n",
              "      border-radius: 50%;\n",
              "      cursor: pointer;\n",
              "      display: none;\n",
              "      fill: #1967D2;\n",
              "      height: 32px;\n",
              "      padding: 0 0 0 0;\n",
              "      width: 32px;\n",
              "    }\n",
              "\n",
              "    .colab-df-convert:hover {\n",
              "      background-color: #E2EBFA;\n",
              "      box-shadow: 0px 1px 2px rgba(60, 64, 67, 0.3), 0px 1px 3px 1px rgba(60, 64, 67, 0.15);\n",
              "      fill: #174EA6;\n",
              "    }\n",
              "\n",
              "    [theme=dark] .colab-df-convert {\n",
              "      background-color: #3B4455;\n",
              "      fill: #D2E3FC;\n",
              "    }\n",
              "\n",
              "    [theme=dark] .colab-df-convert:hover {\n",
              "      background-color: #434B5C;\n",
              "      box-shadow: 0px 1px 3px 1px rgba(0, 0, 0, 0.15);\n",
              "      filter: drop-shadow(0px 1px 2px rgba(0, 0, 0, 0.3));\n",
              "      fill: #FFFFFF;\n",
              "    }\n",
              "  </style>\n",
              "\n",
              "      <script>\n",
              "        const buttonEl =\n",
              "          document.querySelector('#df-12172b46-c0d2-4b04-a32e-88fd10568bb8 button.colab-df-convert');\n",
              "        buttonEl.style.display =\n",
              "          google.colab.kernel.accessAllowed ? 'block' : 'none';\n",
              "\n",
              "        async function convertToInteractive(key) {\n",
              "          const element = document.querySelector('#df-12172b46-c0d2-4b04-a32e-88fd10568bb8');\n",
              "          const dataTable =\n",
              "            await google.colab.kernel.invokeFunction('convertToInteractive',\n",
              "                                                     [key], {});\n",
              "          if (!dataTable) return;\n",
              "\n",
              "          const docLinkHtml = 'Like what you see? Visit the ' +\n",
              "            '<a target=\"_blank\" href=https://colab.research.google.com/notebooks/data_table.ipynb>data table notebook</a>'\n",
              "            + ' to learn more about interactive tables.';\n",
              "          element.innerHTML = '';\n",
              "          dataTable['output_type'] = 'display_data';\n",
              "          await google.colab.output.renderOutput(dataTable, element);\n",
              "          const docLink = document.createElement('div');\n",
              "          docLink.innerHTML = docLinkHtml;\n",
              "          element.appendChild(docLink);\n",
              "        }\n",
              "      </script>\n",
              "    </div>\n",
              "  </div>\n",
              "  "
            ]
          },
          "metadata": {},
          "execution_count": 76
        }
      ],
      "source": [
        "data"
      ]
    },
    {
      "cell_type": "code",
      "execution_count": 77,
      "id": "f3899b1c",
      "metadata": {
        "colab": {
          "base_uri": "https://localhost:8080/",
          "height": 297
        },
        "id": "f3899b1c",
        "outputId": "a8e2a848-4b22-47f2-fb64-099c5ab5bf97"
      },
      "outputs": [
        {
          "output_type": "execute_result",
          "data": {
            "text/plain": [
              "<matplotlib.axes._subplots.AxesSubplot at 0x7f6fb42d1f90>"
            ]
          },
          "metadata": {},
          "execution_count": 77
        },
        {
          "output_type": "display_data",
          "data": {
            "text/plain": [
              "<Figure size 432x288 with 1 Axes>"
            ],
            "image/png": "[encoded data removed]"
          },
          "metadata": {
            "needs_background": "light"
          }
        }
      ],
      "source": [
        "data.day.value_counts().plot(kind=\"bar\")"
      ]
    },
    {
      "cell_type": "code",
      "execution_count": 78,
      "id": "2a66503b",
      "metadata": {
        "colab": {
          "base_uri": "https://localhost:8080/",
          "height": 296
        },
        "id": "2a66503b",
        "outputId": "d98fa710-83b0-485e-b110-667cbc38889a"
      },
      "outputs": [
        {
          "output_type": "execute_result",
          "data": {
            "text/plain": [
              "<matplotlib.axes._subplots.AxesSubplot at 0x7f6fb4238710>"
            ]
          },
          "metadata": {},
          "execution_count": 78
        },
        {
          "output_type": "display_data",
          "data": {
            "text/plain": [
              "<Figure size 432x288 with 1 Axes>"
            ],
            "image/png": "[encoded data removed]"
          },
          "metadata": {
            "needs_background": "light"
          }
        }
      ],
      "source": [
        "data.month.value_counts().plot(kind=\"bar\")"
      ]
    },
    {
      "cell_type": "code",
      "execution_count": 79,
      "id": "64309a43",
      "metadata": {
        "colab": {
          "base_uri": "https://localhost:8080/",
          "height": 289
        },
        "id": "64309a43",
        "outputId": "6493515f-42b6-4764-ce6f-8536a9169e75"
      },
      "outputs": [
        {
          "output_type": "execute_result",
          "data": {
            "text/plain": [
              "<matplotlib.axes._subplots.AxesSubplot at 0x7f6fb3c9ec10>"
            ]
          },
          "metadata": {},
          "execution_count": 79
        },
        {
          "output_type": "display_data",
          "data": {
            "text/plain": [
              "<Figure size 432x288 with 1 Axes>"
            ],
            "image/png": "[encoded data removed]"
          },
          "metadata": {
            "needs_background": "light"
          }
        }
      ],
      "source": [
        "data.leap_year.value_counts().plot(kind=\"bar\")"
      ]
    },
    {
      "cell_type": "code",
      "execution_count": 80,
      "id": "8848723f",
      "metadata": {
        "colab": {
          "base_uri": "https://localhost:8080/",
          "height": 292
        },
        "id": "8848723f",
        "outputId": "6859540c-1da9-4232-bca4-97632db732d2"
      },
      "outputs": [
        {
          "output_type": "execute_result",
          "data": {
            "text/plain": [
              "<matplotlib.axes._subplots.AxesSubplot at 0x7f6fb3c78c10>"
            ]
          },
          "metadata": {},
          "execution_count": 80
        },
        {
          "output_type": "display_data",
          "data": {
            "text/plain": [
              "<Figure size 432x288 with 1 Axes>"
            ],
            "image/png": "[encoded data removed]"
          },
          "metadata": {
            "needs_background": "light"
          }
        }
      ],
      "source": [
        "data.decade.value_counts().plot(kind=\"bar\")"
      ]
    },
    {
      "cell_type": "code",
      "execution_count": 81,
      "id": "cba3f0f0",
      "metadata": {
        "colab": {
          "base_uri": "https://localhost:8080/",
          "height": 423
        },
        "id": "cba3f0f0",
        "outputId": "c974da3c-8c9e-4535-8dda-0d2f4ace5c17"
      },
      "outputs": [
        {
          "output_type": "execute_result",
          "data": {
            "text/plain": [
              "        day month  leap_year  decade       date  date_int  day_code   day_sin  \\\n",
              "0       WED   JAN        0.0     180 1800-01-01  18000101         4 -0.433884   \n",
              "1       THU   JAN        0.0     180 1801-01-01  18010101         5 -0.974928   \n",
              "2       FRI   JAN        0.0     180 1802-01-01  18020101         6 -0.781831   \n",
              "3       SAT   JAN        0.0     180 1803-01-01  18030101         0  0.000000   \n",
              "4       SUN   JAN        1.0     180 1804-01-01  18040101         1  0.781831   \n",
              "...     ...   ...        ...     ...        ...       ...       ...       ...   \n",
              "146457  SAT   DEC        1.0     219 2196-12-31  21961231         0  0.000000   \n",
              "146458  SUN   DEC        0.0     219 2197-12-31  21971231         1  0.781831   \n",
              "146459  MON   DEC        0.0     219 2198-12-31  21981231         2  0.974928   \n",
              "146460  TUE   DEC        0.0     219 2199-12-31  21991231         3  0.433884   \n",
              "146461  WED   DEC        0.0     220 2200-12-31  22001231         4 -0.433884   \n",
              "\n",
              "         day_cos  month_code  month_sin  month_cos  decade_sin  decade_cos  \n",
              "0      -0.900969           0        0.0   1.000000    0.636242   -0.771489  \n",
              "1      -0.222521           0        0.0   1.000000    0.636242   -0.771489  \n",
              "2       0.623490           0        0.0   1.000000    0.636242   -0.771489  \n",
              "3       1.000000           0        0.0   1.000000    0.636242   -0.771489  \n",
              "4       0.623490           0        0.0   1.000000    0.636242   -0.771489  \n",
              "...          ...         ...        ...        ...         ...         ...  \n",
              "146457  1.000000          11       -0.5   0.866025    0.839365   -0.543568  \n",
              "146458  0.623490          11       -0.5   0.866025    0.839365   -0.543568  \n",
              "146459 -0.222521          11       -0.5   0.866025    0.839365   -0.543568  \n",
              "146460 -0.900969          11       -0.5   0.866025    0.839365   -0.543568  \n",
              "146461 -0.900969          11       -0.5   0.866025    0.746553   -0.665326  \n",
              "\n",
              "[146462 rows x 14 columns]"
            ],
            "text/html": [
              "\n",
              "  <div id=\"df-051b3247-1e6f-4853-af86-361b9be4870f\">\n",
              "    <div class=\"colab-df-container\">\n",
              "      <div>\n",
              "<style scoped>\n",
              "    .dataframe tbody tr th:only-of-type {\n",
              "        vertical-align: middle;\n",
              "    }\n",
              "\n",
              "    .dataframe tbody tr th {\n",
              "        vertical-align: top;\n",
              "    }\n",
              "\n",
              "    .dataframe thead th {\n",
              "        text-align: right;\n",
              "    }\n",
              "</style>\n",
              "<table border=\"1\" class=\"dataframe\">\n",
              "  <thead>\n",
              "    <tr style=\"text-align: right;\">\n",
              "      <th></th>\n",
              "      <th>day</th>\n",
              "      <th>month</th>\n",
              "      <th>leap_year</th>\n",
              "      <th>decade</th>\n",
              "      <th>date</th>\n",
              "      <th>date_int</th>\n",
              "      <th>day_code</th>\n",
              "      <th>day_sin</th>\n",
              "      <th>day_cos</th>\n",
              "      <th>month_code</th>\n",
              "      <th>month_sin</th>\n",
              "      <th>month_cos</th>\n",
              "      <th>decade_sin</th>\n",
              "      <th>decade_cos</th>\n",
              "    </tr>\n",
              "  </thead>\n",
              "  <tbody>\n",
              "    <tr>\n",
              "      <th>0</th>\n",
              "      <td>WED</td>\n",
              "      <td>JAN</td>\n",
              "      <td>0.0</td>\n",
              "      <td>180</td>\n",
              "      <td>1800-01-01</td>\n",
              "      <td>18000101</td>\n",
              "      <td>4</td>\n",
              "      <td>-0.433884</td>\n",
              "      <td>-0.900969</td>\n",
              "      <td>0</td>\n",
              "      <td>0.0</td>\n",
              "      <td>1.000000</td>\n",
              "      <td>0.636242</td>\n",
              "      <td>-0.771489</td>\n",
              "    </tr>\n",
              "    <tr>\n",
              "      <th>1</th>\n",
              "      <td>THU</td>\n",
              "      <td>JAN</td>\n",
              "      <td>0.0</td>\n",
              "      <td>180</td>\n",
              "      <td>1801-01-01</td>\n",
              "      <td>18010101</td>\n",
              "      <td>5</td>\n",
              "      <td>-0.974928</td>\n",
              "      <td>-0.222521</td>\n",
              "      <td>0</td>\n",
              "      <td>0.0</td>\n",
              "      <td>1.000000</td>\n",
              "      <td>0.636242</td>\n",
              "      <td>-0.771489</td>\n",
              "    </tr>\n",
              "    <tr>\n",
              "      <th>2</th>\n",
              "      <td>FRI</td>\n",
              "      <td>JAN</td>\n",
              "      <td>0.0</td>\n",
              "      <td>180</td>\n",
              "      <td>1802-01-01</td>\n",
              "      <td>18020101</td>\n",
              "      <td>6</td>\n",
              "      <td>-0.781831</td>\n",
              "      <td>0.623490</td>\n",
              "      <td>0</td>\n",
              "      <td>0.0</td>\n",
              "      <td>1.000000</td>\n",
              "      <td>0.636242</td>\n",
              "      <td>-0.771489</td>\n",
              "    </tr>\n",
              "    <tr>\n",
              "      <th>3</th>\n",
              "      <td>SAT</td>\n",
              "      <td>JAN</td>\n",
              "      <td>0.0</td>\n",
              "      <td>180</td>\n",
              "      <td>1803-01-01</td>\n",
              "      <td>18030101</td>\n",
              "      <td>0</td>\n",
              "      <td>0.000000</td>\n",
              "      <td>1.000000</td>\n",
              "      <td>0</td>\n",
              "      <td>0.0</td>\n",
              "      <td>1.000000</td>\n",
              "      <td>0.636242</td>\n",
              "      <td>-0.771489</td>\n",
              "    </tr>\n",
              "    <tr>\n",
              "      <th>4</th>\n",
              "      <td>SUN</td>\n",
              "      <td>JAN</td>\n",
              "      <td>1.0</td>\n",
              "      <td>180</td>\n",
              "      <td>1804-01-01</td>\n",
              "      <td>18040101</td>\n",
              "      <td>1</td>\n",
              "      <td>0.781831</td>\n",
              "      <td>0.623490</td>\n",
              "      <td>0</td>\n",
              "      <td>0.0</td>\n",
              "      <td>1.000000</td>\n",
              "      <td>0.636242</td>\n",
              "      <td>-0.771489</td>\n",
              "    </tr>\n",
              "    <tr>\n",
              "      <th>...</th>\n",
              "      <td>...</td>\n",
              "      <td>...</td>\n",
              "      <td>...</td>\n",
              "      <td>...</td>\n",
              "      <td>...</td>\n",
              "      <td>...</td>\n",
              "      <td>...</td>\n",
              "      <td>...</td>\n",
              "      <td>...</td>\n",
              "      <td>...</td>\n",
              "      <td>...</td>\n",
              "      <td>...</td>\n",
              "      <td>...</td>\n",
              "      <td>...</td>\n",
              "    </tr>\n",
              "    <tr>\n",
              "      <th>146457</th>\n",
              "      <td>SAT</td>\n",
              "      <td>DEC</td>\n",
              "      <td>1.0</td>\n",
              "      <td>219</td>\n",
              "      <td>2196-12-31</td>\n",
              "      <td>21961231</td>\n",
              "      <td>0</td>\n",
              "      <td>0.000000</td>\n",
              "      <td>1.000000</td>\n",
              "      <td>11</td>\n",
              "      <td>-0.5</td>\n",
              "      <td>0.866025</td>\n",
              "      <td>0.839365</td>\n",
              "      <td>-0.543568</td>\n",
              "    </tr>\n",
              "    <tr>\n",
              "      <th>146458</th>\n",
              "      <td>SUN</td>\n",
              "      <td>DEC</td>\n",
              "      <td>0.0</td>\n",
              "      <td>219</td>\n",
              "      <td>2197-12-31</td>\n",
              "      <td>21971231</td>\n",
              "      <td>1</td>\n",
              "      <td>0.781831</td>\n",
              "      <td>0.623490</td>\n",
              "      <td>11</td>\n",
              "      <td>-0.5</td>\n",
              "      <td>0.866025</td>\n",
              "      <td>0.839365</td>\n",
              "      <td>-0.543568</td>\n",
              "    </tr>\n",
              "    <tr>\n",
              "      <th>146459</th>\n",
              "      <td>MON</td>\n",
              "      <td>DEC</td>\n",
              "      <td>0.0</td>\n",
              "      <td>219</td>\n",
              "      <td>2198-12-31</td>\n",
              "      <td>21981231</td>\n",
              "      <td>2</td>\n",
              "      <td>0.974928</td>\n",
              "      <td>-0.222521</td>\n",
              "      <td>11</td>\n",
              "      <td>-0.5</td>\n",
              "      <td>0.866025</td>\n",
              "      <td>0.839365</td>\n",
              "      <td>-0.543568</td>\n",
              "    </tr>\n",
              "    <tr>\n",
              "      <th>146460</th>\n",
              "      <td>TUE</td>\n",
              "      <td>DEC</td>\n",
              "      <td>0.0</td>\n",
              "      <td>219</td>\n",
              "      <td>2199-12-31</td>\n",
              "      <td>21991231</td>\n",
              "      <td>3</td>\n",
              "      <td>0.433884</td>\n",
              "      <td>-0.900969</td>\n",
              "      <td>11</td>\n",
              "      <td>-0.5</td>\n",
              "      <td>0.866025</td>\n",
              "      <td>0.839365</td>\n",
              "      <td>-0.543568</td>\n",
              "    </tr>\n",
              "    <tr>\n",
              "      <th>146461</th>\n",
              "      <td>WED</td>\n",
              "      <td>DEC</td>\n",
              "      <td>0.0</td>\n",
              "      <td>220</td>\n",
              "      <td>2200-12-31</td>\n",
              "      <td>22001231</td>\n",
              "      <td>4</td>\n",
              "      <td>-0.433884</td>\n",
              "      <td>-0.900969</td>\n",
              "      <td>11</td>\n",
              "      <td>-0.5</td>\n",
              "      <td>0.866025</td>\n",
              "      <td>0.746553</td>\n",
              "      <td>-0.665326</td>\n",
              "    </tr>\n",
              "  </tbody>\n",
              "</table>\n",
              "<p>146462 rows × 14 columns</p>\n",
              "</div>\n",
              "      <button class=\"colab-df-convert\" onclick=\"convertToInteractive('df-051b3247-1e6f-4853-af86-361b9be4870f')\"\n",
              "              title=\"Convert this dataframe to an interactive table.\"\n",
              "              style=\"display:none;\">\n",
              "        \n",
              "  <svg xmlns=\"http://www.w3.org/2000/svg\" height=\"24px\"viewBox=\"0 0 24 24\"\n",
              "       width=\"24px\">\n",
              "    <path d=\"M0 0h24v24H0V0z\" fill=\"none\"/>\n",
              "    <path d=\"M18.56 5.44l.94 2.06.94-2.06 2.06-.94-2.06-.94-.94-2.06-.94 2.06-2.06.94zm-11 1L8.5 8.5l.94-2.06 2.06-.94-2.06-.94L8.5 2.5l-.94 2.06-2.06.94zm10 10l.94 2.06.94-2.06 2.06-.94-2.06-.94-.94-2.06-.94 2.06-2.06.94z\"/><path d=\"M17.41 7.96l-1.37-1.37c-.4-.4-.92-.59-1.43-.59-.52 0-1.04.2-1.43.59L10.3 9.45l-7.72 7.72c-.78.78-.78 2.05 0 2.83L4 21.41c.39.39.9.59 1.41.59.51 0 1.02-.2 1.41-.59l7.78-7.78 2.81-2.81c.8-.78.8-2.07 0-2.86zM5.41 20L4 18.59l7.72-7.72 1.47 1.35L5.41 20z\"/>\n",
              "  </svg>\n",
              "      </button>\n",
              "      \n",
              "  <style>\n",
              "    .colab-df-container {\n",
              "      display:flex;\n",
              "      flex-wrap:wrap;\n",
              "      gap: 12px;\n",
              "    }\n",
              "\n",
              "    .colab-df-convert {\n",
              "      background-color: #E8F0FE;\n",
              "      border: none;\n",
              "      border-radius: 50%;\n",
              "      cursor: pointer;\n",
              "      display: none;\n",
              "      fill: #1967D2;\n",
              "      height: 32px;\n",
              "      padding: 0 0 0 0;\n",
              "      width: 32px;\n",
              "    }\n",
              "\n",
              "    .colab-df-convert:hover {\n",
              "      background-color: #E2EBFA;\n",
              "      box-shadow: 0px 1px 2px rgba(60, 64, 67, 0.3), 0px 1px 3px 1px rgba(60, 64, 67, 0.15);\n",
              "      fill: #174EA6;\n",
              "    }\n",
              "\n",
              "    [theme=dark] .colab-df-convert {\n",
              "      background-color: #3B4455;\n",
              "      fill: #D2E3FC;\n",
              "    }\n",
              "\n",
              "    [theme=dark] .colab-df-convert:hover {\n",
              "      background-color: #434B5C;\n",
              "      box-shadow: 0px 1px 3px 1px rgba(0, 0, 0, 0.15);\n",
              "      filter: drop-shadow(0px 1px 2px rgba(0, 0, 0, 0.3));\n",
              "      fill: #FFFFFF;\n",
              "    }\n",
              "  </style>\n",
              "\n",
              "      <script>\n",
              "        const buttonEl =\n",
              "          document.querySelector('#df-051b3247-1e6f-4853-af86-361b9be4870f button.colab-df-convert');\n",
              "        buttonEl.style.display =\n",
              "          google.colab.kernel.accessAllowed ? 'block' : 'none';\n",
              "\n",
              "        async function convertToInteractive(key) {\n",
              "          const element = document.querySelector('#df-051b3247-1e6f-4853-af86-361b9be4870f');\n",
              "          const dataTable =\n",
              "            await google.colab.kernel.invokeFunction('convertToInteractive',\n",
              "                                                     [key], {});\n",
              "          if (!dataTable) return;\n",
              "\n",
              "          const docLinkHtml = 'Like what you see? Visit the ' +\n",
              "            '<a target=\"_blank\" href=https://colab.research.google.com/notebooks/data_table.ipynb>data table notebook</a>'\n",
              "            + ' to learn more about interactive tables.';\n",
              "          element.innerHTML = '';\n",
              "          dataTable['output_type'] = 'display_data';\n",
              "          await google.colab.output.renderOutput(dataTable, element);\n",
              "          const docLink = document.createElement('div');\n",
              "          docLink.innerHTML = docLinkHtml;\n",
              "          element.appendChild(docLink);\n",
              "        }\n",
              "      </script>\n",
              "    </div>\n",
              "  </div>\n",
              "  "
            ]
          },
          "metadata": {},
          "execution_count": 81
        }
      ],
      "source": [
        "data"
      ]
    },
    {
      "cell_type": "markdown",
      "id": "6116a675",
      "metadata": {
        "id": "6116a675"
      },
      "source": [
        "['day_sin', 'day_cos', 'month_sin', 'month_cos', 'leap_year', 'decade_scaled']\n",
        "['date_timestamp_scaled']"
      ]
    },
    {
      "cell_type": "code",
      "execution_count": 82,
      "id": "56fe185b",
      "metadata": {
        "id": "56fe185b"
      },
      "outputs": [],
      "source": [
        "# fig,ax = plt.subplots(1,figsize=(17,4))\n",
        "# ax = sns.boxplot(data=data[['day_sin', 'day_cos', 'month_sin', 'month_cos', 'leap_year', 'decade_scaled']])\n",
        "# ax.set_xticklabels(ax.get_xticklabels(),rotation=45)\n",
        "# plt.show()"
      ]
    },
    {
      "cell_type": "code",
      "execution_count": 83,
      "id": "be811f53",
      "metadata": {
        "id": "be811f53"
      },
      "outputs": [],
      "source": [
        "# fig,ax = plt.subplots(1,figsize=(17,4))\n",
        "# ax = sns.boxplot(data=data[['leap_year']])\n",
        "# ax.set_xticklabels(ax.get_xticklabels(),rotation=45)\n",
        "# plt.show()"
      ]
    },
    {
      "cell_type": "code",
      "execution_count": 83,
      "id": "2ce5125b",
      "metadata": {
        "id": "2ce5125b"
      },
      "outputs": [],
      "source": [
        ""
      ]
    },
    {
      "cell_type": "code",
      "execution_count": 84,
      "id": "2f3d01c8",
      "metadata": {
        "colab": {
          "base_uri": "https://localhost:8080/"
        },
        "id": "2f3d01c8",
        "outputId": "b0f7e81a-975e-4748-cd12-0dbfd2d44b69"
      },
      "outputs": [
        {
          "output_type": "execute_result",
          "data": {
            "text/plain": [
              "array([[-0.43388374, -0.90096887,  0.        , ...,  0.        ,\n",
              "         0.63624244, -0.77148918],\n",
              "       [-0.97492791, -0.22252093,  0.        , ...,  0.        ,\n",
              "         0.63624244, -0.77148918],\n",
              "       [-0.78183148,  0.6234898 ,  0.        , ...,  0.        ,\n",
              "         0.63624244, -0.77148918],\n",
              "       ...,\n",
              "       [ 0.97492791, -0.22252093, -0.5       , ...,  0.        ,\n",
              "         0.83936543, -0.54356755],\n",
              "       [ 0.43388374, -0.90096887, -0.5       , ...,  0.        ,\n",
              "         0.83936543, -0.54356755],\n",
              "       [-0.43388374, -0.90096887, -0.5       , ...,  0.        ,\n",
              "         0.74655322, -0.6653257 ]])"
            ]
          },
          "metadata": {},
          "execution_count": 84
        }
      ],
      "source": [
        "X = data[['day_sin', 'day_cos', 'month_sin', 'month_cos', 'leap_year', 'decade_sin', 'decade_cos']].values\n",
        "X"
      ]
    },
    {
      "cell_type": "code",
      "execution_count": 85,
      "id": "e2d1bb11",
      "metadata": {
        "colab": {
          "base_uri": "https://localhost:8080/"
        },
        "id": "e2d1bb11",
        "outputId": "5f250c39-2547-4df9-ad0e-385653e49317"
      },
      "outputs": [
        {
          "output_type": "execute_result",
          "data": {
            "text/plain": [
              "146462"
            ]
          },
          "metadata": {},
          "execution_count": 85
        }
      ],
      "source": [
        "len(X)"
      ]
    },
    {
      "cell_type": "code",
      "source": [
        "X.shape"
      ],
      "metadata": {
        "colab": {
          "base_uri": "https://localhost:8080/"
        },
        "id": "HXNE9nidCPeG",
        "outputId": "56fcdfec-0610-481d-855b-896e26461d21"
      },
      "id": "HXNE9nidCPeG",
      "execution_count": 86,
      "outputs": [
        {
          "output_type": "execute_result",
          "data": {
            "text/plain": [
              "(146462, 7)"
            ]
          },
          "metadata": {},
          "execution_count": 86
        }
      ]
    },
    {
      "cell_type": "code",
      "execution_count": 88,
      "id": "bd580168",
      "metadata": {
        "colab": {
          "base_uri": "https://localhost:8080/"
        },
        "id": "bd580168",
        "outputId": "d0618616-cad1-42a8-e306-f23091a30b38"
      },
      "outputs": [
        {
          "output_type": "execute_result",
          "data": {
            "text/plain": [
              "array([[0.81814063],\n",
              "       [0.81859515],\n",
              "       [0.81904967],\n",
              "       ...,\n",
              "       [0.99909096],\n",
              "       [0.99954548],\n",
              "       [1.        ]])"
            ]
          },
          "metadata": {},
          "execution_count": 88
        }
      ],
      "source": [
        "# Y = data['date_int'].values.reshape(-1, 1)\n",
        "# Y = np.log(data['date_int'].values.reshape(-1, 1))\n",
        "Y = data['date_int'].values.reshape(-1, 1) / data['date_int'].max()\n",
        "\n",
        "\n",
        "Y"
      ]
    },
    {
      "cell_type": "code",
      "execution_count": 89,
      "id": "4a7cadbb",
      "metadata": {
        "colab": {
          "base_uri": "https://localhost:8080/"
        },
        "id": "4a7cadbb",
        "outputId": "4003fef2-32e1-49e1-e6ba-2cbb22282e20"
      },
      "outputs": [
        {
          "output_type": "execute_result",
          "data": {
            "text/plain": [
              "146462"
            ]
          },
          "metadata": {},
          "execution_count": 89
        }
      ],
      "source": [
        "len(Y)"
      ]
    },
    {
      "cell_type": "code",
      "source": [
        "Y.shape"
      ],
      "metadata": {
        "colab": {
          "base_uri": "https://localhost:8080/"
        },
        "id": "jh34KP-qCWPx",
        "outputId": "eaab092f-f042-4dc3-a761-4ad7648b1bcc"
      },
      "id": "jh34KP-qCWPx",
      "execution_count": 90,
      "outputs": [
        {
          "output_type": "execute_result",
          "data": {
            "text/plain": [
              "(146462, 1)"
            ]
          },
          "metadata": {},
          "execution_count": 90
        }
      ]
    },
    {
      "cell_type": "code",
      "execution_count": 90,
      "id": "4597de6f",
      "metadata": {
        "id": "4597de6f"
      },
      "outputs": [],
      "source": [
        ""
      ]
    },
    {
      "cell_type": "code",
      "execution_count": 91,
      "id": "ff9e6f8d",
      "metadata": {
        "id": "ff9e6f8d"
      },
      "outputs": [],
      "source": [
        "# # leap = np.where(~X['leap_year'] == 1)[0]\n",
        "# leap = np.where(X['leap_year'] == 1)[0]\n",
        "\n",
        "# leap"
      ]
    },
    {
      "cell_type": "code",
      "execution_count": 92,
      "id": "f266b904",
      "metadata": {
        "id": "f266b904"
      },
      "outputs": [],
      "source": [
        "train_data, test_data, train_labels, test_labels = train_test_split(X, Y, test_size=0.3, shuffle=True,\n",
        "                                                                    random_state=0)"
      ]
    },
    {
      "cell_type": "code",
      "execution_count": 93,
      "id": "e865e948",
      "metadata": {
        "id": "e865e948"
      },
      "outputs": [],
      "source": [
        "train_dataT = TensorDataset(torch.Tensor(train_data), torch.Tensor(train_labels))\n",
        "\n",
        "test_dataT  = TensorDataset(torch.Tensor(test_data), torch.Tensor(test_labels))\n",
        "\n",
        "\n",
        "\n",
        "batchsize = 32\n",
        "\n",
        "train_loader = DataLoader(train_dataT, batch_size=batchsize, drop_last=True)\n",
        "\n",
        "test_loader  = DataLoader(test_dataT)\n"
      ]
    },
    {
      "cell_type": "code",
      "execution_count": 94,
      "id": "68ee8756",
      "metadata": {
        "colab": {
          "base_uri": "https://localhost:8080/"
        },
        "id": "68ee8756",
        "outputId": "17a276f8-f584-4613-cf22-4c9317c5ef6d"
      },
      "outputs": [
        {
          "output_type": "stream",
          "name": "stdout",
          "text": [
            "X: (146462, 7)\n",
            "\n",
            "Y: (146462, 1)\n",
            "\n",
            "Train data:   (102523, 7)\n",
            "\n",
            "Train labels: (102523, 1)\n",
            "\n",
            "Test data:    (43939, 7)\n",
            "\n",
            "Test labels:  (43939, 1)\n"
          ]
        }
      ],
      "source": [
        "print(f'X: {X.shape}\\n')\n",
        "print(f'Y: {Y.shape}\\n')\n",
        "\n",
        "print(f'Train data:   {train_data.shape}\\n')\n",
        "print(f'Train labels: {train_labels.shape}\\n')\n",
        "print(f'Test data:    {test_data.shape}\\n')\n",
        "print(f'Test labels:  {test_labels.shape}')"
      ]
    },
    {
      "cell_type": "code",
      "execution_count": 95,
      "id": "c36a36a2",
      "metadata": {
        "id": "c36a36a2"
      },
      "outputs": [],
      "source": [
        "class Model(nn.Module):\n",
        "    \n",
        "    def __init__(self):\n",
        "        super().__init__()\n",
        "\n",
        "        self.input = nn.Linear(7, 32)\n",
        "\n",
        "        self.fc1 = nn.Linear(32, 128)\n",
        "        self.bnorm1 = nn.BatchNorm1d(128)\n",
        "\n",
        "        self.fc2 = nn.Linear(128, 512)\n",
        "        self.bnorm2 = nn.BatchNorm1d(512)\n",
        "\n",
        "        self.fc3 = nn.Linear(512, 64)\n",
        "        self.bnorm3 = nn.BatchNorm1d(64)\n",
        "\n",
        "        self.fc4 = nn.Linear(64, 10)\n",
        "        self.bnorm4 = nn.BatchNorm1d(10)\n",
        "\n",
        "\n",
        "        self.output = nn.Linear(10, 1)\n",
        "\n",
        "\n",
        "\n",
        "    def forward(self, x):\n",
        "\n",
        "\n",
        "        # print(f'training={self.training}')\n",
        "\n",
        "        x = F.relu( self.input(x) )\n",
        "\n",
        "        x = F.relu(self.bnorm1(self.fc1(x)))\n",
        "        x = F.dropout(x, p=0.25, training=self.training)\n",
        "\n",
        "        x = F.relu(self.bnorm2(self.fc2(x)))\n",
        "        x = F.dropout(x, p=0.4, training=self.training)\n",
        "\n",
        "        x = F.relu(self.bnorm3(self.fc3(x)))\n",
        "        x = F.dropout(x, p=0.1, training=self.training)\n",
        "\n",
        "        x = F.relu(self.bnorm4(self.fc4(x)))\n",
        "        x = F.dropout(x, p=0.05, training=self.training)\n",
        "\n",
        "\n",
        "        x = F.relu(self.output(x))\n",
        "\n",
        "\n",
        "        return x\n",
        "        \n"
      ]
    },
    {
      "cell_type": "code",
      "execution_count": 96,
      "id": "d5ddf45a",
      "metadata": {
        "id": "d5ddf45a"
      },
      "outputs": [],
      "source": [
        "# test_x, test_y = next(iter(train_loader))\n",
        "\n",
        "# print(f'X: {X.shape}\\n')\n",
        "# print(f'Y: {Y.shape}\\n')\n",
        "\n"
      ]
    },
    {
      "cell_type": "code",
      "execution_count": 97,
      "id": "d5e3b9cd",
      "metadata": {
        "id": "d5e3b9cd"
      },
      "outputs": [],
      "source": [
        "model = Model().to(device)\n",
        "\n",
        "# test_hat = model(torch.randn(32,6))\n",
        "# test_hat = model(test_x)\n",
        "\n",
        "# print(test_hat.shape)"
      ]
    },
    {
      "cell_type": "code",
      "execution_count": 98,
      "id": "4bb306c4",
      "metadata": {
        "id": "4bb306c4"
      },
      "outputs": [],
      "source": [
        "# for p in list(model.named_parameters()):\n",
        "#     if 'weight' in p[0] and 'bnorm' not in p[0]:\n",
        "#         nn.init.xavier_normal_(p[1].data)\n",
        "#         print(p[0])\n",
        "#         print(p[1].data.shape)"
      ]
    },
    {
      "cell_type": "code",
      "execution_count": 99,
      "id": "35bb52bd",
      "metadata": {
        "id": "35bb52bd"
      },
      "outputs": [],
      "source": [
        "lossfun = nn.MSELoss()\n",
        "\n",
        "# optimizer = torch.optim.Adam(model.parameters(), lr=0.0002, betas=(0.5, 0.999), weight_decay=1e-5)\n",
        "# optimizer = torch.optim.Adam(model.parameters(), lr=0.001, betas=(0.5, 0.999), weight_decay=1e-1)\n",
        "# optimizer = torch.optim.Adam(model.parameters(), lr=0.0001, weight_decay=1e-5)\n",
        "\n",
        "# optimizer = torch.optim.Adam(model.parameters(), lr=0.0001, betas=(0.9, 0.999), weight_decay=1e-9)\n",
        "optimizer = torch.optim.Adam(model.parameters(), lr=0.001, betas=(0.9, 0.999), weight_decay=1e-3)\n",
        "# optimizer = torch.optim.Adam(model.parameters(), lr=0.001, betas=(0.9, 0.999))\n",
        "# optimizer = torch.optim.Adam(model.parameters(), lr=0.01)\n",
        "\n",
        "\n",
        "\n"
      ]
    },
    {
      "cell_type": "code",
      "execution_count": 100,
      "id": "ee799b87",
      "metadata": {
        "colab": {
          "base_uri": "https://localhost:8080/",
          "height": 510
        },
        "id": "ee799b87",
        "outputId": "575a5202-22ce-4e14-bd89-d9eaee3e0919"
      },
      "outputs": [
        {
          "output_type": "stream",
          "name": "stdout",
          "text": [
            "Epoch 1/120, Train Loss: 0.0001, Test Loss: 0.0001\n",
            "Epoch 2/120, Train Loss: 0.0003, Test Loss: 0.0003\n",
            "Epoch 3/120, Train Loss: 0.0002, Test Loss: 0.0002\n",
            "Epoch 4/120, Train Loss: 0.0002, Test Loss: 0.0002\n",
            "Epoch 5/120, Train Loss: 0.0002, Test Loss: 0.0002\n"
          ]
        },
        {
          "output_type": "error",
          "ename": "KeyboardInterrupt",
          "evalue": "ignored",
          "traceback": [
            "\u001b[0;31m---------------------------------------------------------------------------\u001b[0m",
            "\u001b[0;31mKeyboardInterrupt\u001b[0m                         Traceback (most recent call last)",
            "\u001b[0;32m<ipython-input-100-96dc495367c7>\u001b[0m in \u001b[0;36m<module>\u001b[0;34m()\u001b[0m\n\u001b[1;32m     24\u001b[0m         \u001b[0moptimizer\u001b[0m\u001b[0;34m.\u001b[0m\u001b[0mzero_grad\u001b[0m\u001b[0;34m(\u001b[0m\u001b[0;34m)\u001b[0m\u001b[0;34m\u001b[0m\u001b[0;34m\u001b[0m\u001b[0m\n\u001b[1;32m     25\u001b[0m         \u001b[0mloss\u001b[0m\u001b[0;34m.\u001b[0m\u001b[0mbackward\u001b[0m\u001b[0;34m(\u001b[0m\u001b[0;34m)\u001b[0m\u001b[0;34m\u001b[0m\u001b[0;34m\u001b[0m\u001b[0m\n\u001b[0;32m---> 26\u001b[0;31m         \u001b[0moptimizer\u001b[0m\u001b[0;34m.\u001b[0m\u001b[0mstep\u001b[0m\u001b[0;34m(\u001b[0m\u001b[0;34m)\u001b[0m\u001b[0;34m\u001b[0m\u001b[0;34m\u001b[0m\u001b[0m\n\u001b[0m\u001b[1;32m     27\u001b[0m \u001b[0;34m\u001b[0m\u001b[0m\n\u001b[1;32m     28\u001b[0m         \u001b[0mbatchLoss\u001b[0m\u001b[0;34m.\u001b[0m\u001b[0mappend\u001b[0m\u001b[0;34m(\u001b[0m\u001b[0mloss\u001b[0m\u001b[0;34m.\u001b[0m\u001b[0mitem\u001b[0m\u001b[0;34m(\u001b[0m\u001b[0;34m)\u001b[0m\u001b[0;34m)\u001b[0m\u001b[0;34m\u001b[0m\u001b[0;34m\u001b[0m\u001b[0m\n",
            "\u001b[0;32m/usr/local/lib/python3.7/dist-packages/torch/optim/optimizer.py\u001b[0m in \u001b[0;36mwrapper\u001b[0;34m(*args, **kwargs)\u001b[0m\n\u001b[1;32m    107\u001b[0m                 \u001b[0mprofile_name\u001b[0m \u001b[0;34m=\u001b[0m \u001b[0;34m\"Optimizer.step#{}.step\"\u001b[0m\u001b[0;34m.\u001b[0m\u001b[0mformat\u001b[0m\u001b[0;34m(\u001b[0m\u001b[0mobj\u001b[0m\u001b[0;34m.\u001b[0m\u001b[0m__class__\u001b[0m\u001b[0;34m.\u001b[0m\u001b[0m__name__\u001b[0m\u001b[0;34m)\u001b[0m\u001b[0;34m\u001b[0m\u001b[0;34m\u001b[0m\u001b[0m\n\u001b[1;32m    108\u001b[0m                 \u001b[0;32mwith\u001b[0m \u001b[0mtorch\u001b[0m\u001b[0;34m.\u001b[0m\u001b[0mautograd\u001b[0m\u001b[0;34m.\u001b[0m\u001b[0mprofiler\u001b[0m\u001b[0;34m.\u001b[0m\u001b[0mrecord_function\u001b[0m\u001b[0;34m(\u001b[0m\u001b[0mprofile_name\u001b[0m\u001b[0;34m)\u001b[0m\u001b[0;34m:\u001b[0m\u001b[0;34m\u001b[0m\u001b[0;34m\u001b[0m\u001b[0m\n\u001b[0;32m--> 109\u001b[0;31m                     \u001b[0;32mreturn\u001b[0m \u001b[0mfunc\u001b[0m\u001b[0;34m(\u001b[0m\u001b[0;34m*\u001b[0m\u001b[0margs\u001b[0m\u001b[0;34m,\u001b[0m \u001b[0;34m**\u001b[0m\u001b[0mkwargs\u001b[0m\u001b[0;34m)\u001b[0m\u001b[0;34m\u001b[0m\u001b[0;34m\u001b[0m\u001b[0m\n\u001b[0m\u001b[1;32m    110\u001b[0m             \u001b[0;32mreturn\u001b[0m \u001b[0mwrapper\u001b[0m\u001b[0;34m\u001b[0m\u001b[0;34m\u001b[0m\u001b[0m\n\u001b[1;32m    111\u001b[0m \u001b[0;34m\u001b[0m\u001b[0m\n",
            "\u001b[0;32m/usr/local/lib/python3.7/dist-packages/torch/autograd/grad_mode.py\u001b[0m in \u001b[0;36mdecorate_context\u001b[0;34m(*args, **kwargs)\u001b[0m\n\u001b[1;32m     25\u001b[0m         \u001b[0;32mdef\u001b[0m \u001b[0mdecorate_context\u001b[0m\u001b[0;34m(\u001b[0m\u001b[0;34m*\u001b[0m\u001b[0margs\u001b[0m\u001b[0;34m,\u001b[0m \u001b[0;34m**\u001b[0m\u001b[0mkwargs\u001b[0m\u001b[0;34m)\u001b[0m\u001b[0;34m:\u001b[0m\u001b[0;34m\u001b[0m\u001b[0;34m\u001b[0m\u001b[0m\n\u001b[1;32m     26\u001b[0m             \u001b[0;32mwith\u001b[0m \u001b[0mself\u001b[0m\u001b[0;34m.\u001b[0m\u001b[0mclone\u001b[0m\u001b[0;34m(\u001b[0m\u001b[0;34m)\u001b[0m\u001b[0;34m:\u001b[0m\u001b[0;34m\u001b[0m\u001b[0;34m\u001b[0m\u001b[0m\n\u001b[0;32m---> 27\u001b[0;31m                 \u001b[0;32mreturn\u001b[0m \u001b[0mfunc\u001b[0m\u001b[0;34m(\u001b[0m\u001b[0;34m*\u001b[0m\u001b[0margs\u001b[0m\u001b[0;34m,\u001b[0m \u001b[0;34m**\u001b[0m\u001b[0mkwargs\u001b[0m\u001b[0;34m)\u001b[0m\u001b[0;34m\u001b[0m\u001b[0;34m\u001b[0m\u001b[0m\n\u001b[0m\u001b[1;32m     28\u001b[0m         \u001b[0;32mreturn\u001b[0m \u001b[0mcast\u001b[0m\u001b[0;34m(\u001b[0m\u001b[0mF\u001b[0m\u001b[0;34m,\u001b[0m \u001b[0mdecorate_context\u001b[0m\u001b[0;34m)\u001b[0m\u001b[0;34m\u001b[0m\u001b[0;34m\u001b[0m\u001b[0m\n\u001b[1;32m     29\u001b[0m \u001b[0;34m\u001b[0m\u001b[0m\n",
            "\u001b[0;32m/usr/local/lib/python3.7/dist-packages/torch/optim/adam.py\u001b[0m in \u001b[0;36mstep\u001b[0;34m(self, closure)\u001b[0m\n\u001b[1;32m    169\u001b[0m                  \u001b[0mmaximize\u001b[0m\u001b[0;34m=\u001b[0m\u001b[0mgroup\u001b[0m\u001b[0;34m[\u001b[0m\u001b[0;34m'maximize'\u001b[0m\u001b[0;34m]\u001b[0m\u001b[0;34m,\u001b[0m\u001b[0;34m\u001b[0m\u001b[0;34m\u001b[0m\u001b[0m\n\u001b[1;32m    170\u001b[0m                  \u001b[0mforeach\u001b[0m\u001b[0;34m=\u001b[0m\u001b[0mgroup\u001b[0m\u001b[0;34m[\u001b[0m\u001b[0;34m'foreach'\u001b[0m\u001b[0;34m]\u001b[0m\u001b[0;34m,\u001b[0m\u001b[0;34m\u001b[0m\u001b[0;34m\u001b[0m\u001b[0m\n\u001b[0;32m--> 171\u001b[0;31m                  capturable=group['capturable'])\n\u001b[0m\u001b[1;32m    172\u001b[0m \u001b[0;34m\u001b[0m\u001b[0m\n\u001b[1;32m    173\u001b[0m         \u001b[0;32mreturn\u001b[0m \u001b[0mloss\u001b[0m\u001b[0;34m\u001b[0m\u001b[0;34m\u001b[0m\u001b[0m\n",
            "\u001b[0;32m/usr/local/lib/python3.7/dist-packages/torch/optim/adam.py\u001b[0m in \u001b[0;36madam\u001b[0;34m(params, grads, exp_avgs, exp_avg_sqs, max_exp_avg_sqs, state_steps, foreach, capturable, amsgrad, beta1, beta2, lr, weight_decay, eps, maximize)\u001b[0m\n\u001b[1;32m    224\u001b[0m          \u001b[0meps\u001b[0m\u001b[0;34m=\u001b[0m\u001b[0meps\u001b[0m\u001b[0;34m,\u001b[0m\u001b[0;34m\u001b[0m\u001b[0;34m\u001b[0m\u001b[0m\n\u001b[1;32m    225\u001b[0m          \u001b[0mmaximize\u001b[0m\u001b[0;34m=\u001b[0m\u001b[0mmaximize\u001b[0m\u001b[0;34m,\u001b[0m\u001b[0;34m\u001b[0m\u001b[0;34m\u001b[0m\u001b[0m\n\u001b[0;32m--> 226\u001b[0;31m          capturable=capturable)\n\u001b[0m\u001b[1;32m    227\u001b[0m \u001b[0;34m\u001b[0m\u001b[0m\n\u001b[1;32m    228\u001b[0m \u001b[0;34m\u001b[0m\u001b[0m\n",
            "\u001b[0;32m/usr/local/lib/python3.7/dist-packages/torch/optim/adam.py\u001b[0m in \u001b[0;36m_single_tensor_adam\u001b[0;34m(params, grads, exp_avgs, exp_avg_sqs, max_exp_avg_sqs, state_steps, amsgrad, beta1, beta2, lr, weight_decay, eps, maximize, capturable)\u001b[0m\n\u001b[1;32m    262\u001b[0m \u001b[0;34m\u001b[0m\u001b[0m\n\u001b[1;32m    263\u001b[0m         \u001b[0;31m# Decay the first and second moment running average coefficient\u001b[0m\u001b[0;34m\u001b[0m\u001b[0;34m\u001b[0m\u001b[0;34m\u001b[0m\u001b[0m\n\u001b[0;32m--> 264\u001b[0;31m         \u001b[0mexp_avg\u001b[0m\u001b[0;34m.\u001b[0m\u001b[0mmul_\u001b[0m\u001b[0;34m(\u001b[0m\u001b[0mbeta1\u001b[0m\u001b[0;34m)\u001b[0m\u001b[0;34m.\u001b[0m\u001b[0madd_\u001b[0m\u001b[0;34m(\u001b[0m\u001b[0mgrad\u001b[0m\u001b[0;34m,\u001b[0m \u001b[0malpha\u001b[0m\u001b[0;34m=\u001b[0m\u001b[0;36m1\u001b[0m \u001b[0;34m-\u001b[0m \u001b[0mbeta1\u001b[0m\u001b[0;34m)\u001b[0m\u001b[0;34m\u001b[0m\u001b[0;34m\u001b[0m\u001b[0m\n\u001b[0m\u001b[1;32m    265\u001b[0m         \u001b[0mexp_avg_sq\u001b[0m\u001b[0;34m.\u001b[0m\u001b[0mmul_\u001b[0m\u001b[0;34m(\u001b[0m\u001b[0mbeta2\u001b[0m\u001b[0;34m)\u001b[0m\u001b[0;34m.\u001b[0m\u001b[0maddcmul_\u001b[0m\u001b[0;34m(\u001b[0m\u001b[0mgrad\u001b[0m\u001b[0;34m,\u001b[0m \u001b[0mgrad\u001b[0m\u001b[0;34m.\u001b[0m\u001b[0mconj\u001b[0m\u001b[0;34m(\u001b[0m\u001b[0;34m)\u001b[0m\u001b[0;34m,\u001b[0m \u001b[0mvalue\u001b[0m\u001b[0;34m=\u001b[0m\u001b[0;36m1\u001b[0m \u001b[0;34m-\u001b[0m \u001b[0mbeta2\u001b[0m\u001b[0;34m)\u001b[0m\u001b[0;34m\u001b[0m\u001b[0;34m\u001b[0m\u001b[0m\n\u001b[1;32m    266\u001b[0m \u001b[0;34m\u001b[0m\u001b[0m\n",
            "\u001b[0;31mKeyboardInterrupt\u001b[0m: "
          ]
        }
      ],
      "source": [
        "numepochs = 120\n",
        "\n",
        "trainLoss = torch.zeros(numepochs)\n",
        "testLoss   = torch.zeros(numepochs)\n",
        "trainAcc  = torch.zeros(numepochs)\n",
        "testAcc    = torch.zeros(numepochs)\n",
        "\n",
        "\n",
        "for epochi in range(numepochs):\n",
        "    \n",
        "    model.train() # switch to train mode\n",
        "\n",
        "    batchLoss = []\n",
        "    batchAcc  = []\n",
        "\n",
        "    for X,y in train_loader:\n",
        "\n",
        "        X = X.to(device)\n",
        "        y = y.to(device)\n",
        "\n",
        "        yHat = model(X)\n",
        "        loss = lossfun(yHat, y)\n",
        "\n",
        "        optimizer.zero_grad()\n",
        "        loss.backward()\n",
        "        optimizer.step()\n",
        "\n",
        "        batchLoss.append(loss.item())\n",
        "        batchAcc.append( torch.mean(( yHat == y).float() ).item() )\n",
        "        \n",
        "        \n",
        "    \n",
        "    trainLoss[epochi] = np.mean(batchLoss)\n",
        "    trainAcc[epochi]  = 100*np.mean(batchAcc)\n",
        "\n",
        "\n",
        "    \n",
        "    model.eval() # switch to test mode\n",
        "    \n",
        "    XX,yy = next(iter(test_loader))\n",
        "\n",
        "    XX = XX.to(device)\n",
        "    yy = yy.to(device)\n",
        "\n",
        "    # forward pass and loss\n",
        "    with torch.no_grad():\n",
        "        yHat_test = model(XX)\n",
        "        loss = lossfun(yHat_test, yy)\n",
        "\n",
        "\n",
        "    testLoss[epochi] = loss.item()\n",
        "    testAcc[epochi]  = 100*torch.mean( (yHat_test == yy).float() ).item()\n",
        "\n",
        "    # if (epochi + 1) % 5 == 0:\n",
        "    print(f'Epoch {epochi+1}/{numepochs}, Train Loss: {loss.item():.4f}, Test Loss: {loss.item():0.4f}')\n"
      ]
    },
    {
      "cell_type": "code",
      "source": [
        ""
      ],
      "metadata": {
        "id": "TZpnI55BoNhe"
      },
      "id": "TZpnI55BoNhe",
      "execution_count": 101,
      "outputs": []
    },
    {
      "cell_type": "code",
      "source": [
        "# trainLoss, testLoss, trainAcc, testAcc"
      ],
      "metadata": {
        "id": "nnMyELWOoJZ6"
      },
      "id": "nnMyELWOoJZ6",
      "execution_count": 102,
      "outputs": []
    },
    {
      "cell_type": "code",
      "execution_count": 102,
      "id": "cb8fb3a7",
      "metadata": {
        "id": "cb8fb3a7"
      },
      "outputs": [],
      "source": [
        ""
      ]
    },
    {
      "cell_type": "code",
      "execution_count": 103,
      "id": "57a75ab3",
      "metadata": {
        "id": "57a75ab3"
      },
      "outputs": [],
      "source": [
        "# yHat.shape, y.shape"
      ]
    },
    {
      "cell_type": "code",
      "execution_count": 104,
      "id": "08cbcefa",
      "metadata": {
        "id": "08cbcefa"
      },
      "outputs": [],
      "source": [
        "# yHat_test.shape, yy.shape"
      ]
    },
    {
      "cell_type": "code",
      "execution_count": 104,
      "id": "7c1fa24d",
      "metadata": {
        "id": "7c1fa24d"
      },
      "outputs": [],
      "source": [
        ""
      ]
    },
    {
      "cell_type": "code",
      "execution_count": 105,
      "id": "3504cb4c",
      "metadata": {
        "id": "3504cb4c",
        "colab": {
          "base_uri": "https://localhost:8080/"
        },
        "outputId": "2bf56504-ffed-4e92-d3f2-30f76b02e9d4"
      },
      "outputs": [
        {
          "output_type": "execute_result",
          "data": {
            "text/plain": [
              "(tensor([0.9723, 0.9649, 0.8877, 0.8420, 0.8452, 0.9542, 0.8831, 0.9636, 0.9577,\n",
              "         0.9902, 0.9531, 0.9875, 0.9926, 0.9266, 0.8449, 0.8420, 0.8763, 0.9204,\n",
              "         0.8846, 0.9537, 0.8521, 0.9461, 0.8936, 0.8420, 0.8530, 0.9605, 0.8420,\n",
              "         0.8869, 0.8673, 0.9214, 0.8451, 0.8425],\n",
              "        grad_fn=<ReshapeAliasBackward0>),\n",
              " tensor([0.9936, 0.9795, 0.8732, 0.8372, 0.8377, 0.9436, 0.8814, 0.9409, 0.9591,\n",
              "         0.9913, 0.9427, 0.9763, 0.9913, 0.9264, 0.8468, 0.8231, 0.8950, 0.9082,\n",
              "         0.8840, 0.9331, 0.8568, 0.9422, 0.9200, 0.8377, 0.8441, 0.9513, 0.8486,\n",
              "         0.8950, 0.8654, 0.9050, 0.8313, 0.8573]))"
            ]
          },
          "metadata": {},
          "execution_count": 105
        }
      ],
      "source": [
        "yHat.flatten(), y.flatten()"
      ]
    },
    {
      "cell_type": "code",
      "execution_count": 106,
      "id": "adc5f62a",
      "metadata": {
        "id": "adc5f62a",
        "colab": {
          "base_uri": "https://localhost:8080/"
        },
        "outputId": "5e093a19-f23d-4b0b-d8d3-cdeff0481f94"
      },
      "outputs": [
        {
          "output_type": "execute_result",
          "data": {
            "text/plain": [
              "(tensor([[0.8405]]), tensor([[0.8254]]))"
            ]
          },
          "metadata": {},
          "execution_count": 106
        }
      ],
      "source": [
        "yHat_test, yy"
      ]
    },
    {
      "cell_type": "code",
      "source": [
        ""
      ],
      "metadata": {
        "id": "xLaC1NLahxEx"
      },
      "id": "xLaC1NLahxEx",
      "execution_count": 106,
      "outputs": []
    },
    {
      "cell_type": "code",
      "source": [
        "# np.exp(yy).round()"
      ],
      "metadata": {
        "id": "rEe40ZxKh8cV"
      },
      "id": "rEe40ZxKh8cV",
      "execution_count": 107,
      "outputs": []
    },
    {
      "cell_type": "code",
      "execution_count": 108,
      "id": "e5294ac2",
      "metadata": {
        "id": "e5294ac2"
      },
      "outputs": [],
      "source": [
        "# np.exp(yHat_test).round()"
      ]
    },
    {
      "cell_type": "code",
      "source": [
        "(yy * data['date_int'].max()).round()"
      ],
      "metadata": {
        "colab": {
          "base_uri": "https://localhost:8080/"
        },
        "id": "Uo0wKqiIhx9z",
        "outputId": "30ae2357-4870-4f20-98e8-ee54d54e63c0"
      },
      "id": "Uo0wKqiIhx9z",
      "execution_count": 109,
      "outputs": [
        {
          "output_type": "execute_result",
          "data": {
            "text/plain": [
              "tensor([[18160602.]])"
            ]
          },
          "metadata": {},
          "execution_count": 109
        }
      ]
    },
    {
      "cell_type": "code",
      "source": [
        "(yHat_test * data['date_int'].max()).round()"
      ],
      "metadata": {
        "colab": {
          "base_uri": "https://localhost:8080/"
        },
        "id": "GTcS_Ns8hyiJ",
        "outputId": "10540467-ae71-439c-86d4-9cb3251a0c90"
      },
      "id": "GTcS_Ns8hyiJ",
      "execution_count": 110,
      "outputs": [
        {
          "output_type": "execute_result",
          "data": {
            "text/plain": [
              "tensor([[18491480.]])"
            ]
          },
          "metadata": {},
          "execution_count": 110
        }
      ]
    },
    {
      "cell_type": "code",
      "source": [
        ""
      ],
      "metadata": {
        "id": "guFnPnrJqECr"
      },
      "id": "guFnPnrJqECr",
      "execution_count": null,
      "outputs": []
    },
    {
      "cell_type": "code",
      "source": [
        ""
      ],
      "metadata": {
        "id": "LpnEZpYIqEAG"
      },
      "id": "LpnEZpYIqEAG",
      "execution_count": null,
      "outputs": []
    },
    {
      "cell_type": "code",
      "source": [
        ""
      ],
      "metadata": {
        "id": "JXdckjNEqD86"
      },
      "id": "JXdckjNEqD86",
      "execution_count": null,
      "outputs": []
    },
    {
      "cell_type": "code",
      "execution_count": null,
      "id": "f6be28fc",
      "metadata": {
        "id": "f6be28fc",
        "outputId": "adeb1994-781d-4594-e2f2-9d1711566201"
      },
      "outputs": [
        {
          "data": {
            "text/html": [
              "<div>\n",
              "<style scoped>\n",
              "    .dataframe tbody tr th:only-of-type {\n",
              "        vertical-align: middle;\n",
              "    }\n",
              "\n",
              "    .dataframe tbody tr th {\n",
              "        vertical-align: top;\n",
              "    }\n",
              "\n",
              "    .dataframe thead th {\n",
              "        text-align: right;\n",
              "    }\n",
              "</style>\n",
              "<table border=\"1\" class=\"dataframe\">\n",
              "  <thead>\n",
              "    <tr style=\"text-align: right;\">\n",
              "      <th></th>\n",
              "      <th>day</th>\n",
              "      <th>month</th>\n",
              "      <th>leap_year</th>\n",
              "      <th>decade</th>\n",
              "      <th>date</th>\n",
              "      <th>date_timestamp</th>\n",
              "      <th>day_code</th>\n",
              "      <th>day_sin</th>\n",
              "      <th>day_cos</th>\n",
              "      <th>month_code</th>\n",
              "      <th>month_sin</th>\n",
              "      <th>month_cos</th>\n",
              "      <th>decade_sin</th>\n",
              "      <th>decade_cos</th>\n",
              "      <th>date_timestamp_scaled</th>\n",
              "    </tr>\n",
              "  </thead>\n",
              "  <tbody>\n",
              "    <tr>\n",
              "      <th>0</th>\n",
              "      <td>WED</td>\n",
              "      <td>JAN</td>\n",
              "      <td>0.0</td>\n",
              "      <td>180</td>\n",
              "      <td>1800-01-01</td>\n",
              "      <td>-5.364662e+09</td>\n",
              "      <td>4</td>\n",
              "      <td>-0.433884</td>\n",
              "      <td>-0.900969</td>\n",
              "      <td>0</td>\n",
              "      <td>0.0</td>\n",
              "      <td>1.000000</td>\n",
              "      <td>0.636242</td>\n",
              "      <td>-0.771489</td>\n",
              "      <td>-1.000000</td>\n",
              "    </tr>\n",
              "    <tr>\n",
              "      <th>1</th>\n",
              "      <td>THU</td>\n",
              "      <td>JAN</td>\n",
              "      <td>0.0</td>\n",
              "      <td>180</td>\n",
              "      <td>1801-01-01</td>\n",
              "      <td>-5.333126e+09</td>\n",
              "      <td>5</td>\n",
              "      <td>-0.974928</td>\n",
              "      <td>-0.222521</td>\n",
              "      <td>0</td>\n",
              "      <td>0.0</td>\n",
              "      <td>1.000000</td>\n",
              "      <td>0.636242</td>\n",
              "      <td>-0.771489</td>\n",
              "      <td>-0.995016</td>\n",
              "    </tr>\n",
              "    <tr>\n",
              "      <th>2</th>\n",
              "      <td>FRI</td>\n",
              "      <td>JAN</td>\n",
              "      <td>0.0</td>\n",
              "      <td>180</td>\n",
              "      <td>1802-01-01</td>\n",
              "      <td>-5.301590e+09</td>\n",
              "      <td>6</td>\n",
              "      <td>-0.781831</td>\n",
              "      <td>0.623490</td>\n",
              "      <td>0</td>\n",
              "      <td>0.0</td>\n",
              "      <td>1.000000</td>\n",
              "      <td>0.636242</td>\n",
              "      <td>-0.771489</td>\n",
              "      <td>-0.990031</td>\n",
              "    </tr>\n",
              "    <tr>\n",
              "      <th>3</th>\n",
              "      <td>SAT</td>\n",
              "      <td>JAN</td>\n",
              "      <td>0.0</td>\n",
              "      <td>180</td>\n",
              "      <td>1803-01-01</td>\n",
              "      <td>-5.270054e+09</td>\n",
              "      <td>0</td>\n",
              "      <td>0.000000</td>\n",
              "      <td>1.000000</td>\n",
              "      <td>0</td>\n",
              "      <td>0.0</td>\n",
              "      <td>1.000000</td>\n",
              "      <td>0.636242</td>\n",
              "      <td>-0.771489</td>\n",
              "      <td>-0.985047</td>\n",
              "    </tr>\n",
              "    <tr>\n",
              "      <th>4</th>\n",
              "      <td>SUN</td>\n",
              "      <td>JAN</td>\n",
              "      <td>1.0</td>\n",
              "      <td>180</td>\n",
              "      <td>1804-01-01</td>\n",
              "      <td>-5.238518e+09</td>\n",
              "      <td>1</td>\n",
              "      <td>0.781831</td>\n",
              "      <td>0.623490</td>\n",
              "      <td>0</td>\n",
              "      <td>0.0</td>\n",
              "      <td>1.000000</td>\n",
              "      <td>0.636242</td>\n",
              "      <td>-0.771489</td>\n",
              "      <td>-0.980063</td>\n",
              "    </tr>\n",
              "    <tr>\n",
              "      <th>...</th>\n",
              "      <td>...</td>\n",
              "      <td>...</td>\n",
              "      <td>...</td>\n",
              "      <td>...</td>\n",
              "      <td>...</td>\n",
              "      <td>...</td>\n",
              "      <td>...</td>\n",
              "      <td>...</td>\n",
              "      <td>...</td>\n",
              "      <td>...</td>\n",
              "      <td>...</td>\n",
              "      <td>...</td>\n",
              "      <td>...</td>\n",
              "      <td>...</td>\n",
              "      <td>...</td>\n",
              "    </tr>\n",
              "    <tr>\n",
              "      <th>146457</th>\n",
              "      <td>SAT</td>\n",
              "      <td>DEC</td>\n",
              "      <td>1.0</td>\n",
              "      <td>219</td>\n",
              "      <td>2196-12-31</td>\n",
              "      <td>7.163424e+09</td>\n",
              "      <td>0</td>\n",
              "      <td>0.000000</td>\n",
              "      <td>1.000000</td>\n",
              "      <td>11</td>\n",
              "      <td>-0.5</td>\n",
              "      <td>0.866025</td>\n",
              "      <td>0.839365</td>\n",
              "      <td>-0.543568</td>\n",
              "      <td>0.980063</td>\n",
              "    </tr>\n",
              "    <tr>\n",
              "      <th>146458</th>\n",
              "      <td>SUN</td>\n",
              "      <td>DEC</td>\n",
              "      <td>0.0</td>\n",
              "      <td>219</td>\n",
              "      <td>2197-12-31</td>\n",
              "      <td>7.194960e+09</td>\n",
              "      <td>1</td>\n",
              "      <td>0.781831</td>\n",
              "      <td>0.623490</td>\n",
              "      <td>11</td>\n",
              "      <td>-0.5</td>\n",
              "      <td>0.866025</td>\n",
              "      <td>0.839365</td>\n",
              "      <td>-0.543568</td>\n",
              "      <td>0.985047</td>\n",
              "    </tr>\n",
              "    <tr>\n",
              "      <th>146459</th>\n",
              "      <td>MON</td>\n",
              "      <td>DEC</td>\n",
              "      <td>0.0</td>\n",
              "      <td>219</td>\n",
              "      <td>2198-12-31</td>\n",
              "      <td>7.226496e+09</td>\n",
              "      <td>2</td>\n",
              "      <td>0.974928</td>\n",
              "      <td>-0.222521</td>\n",
              "      <td>11</td>\n",
              "      <td>-0.5</td>\n",
              "      <td>0.866025</td>\n",
              "      <td>0.839365</td>\n",
              "      <td>-0.543568</td>\n",
              "      <td>0.990031</td>\n",
              "    </tr>\n",
              "    <tr>\n",
              "      <th>146460</th>\n",
              "      <td>TUE</td>\n",
              "      <td>DEC</td>\n",
              "      <td>0.0</td>\n",
              "      <td>219</td>\n",
              "      <td>2199-12-31</td>\n",
              "      <td>7.258032e+09</td>\n",
              "      <td>3</td>\n",
              "      <td>0.433884</td>\n",
              "      <td>-0.900969</td>\n",
              "      <td>11</td>\n",
              "      <td>-0.5</td>\n",
              "      <td>0.866025</td>\n",
              "      <td>0.839365</td>\n",
              "      <td>-0.543568</td>\n",
              "      <td>0.995016</td>\n",
              "    </tr>\n",
              "    <tr>\n",
              "      <th>146461</th>\n",
              "      <td>WED</td>\n",
              "      <td>DEC</td>\n",
              "      <td>0.0</td>\n",
              "      <td>220</td>\n",
              "      <td>2200-12-31</td>\n",
              "      <td>7.289568e+09</td>\n",
              "      <td>4</td>\n",
              "      <td>-0.433884</td>\n",
              "      <td>-0.900969</td>\n",
              "      <td>11</td>\n",
              "      <td>-0.5</td>\n",
              "      <td>0.866025</td>\n",
              "      <td>0.746553</td>\n",
              "      <td>-0.665326</td>\n",
              "      <td>1.000000</td>\n",
              "    </tr>\n",
              "  </tbody>\n",
              "</table>\n",
              "<p>146462 rows × 15 columns</p>\n",
              "</div>"
            ],
            "text/plain": [
              "        day month  leap_year  decade       date  date_timestamp  day_code  \\\n",
              "0       WED   JAN        0.0     180 1800-01-01   -5.364662e+09         4   \n",
              "1       THU   JAN        0.0     180 1801-01-01   -5.333126e+09         5   \n",
              "2       FRI   JAN        0.0     180 1802-01-01   -5.301590e+09         6   \n",
              "3       SAT   JAN        0.0     180 1803-01-01   -5.270054e+09         0   \n",
              "4       SUN   JAN        1.0     180 1804-01-01   -5.238518e+09         1   \n",
              "...     ...   ...        ...     ...        ...             ...       ...   \n",
              "146457  SAT   DEC        1.0     219 2196-12-31    7.163424e+09         0   \n",
              "146458  SUN   DEC        0.0     219 2197-12-31    7.194960e+09         1   \n",
              "146459  MON   DEC        0.0     219 2198-12-31    7.226496e+09         2   \n",
              "146460  TUE   DEC        0.0     219 2199-12-31    7.258032e+09         3   \n",
              "146461  WED   DEC        0.0     220 2200-12-31    7.289568e+09         4   \n",
              "\n",
              "         day_sin   day_cos  month_code  month_sin  month_cos  decade_sin  \\\n",
              "0      -0.433884 -0.900969           0        0.0   1.000000    0.636242   \n",
              "1      -0.974928 -0.222521           0        0.0   1.000000    0.636242   \n",
              "2      -0.781831  0.623490           0        0.0   1.000000    0.636242   \n",
              "3       0.000000  1.000000           0        0.0   1.000000    0.636242   \n",
              "4       0.781831  0.623490           0        0.0   1.000000    0.636242   \n",
              "...          ...       ...         ...        ...        ...         ...   \n",
              "146457  0.000000  1.000000          11       -0.5   0.866025    0.839365   \n",
              "146458  0.781831  0.623490          11       -0.5   0.866025    0.839365   \n",
              "146459  0.974928 -0.222521          11       -0.5   0.866025    0.839365   \n",
              "146460  0.433884 -0.900969          11       -0.5   0.866025    0.839365   \n",
              "146461 -0.433884 -0.900969          11       -0.5   0.866025    0.746553   \n",
              "\n",
              "        decade_cos  date_timestamp_scaled  \n",
              "0        -0.771489              -1.000000  \n",
              "1        -0.771489              -0.995016  \n",
              "2        -0.771489              -0.990031  \n",
              "3        -0.771489              -0.985047  \n",
              "4        -0.771489              -0.980063  \n",
              "...            ...                    ...  \n",
              "146457   -0.543568               0.980063  \n",
              "146458   -0.543568               0.985047  \n",
              "146459   -0.543568               0.990031  \n",
              "146460   -0.543568               0.995016  \n",
              "146461   -0.665326               1.000000  \n",
              "\n",
              "[146462 rows x 15 columns]"
            ]
          },
          "execution_count": 278,
          "metadata": {},
          "output_type": "execute_result"
        }
      ],
      "source": [
        "data"
      ]
    },
    {
      "cell_type": "code",
      "execution_count": null,
      "id": "c0dc9e96",
      "metadata": {
        "id": "c0dc9e96"
      },
      "outputs": [],
      "source": [
        ""
      ]
    },
    {
      "cell_type": "code",
      "execution_count": null,
      "id": "9b7b8bef",
      "metadata": {
        "id": "9b7b8bef"
      },
      "outputs": [],
      "source": [
        ""
      ]
    },
    {
      "cell_type": "code",
      "execution_count": null,
      "id": "8df386ff",
      "metadata": {
        "id": "8df386ff",
        "outputId": "9c893862-3ca0-4e5f-9d08-07786b0da58c"
      },
      "outputs": [
        {
          "data": {
            "text/plain": [
              "array([[18000101],\n",
              "       [18010101],\n",
              "       [18020101],\n",
              "       ...,\n",
              "       [21981231],\n",
              "       [21991231],\n",
              "       [22001231]], dtype=int64)"
            ]
          },
          "execution_count": 270,
          "metadata": {},
          "output_type": "execute_result"
        }
      ],
      "source": [
        "x = c.dt.strftime(\"%Y%m%d\")\n",
        "x = x.astype(np.int64).values.reshape(-1, 1)\n",
        "\n",
        "x"
      ]
    },
    {
      "cell_type": "code",
      "execution_count": null,
      "id": "c5dc9afa",
      "metadata": {
        "id": "c5dc9afa",
        "outputId": "983323dd-6c77-4e65-80cd-c9318fc8bb5d"
      },
      "outputs": [
        {
          "data": {
            "text/plain": [
              "datetime.datetime(1800, 1, 1, 0, 0)"
            ]
          },
          "execution_count": 271,
          "metadata": {},
          "output_type": "execute_result"
        }
      ],
      "source": [
        "datetime.datetime.strptime('18000101', \"%Y%m%d\")"
      ]
    },
    {
      "cell_type": "code",
      "execution_count": null,
      "id": "65e13d76",
      "metadata": {
        "id": "65e13d76"
      },
      "outputs": [],
      "source": [
        ""
      ]
    },
    {
      "cell_type": "code",
      "execution_count": null,
      "id": "bbfcfea3",
      "metadata": {
        "id": "bbfcfea3"
      },
      "outputs": [],
      "source": [
        "ss = RobustScaler()"
      ]
    },
    {
      "cell_type": "code",
      "execution_count": null,
      "id": "dae9950f",
      "metadata": {
        "id": "dae9950f"
      },
      "outputs": [],
      "source": [
        "out = ss.fit_transform(x)"
      ]
    },
    {
      "cell_type": "code",
      "execution_count": null,
      "id": "efefff64",
      "metadata": {
        "id": "efefff64",
        "outputId": "ee24debf-b689-4479-8408-7bb661a507aa"
      },
      "outputs": [
        {
          "data": {
            "text/plain": [
              "array([[-1.00000975],\n",
              "       [-0.9950112 ],\n",
              "       [-0.99001265],\n",
              "       ...,\n",
              "       [ 0.98997716],\n",
              "       [ 0.99497571],\n",
              "       [ 0.99997426]])"
            ]
          },
          "execution_count": 225,
          "metadata": {},
          "output_type": "execute_result"
        }
      ],
      "source": [
        "out"
      ]
    },
    {
      "cell_type": "code",
      "execution_count": null,
      "id": "51af9db5",
      "metadata": {
        "id": "51af9db5",
        "outputId": "448ca0ce-1ed2-4c55-c8d3-934eaaf4e0f3"
      },
      "outputs": [
        {
          "data": {
            "text/plain": [
              "array([[18010101.]])"
            ]
          },
          "execution_count": 226,
          "metadata": {},
          "output_type": "execute_result"
        }
      ],
      "source": [
        "prev = ss.inverse_transform([[-0.9950112]]).round()\n",
        "prev"
      ]
    },
    {
      "cell_type": "code",
      "execution_count": null,
      "id": "058addc2",
      "metadata": {
        "id": "058addc2",
        "outputId": "93f89317-a1e4-4d6b-9ef5-1145e163d10c"
      },
      "outputs": [
        {
          "data": {
            "text/plain": [
              "array([[18010101.]])"
            ]
          },
          "execution_count": 227,
          "metadata": {},
          "output_type": "execute_result"
        }
      ],
      "source": [
        "prev"
      ]
    },
    {
      "cell_type": "code",
      "execution_count": null,
      "id": "9913ec18",
      "metadata": {
        "id": "9913ec18"
      },
      "outputs": [],
      "source": [
        ""
      ]
    },
    {
      "cell_type": "code",
      "execution_count": null,
      "id": "10e3efc4",
      "metadata": {
        "id": "10e3efc4",
        "outputId": "9c97a395-5560-452f-b3d0-a814476f9767"
      },
      "outputs": [
        {
          "data": {
            "text/plain": [
              "0        1800-01-01\n",
              "1        1801-01-01\n",
              "2        1802-01-01\n",
              "3        1803-01-01\n",
              "4        1804-01-01\n",
              "            ...    \n",
              "146457   2196-12-31\n",
              "146458   2197-12-31\n",
              "146459   2198-12-31\n",
              "146460   2199-12-31\n",
              "146461   2200-12-31\n",
              "Name: date, Length: 146462, dtype: datetime64[ns]"
            ]
          },
          "execution_count": 238,
          "metadata": {},
          "output_type": "execute_result"
        }
      ],
      "source": [
        "c"
      ]
    },
    {
      "cell_type": "code",
      "execution_count": null,
      "id": "0d1b303f",
      "metadata": {
        "id": "0d1b303f"
      },
      "outputs": [],
      "source": [
        "x = np.array([18000101])\n",
        "# x = np.array([21971231])"
      ]
    },
    {
      "cell_type": "code",
      "execution_count": null,
      "id": "834be8a4",
      "metadata": {
        "id": "834be8a4",
        "outputId": "249dda0c-bf63-4722-820f-e48cbf692458"
      },
      "outputs": [
        {
          "data": {
            "text/plain": [
              "array([16.7059])"
            ]
          },
          "execution_count": 265,
          "metadata": {},
          "output_type": "execute_result"
        }
      ],
      "source": [
        "l = np.log(x)\n",
        "l = np.array([16.7059])\n",
        "\n",
        "l"
      ]
    },
    {
      "cell_type": "code",
      "execution_count": null,
      "id": "1a0f2999",
      "metadata": {
        "id": "1a0f2999",
        "outputId": "10b7c664-95a8-4cd3-ee4c-e2c4f3c410f5"
      },
      "outputs": [
        {
          "data": {
            "text/plain": [
              "array([18000318.])"
            ]
          },
          "execution_count": 266,
          "metadata": {},
          "output_type": "execute_result"
        }
      ],
      "source": [
        "np.exp(l).round()"
      ]
    },
    {
      "cell_type": "code",
      "execution_count": null,
      "id": "313e21c6",
      "metadata": {
        "id": "313e21c6",
        "outputId": "6f7f28ec-5255-41ff-872c-438cd6383012"
      },
      "outputs": [
        {
          "data": {
            "text/plain": [
              "array([ True])"
            ]
          },
          "execution_count": 251,
          "metadata": {},
          "output_type": "execute_result"
        }
      ],
      "source": [
        "np.exp(l).round() == x"
      ]
    },
    {
      "cell_type": "code",
      "execution_count": null,
      "id": "1be9fc85",
      "metadata": {
        "id": "1be9fc85"
      },
      "outputs": [],
      "source": [
        ""
      ]
    },
    {
      "cell_type": "code",
      "execution_count": null,
      "id": "b5d37063",
      "metadata": {
        "id": "b5d37063",
        "outputId": "212b474c-7919-4edd-93e0-d48b765171a1"
      },
      "outputs": [
        {
          "data": {
            "text/plain": [
              "array(['1800-01-01T00:00:00.000000', '1801-01-01T00:00:00.000000',\n",
              "       '1802-01-01T00:00:00.000000', ..., '2198-12-31T00:00:00.000000',\n",
              "       '2199-12-31T00:00:00.000000', '2200-12-31T00:00:00.000000'],\n",
              "      dtype='datetime64[us]')"
            ]
          },
          "execution_count": 255,
          "metadata": {},
          "output_type": "execute_result"
        }
      ],
      "source": [
        "np.array(c.dt.to_pydatetime(), dtype=np.datetime64)"
      ]
    },
    {
      "cell_type": "code",
      "execution_count": null,
      "id": "175c5918",
      "metadata": {
        "id": "175c5918",
        "outputId": "01aa086f-5998-460f-9724-7796f868a5ab"
      },
      "outputs": [
        {
          "data": {
            "text/plain": [
              "0"
            ]
          },
          "execution_count": 256,
          "metadata": {},
          "output_type": "execute_result"
        }
      ],
      "source": [
        "pd.to_datetime('1970-01-01').value"
      ]
    },
    {
      "cell_type": "code",
      "execution_count": null,
      "id": "4740bfa7",
      "metadata": {
        "id": "4740bfa7"
      },
      "outputs": [],
      "source": [
        ""
      ]
    },
    {
      "cell_type": "code",
      "execution_count": null,
      "id": "f5eb1d6a",
      "metadata": {
        "id": "f5eb1d6a",
        "outputId": "3168c79a-1e12-47c7-d9b3-a23cccad308a"
      },
      "outputs": [
        {
          "data": {
            "text/plain": [
              "array([16.70588793, 16.70644333, 16.70699842, 16.7075532 , 16.70810767,\n",
              "       16.70866184, 16.7092157 , 16.70976925, 16.7103225 , 16.71087544])"
            ]
          },
          "execution_count": 150,
          "metadata": {},
          "output_type": "execute_result"
        }
      ],
      "source": [
        "np.log(data.date_int.values)[:10]"
      ]
    },
    {
      "cell_type": "code",
      "execution_count": null,
      "id": "30417a0b",
      "metadata": {
        "id": "30417a0b",
        "outputId": "b9c36aea-4601-4564-df9e-dfaba818954e"
      },
      "outputs": [
        {
          "data": {
            "text/plain": [
              "array([[18060101.]])"
            ]
          },
          "execution_count": 152,
          "metadata": {},
          "output_type": "execute_result"
        }
      ],
      "source": [
        "np.exp([[16.7092157]]).round()"
      ]
    },
    {
      "cell_type": "code",
      "execution_count": null,
      "id": "15fce85d",
      "metadata": {
        "id": "15fce85d"
      },
      "outputs": [],
      "source": [
        ""
      ]
    },
    {
      "cell_type": "code",
      "execution_count": null,
      "id": "950c1d09",
      "metadata": {
        "id": "950c1d09"
      },
      "outputs": [],
      "source": [
        ""
      ]
    },
    {
      "cell_type": "code",
      "execution_count": null,
      "id": "a1af4c16",
      "metadata": {
        "id": "a1af4c16"
      },
      "outputs": [],
      "source": [
        ""
      ]
    },
    {
      "cell_type": "code",
      "execution_count": null,
      "id": "483be33d",
      "metadata": {
        "id": "483be33d"
      },
      "outputs": [],
      "source": [
        ""
      ]
    },
    {
      "cell_type": "code",
      "execution_count": null,
      "id": "d3161eeb",
      "metadata": {
        "id": "d3161eeb"
      },
      "outputs": [],
      "source": [
        ""
      ]
    },
    {
      "cell_type": "code",
      "execution_count": null,
      "id": "bbcf6d0d",
      "metadata": {
        "id": "bbcf6d0d"
      },
      "outputs": [],
      "source": [
        ""
      ]
    },
    {
      "cell_type": "code",
      "execution_count": null,
      "id": "bdd6bb4c",
      "metadata": {
        "id": "bdd6bb4c"
      },
      "outputs": [],
      "source": [
        ""
      ]
    },
    {
      "cell_type": "code",
      "execution_count": null,
      "id": "b08a5d8b",
      "metadata": {
        "id": "b08a5d8b"
      },
      "outputs": [],
      "source": [
        ""
      ]
    },
    {
      "cell_type": "code",
      "execution_count": null,
      "id": "8602dadc",
      "metadata": {
        "id": "8602dadc"
      },
      "outputs": [],
      "source": [
        ""
      ]
    },
    {
      "cell_type": "code",
      "execution_count": null,
      "id": "56cbc09c",
      "metadata": {
        "id": "56cbc09c"
      },
      "outputs": [],
      "source": [
        ""
      ]
    },
    {
      "cell_type": "code",
      "execution_count": null,
      "id": "5d36c16f",
      "metadata": {
        "id": "5d36c16f"
      },
      "outputs": [],
      "source": [
        ""
      ]
    },
    {
      "cell_type": "code",
      "execution_count": null,
      "id": "5c0584b7",
      "metadata": {
        "id": "5c0584b7"
      },
      "outputs": [],
      "source": [
        ""
      ]
    },
    {
      "cell_type": "code",
      "execution_count": null,
      "id": "c3664040",
      "metadata": {
        "id": "c3664040"
      },
      "outputs": [],
      "source": [
        ""
      ]
    },
    {
      "cell_type": "code",
      "execution_count": null,
      "id": "bdc34850",
      "metadata": {
        "id": "bdc34850"
      },
      "outputs": [],
      "source": [
        ""
      ]
    },
    {
      "cell_type": "code",
      "execution_count": null,
      "id": "ffc39b70",
      "metadata": {
        "id": "ffc39b70"
      },
      "outputs": [],
      "source": [
        ""
      ]
    },
    {
      "cell_type": "code",
      "execution_count": null,
      "id": "28fd20c2",
      "metadata": {
        "id": "28fd20c2"
      },
      "outputs": [],
      "source": [
        ""
      ]
    },
    {
      "cell_type": "code",
      "execution_count": null,
      "id": "354f5d0e",
      "metadata": {
        "id": "354f5d0e"
      },
      "outputs": [],
      "source": [
        ""
      ]
    },
    {
      "cell_type": "code",
      "execution_count": null,
      "id": "6877bd3c",
      "metadata": {
        "id": "6877bd3c"
      },
      "outputs": [],
      "source": [
        ""
      ]
    },
    {
      "cell_type": "code",
      "execution_count": null,
      "id": "1137fce2",
      "metadata": {
        "id": "1137fce2"
      },
      "outputs": [],
      "source": [
        ""
      ]
    },
    {
      "cell_type": "code",
      "execution_count": null,
      "id": "7f966830",
      "metadata": {
        "id": "7f966830"
      },
      "outputs": [],
      "source": [
        ""
      ]
    },
    {
      "cell_type": "code",
      "execution_count": null,
      "id": "4a170f2b",
      "metadata": {
        "id": "4a170f2b"
      },
      "outputs": [],
      "source": [
        ""
      ]
    },
    {
      "cell_type": "code",
      "execution_count": null,
      "id": "70e8be71",
      "metadata": {
        "id": "70e8be71"
      },
      "outputs": [],
      "source": [
        ""
      ]
    },
    {
      "cell_type": "code",
      "execution_count": null,
      "id": "95fd5c92",
      "metadata": {
        "id": "95fd5c92"
      },
      "outputs": [],
      "source": [
        ""
      ]
    },
    {
      "cell_type": "code",
      "execution_count": null,
      "id": "bf8eabbf",
      "metadata": {
        "id": "bf8eabbf"
      },
      "outputs": [],
      "source": [
        ""
      ]
    }
  ],
  "metadata": {
    "colab": {
      "name": "Project notebook2.ipynb",
      "provenance": []
    },
    "kernelspec": {
      "display_name": "Python 3 (ipykernel)",
      "language": "python",
      "name": "python3"
    },
    "language_info": {
      "codemirror_mode": {
        "name": "ipython",
        "version": 3
      },
      "file_extension": ".py",
      "mimetype": "text/x-python",
      "name": "python",
      "nbconvert_exporter": "python",
      "pygments_lexer": "ipython3",
      "version": "3.8.8"
    }
  },
  "nbformat": 4,
  "nbformat_minor": 5
}